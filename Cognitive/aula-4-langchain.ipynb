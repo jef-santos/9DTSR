{
  "cells": [
    {
      "cell_type": "markdown",
      "metadata": {
        "id": "1DOIAO0FM9Js"
      },
      "source": [
        "# Cloud Cognitive Environments\n",
        "Aplicações com modelos LLM"
      ]
    },
    {
      "cell_type": "markdown",
      "metadata": {
        "id": "nSN6nGEFOP0-"
      },
      "source": [
        "## Requerimentos\n",
        "\n",
        "* Langchain\n",
        "* OpenAI\n",
        "* Pandas\n",
        "* Python Display\n",
        "* DocArray\n",
        "* Wikipedia\n",
        "* XML to Dict"
      ]
    },
    {
      "cell_type": "code",
      "execution_count": null,
      "metadata": {
        "id": "Elj8jNRMwgp9"
      },
      "outputs": [],
      "source": [
        "# Apagar pasta do repositório\n",
        "# Faça somente isso se não tenha clonado antes\n",
        "!rm -rf fiap-ds-cloud-cognitive-environments"
      ]
    },
    {
      "cell_type": "code",
      "execution_count": 1,
      "metadata": {
        "colab": {
          "base_uri": "https://localhost:8080/"
        },
        "id": "RK_HRx7Hwg11",
        "outputId": "2f2a49cc-58ef-4a89-e754-ca48ceb2d07f"
      },
      "outputs": [
        {
          "name": "stdout",
          "output_type": "stream",
          "text": [
            "Cloning into 'fiap-ds-cloud-cognitive-environments'...\n",
            "remote: Enumerating objects: 241, done.\u001b[K\n",
            "remote: Counting objects: 100% (69/69), done.\u001b[K\n",
            "remote: Compressing objects: 100% (53/53), done.\u001b[K\n",
            "remote: Total 241 (delta 26), reused 52 (delta 16), pack-reused 172\u001b[K\n",
            "Receiving objects: 100% (241/241), 186.80 MiB | 12.93 MiB/s, done.\n",
            "Resolving deltas: 100% (77/77), done.\n",
            "Updating files: 100% (62/62), done.\n"
          ]
        }
      ],
      "source": [
        "# Clonar o repositório da aula\n",
        "!git clone https://github.com/michelpf/fiap-ds-cloud-cognitive-environments"
      ]
    },
    {
      "cell_type": "code",
      "execution_count": 85,
      "metadata": {
        "colab": {
          "base_uri": "https://localhost:8080/"
        },
        "id": "wa_WC3wXwjDa",
        "outputId": "cd6a6ed8-c401-4b91-a77d-5fac662cbba0"
      },
      "outputs": [
        {
          "name": "stdout",
          "output_type": "stream",
          "text": [
            "/content/fiap-ds-cloud-cognitive-environments/aula-4-langchain\n"
          ]
        }
      ],
      "source": [
        "%cd fiap-ds-cloud-cognitive-environments/aula-4-langchain/"
      ]
    },
    {
      "cell_type": "code",
      "execution_count": 1,
      "metadata": {
        "colab": {
          "base_uri": "https://localhost:8080/"
        },
        "id": "wVBU0-JUOUeP",
        "outputId": "6761f1c2-ad5f-4111-e934-439ab62a933b"
      },
      "outputs": [
        {
          "name": "stdout",
          "output_type": "stream",
          "text": [
            "Requirement already satisfied: openai in /opt/anaconda3/envs/myenv/lib/python3.11/site-packages (1.79.0)\n",
            "Collecting langchain-community\n",
            "  Downloading langchain_community-0.3.24-py3-none-any.whl.metadata (2.5 kB)\n",
            "Collecting langchain-core\n",
            "  Downloading langchain_core-0.3.60-py3-none-any.whl.metadata (5.8 kB)\n",
            "Collecting langchain\n",
            "  Downloading langchain-0.3.25-py3-none-any.whl.metadata (7.8 kB)\n",
            "Collecting tiktoken\n",
            "  Downloading tiktoken-0.9.0-cp311-cp311-macosx_10_12_x86_64.whl.metadata (6.7 kB)\n",
            "Collecting docarray\n",
            "  Downloading docarray-0.41.0-py3-none-any.whl.metadata (36 kB)\n",
            "Collecting wikipedia\n",
            "  Downloading wikipedia-1.4.0.tar.gz (27 kB)\n",
            "  Preparing metadata (setup.py) ... \u001b[?25ldone\n",
            "\u001b[?25hCollecting xmltodict\n",
            "  Downloading xmltodict-0.14.2-py2.py3-none-any.whl.metadata (8.0 kB)\n",
            "Collecting langchain-openai\n",
            "  Downloading langchain_openai-0.3.17-py3-none-any.whl.metadata (2.3 kB)\n",
            "Collecting chromadb\n",
            "  Downloading chromadb-1.0.9-cp39-abi3-macosx_10_12_x86_64.whl.metadata (6.9 kB)\n",
            "Requirement already satisfied: anyio<5,>=3.5.0 in /opt/anaconda3/envs/myenv/lib/python3.11/site-packages (from openai) (4.9.0)\n",
            "Requirement already satisfied: distro<2,>=1.7.0 in /opt/anaconda3/envs/myenv/lib/python3.11/site-packages (from openai) (1.9.0)\n",
            "Requirement already satisfied: httpx<1,>=0.23.0 in /opt/anaconda3/envs/myenv/lib/python3.11/site-packages (from openai) (0.28.1)\n",
            "Requirement already satisfied: jiter<1,>=0.4.0 in /opt/anaconda3/envs/myenv/lib/python3.11/site-packages (from openai) (0.10.0)\n",
            "Requirement already satisfied: pydantic<3,>=1.9.0 in /opt/anaconda3/envs/myenv/lib/python3.11/site-packages (from openai) (2.11.4)\n",
            "Requirement already satisfied: sniffio in /opt/anaconda3/envs/myenv/lib/python3.11/site-packages (from openai) (1.3.1)\n",
            "Requirement already satisfied: tqdm>4 in /opt/anaconda3/envs/myenv/lib/python3.11/site-packages (from openai) (4.67.1)\n",
            "Requirement already satisfied: typing-extensions<5,>=4.11 in /opt/anaconda3/envs/myenv/lib/python3.11/site-packages (from openai) (4.13.2)\n",
            "Collecting SQLAlchemy<3,>=1.4 (from langchain-community)\n",
            "  Downloading sqlalchemy-2.0.41-cp311-cp311-macosx_10_9_x86_64.whl.metadata (9.6 kB)\n",
            "Requirement already satisfied: requests<3,>=2 in /opt/anaconda3/envs/myenv/lib/python3.11/site-packages (from langchain-community) (2.32.3)\n",
            "Requirement already satisfied: PyYAML>=5.3 in /opt/anaconda3/envs/myenv/lib/python3.11/site-packages (from langchain-community) (6.0.2)\n",
            "Collecting aiohttp<4.0.0,>=3.8.3 (from langchain-community)\n",
            "  Downloading aiohttp-3.11.18-cp311-cp311-macosx_10_9_x86_64.whl.metadata (7.7 kB)\n",
            "Collecting tenacity!=8.4.0,<10,>=8.1.0 (from langchain-community)\n",
            "  Downloading tenacity-9.1.2-py3-none-any.whl.metadata (1.2 kB)\n",
            "Collecting dataclasses-json<0.7,>=0.5.7 (from langchain-community)\n",
            "  Downloading dataclasses_json-0.6.7-py3-none-any.whl.metadata (25 kB)\n",
            "Collecting pydantic-settings<3.0.0,>=2.4.0 (from langchain-community)\n",
            "  Downloading pydantic_settings-2.9.1-py3-none-any.whl.metadata (3.8 kB)\n",
            "Collecting langsmith<0.4,>=0.1.125 (from langchain-community)\n",
            "  Downloading langsmith-0.3.42-py3-none-any.whl.metadata (15 kB)\n",
            "Collecting httpx-sse<1.0.0,>=0.4.0 (from langchain-community)\n",
            "  Downloading httpx_sse-0.4.0-py3-none-any.whl.metadata (9.0 kB)\n",
            "Requirement already satisfied: numpy>=1.26.2 in /opt/anaconda3/envs/myenv/lib/python3.11/site-packages (from langchain-community) (1.26.4)\n",
            "Collecting jsonpatch<2.0,>=1.33 (from langchain-core)\n",
            "  Downloading jsonpatch-1.33-py2.py3-none-any.whl.metadata (3.0 kB)\n",
            "Requirement already satisfied: packaging<25,>=23.2 in /opt/anaconda3/envs/myenv/lib/python3.11/site-packages (from langchain-core) (24.1)\n",
            "Collecting langchain-text-splitters<1.0.0,>=0.3.8 (from langchain)\n",
            "  Downloading langchain_text_splitters-0.3.8-py3-none-any.whl.metadata (1.9 kB)\n",
            "Collecting regex>=2022.1.18 (from tiktoken)\n",
            "  Downloading regex-2024.11.6-cp311-cp311-macosx_10_9_x86_64.whl.metadata (40 kB)\n",
            "Collecting orjson>=3.8.2 (from docarray)\n",
            "  Downloading orjson-3.10.18-cp311-cp311-macosx_10_15_x86_64.macosx_11_0_arm64.macosx_10_15_universal2.whl.metadata (41 kB)\n",
            "Collecting rich>=13.1.0 (from docarray)\n",
            "  Downloading rich-14.0.0-py3-none-any.whl.metadata (18 kB)\n",
            "Collecting types-requests>=2.28.11.6 (from docarray)\n",
            "  Downloading types_requests-2.32.0.20250515-py3-none-any.whl.metadata (2.1 kB)\n",
            "Collecting typing-inspect>=0.8.0 (from docarray)\n",
            "  Downloading typing_inspect-0.9.0-py3-none-any.whl.metadata (1.5 kB)\n",
            "Requirement already satisfied: beautifulsoup4 in /opt/anaconda3/envs/myenv/lib/python3.11/site-packages (from wikipedia) (4.13.4)\n",
            "Collecting build>=1.0.3 (from chromadb)\n",
            "  Downloading build-1.2.2.post1-py3-none-any.whl.metadata (6.5 kB)\n",
            "Collecting fastapi==0.115.9 (from chromadb)\n",
            "  Downloading fastapi-0.115.9-py3-none-any.whl.metadata (27 kB)\n",
            "Collecting uvicorn>=0.18.3 (from uvicorn[standard]>=0.18.3->chromadb)\n",
            "  Downloading uvicorn-0.34.2-py3-none-any.whl.metadata (6.5 kB)\n",
            "Collecting posthog>=2.4.0 (from chromadb)\n",
            "  Downloading posthog-4.0.1-py2.py3-none-any.whl.metadata (3.0 kB)\n",
            "Collecting onnxruntime>=1.14.1 (from chromadb)\n",
            "  Downloading onnxruntime-1.22.0-cp311-cp311-macosx_13_0_universal2.whl.metadata (4.5 kB)\n",
            "Collecting opentelemetry-api>=1.2.0 (from chromadb)\n",
            "  Downloading opentelemetry_api-1.33.1-py3-none-any.whl.metadata (1.6 kB)\n",
            "Collecting opentelemetry-exporter-otlp-proto-grpc>=1.2.0 (from chromadb)\n",
            "  Downloading opentelemetry_exporter_otlp_proto_grpc-1.33.1-py3-none-any.whl.metadata (2.5 kB)\n",
            "Collecting opentelemetry-instrumentation-fastapi>=0.41b0 (from chromadb)\n",
            "  Downloading opentelemetry_instrumentation_fastapi-0.54b1-py3-none-any.whl.metadata (2.2 kB)\n",
            "Collecting opentelemetry-sdk>=1.2.0 (from chromadb)\n",
            "  Downloading opentelemetry_sdk-1.33.1-py3-none-any.whl.metadata (1.6 kB)\n",
            "Collecting tokenizers>=0.13.2 (from chromadb)\n",
            "  Downloading tokenizers-0.21.1-cp39-abi3-macosx_10_12_x86_64.whl.metadata (6.8 kB)\n",
            "Collecting pypika>=0.48.9 (from chromadb)\n",
            "  Downloading PyPika-0.48.9.tar.gz (67 kB)\n",
            "  Installing build dependencies ... \u001b[?25ldone\n",
            "\u001b[?25h  Getting requirements to build wheel ... \u001b[?25ldone\n",
            "\u001b[?25h  Preparing metadata (pyproject.toml) ... \u001b[?25ldone\n",
            "\u001b[?25hCollecting overrides>=7.3.1 (from chromadb)\n",
            "  Downloading overrides-7.7.0-py3-none-any.whl.metadata (5.8 kB)\n",
            "Requirement already satisfied: importlib-resources in /opt/anaconda3/envs/myenv/lib/python3.11/site-packages (from chromadb) (6.5.2)\n",
            "Collecting grpcio>=1.58.0 (from chromadb)\n",
            "  Downloading grpcio-1.71.0-cp311-cp311-macosx_10_14_universal2.whl.metadata (3.8 kB)\n",
            "Collecting bcrypt>=4.0.1 (from chromadb)\n",
            "  Downloading bcrypt-4.3.0-cp39-abi3-macosx_10_12_universal2.whl.metadata (10 kB)\n",
            "Collecting typer>=0.9.0 (from chromadb)\n",
            "  Downloading typer-0.15.4-py3-none-any.whl.metadata (15 kB)\n",
            "Collecting kubernetes>=28.1.0 (from chromadb)\n",
            "  Downloading kubernetes-32.0.1-py2.py3-none-any.whl.metadata (1.7 kB)\n",
            "Collecting mmh3>=4.0.1 (from chromadb)\n",
            "  Downloading mmh3-5.1.0-cp311-cp311-macosx_10_9_x86_64.whl.metadata (16 kB)\n",
            "Collecting jsonschema>=4.19.0 (from chromadb)\n",
            "  Downloading jsonschema-4.23.0-py3-none-any.whl.metadata (7.9 kB)\n",
            "Collecting starlette<0.46.0,>=0.40.0 (from fastapi==0.115.9->chromadb)\n",
            "  Downloading starlette-0.45.3-py3-none-any.whl.metadata (6.3 kB)\n",
            "Collecting aiohappyeyeballs>=2.3.0 (from aiohttp<4.0.0,>=3.8.3->langchain-community)\n",
            "  Downloading aiohappyeyeballs-2.6.1-py3-none-any.whl.metadata (5.9 kB)\n",
            "Collecting aiosignal>=1.1.2 (from aiohttp<4.0.0,>=3.8.3->langchain-community)\n",
            "  Downloading aiosignal-1.3.2-py2.py3-none-any.whl.metadata (3.8 kB)\n",
            "Collecting attrs>=17.3.0 (from aiohttp<4.0.0,>=3.8.3->langchain-community)\n",
            "  Downloading attrs-25.3.0-py3-none-any.whl.metadata (10 kB)\n",
            "Collecting frozenlist>=1.1.1 (from aiohttp<4.0.0,>=3.8.3->langchain-community)\n",
            "  Downloading frozenlist-1.6.0-cp311-cp311-macosx_10_9_x86_64.whl.metadata (16 kB)\n",
            "Collecting multidict<7.0,>=4.5 (from aiohttp<4.0.0,>=3.8.3->langchain-community)\n",
            "  Downloading multidict-6.4.4-cp311-cp311-macosx_10_9_x86_64.whl.metadata (5.3 kB)\n",
            "Collecting propcache>=0.2.0 (from aiohttp<4.0.0,>=3.8.3->langchain-community)\n",
            "  Downloading propcache-0.3.1-cp311-cp311-macosx_10_9_x86_64.whl.metadata (10 kB)\n",
            "Collecting yarl<2.0,>=1.17.0 (from aiohttp<4.0.0,>=3.8.3->langchain-community)\n",
            "  Downloading yarl-1.20.0-cp311-cp311-macosx_10_9_x86_64.whl.metadata (72 kB)\n",
            "Requirement already satisfied: idna>=2.8 in /opt/anaconda3/envs/myenv/lib/python3.11/site-packages (from anyio<5,>=3.5.0->openai) (3.10)\n",
            "Collecting pyproject_hooks (from build>=1.0.3->chromadb)\n",
            "  Downloading pyproject_hooks-1.2.0-py3-none-any.whl.metadata (1.3 kB)\n",
            "Collecting marshmallow<4.0.0,>=3.18.0 (from dataclasses-json<0.7,>=0.5.7->langchain-community)\n",
            "  Downloading marshmallow-3.26.1-py3-none-any.whl.metadata (7.3 kB)\n",
            "Requirement already satisfied: certifi in /opt/anaconda3/envs/myenv/lib/python3.11/site-packages (from httpx<1,>=0.23.0->openai) (2024.12.14)\n",
            "Requirement already satisfied: httpcore==1.* in /opt/anaconda3/envs/myenv/lib/python3.11/site-packages (from httpx<1,>=0.23.0->openai) (1.0.9)\n",
            "Requirement already satisfied: h11>=0.16 in /opt/anaconda3/envs/myenv/lib/python3.11/site-packages (from httpcore==1.*->httpx<1,>=0.23.0->openai) (0.16.0)\n",
            "Collecting jsonpointer>=1.9 (from jsonpatch<2.0,>=1.33->langchain-core)\n",
            "  Downloading jsonpointer-3.0.0-py2.py3-none-any.whl.metadata (2.3 kB)\n",
            "Collecting jsonschema-specifications>=2023.03.6 (from jsonschema>=4.19.0->chromadb)\n",
            "  Downloading jsonschema_specifications-2025.4.1-py3-none-any.whl.metadata (2.9 kB)\n",
            "Collecting referencing>=0.28.4 (from jsonschema>=4.19.0->chromadb)\n",
            "  Downloading referencing-0.36.2-py3-none-any.whl.metadata (2.8 kB)\n",
            "Collecting rpds-py>=0.7.1 (from jsonschema>=4.19.0->chromadb)\n",
            "  Downloading rpds_py-0.25.0-cp311-cp311-macosx_10_12_x86_64.whl.metadata (4.1 kB)\n",
            "Requirement already satisfied: six>=1.9.0 in /opt/anaconda3/envs/myenv/lib/python3.11/site-packages (from kubernetes>=28.1.0->chromadb) (1.16.0)\n",
            "Requirement already satisfied: python-dateutil>=2.5.3 in /opt/anaconda3/envs/myenv/lib/python3.11/site-packages (from kubernetes>=28.1.0->chromadb) (2.9.0.post0)\n",
            "Collecting google-auth>=1.0.1 (from kubernetes>=28.1.0->chromadb)\n",
            "  Downloading google_auth-2.40.1-py2.py3-none-any.whl.metadata (6.2 kB)\n",
            "Collecting websocket-client!=0.40.0,!=0.41.*,!=0.42.*,>=0.32.0 (from kubernetes>=28.1.0->chromadb)\n",
            "  Downloading websocket_client-1.8.0-py3-none-any.whl.metadata (8.0 kB)\n",
            "Collecting requests-oauthlib (from kubernetes>=28.1.0->chromadb)\n",
            "  Using cached requests_oauthlib-2.0.0-py2.py3-none-any.whl.metadata (11 kB)\n",
            "Collecting oauthlib>=3.2.2 (from kubernetes>=28.1.0->chromadb)\n",
            "  Using cached oauthlib-3.2.2-py3-none-any.whl.metadata (7.5 kB)\n",
            "Requirement already satisfied: urllib3>=1.24.2 in /opt/anaconda3/envs/myenv/lib/python3.11/site-packages (from kubernetes>=28.1.0->chromadb) (2.3.0)\n",
            "Collecting durationpy>=0.7 (from kubernetes>=28.1.0->chromadb)\n",
            "  Downloading durationpy-0.10-py3-none-any.whl.metadata (340 bytes)\n",
            "Collecting requests-toolbelt<2.0.0,>=1.0.0 (from langsmith<0.4,>=0.1.125->langchain-community)\n",
            "  Downloading requests_toolbelt-1.0.0-py2.py3-none-any.whl.metadata (14 kB)\n",
            "Collecting zstandard<0.24.0,>=0.23.0 (from langsmith<0.4,>=0.1.125->langchain-community)\n",
            "  Downloading zstandard-0.23.0-cp311-cp311-macosx_10_9_x86_64.whl.metadata (3.0 kB)\n",
            "Collecting coloredlogs (from onnxruntime>=1.14.1->chromadb)\n",
            "  Downloading coloredlogs-15.0.1-py2.py3-none-any.whl.metadata (12 kB)\n",
            "Collecting flatbuffers (from onnxruntime>=1.14.1->chromadb)\n",
            "  Downloading flatbuffers-25.2.10-py2.py3-none-any.whl.metadata (875 bytes)\n",
            "Requirement already satisfied: protobuf in /opt/anaconda3/envs/myenv/lib/python3.11/site-packages (from onnxruntime>=1.14.1->chromadb) (5.29.4)\n",
            "Requirement already satisfied: sympy in /opt/anaconda3/envs/myenv/lib/python3.11/site-packages (from onnxruntime>=1.14.1->chromadb) (1.14.0)\n",
            "Collecting deprecated>=1.2.6 (from opentelemetry-api>=1.2.0->chromadb)\n",
            "  Downloading Deprecated-1.2.18-py2.py3-none-any.whl.metadata (5.7 kB)\n",
            "Collecting importlib-metadata<8.7.0,>=6.0 (from opentelemetry-api>=1.2.0->chromadb)\n",
            "  Downloading importlib_metadata-8.6.1-py3-none-any.whl.metadata (4.7 kB)\n",
            "Collecting googleapis-common-protos~=1.52 (from opentelemetry-exporter-otlp-proto-grpc>=1.2.0->chromadb)\n",
            "  Downloading googleapis_common_protos-1.70.0-py3-none-any.whl.metadata (9.3 kB)\n",
            "Collecting opentelemetry-exporter-otlp-proto-common==1.33.1 (from opentelemetry-exporter-otlp-proto-grpc>=1.2.0->chromadb)\n",
            "  Downloading opentelemetry_exporter_otlp_proto_common-1.33.1-py3-none-any.whl.metadata (1.9 kB)\n",
            "Collecting opentelemetry-proto==1.33.1 (from opentelemetry-exporter-otlp-proto-grpc>=1.2.0->chromadb)\n",
            "  Downloading opentelemetry_proto-1.33.1-py3-none-any.whl.metadata (2.4 kB)\n",
            "Collecting opentelemetry-instrumentation-asgi==0.54b1 (from opentelemetry-instrumentation-fastapi>=0.41b0->chromadb)\n",
            "  Downloading opentelemetry_instrumentation_asgi-0.54b1-py3-none-any.whl.metadata (2.1 kB)\n",
            "Collecting opentelemetry-instrumentation==0.54b1 (from opentelemetry-instrumentation-fastapi>=0.41b0->chromadb)\n",
            "  Downloading opentelemetry_instrumentation-0.54b1-py3-none-any.whl.metadata (6.8 kB)\n",
            "Collecting opentelemetry-semantic-conventions==0.54b1 (from opentelemetry-instrumentation-fastapi>=0.41b0->chromadb)\n",
            "  Downloading opentelemetry_semantic_conventions-0.54b1-py3-none-any.whl.metadata (2.5 kB)\n",
            "Collecting opentelemetry-util-http==0.54b1 (from opentelemetry-instrumentation-fastapi>=0.41b0->chromadb)\n",
            "  Downloading opentelemetry_util_http-0.54b1-py3-none-any.whl.metadata (2.6 kB)\n",
            "Collecting wrapt<2.0.0,>=1.0.0 (from opentelemetry-instrumentation==0.54b1->opentelemetry-instrumentation-fastapi>=0.41b0->chromadb)\n",
            "  Downloading wrapt-1.17.2-cp311-cp311-macosx_10_9_x86_64.whl.metadata (6.4 kB)\n",
            "Collecting asgiref~=3.0 (from opentelemetry-instrumentation-asgi==0.54b1->opentelemetry-instrumentation-fastapi>=0.41b0->chromadb)\n",
            "  Downloading asgiref-3.8.1-py3-none-any.whl.metadata (9.3 kB)\n",
            "Collecting backoff>=1.10.0 (from posthog>=2.4.0->chromadb)\n",
            "  Downloading backoff-2.2.1-py3-none-any.whl.metadata (14 kB)\n",
            "Requirement already satisfied: annotated-types>=0.6.0 in /opt/anaconda3/envs/myenv/lib/python3.11/site-packages (from pydantic<3,>=1.9.0->openai) (0.7.0)\n",
            "Requirement already satisfied: pydantic-core==2.33.2 in /opt/anaconda3/envs/myenv/lib/python3.11/site-packages (from pydantic<3,>=1.9.0->openai) (2.33.2)\n",
            "Requirement already satisfied: typing-inspection>=0.4.0 in /opt/anaconda3/envs/myenv/lib/python3.11/site-packages (from pydantic<3,>=1.9.0->openai) (0.4.0)\n",
            "Collecting python-dotenv>=0.21.0 (from pydantic-settings<3.0.0,>=2.4.0->langchain-community)\n",
            "  Downloading python_dotenv-1.1.0-py3-none-any.whl.metadata (24 kB)\n",
            "Requirement already satisfied: charset-normalizer<4,>=2 in /opt/anaconda3/envs/myenv/lib/python3.11/site-packages (from requests<3,>=2->langchain-community) (3.4.1)\n",
            "Collecting markdown-it-py>=2.2.0 (from rich>=13.1.0->docarray)\n",
            "  Downloading markdown_it_py-3.0.0-py3-none-any.whl.metadata (6.9 kB)\n",
            "Requirement already satisfied: pygments<3.0.0,>=2.13.0 in /opt/anaconda3/envs/myenv/lib/python3.11/site-packages (from rich>=13.1.0->docarray) (2.15.1)\n",
            "Collecting greenlet>=1 (from SQLAlchemy<3,>=1.4->langchain-community)\n",
            "  Downloading greenlet-3.2.2-cp311-cp311-macosx_11_0_universal2.whl.metadata (4.1 kB)\n",
            "Collecting huggingface-hub<1.0,>=0.16.4 (from tokenizers>=0.13.2->chromadb)\n",
            "  Downloading huggingface_hub-0.31.4-py3-none-any.whl.metadata (13 kB)\n",
            "Collecting click<8.2,>=8.0.0 (from typer>=0.9.0->chromadb)\n",
            "  Downloading click-8.1.8-py3-none-any.whl.metadata (2.3 kB)\n",
            "Collecting shellingham>=1.3.0 (from typer>=0.9.0->chromadb)\n",
            "  Downloading shellingham-1.5.4-py2.py3-none-any.whl.metadata (3.5 kB)\n",
            "Collecting mypy-extensions>=0.3.0 (from typing-inspect>=0.8.0->docarray)\n",
            "  Downloading mypy_extensions-1.1.0-py3-none-any.whl.metadata (1.1 kB)\n",
            "Collecting httptools>=0.6.3 (from uvicorn[standard]>=0.18.3->chromadb)\n",
            "  Downloading httptools-0.6.4-cp311-cp311-macosx_10_9_universal2.whl.metadata (3.6 kB)\n",
            "Collecting uvloop!=0.15.0,!=0.15.1,>=0.14.0 (from uvicorn[standard]>=0.18.3->chromadb)\n",
            "  Downloading uvloop-0.21.0-cp311-cp311-macosx_10_9_x86_64.whl.metadata (4.9 kB)\n",
            "Collecting watchfiles>=0.13 (from uvicorn[standard]>=0.18.3->chromadb)\n",
            "  Downloading watchfiles-1.0.5-cp311-cp311-macosx_10_12_x86_64.whl.metadata (4.9 kB)\n",
            "Requirement already satisfied: websockets>=10.4 in /opt/anaconda3/envs/myenv/lib/python3.11/site-packages (from uvicorn[standard]>=0.18.3->chromadb) (15.0.1)\n",
            "Requirement already satisfied: soupsieve>1.2 in /opt/anaconda3/envs/myenv/lib/python3.11/site-packages (from beautifulsoup4->wikipedia) (2.7)\n",
            "Collecting cachetools<6.0,>=2.0.0 (from google-auth>=1.0.1->kubernetes>=28.1.0->chromadb)\n",
            "  Downloading cachetools-5.5.2-py3-none-any.whl.metadata (5.4 kB)\n",
            "Collecting pyasn1-modules>=0.2.1 (from google-auth>=1.0.1->kubernetes>=28.1.0->chromadb)\n",
            "  Downloading pyasn1_modules-0.4.2-py3-none-any.whl.metadata (3.5 kB)\n",
            "Collecting rsa<5,>=3.1.4 (from google-auth>=1.0.1->kubernetes>=28.1.0->chromadb)\n",
            "  Downloading rsa-4.9.1-py3-none-any.whl.metadata (5.6 kB)\n",
            "Requirement already satisfied: filelock in /opt/anaconda3/envs/myenv/lib/python3.11/site-packages (from huggingface-hub<1.0,>=0.16.4->tokenizers>=0.13.2->chromadb) (3.18.0)\n",
            "Requirement already satisfied: fsspec>=2023.5.0 in /opt/anaconda3/envs/myenv/lib/python3.11/site-packages (from huggingface-hub<1.0,>=0.16.4->tokenizers>=0.13.2->chromadb) (2025.3.0)\n",
            "Requirement already satisfied: zipp>=3.20 in /opt/anaconda3/envs/myenv/lib/python3.11/site-packages (from importlib-metadata<8.7.0,>=6.0->opentelemetry-api>=1.2.0->chromadb) (3.21.0)\n",
            "Collecting mdurl~=0.1 (from markdown-it-py>=2.2.0->rich>=13.1.0->docarray)\n",
            "  Downloading mdurl-0.1.2-py3-none-any.whl.metadata (1.6 kB)\n",
            "Collecting humanfriendly>=9.1 (from coloredlogs->onnxruntime>=1.14.1->chromadb)\n",
            "  Downloading humanfriendly-10.0-py2.py3-none-any.whl.metadata (9.2 kB)\n",
            "Requirement already satisfied: mpmath<1.4,>=1.1.0 in /opt/anaconda3/envs/myenv/lib/python3.11/site-packages (from sympy->onnxruntime>=1.14.1->chromadb) (1.3.0)\n",
            "Collecting pyasn1<0.7.0,>=0.6.1 (from pyasn1-modules>=0.2.1->google-auth>=1.0.1->kubernetes>=28.1.0->chromadb)\n",
            "  Downloading pyasn1-0.6.1-py3-none-any.whl.metadata (8.4 kB)\n",
            "Downloading langchain_community-0.3.24-py3-none-any.whl (2.5 MB)\n",
            "\u001b[2K   \u001b[90m━━━━━━━━━━━━━━━━━━━━━━━━━━━━━━━━━━━━━━━━\u001b[0m \u001b[32m2.5/2.5 MB\u001b[0m \u001b[31m7.8 MB/s\u001b[0m eta \u001b[36m0:00:00\u001b[0ma \u001b[36m0:00:01\u001b[0m\n",
            "\u001b[?25hDownloading langchain_core-0.3.60-py3-none-any.whl (437 kB)\n",
            "Downloading langchain-0.3.25-py3-none-any.whl (1.0 MB)\n",
            "\u001b[2K   \u001b[90m━━━━━━━━━━━━━━━━━━━━━━━━━━━━━━━━━━━━━━━━\u001b[0m \u001b[32m1.0/1.0 MB\u001b[0m \u001b[31m8.9 MB/s\u001b[0m eta \u001b[36m0:00:00\u001b[0m\n",
            "\u001b[?25hDownloading tiktoken-0.9.0-cp311-cp311-macosx_10_12_x86_64.whl (1.1 MB)\n",
            "\u001b[2K   \u001b[90m━━━━━━━━━━━━━━━━━━━━━━━━━━━━━━━━━━━━━━━━\u001b[0m \u001b[32m1.1/1.1 MB\u001b[0m \u001b[31m5.3 MB/s\u001b[0m eta \u001b[36m0:00:00\u001b[0m\n",
            "\u001b[?25hDownloading docarray-0.41.0-py3-none-any.whl (302 kB)\n",
            "Downloading xmltodict-0.14.2-py2.py3-none-any.whl (10.0 kB)\n",
            "Downloading langchain_openai-0.3.17-py3-none-any.whl (62 kB)\n",
            "Downloading chromadb-1.0.9-cp39-abi3-macosx_10_12_x86_64.whl (18.3 MB)\n",
            "\u001b[2K   \u001b[90m━━━━━━━━━━━━━━━━━━━━━━━━━━━━━━━━━━━━━━━━\u001b[0m \u001b[32m18.3/18.3 MB\u001b[0m \u001b[31m5.3 MB/s\u001b[0m eta \u001b[36m0:00:00\u001b[0ma \u001b[36m0:00:01\u001b[0m\n",
            "\u001b[?25hDownloading fastapi-0.115.9-py3-none-any.whl (94 kB)\n",
            "Downloading aiohttp-3.11.18-cp311-cp311-macosx_10_9_x86_64.whl (471 kB)\n",
            "Downloading bcrypt-4.3.0-cp39-abi3-macosx_10_12_universal2.whl (498 kB)\n",
            "Downloading build-1.2.2.post1-py3-none-any.whl (22 kB)\n",
            "Downloading dataclasses_json-0.6.7-py3-none-any.whl (28 kB)\n",
            "Downloading grpcio-1.71.0-cp311-cp311-macosx_10_14_universal2.whl (11.3 MB)\n",
            "\u001b[2K   \u001b[90m━━━━━━━━━━━━━━━━━━━━━━━━━━━━━━━━━━━━━━━━\u001b[0m \u001b[32m11.3/11.3 MB\u001b[0m \u001b[31m6.9 MB/s\u001b[0m eta \u001b[36m0:00:00\u001b[0m00:01\u001b[0m00:01\u001b[0m\n",
            "\u001b[?25hDownloading httpx_sse-0.4.0-py3-none-any.whl (7.8 kB)\n",
            "Downloading jsonpatch-1.33-py2.py3-none-any.whl (12 kB)\n",
            "Downloading jsonschema-4.23.0-py3-none-any.whl (88 kB)\n",
            "Downloading kubernetes-32.0.1-py2.py3-none-any.whl (2.0 MB)\n",
            "\u001b[2K   \u001b[90m━━━━━━━━━━━━━━━━━━━━━━━━━━━━━━━━━━━━━━━━\u001b[0m \u001b[32m2.0/2.0 MB\u001b[0m \u001b[31m5.8 MB/s\u001b[0m eta \u001b[36m0:00:00\u001b[0ma \u001b[36m0:00:01\u001b[0m\n",
            "\u001b[?25hDownloading langchain_text_splitters-0.3.8-py3-none-any.whl (32 kB)\n",
            "Downloading langsmith-0.3.42-py3-none-any.whl (360 kB)\n",
            "Downloading mmh3-5.1.0-cp311-cp311-macosx_10_9_x86_64.whl (40 kB)\n",
            "Downloading onnxruntime-1.22.0-cp311-cp311-macosx_13_0_universal2.whl (34.3 MB)\n",
            "\u001b[2K   \u001b[90m━━━━━━━━━━━━━━━━━━━━━━━━━━━━━━━━━━━━━━━━\u001b[0m \u001b[32m34.3/34.3 MB\u001b[0m \u001b[31m5.2 MB/s\u001b[0m eta \u001b[36m0:00:00\u001b[0m00:01\u001b[0m00:01\u001b[0m\n",
            "\u001b[?25hDownloading opentelemetry_api-1.33.1-py3-none-any.whl (65 kB)\n",
            "Downloading opentelemetry_exporter_otlp_proto_grpc-1.33.1-py3-none-any.whl (18 kB)\n",
            "Downloading opentelemetry_exporter_otlp_proto_common-1.33.1-py3-none-any.whl (18 kB)\n",
            "Downloading opentelemetry_proto-1.33.1-py3-none-any.whl (55 kB)\n",
            "Downloading opentelemetry_instrumentation_fastapi-0.54b1-py3-none-any.whl (12 kB)\n",
            "Downloading opentelemetry_instrumentation-0.54b1-py3-none-any.whl (31 kB)\n",
            "Downloading opentelemetry_instrumentation_asgi-0.54b1-py3-none-any.whl (16 kB)\n",
            "Downloading opentelemetry_semantic_conventions-0.54b1-py3-none-any.whl (194 kB)\n",
            "Downloading opentelemetry_util_http-0.54b1-py3-none-any.whl (7.3 kB)\n",
            "Downloading opentelemetry_sdk-1.33.1-py3-none-any.whl (118 kB)\n",
            "Downloading orjson-3.10.18-cp311-cp311-macosx_10_15_x86_64.macosx_11_0_arm64.macosx_10_15_universal2.whl (248 kB)\n",
            "Downloading overrides-7.7.0-py3-none-any.whl (17 kB)\n",
            "Downloading posthog-4.0.1-py2.py3-none-any.whl (92 kB)\n",
            "Downloading pydantic_settings-2.9.1-py3-none-any.whl (44 kB)\n",
            "Downloading regex-2024.11.6-cp311-cp311-macosx_10_9_x86_64.whl (287 kB)\n",
            "Downloading rich-14.0.0-py3-none-any.whl (243 kB)\n",
            "Downloading sqlalchemy-2.0.41-cp311-cp311-macosx_10_9_x86_64.whl (2.1 MB)\n",
            "\u001b[2K   \u001b[90m━━━━━━━━━━━━━━━━━━━━━━━━━━━━━━━━━━━━━━━━\u001b[0m \u001b[32m2.1/2.1 MB\u001b[0m \u001b[31m7.3 MB/s\u001b[0m eta \u001b[36m0:00:00\u001b[0ma \u001b[36m0:00:01\u001b[0m\n",
            "\u001b[?25hDownloading tenacity-9.1.2-py3-none-any.whl (28 kB)\n",
            "Downloading tokenizers-0.21.1-cp39-abi3-macosx_10_12_x86_64.whl (2.8 MB)\n",
            "\u001b[2K   \u001b[90m━━━━━━━━━━━━━━━━━━━━━━━━━━━━━━━━━━━━━━━━\u001b[0m \u001b[32m2.8/2.8 MB\u001b[0m \u001b[31m7.0 MB/s\u001b[0m eta \u001b[36m0:00:00\u001b[0ma \u001b[36m0:00:01\u001b[0m\n",
            "\u001b[?25hDownloading typer-0.15.4-py3-none-any.whl (45 kB)\n",
            "Downloading types_requests-2.32.0.20250515-py3-none-any.whl (20 kB)\n",
            "Downloading typing_inspect-0.9.0-py3-none-any.whl (8.8 kB)\n",
            "Downloading uvicorn-0.34.2-py3-none-any.whl (62 kB)\n",
            "Downloading aiohappyeyeballs-2.6.1-py3-none-any.whl (15 kB)\n",
            "Downloading aiosignal-1.3.2-py2.py3-none-any.whl (7.6 kB)\n",
            "Downloading attrs-25.3.0-py3-none-any.whl (63 kB)\n",
            "Downloading backoff-2.2.1-py3-none-any.whl (15 kB)\n",
            "Downloading click-8.1.8-py3-none-any.whl (98 kB)\n",
            "Downloading Deprecated-1.2.18-py2.py3-none-any.whl (10.0 kB)\n",
            "Downloading durationpy-0.10-py3-none-any.whl (3.9 kB)\n",
            "Downloading frozenlist-1.6.0-cp311-cp311-macosx_10_9_x86_64.whl (124 kB)\n",
            "Downloading google_auth-2.40.1-py2.py3-none-any.whl (216 kB)\n",
            "Downloading googleapis_common_protos-1.70.0-py3-none-any.whl (294 kB)\n",
            "Downloading greenlet-3.2.2-cp311-cp311-macosx_11_0_universal2.whl (268 kB)\n",
            "Downloading httptools-0.6.4-cp311-cp311-macosx_10_9_universal2.whl (199 kB)\n",
            "Downloading huggingface_hub-0.31.4-py3-none-any.whl (489 kB)\n",
            "Downloading importlib_metadata-8.6.1-py3-none-any.whl (26 kB)\n",
            "Downloading jsonpointer-3.0.0-py2.py3-none-any.whl (7.6 kB)\n",
            "Downloading jsonschema_specifications-2025.4.1-py3-none-any.whl (18 kB)\n",
            "Downloading markdown_it_py-3.0.0-py3-none-any.whl (87 kB)\n",
            "Downloading marshmallow-3.26.1-py3-none-any.whl (50 kB)\n",
            "Downloading multidict-6.4.4-cp311-cp311-macosx_10_9_x86_64.whl (38 kB)\n",
            "Downloading mypy_extensions-1.1.0-py3-none-any.whl (5.0 kB)\n",
            "Using cached oauthlib-3.2.2-py3-none-any.whl (151 kB)\n",
            "Downloading propcache-0.3.1-cp311-cp311-macosx_10_9_x86_64.whl (46 kB)\n",
            "Downloading python_dotenv-1.1.0-py3-none-any.whl (20 kB)\n",
            "Downloading referencing-0.36.2-py3-none-any.whl (26 kB)\n",
            "Downloading requests_toolbelt-1.0.0-py2.py3-none-any.whl (54 kB)\n",
            "Downloading rpds_py-0.25.0-cp311-cp311-macosx_10_12_x86_64.whl (373 kB)\n",
            "Downloading shellingham-1.5.4-py2.py3-none-any.whl (9.8 kB)\n",
            "Downloading starlette-0.45.3-py3-none-any.whl (71 kB)\n",
            "Downloading uvloop-0.21.0-cp311-cp311-macosx_10_9_x86_64.whl (805 kB)\n",
            "\u001b[2K   \u001b[90m━━━━━━━━━━━━━━━━━━━━━━━━━━━━━━━━━━━━━━━━\u001b[0m \u001b[32m805.5/805.5 kB\u001b[0m \u001b[31m6.9 MB/s\u001b[0m eta \u001b[36m0:00:00\u001b[0m\n",
            "\u001b[?25hDownloading watchfiles-1.0.5-cp311-cp311-macosx_10_12_x86_64.whl (405 kB)\n",
            "Downloading websocket_client-1.8.0-py3-none-any.whl (58 kB)\n",
            "Downloading yarl-1.20.0-cp311-cp311-macosx_10_9_x86_64.whl (96 kB)\n",
            "Downloading zstandard-0.23.0-cp311-cp311-macosx_10_9_x86_64.whl (788 kB)\n",
            "\u001b[2K   \u001b[90m━━━━━━━━━━━━━━━━━━━━━━━━━━━━━━━━━━━━━━━━\u001b[0m \u001b[32m788.7/788.7 kB\u001b[0m \u001b[31m8.1 MB/s\u001b[0m eta \u001b[36m0:00:00\u001b[0m\n",
            "\u001b[?25hDownloading coloredlogs-15.0.1-py2.py3-none-any.whl (46 kB)\n",
            "Downloading flatbuffers-25.2.10-py2.py3-none-any.whl (30 kB)\n",
            "Downloading pyproject_hooks-1.2.0-py3-none-any.whl (10 kB)\n",
            "Using cached requests_oauthlib-2.0.0-py2.py3-none-any.whl (24 kB)\n",
            "Downloading asgiref-3.8.1-py3-none-any.whl (23 kB)\n",
            "Downloading cachetools-5.5.2-py3-none-any.whl (10 kB)\n",
            "Downloading humanfriendly-10.0-py2.py3-none-any.whl (86 kB)\n",
            "Downloading mdurl-0.1.2-py3-none-any.whl (10.0 kB)\n",
            "Downloading pyasn1_modules-0.4.2-py3-none-any.whl (181 kB)\n",
            "Downloading rsa-4.9.1-py3-none-any.whl (34 kB)\n",
            "Downloading wrapt-1.17.2-cp311-cp311-macosx_10_9_x86_64.whl (38 kB)\n",
            "Downloading pyasn1-0.6.1-py3-none-any.whl (83 kB)\n",
            "Building wheels for collected packages: wikipedia, pypika\n",
            "  Building wheel for wikipedia (setup.py) ... \u001b[?25ldone\n",
            "\u001b[?25h  Created wheel for wikipedia: filename=wikipedia-1.4.0-py3-none-any.whl size=11679 sha256=a89d9f78f2fc27ee6c5f36dc244ac782893881e30dac67c1e5d21215da9da99e\n",
            "  Stored in directory: /Users/jeffsantos/Library/Caches/pip/wheels/8f/ab/cb/45ccc40522d3a1c41e1d2ad53b8f33a62f394011ec38cd71c6\n",
            "  Building wheel for pypika (pyproject.toml) ... \u001b[?25ldone\n",
            "\u001b[?25h  Created wheel for pypika: filename=pypika-0.48.9-py2.py3-none-any.whl size=53801 sha256=338c930f2ed076675e6d075508c0c92f1ca5d3828fbf6c3abadddd7c1321ce1a\n",
            "  Stored in directory: /Users/jeffsantos/Library/Caches/pip/wheels/a3/01/bd/4c40ceb9d5354160cb186dcc153360f4ab7eb23e2b24daf96d\n",
            "Successfully built wikipedia pypika\n",
            "Installing collected packages: pypika, flatbuffers, durationpy, zstandard, xmltodict, wrapt, websocket-client, uvloop, types-requests, tenacity, shellingham, rpds-py, regex, python-dotenv, pyproject_hooks, pyasn1, propcache, overrides, orjson, opentelemetry-util-http, opentelemetry-proto, oauthlib, mypy-extensions, multidict, mmh3, mdurl, marshmallow, jsonpointer, importlib-metadata, humanfriendly, httpx-sse, httptools, grpcio, greenlet, googleapis-common-protos, frozenlist, click, cachetools, bcrypt, backoff, attrs, asgiref, aiohappyeyeballs, yarl, wikipedia, watchfiles, uvicorn, typing-inspect, tiktoken, starlette, SQLAlchemy, rsa, requests-toolbelt, requests-oauthlib, referencing, pyasn1-modules, posthog, opentelemetry-exporter-otlp-proto-common, markdown-it-py, jsonpatch, huggingface-hub, deprecated, coloredlogs, build, aiosignal, tokenizers, rich, pydantic-settings, opentelemetry-api, onnxruntime, langsmith, jsonschema-specifications, google-auth, fastapi, dataclasses-json, aiohttp, typer, opentelemetry-semantic-conventions, langchain-core, kubernetes, jsonschema, docarray, opentelemetry-sdk, opentelemetry-instrumentation, langchain-text-splitters, langchain-openai, opentelemetry-instrumentation-asgi, opentelemetry-exporter-otlp-proto-grpc, langchain, opentelemetry-instrumentation-fastapi, langchain-community, chromadb\n",
            "Successfully installed SQLAlchemy-2.0.41 aiohappyeyeballs-2.6.1 aiohttp-3.11.18 aiosignal-1.3.2 asgiref-3.8.1 attrs-25.3.0 backoff-2.2.1 bcrypt-4.3.0 build-1.2.2.post1 cachetools-5.5.2 chromadb-1.0.9 click-8.1.8 coloredlogs-15.0.1 dataclasses-json-0.6.7 deprecated-1.2.18 docarray-0.41.0 durationpy-0.10 fastapi-0.115.9 flatbuffers-25.2.10 frozenlist-1.6.0 google-auth-2.40.1 googleapis-common-protos-1.70.0 greenlet-3.2.2 grpcio-1.71.0 httptools-0.6.4 httpx-sse-0.4.0 huggingface-hub-0.31.4 humanfriendly-10.0 importlib-metadata-8.6.1 jsonpatch-1.33 jsonpointer-3.0.0 jsonschema-4.23.0 jsonschema-specifications-2025.4.1 kubernetes-32.0.1 langchain-0.3.25 langchain-community-0.3.24 langchain-core-0.3.60 langchain-openai-0.3.17 langchain-text-splitters-0.3.8 langsmith-0.3.42 markdown-it-py-3.0.0 marshmallow-3.26.1 mdurl-0.1.2 mmh3-5.1.0 multidict-6.4.4 mypy-extensions-1.1.0 oauthlib-3.2.2 onnxruntime-1.22.0 opentelemetry-api-1.33.1 opentelemetry-exporter-otlp-proto-common-1.33.1 opentelemetry-exporter-otlp-proto-grpc-1.33.1 opentelemetry-instrumentation-0.54b1 opentelemetry-instrumentation-asgi-0.54b1 opentelemetry-instrumentation-fastapi-0.54b1 opentelemetry-proto-1.33.1 opentelemetry-sdk-1.33.1 opentelemetry-semantic-conventions-0.54b1 opentelemetry-util-http-0.54b1 orjson-3.10.18 overrides-7.7.0 posthog-4.0.1 propcache-0.3.1 pyasn1-0.6.1 pyasn1-modules-0.4.2 pydantic-settings-2.9.1 pypika-0.48.9 pyproject_hooks-1.2.0 python-dotenv-1.1.0 referencing-0.36.2 regex-2024.11.6 requests-oauthlib-2.0.0 requests-toolbelt-1.0.0 rich-14.0.0 rpds-py-0.25.0 rsa-4.9.1 shellingham-1.5.4 starlette-0.45.3 tenacity-9.1.2 tiktoken-0.9.0 tokenizers-0.21.1 typer-0.15.4 types-requests-2.32.0.20250515 typing-inspect-0.9.0 uvicorn-0.34.2 uvloop-0.21.0 watchfiles-1.0.5 websocket-client-1.8.0 wikipedia-1.4.0 wrapt-1.17.2 xmltodict-0.14.2 yarl-1.20.0 zstandard-0.23.0\n"
          ]
        }
      ],
      "source": [
        "!pip install openai langchain-community langchain-core langchain tiktoken docarray wikipedia xmltodict langchain-openai chromadb"
      ]
    },
    {
      "cell_type": "code",
      "execution_count": 2,
      "metadata": {
        "id": "tTUcVshkNC3a"
      },
      "outputs": [],
      "source": [
        "import os\n",
        "from openai import OpenAI\n",
        "import langchain\n",
        "from IPython.display import display, Markdown as display_markdown\n",
        "import json\n",
        "import pandas as pd"
      ]
    },
    {
      "cell_type": "markdown",
      "metadata": {
        "id": "OvjQBB7JpSZV"
      },
      "source": [
        "# Modelos de base"
      ]
    },
    {
      "cell_type": "markdown",
      "metadata": {
        "id": "MsoCMkkDpSZW"
      },
      "source": [
        "## OpenAI\n",
        "\n",
        "Inscreva-se no [site](www.openai.com) para obter uma chave de API. No registro você terá 30 dias de uso gratuito.\n",
        "Para experimentações pequenas o custo é baixo. Avalie com cuidado ao lançar uma aplicação em produção para incluir limites máximos de gastos."
      ]
    },
    {
      "cell_type": "code",
      "execution_count": 3,
      "metadata": {
        "id": "GBOPJ5xHpSZW"
      },
      "outputs": [],
      "source": [
        "os.environ[\"OPENAI_API_KEY\"] = \"sk-proj-TtCY1kxZoyrDdweopG3uT3BlbkFJyu1s3wjQO8sBNWKbOhRN\""
      ]
    },
    {
      "cell_type": "markdown",
      "metadata": {
        "id": "zxXyxVc2pSZX"
      },
      "source": [
        "Utilizaremos o modelo fundacional do ChatGPT 4.1 mini é ```gpt-4.1-mini``` conforme [documentação](https://platform.openai.com/docs/models/gpt-4.1-mini). Sempre revise a documentação pois os modelos podem se tornar obsoletos para a entrada de outros mais novos."
      ]
    },
    {
      "cell_type": "markdown",
      "metadata": {
        "id": "-0vbY_b3pSZX"
      },
      "source": [
        "## Chat Completion\n",
        "\n",
        "Permite criar prompts que conversam com o modelo selecionado. Por meio de roles definidas, podemos criar um prompt mais completo, especificando:\n",
        "\n",
        "1. ```System```: papel de sistema, ajuda na formatação do tipo de resposta e de como o modelo deve se comportar. Definimos com esse papel aspectos de entrada e saída.\n",
        "2. ```User```: papel de usuário, neste caso é a informação desejada pelo usuário, que vai seguir as regras definidas no papel anteriormente definido.\n",
        "2. ```Assistant```: papel de assistente virtual (próprio modelo). Neste caso serve para definir um aspecto de memória."
      ]
    },
    {
      "cell_type": "code",
      "execution_count": 4,
      "metadata": {
        "id": "-W3smf74sqVm"
      },
      "outputs": [],
      "source": [
        "client = OpenAI(\n",
        "    api_key=os.environ.get(\"sk-proj-TtCY1kxZoyrDdweopG3uT3BlbkFJyu1s3wjQO8sBNWKbOhRN\"),\n",
        ")"
      ]
    },
    {
      "cell_type": "code",
      "execution_count": 5,
      "metadata": {
        "id": "7jRR5Yg6pSZX"
      },
      "outputs": [],
      "source": [
        "model = \"gpt-4.1-mini\""
      ]
    },
    {
      "cell_type": "code",
      "execution_count": 6,
      "metadata": {
        "id": "zkZRqY7zpSZY"
      },
      "outputs": [],
      "source": [
        "messages=[\n",
        "        {\"role\": \"system\", \"content\": \"Você é um professor de visão computacional que leciona para crianças de até 10 anos.\"},\n",
        "        {\"role\": \"user\", \"content\": \"Como funciona um detector de bordas de Canny, de forma bem resumida?\"},\n",
        "        {\"role\": \"system\", \"content\": \"O resultado precisa ser formatado como Markdown.\"}\n",
        "    ]"
      ]
    },
    {
      "cell_type": "code",
      "execution_count": 7,
      "metadata": {
        "colab": {
          "base_uri": "https://localhost:8080/"
        },
        "id": "sAhC8mg4pSZY",
        "outputId": "de50722d-7617-4e31-c349-05a40853a3e4"
      },
      "outputs": [
        {
          "data": {
            "text/plain": [
              "ChatCompletion(id='chatcmpl-BZ412IK9vElSgAoxvj6Fk4jEKUQmS', choices=[Choice(finish_reason='stop', index=0, logprobs=None, message=ChatCompletionMessage(content='Claro! Aqui vai uma explicação bem simples sobre o detector de bordas de Canny:\\n\\n---\\n\\n# Detector de Bordas de Canny (Explicação para crianças)\\n\\nImagine que você tem uma foto e quer encontrar onde as coisas mudam de cor ou de luz, como as bordas de um desenho.\\n\\nO detector de bordas de Canny faz isso em 4 passos:\\n\\n1. **Deixar a imagem mais suave:** Ele \"borra\" um pouco a foto para tirar os pontinhos que não são importantes.\\n2. **Encontrar mudanças fortes:** Ele olha para cada parte da foto e vê onde a luz muda bastante, que é onde as bordas podem estar.\\n3. **Achar as bordas mais fortes:** Ele escolhe só as mudanças que são bem grandes para não confundir com coisas pequenas.\\n4. **Conectar as bordas:** Ele junta as partes que parecem bordas para formar linhas bonitas e contínuas.\\n\\nPronto! Assim, ele acha as bordas das coisas na foto, como se fosse um desenho feito com lápis.\\n\\n---\\n\\nSe quiser, posso explicar com um exemplo ou desenho!', refusal=None, role='assistant', annotations=[], audio=None, function_call=None, tool_calls=None))], created=1747696616, model='gpt-4.1-mini-2025-04-14', object='chat.completion', service_tier='default', system_fingerprint='fp_79b79be41f', usage=CompletionUsage(completion_tokens=230, prompt_tokens=61, total_tokens=291, completion_tokens_details=CompletionTokensDetails(accepted_prediction_tokens=0, audio_tokens=0, reasoning_tokens=0, rejected_prediction_tokens=0), prompt_tokens_details=PromptTokensDetails(audio_tokens=0, cached_tokens=0)))"
            ]
          },
          "execution_count": 7,
          "metadata": {},
          "output_type": "execute_result"
        }
      ],
      "source": [
        "response = client.chat.completions.create(\n",
        "    model=model,\n",
        "    messages=messages,\n",
        "    temperature=0,\n",
        ")\n",
        "response"
      ]
    },
    {
      "cell_type": "code",
      "execution_count": 8,
      "metadata": {
        "colab": {
          "base_uri": "https://localhost:8080/",
          "height": 122
        },
        "id": "Cn77FZKgtHOG",
        "outputId": "8972e70a-bc98-48dd-e86c-62d8116aa6d8"
      },
      "outputs": [
        {
          "data": {
            "text/plain": [
              "'Claro! Aqui vai uma explicação bem simples sobre o detector de bordas de Canny:\\n\\n---\\n\\n# Detector de Bordas de Canny (Explicação para crianças)\\n\\nImagine que você tem uma foto e quer encontrar onde as coisas mudam de cor ou de luz, como as bordas de um desenho.\\n\\nO detector de bordas de Canny faz isso em 4 passos:\\n\\n1. **Deixar a imagem mais suave:** Ele \"borra\" um pouco a foto para tirar os pontinhos que não são importantes.\\n2. **Encontrar mudanças fortes:** Ele olha para cada parte da foto e vê onde a luz muda bastante, que é onde as bordas podem estar.\\n3. **Achar as bordas mais fortes:** Ele escolhe só as mudanças que são bem grandes para não confundir com coisas pequenas.\\n4. **Conectar as bordas:** Ele junta as partes que parecem bordas para formar linhas bonitas e contínuas.\\n\\nPronto! Assim, ele acha as bordas das coisas na foto, como se fosse um desenho feito com lápis.\\n\\n---\\n\\nSe quiser, posso explicar com um exemplo ou desenho!'"
            ]
          },
          "execution_count": 8,
          "metadata": {},
          "output_type": "execute_result"
        }
      ],
      "source": [
        "response.choices[0].message.content"
      ]
    },
    {
      "cell_type": "code",
      "execution_count": 9,
      "metadata": {
        "colab": {
          "base_uri": "https://localhost:8080/",
          "height": 172
        },
        "id": "4WpVE5FUpSZZ",
        "outputId": "8f6c2052-d12c-4e1b-8868-9fb8b7184a0f"
      },
      "outputs": [
        {
          "data": {
            "text/markdown": [
              "Claro! Aqui vai uma explicação bem simples sobre o detector de bordas de Canny:\n",
              "\n",
              "---\n",
              "\n",
              "# Detector de Bordas de Canny (Explicação para crianças)\n",
              "\n",
              "Imagine que você tem uma foto e quer encontrar onde as coisas mudam de cor ou de luz, como as bordas de um desenho.\n",
              "\n",
              "O detector de bordas de Canny faz isso em 4 passos:\n",
              "\n",
              "1. **Deixar a imagem mais suave:** Ele \"borra\" um pouco a foto para tirar os pontinhos que não são importantes.\n",
              "2. **Encontrar mudanças fortes:** Ele olha para cada parte da foto e vê onde a luz muda bastante, que é onde as bordas podem estar.\n",
              "3. **Achar as bordas mais fortes:** Ele escolhe só as mudanças que são bem grandes para não confundir com coisas pequenas.\n",
              "4. **Conectar as bordas:** Ele junta as partes que parecem bordas para formar linhas bonitas e contínuas.\n",
              "\n",
              "Pronto! Assim, ele acha as bordas das coisas na foto, como se fosse um desenho feito com lápis.\n",
              "\n",
              "---\n",
              "\n",
              "Se quiser, posso explicar com um exemplo ou desenho!"
            ],
            "text/plain": [
              "<IPython.core.display.Markdown object>"
            ]
          },
          "execution_count": 9,
          "metadata": {},
          "output_type": "execute_result"
        }
      ],
      "source": [
        "display_markdown(response.choices[0].message.content)"
      ]
    },
    {
      "cell_type": "code",
      "execution_count": 10,
      "metadata": {
        "id": "msKqv7COpSZZ"
      },
      "outputs": [],
      "source": [
        "messages=[\n",
        "        {\"role\": \"system\", \"content\": \"Você é um sistema que extrai 2 informações de um texto, primeiro se a frase for um elogio deverá armazenar is_compliment=True\"},\n",
        "        {\"role\": \"system\", \"content\": \"Indique qual o elogio em uma variável compliment, por exemplo em 'A pessoa é bonita', is_compliment=True e compliment='bonita'. \"},\n",
        "        {\"role\": \"user\", \"content\": \"Os carros elétricos são incríveis.\"},\n",
        "        {\"role\": \"system\", \"content\": \"O resultado precisa ser formatado como JSON.\"}\n",
        "    ]"
      ]
    },
    {
      "cell_type": "code",
      "execution_count": 11,
      "metadata": {
        "colab": {
          "base_uri": "https://localhost:8080/"
        },
        "id": "laS2GtncpSZZ",
        "outputId": "e15d6593-aa1a-47f1-f2dd-3a3b6ac8c858"
      },
      "outputs": [
        {
          "data": {
            "text/plain": [
              "ChatCompletion(id='chatcmpl-BZ41XQ7mTtssqAbG4ScEh2riJjS5l', choices=[Choice(finish_reason='stop', index=0, logprobs=None, message=ChatCompletionMessage(content='{\\n  \"is_compliment\": true,\\n  \"compliment\": \"incríveis\"\\n}', refusal=None, role='assistant', annotations=[], audio=None, function_call=None, tool_calls=None))], created=1747696647, model='gpt-4.1-mini-2025-04-14', object='chat.completion', service_tier='default', system_fingerprint='fp_79b79be41f', usage=CompletionUsage(completion_tokens=21, prompt_tokens=97, total_tokens=118, completion_tokens_details=CompletionTokensDetails(accepted_prediction_tokens=0, audio_tokens=0, reasoning_tokens=0, rejected_prediction_tokens=0), prompt_tokens_details=PromptTokensDetails(audio_tokens=0, cached_tokens=0)))"
            ]
          },
          "execution_count": 11,
          "metadata": {},
          "output_type": "execute_result"
        }
      ],
      "source": [
        "response = client.chat.completions.create(\n",
        "    model=model,\n",
        "    messages=messages,\n",
        "    temperature=0,\n",
        ")\n",
        "response"
      ]
    },
    {
      "cell_type": "code",
      "execution_count": 12,
      "metadata": {
        "colab": {
          "base_uri": "https://localhost:8080/",
          "height": 36
        },
        "id": "sCrp5kPFpSZa",
        "outputId": "63cf363b-519b-40de-f0a8-4efc87861ca1"
      },
      "outputs": [
        {
          "data": {
            "text/plain": [
              "'{\\n  \"is_compliment\": true,\\n  \"compliment\": \"incríveis\"\\n}'"
            ]
          },
          "execution_count": 12,
          "metadata": {},
          "output_type": "execute_result"
        }
      ],
      "source": [
        "response.choices[0].message.content"
      ]
    },
    {
      "cell_type": "code",
      "execution_count": 13,
      "metadata": {
        "colab": {
          "base_uri": "https://localhost:8080/"
        },
        "id": "Z2uzN-xVpSZa",
        "outputId": "a16b9497-af2a-4258-d3c3-bcd57a21fbfc"
      },
      "outputs": [
        {
          "data": {
            "text/plain": [
              "{'is_compliment': True, 'compliment': 'incríveis'}"
            ]
          },
          "execution_count": 13,
          "metadata": {},
          "output_type": "execute_result"
        }
      ],
      "source": [
        "result = json.loads(response.choices[0].message.content)\n",
        "result"
      ]
    },
    {
      "cell_type": "markdown",
      "metadata": {
        "id": "uvv8_BoMNLlx"
      },
      "source": [
        "# Langchain"
      ]
    },
    {
      "cell_type": "markdown",
      "metadata": {
        "id": "xlo8cQW1ytQk"
      },
      "source": [
        "É um framework com foco em integrar diferentes _foundationals model_, dentre eles o GPT (da OpenAI), Bard (do Google), WatsonX (da IBM) e outros mais. cada modelo e plataformas tem algumas particularidades, mas há um bom espaço para abstrações. É nesse nicho que o framework faz o seu papel de utilizar componentes e serviços comum a todos os modelos como encadeamento de ações, memória, acesso e dados externos e utilização de agentes."
      ]
    },
    {
      "cell_type": "code",
      "execution_count": 14,
      "metadata": {},
      "outputs": [
        {
          "name": "stdout",
          "output_type": "stream",
          "text": [
            "Requirement already satisfied: langchain_openai in /opt/anaconda3/envs/myenv/lib/python3.11/site-packages (0.3.17)\n",
            "Requirement already satisfied: langchain-core<1.0.0,>=0.3.59 in /opt/anaconda3/envs/myenv/lib/python3.11/site-packages (from langchain_openai) (0.3.60)\n",
            "Requirement already satisfied: openai<2.0.0,>=1.68.2 in /opt/anaconda3/envs/myenv/lib/python3.11/site-packages (from langchain_openai) (1.79.0)\n",
            "Requirement already satisfied: tiktoken<1,>=0.7 in /opt/anaconda3/envs/myenv/lib/python3.11/site-packages (from langchain_openai) (0.9.0)\n",
            "Requirement already satisfied: langsmith<0.4,>=0.1.126 in /opt/anaconda3/envs/myenv/lib/python3.11/site-packages (from langchain-core<1.0.0,>=0.3.59->langchain_openai) (0.3.42)\n",
            "Requirement already satisfied: tenacity!=8.4.0,<10.0.0,>=8.1.0 in /opt/anaconda3/envs/myenv/lib/python3.11/site-packages (from langchain-core<1.0.0,>=0.3.59->langchain_openai) (9.1.2)\n",
            "Requirement already satisfied: jsonpatch<2.0,>=1.33 in /opt/anaconda3/envs/myenv/lib/python3.11/site-packages (from langchain-core<1.0.0,>=0.3.59->langchain_openai) (1.33)\n",
            "Requirement already satisfied: PyYAML>=5.3 in /opt/anaconda3/envs/myenv/lib/python3.11/site-packages (from langchain-core<1.0.0,>=0.3.59->langchain_openai) (6.0.2)\n",
            "Requirement already satisfied: packaging<25,>=23.2 in /opt/anaconda3/envs/myenv/lib/python3.11/site-packages (from langchain-core<1.0.0,>=0.3.59->langchain_openai) (24.1)\n",
            "Requirement already satisfied: typing-extensions>=4.7 in /opt/anaconda3/envs/myenv/lib/python3.11/site-packages (from langchain-core<1.0.0,>=0.3.59->langchain_openai) (4.13.2)\n",
            "Requirement already satisfied: pydantic>=2.7.4 in /opt/anaconda3/envs/myenv/lib/python3.11/site-packages (from langchain-core<1.0.0,>=0.3.59->langchain_openai) (2.11.4)\n",
            "Requirement already satisfied: anyio<5,>=3.5.0 in /opt/anaconda3/envs/myenv/lib/python3.11/site-packages (from openai<2.0.0,>=1.68.2->langchain_openai) (4.9.0)\n",
            "Requirement already satisfied: distro<2,>=1.7.0 in /opt/anaconda3/envs/myenv/lib/python3.11/site-packages (from openai<2.0.0,>=1.68.2->langchain_openai) (1.9.0)\n",
            "Requirement already satisfied: httpx<1,>=0.23.0 in /opt/anaconda3/envs/myenv/lib/python3.11/site-packages (from openai<2.0.0,>=1.68.2->langchain_openai) (0.28.1)\n",
            "Requirement already satisfied: jiter<1,>=0.4.0 in /opt/anaconda3/envs/myenv/lib/python3.11/site-packages (from openai<2.0.0,>=1.68.2->langchain_openai) (0.10.0)\n",
            "Requirement already satisfied: sniffio in /opt/anaconda3/envs/myenv/lib/python3.11/site-packages (from openai<2.0.0,>=1.68.2->langchain_openai) (1.3.1)\n",
            "Requirement already satisfied: tqdm>4 in /opt/anaconda3/envs/myenv/lib/python3.11/site-packages (from openai<2.0.0,>=1.68.2->langchain_openai) (4.67.1)\n",
            "Requirement already satisfied: regex>=2022.1.18 in /opt/anaconda3/envs/myenv/lib/python3.11/site-packages (from tiktoken<1,>=0.7->langchain_openai) (2024.11.6)\n",
            "Requirement already satisfied: requests>=2.26.0 in /opt/anaconda3/envs/myenv/lib/python3.11/site-packages (from tiktoken<1,>=0.7->langchain_openai) (2.32.3)\n",
            "Requirement already satisfied: idna>=2.8 in /opt/anaconda3/envs/myenv/lib/python3.11/site-packages (from anyio<5,>=3.5.0->openai<2.0.0,>=1.68.2->langchain_openai) (3.10)\n",
            "Requirement already satisfied: certifi in /opt/anaconda3/envs/myenv/lib/python3.11/site-packages (from httpx<1,>=0.23.0->openai<2.0.0,>=1.68.2->langchain_openai) (2024.12.14)\n",
            "Requirement already satisfied: httpcore==1.* in /opt/anaconda3/envs/myenv/lib/python3.11/site-packages (from httpx<1,>=0.23.0->openai<2.0.0,>=1.68.2->langchain_openai) (1.0.9)\n",
            "Requirement already satisfied: h11>=0.16 in /opt/anaconda3/envs/myenv/lib/python3.11/site-packages (from httpcore==1.*->httpx<1,>=0.23.0->openai<2.0.0,>=1.68.2->langchain_openai) (0.16.0)\n",
            "Requirement already satisfied: jsonpointer>=1.9 in /opt/anaconda3/envs/myenv/lib/python3.11/site-packages (from jsonpatch<2.0,>=1.33->langchain-core<1.0.0,>=0.3.59->langchain_openai) (3.0.0)\n",
            "Requirement already satisfied: orjson<4.0.0,>=3.9.14 in /opt/anaconda3/envs/myenv/lib/python3.11/site-packages (from langsmith<0.4,>=0.1.126->langchain-core<1.0.0,>=0.3.59->langchain_openai) (3.10.18)\n",
            "Requirement already satisfied: requests-toolbelt<2.0.0,>=1.0.0 in /opt/anaconda3/envs/myenv/lib/python3.11/site-packages (from langsmith<0.4,>=0.1.126->langchain-core<1.0.0,>=0.3.59->langchain_openai) (1.0.0)\n",
            "Requirement already satisfied: zstandard<0.24.0,>=0.23.0 in /opt/anaconda3/envs/myenv/lib/python3.11/site-packages (from langsmith<0.4,>=0.1.126->langchain-core<1.0.0,>=0.3.59->langchain_openai) (0.23.0)\n",
            "Requirement already satisfied: annotated-types>=0.6.0 in /opt/anaconda3/envs/myenv/lib/python3.11/site-packages (from pydantic>=2.7.4->langchain-core<1.0.0,>=0.3.59->langchain_openai) (0.7.0)\n",
            "Requirement already satisfied: pydantic-core==2.33.2 in /opt/anaconda3/envs/myenv/lib/python3.11/site-packages (from pydantic>=2.7.4->langchain-core<1.0.0,>=0.3.59->langchain_openai) (2.33.2)\n",
            "Requirement already satisfied: typing-inspection>=0.4.0 in /opt/anaconda3/envs/myenv/lib/python3.11/site-packages (from pydantic>=2.7.4->langchain-core<1.0.0,>=0.3.59->langchain_openai) (0.4.0)\n",
            "Requirement already satisfied: charset-normalizer<4,>=2 in /opt/anaconda3/envs/myenv/lib/python3.11/site-packages (from requests>=2.26.0->tiktoken<1,>=0.7->langchain_openai) (3.4.1)\n",
            "Requirement already satisfied: urllib3<3,>=1.21.1 in /opt/anaconda3/envs/myenv/lib/python3.11/site-packages (from requests>=2.26.0->tiktoken<1,>=0.7->langchain_openai) (2.3.0)\n"
          ]
        }
      ],
      "source": [
        "!pip install langchain_openai"
      ]
    },
    {
      "cell_type": "code",
      "execution_count": 15,
      "metadata": {
        "id": "pfnFTqDCNM24"
      },
      "outputs": [],
      "source": [
        "from langchain_openai import ChatOpenAI"
      ]
    },
    {
      "cell_type": "markdown",
      "metadata": {
        "id": "vKU3gD0MpSZa"
      },
      "source": [
        "## Templates de prompt"
      ]
    },
    {
      "cell_type": "markdown",
      "metadata": {
        "id": "9wS8cBcbpSZb"
      },
      "source": [
        "Templates ajudam a criar uma forma padronizada sempre que for utilizado um determindo prompt para atividades repetitivas. Por exemplo, traduções, resumos, modificações de tom, etc.\n",
        "\n",
        "Utilizaremos nos templates parâmetros que são inseridos dentro dos prompts que trazem os dados que são dinâmicos, enquanto parte do prompt continua constante."
      ]
    },
    {
      "cell_type": "markdown",
      "metadata": {
        "id": "ZwcjrAESpSZb"
      },
      "source": [
        "A _temperatura_ do chat é o grau de criatividade dado a conversão. Quanto menor, menor menos criativo e randômico ele será, em tese diminui as possibilidades de alucinações, embora os resultados podem ficar mais simples.\n",
        "\n",
        "Vamos manter zero para extrair o máximo de informação útil, com o mínimo de ruídos."
      ]
    },
    {
      "cell_type": "code",
      "execution_count": 16,
      "metadata": {
        "colab": {
          "base_uri": "https://localhost:8080/"
        },
        "id": "5YmZskfKpSZb",
        "outputId": "573a5961-436b-4b64-cc3d-8541a5441259"
      },
      "outputs": [
        {
          "data": {
            "text/plain": [
              "ChatOpenAI(client=<openai.resources.chat.completions.completions.Completions object at 0x130da6610>, async_client=<openai.resources.chat.completions.completions.AsyncCompletions object at 0x130da7350>, root_client=<openai.OpenAI object at 0x1300da250>, root_async_client=<openai.AsyncOpenAI object at 0x130da5d50>, model_name='gpt-4.1-mini', temperature=0.0, model_kwargs={}, openai_api_key=SecretStr('**********'))"
            ]
          },
          "execution_count": 16,
          "metadata": {},
          "output_type": "execute_result"
        }
      ],
      "source": [
        "openai_chat = ChatOpenAI(temperature=0.0, model=model)\n",
        "openai_chat"
      ]
    },
    {
      "cell_type": "markdown",
      "metadata": {
        "id": "QEsky76kpSZb"
      },
      "source": [
        "Vamos criar prompts para analisar comentários de clientes de modo a toda avaliação seja excluído palavras de ofensa."
      ]
    },
    {
      "cell_type": "code",
      "execution_count": 38,
      "metadata": {
        "id": "7GSwsZ65pSZb"
      },
      "outputs": [],
      "source": [
        "style = \"\"\"\n",
        "Tom debochado, ironico, ácido e agressivo.\n",
        "\"\"\""
      ]
    },
    {
      "cell_type": "code",
      "execution_count": 39,
      "metadata": {
        "id": "0dedVnO6pSZe"
      },
      "outputs": [],
      "source": [
        "template_string = \"\"\"\n",
        "Analise a revisão de cliente para que sejam resumidas em no máximo 300 caracteres.\n",
        "Utilize o seguinte estilo {style}.\n",
        "A revisão é a seguinte: {customer_review}\n",
        "\"\"\""
      ]
    },
    {
      "cell_type": "code",
      "execution_count": 40,
      "metadata": {
        "id": "fjIO6IK2pSZe"
      },
      "outputs": [],
      "source": [
        "from langchain.prompts import ChatPromptTemplate\n",
        "\n",
        "prompt_template = ChatPromptTemplate.from_template(template_string)"
      ]
    },
    {
      "cell_type": "code",
      "execution_count": 41,
      "metadata": {
        "colab": {
          "base_uri": "https://localhost:8080/"
        },
        "id": "6InwqtOwpSZf",
        "outputId": "b709e31f-6b41-44a2-a8e6-3b39107f51e6"
      },
      "outputs": [
        {
          "data": {
            "text/plain": [
              "PromptTemplate(input_variables=['customer_review', 'style'], input_types={}, partial_variables={}, template='\\nAnalise a revisão de cliente para que sejam resumidas em no máximo 300 caracteres.\\nUtilize o seguinte estilo {style}.\\nA revisão é a seguinte: {customer_review}\\n')"
            ]
          },
          "execution_count": 41,
          "metadata": {},
          "output_type": "execute_result"
        }
      ],
      "source": [
        "prompt_template.messages[0].prompt"
      ]
    },
    {
      "cell_type": "code",
      "execution_count": 42,
      "metadata": {
        "colab": {
          "base_uri": "https://localhost:8080/"
        },
        "id": "AHInW9r7pSZf",
        "outputId": "2ea5c192-03e6-45a8-cef6-d3a985a5334b"
      },
      "outputs": [
        {
          "data": {
            "text/plain": [
              "['customer_review', 'style']"
            ]
          },
          "execution_count": 42,
          "metadata": {},
          "output_type": "execute_result"
        }
      ],
      "source": [
        "prompt_template.messages[0].prompt.input_variables"
      ]
    },
    {
      "cell_type": "code",
      "execution_count": 43,
      "metadata": {
        "id": "OS24vq1JpSZf"
      },
      "outputs": [],
      "source": [
        "customer_review = \"\"\"\n",
        "Comprei um brinquedo que não presta! Utilizei todas as instruções\n",
        "mas não funcionada nada! Que droga!\n",
        "Se soubesse que fosse assim não teria comprado nessa loja ruim!!!\n",
        "\"\"\""
      ]
    },
    {
      "cell_type": "code",
      "execution_count": 44,
      "metadata": {
        "id": "vpfzVYC4pSZg"
      },
      "outputs": [],
      "source": [
        "customer_messages = prompt_template.format_messages(\n",
        "                    style=style,\n",
        "                    customer_review=customer_review)"
      ]
    },
    {
      "cell_type": "markdown",
      "metadata": {
        "id": "Zqbs2vQ9pSZg"
      },
      "source": [
        "Analisando o resultado com a avaliação de exemplo."
      ]
    },
    {
      "cell_type": "code",
      "execution_count": 45,
      "metadata": {
        "colab": {
          "base_uri": "https://localhost:8080/"
        },
        "id": "klpOOsSDpSZg",
        "outputId": "46a931f8-28f2-47ec-f90b-94c55fab95ef"
      },
      "outputs": [
        {
          "data": {
            "text/plain": [
              "[HumanMessage(content='\\nAnalise a revisão de cliente para que sejam resumidas em no máximo 300 caracteres.\\nUtilize o seguinte estilo \\nTom debochado, ironico, ácido e agressivo.\\n.\\nA revisão é a seguinte: \\nComprei um brinquedo que não presta! Utilizei todas as instruções\\nmas não funcionada nada! Que droga!\\nSe soubesse que fosse assim não teria comprado nessa loja ruim!!!\\n\\n', additional_kwargs={}, response_metadata={})]"
            ]
          },
          "execution_count": 45,
          "metadata": {},
          "output_type": "execute_result"
        }
      ],
      "source": [
        "customer_messages"
      ]
    },
    {
      "cell_type": "code",
      "execution_count": 46,
      "metadata": {
        "id": "o_yHXu9ZpSZh"
      },
      "outputs": [],
      "source": [
        "customer_response = openai_chat.invoke(customer_messages)"
      ]
    },
    {
      "cell_type": "code",
      "execution_count": 47,
      "metadata": {
        "colab": {
          "base_uri": "https://localhost:8080/",
          "height": 53
        },
        "id": "Gnk7tEoHpSZh",
        "outputId": "5494c328-52d9-4c61-9c33-b08567257be4"
      },
      "outputs": [
        {
          "data": {
            "text/plain": [
              "'Comprei um brinquedo que é uma piada pronta: segui tudo e nada funcionou. Parabéns, loja lixo, por vender porcaria e ainda me fazer perder tempo. Se soubesse, teria jogado meu dinheiro no lixo direto, pelo menos teria sido mais útil!'"
            ]
          },
          "execution_count": 47,
          "metadata": {},
          "output_type": "execute_result"
        }
      ],
      "source": [
        "customer_response.content"
      ]
    },
    {
      "cell_type": "markdown",
      "metadata": {
        "id": "ILi0aHgQpSZh"
      },
      "source": [
        "Vamos obter uma base de revisões de clientes em sites de comércio eletrônico.\n",
        "Com esta base vamos sintetizar as reclamações para padronizar análises, removendo palavras e expressões que impactariam muito pouco na avaliação como um todo."
      ]
    },
    {
      "cell_type": "code",
      "execution_count": 48,
      "metadata": {
        "colab": {
          "base_uri": "https://localhost:8080/"
        },
        "id": "iJsqQ6USpSZh",
        "outputId": "34dfc69f-2dbc-4042-d97c-93e137524421"
      },
      "outputs": [
        {
          "name": "stdout",
          "output_type": "stream",
          "text": [
            "fatal: destination path 'dataset-customer-evaluations' already exists and is not an empty directory.\n"
          ]
        }
      ],
      "source": [
        "!git clone https://github.com/michelpf/dataset-customer-evaluations"
      ]
    },
    {
      "cell_type": "code",
      "execution_count": 49,
      "metadata": {
        "colab": {
          "base_uri": "https://localhost:8080/",
          "height": 310
        },
        "id": "5ldCpIdNpSZv",
        "outputId": "ea3a3d6e-a3d0-4f9b-96c7-aec2f87670e0"
      },
      "outputs": [
        {
          "data": {
            "application/vnd.microsoft.datawrangler.viewer.v0+json": {
              "columns": [
                {
                  "name": "index",
                  "rawType": "int64",
                  "type": "integer"
                },
                {
                  "name": "Search Query",
                  "rawType": "object",
                  "type": "string"
                },
                {
                  "name": "Product Title",
                  "rawType": "object",
                  "type": "string"
                },
                {
                  "name": "Link",
                  "rawType": "object",
                  "type": "string"
                },
                {
                  "name": "Review",
                  "rawType": "object",
                  "type": "string"
                }
              ],
              "conversionMethod": "pd.DataFrame",
              "ref": "e2a52524-3539-4c51-a21a-e47ddb86ed87",
              "rows": [
                [
                  "0",
                  "smartphone",
                  "Smartphone Xiaomi Note 12 4G 128GB 6GB Ram (VERSAO GLOBAL) (Ice Blue)",
                  "https://www.amazon.com.br/dp/B0BZ7RJDHD",
                  "Com a necessidade de comprar um celular custo benefício comecei pesquisando os modelos que mais vendem no mercado e me deparei com os líderes de sempre: Samsung, Motorola...Apple não é custo-benefício aqui no Brasil.Eu já tive smartphones dessas marcas supracitadas, mas nunca da Xiaomi.Por conseguinte, analisei vários vídeos e tinham varias opções (não cabem ser citadas agora) que entregavam uma boa qualidade de apenas algumas características, porém o conjunto completo deixava sempre a desejar.Partindo da premissa que eu saí de um celular no seguinte estado:-Marca: Samsung-Modelo: Gran prime-Ano de lançamento: 2015-Armazenamento: apenas 8gb de memória interna.Considerando também o valor do mercado atual dos Smartphones: CATASTRÓFICO.Associo que a escolha da marca condiz com o meu objetivo:- Precisava de uma boa tela ( essa tela é a melhor do mercado para esses celulares de entrada).- Tinha a necessidade de uma boa bateria ( essa faz jus à marca, sem contar com o carregamento ultra rápido que eles ainda oferecem).- Buscava uma boa câmera ( não tira as melhores fotos do mercado, mas nenhum dos celulares dessa categoria vem com as mesmas funções dos top de linha).- Visava um celular que não travasse ( esse tem 6gb de memória ram, roda até os jogos mais pesados da play story como: Call Of Duty, Genshin Impact, bem como já cheguei até a jogar um pouco de The Legend of Neverland, não roda com os gráficos no máximo sem leg, pois essa não é uma das propostas da faixa de preço desse aparelho, mas dá pra jogar todos os jogos tranquilamente em modo mais light).Portanto, a aquisição desse aparelho está suprindo minhas necessidades e veio melhor do que eu pensava.Já fiz até a aquisição de outro para uma amiga.Comprem sem medo e boa sorte com o produto."
                ],
                [
                  "1",
                  "smartphone",
                  "Smartphone Xiaomi Note 12 4G 128GB 6GB Ram (VERSAO GLOBAL) (Ice Blue)",
                  "https://www.amazon.com.br/dp/B0BZ7RJDHD",
                  "Minha experiência de 10 dias de uso com o Xiaomi Redmi Note 12 128GB / 6GB RAM:Chegou rápido em cerca de 3 dias úteis.-Prós:*Tela: Excelente, os 120Hz trazem uma experiência visual fluida e agradável para filmes e fotos.*Câmera: Ótima, os 50MP captam ótimas fotos em ambientes com boa iluminação natural.*Processador: Ótimo, O Snapdragon 865 é um bom processador para esta faixa de preço, oferece um ótimo desempenho para apps populares do dia a dia, sem travamentos.*Games: Muito Bom, dos jogos que testei tive uma ótima experiência de fluidez e poucos travamentos, destaque para o Call of Duty mobile que possui uma excelente otimização para este aparelho. Rodei nestas configs no app Game Booster:  -FreeFire  60FPS [Ultra]  -eFootball 2023  60 FPS [High]  -Call of Duty: Mobile 60 FPS [High]  -PUBG  37 FPS [Low ]  -FIFA Mobile  30 FPS [Medium]  -Runescape 3  30~50 FPS[Low]  -Genshin Impact  25~30FPS [Low]  -Fornite  15~30FPS[Low]É importante ressaltar que este é um Smartphone de entrada e não voltado para gamers, então eventuais quedas de frames e leves travamentos são esperados em alguns jogos. Apesar disso o desempenho foi satisfatório em todos os jogos menos no modo Battle Royale do Fornite onde a queda de frames foi alta pois o jogo ainda não é otimizado para esse celular, porém em outros modos com mapas menores ele se mantém em 25~30FPS.*Bateria: Excelente, dura o dia todo, destaque para o carregador ultra-rápido de 33W que permite uma carga completa em apenas 1 hora.-Contras:*Bloatwares chineses: ele vem com alguns apps chineses pré instalados (AliExpress,Shopee, TikTok...) . Esses aplicativos podem solicitar permissões de acesso e exibir propagandas. Porém, é possível remover ou desativar eles.*Embora a tela seja de 120Hz, nem todos os apps suportam essa taxa de atualização. Isso inclui o aplicativo do YouTube, que tem uma restrição máxima de 60FPS 1080p, não permitindo resoluções maiores como 2k e 4k.*Não grava videos a 60FPS e não grava em 4K. A resolução máxima de gravação dele é 1080p 30fps. No entanto, oferece o modo de câmera lenta (slow motion) que grava videos a 960FPS 720p.*Lente Macro de apenas 2 MP. Além de pecar em fotos noturnas.Resumindo é um excelente Smartphone pela sua faixa de preço, recomendo pela qualidade de acabamento do aparelho e fluidez de uso. Ele já vem com uma capa de silicone e uma película de proteção na caixa."
                ],
                [
                  "2",
                  "smartphone",
                  "Smartphone Xiaomi Note 12 4G 128GB 6GB Ram (VERSAO GLOBAL) (Ice Blue)",
                  "https://www.amazon.com.br/dp/B0BZ7RJDHD",
                  "Smartphone de qualidade como já esperava, boas configurações, muito bonito, imponente, vem com película de proteção sintética e capinha, bom porque ainda não tem nas lojas, me recomendaram colocar película de vidro. Ainda me adaptando, não gosto muito da agenda não inserir segundos como 8:57, 14:28 para japonês faz muita falta, propagandas, cheio de querer dar sugestões em tudo, sons, informar localização, cheio de atitudes kkk, aos poucos tenho aprendido a configurar. Contudo vale muito a pena em relação aos concorrentes. Melhor preço na Amazon e o esse vendedor que comprei, não tem boa reputação a toa, os caras são pontuais. Muito satisfeita."
                ],
                [
                  "3",
                  "smartphone",
                  "Smartphone Xiaomi Note 12 4G 128GB 6GB Ram (VERSAO GLOBAL) (Ice Blue)",
                  "https://www.amazon.com.br/dp/B0BZ7RJDHD",
                  "atendeu mto minhas expectativas. Antes  eu usava um Samsung a20. mudei pra esse e notei mta diferença. o celular roda liso em td. tanto nos app quanto nos jogos. so n espere mto da câmera. mas como eu n uso mto, pra mim ta ok. caso queira melhorar a qualidade das fotos, eh so usar a gcam, mas de resto, o celular eh todo bom."
                ],
                [
                  "4",
                  "smartphone",
                  "Smartphone Xiaomi Note 12 4G 128GB 6GB Ram (VERSAO GLOBAL) (Ice Blue)",
                  "https://www.amazon.com.br/dp/B0BZ7RJDHD",
                  "Gostei muito do celular, tem resposta rápida em todos sentidos, ótimo para jogar free fire por longas horas sem nessesidade de se preocupar com recarga de bateria. Tem design robusto, a entrega foi rápida e chegou uma semana antes do prazo, chegou com capinha e pelicula, nem precisou correr atras de lojinhas que nunca tem modelos novos. armazenamento gigante, ótimo aparelho."
                ]
              ],
              "shape": {
                "columns": 4,
                "rows": 5
              }
            },
            "text/html": [
              "<div>\n",
              "<style scoped>\n",
              "    .dataframe tbody tr th:only-of-type {\n",
              "        vertical-align: middle;\n",
              "    }\n",
              "\n",
              "    .dataframe tbody tr th {\n",
              "        vertical-align: top;\n",
              "    }\n",
              "\n",
              "    .dataframe thead th {\n",
              "        text-align: right;\n",
              "    }\n",
              "</style>\n",
              "<table border=\"1\" class=\"dataframe\">\n",
              "  <thead>\n",
              "    <tr style=\"text-align: right;\">\n",
              "      <th></th>\n",
              "      <th>Search Query</th>\n",
              "      <th>Product Title</th>\n",
              "      <th>Link</th>\n",
              "      <th>Review</th>\n",
              "    </tr>\n",
              "  </thead>\n",
              "  <tbody>\n",
              "    <tr>\n",
              "      <th>0</th>\n",
              "      <td>smartphone</td>\n",
              "      <td>Smartphone Xiaomi Note 12 4G 128GB 6GB Ram (VE...</td>\n",
              "      <td>https://www.amazon.com.br/dp/B0BZ7RJDHD</td>\n",
              "      <td>Com a necessidade de comprar um celular custo ...</td>\n",
              "    </tr>\n",
              "    <tr>\n",
              "      <th>1</th>\n",
              "      <td>smartphone</td>\n",
              "      <td>Smartphone Xiaomi Note 12 4G 128GB 6GB Ram (VE...</td>\n",
              "      <td>https://www.amazon.com.br/dp/B0BZ7RJDHD</td>\n",
              "      <td>Minha experiência de 10 dias de uso com o Xiao...</td>\n",
              "    </tr>\n",
              "    <tr>\n",
              "      <th>2</th>\n",
              "      <td>smartphone</td>\n",
              "      <td>Smartphone Xiaomi Note 12 4G 128GB 6GB Ram (VE...</td>\n",
              "      <td>https://www.amazon.com.br/dp/B0BZ7RJDHD</td>\n",
              "      <td>Smartphone de qualidade como já esperava, boas...</td>\n",
              "    </tr>\n",
              "    <tr>\n",
              "      <th>3</th>\n",
              "      <td>smartphone</td>\n",
              "      <td>Smartphone Xiaomi Note 12 4G 128GB 6GB Ram (VE...</td>\n",
              "      <td>https://www.amazon.com.br/dp/B0BZ7RJDHD</td>\n",
              "      <td>atendeu mto minhas expectativas. Antes  eu usa...</td>\n",
              "    </tr>\n",
              "    <tr>\n",
              "      <th>4</th>\n",
              "      <td>smartphone</td>\n",
              "      <td>Smartphone Xiaomi Note 12 4G 128GB 6GB Ram (VE...</td>\n",
              "      <td>https://www.amazon.com.br/dp/B0BZ7RJDHD</td>\n",
              "      <td>Gostei muito do celular, tem resposta rápida e...</td>\n",
              "    </tr>\n",
              "  </tbody>\n",
              "</table>\n",
              "</div>"
            ],
            "text/plain": [
              "  Search Query                                      Product Title  \\\n",
              "0   smartphone  Smartphone Xiaomi Note 12 4G 128GB 6GB Ram (VE...   \n",
              "1   smartphone  Smartphone Xiaomi Note 12 4G 128GB 6GB Ram (VE...   \n",
              "2   smartphone  Smartphone Xiaomi Note 12 4G 128GB 6GB Ram (VE...   \n",
              "3   smartphone  Smartphone Xiaomi Note 12 4G 128GB 6GB Ram (VE...   \n",
              "4   smartphone  Smartphone Xiaomi Note 12 4G 128GB 6GB Ram (VE...   \n",
              "\n",
              "                                      Link  \\\n",
              "0  https://www.amazon.com.br/dp/B0BZ7RJDHD   \n",
              "1  https://www.amazon.com.br/dp/B0BZ7RJDHD   \n",
              "2  https://www.amazon.com.br/dp/B0BZ7RJDHD   \n",
              "3  https://www.amazon.com.br/dp/B0BZ7RJDHD   \n",
              "4  https://www.amazon.com.br/dp/B0BZ7RJDHD   \n",
              "\n",
              "                                              Review  \n",
              "0  Com a necessidade de comprar um celular custo ...  \n",
              "1  Minha experiência de 10 dias de uso com o Xiao...  \n",
              "2  Smartphone de qualidade como já esperava, boas...  \n",
              "3  atendeu mto minhas expectativas. Antes  eu usa...  \n",
              "4  Gostei muito do celular, tem resposta rápida e...  "
            ]
          },
          "execution_count": 49,
          "metadata": {},
          "output_type": "execute_result"
        }
      ],
      "source": [
        "df = pd.read_csv(\"dataset-customer-evaluations/dataset/am_scrape_final.csv\")\n",
        "df.head()"
      ]
    },
    {
      "cell_type": "markdown",
      "metadata": {
        "id": "np9S3VPXpSZw"
      },
      "source": [
        "Note que as revisões podem ser extensas, mas não necessáriamente contém informações relevantes em todas as frases."
      ]
    },
    {
      "cell_type": "code",
      "execution_count": 50,
      "metadata": {
        "colab": {
          "base_uri": "https://localhost:8080/",
          "height": 174
        },
        "id": "3tHoRoj5pSZw",
        "outputId": "b94add0d-bf56-4507-8602-92421836282f"
      },
      "outputs": [
        {
          "data": {
            "text/plain": [
              "'Com a necessidade de comprar um celular custo benefício comecei pesquisando os modelos que mais vendem no mercado e me deparei com os líderes de sempre: Samsung, Motorola...Apple não é custo-benefício aqui no Brasil.Eu já tive smartphones dessas marcas supracitadas, mas nunca da Xiaomi.Por conseguinte, analisei vários vídeos e tinham varias opções (não cabem ser citadas agora) que entregavam uma boa qualidade de apenas algumas características, porém o conjunto completo deixava sempre a desejar.Partindo da premissa que eu saí de um celular no seguinte estado:-Marca: Samsung-Modelo: Gran prime-Ano de lançamento: 2015-Armazenamento: apenas 8gb de memória interna.Considerando também o valor do mercado atual dos Smartphones: CATASTRÓFICO.Associo que a escolha da marca condiz com o meu objetivo:- Precisava de uma boa tela ( essa tela é a melhor do mercado para esses celulares de entrada).- Tinha a necessidade de uma boa bateria ( essa faz jus à marca, sem contar com o carregamento ultra rápido que eles ainda oferecem).- Buscava uma boa câmera ( não tira as melhores fotos do mercado, mas nenhum dos celulares dessa categoria vem com as mesmas funções dos top de linha).- Visava um celular que não travasse ( esse tem 6gb de memória ram, roda até os jogos mais pesados da play story como: Call Of Duty, Genshin Impact, bem como já cheguei até a jogar um pouco de The Legend of Neverland, não roda com os gráficos no máximo sem leg, pois essa não é uma das propostas da faixa de preço desse aparelho, mas dá pra jogar todos os jogos tranquilamente em modo mais light).Portanto, a aquisição desse aparelho está suprindo minhas necessidades e veio melhor do que eu pensava.Já fiz até a aquisição de outro para uma amiga.Comprem sem medo e boa sorte com o produto.'"
            ]
          },
          "execution_count": 50,
          "metadata": {},
          "output_type": "execute_result"
        }
      ],
      "source": [
        "df.iloc[0][\"Review\"]"
      ]
    },
    {
      "cell_type": "code",
      "execution_count": 51,
      "metadata": {
        "id": "B5Jz78SVpSZw"
      },
      "outputs": [],
      "source": [
        "customer_messages = prompt_template.format_messages(\n",
        "                    style=style,\n",
        "                    customer_review=df.iloc[0][\"Review\"])\n",
        "\n",
        "customer_response = openai_chat.invoke(customer_messages)"
      ]
    },
    {
      "cell_type": "code",
      "execution_count": 52,
      "metadata": {
        "colab": {
          "base_uri": "https://localhost:8080/",
          "height": 53
        },
        "id": "Qf7BrSkGpSZw",
        "outputId": "43e8ba9e-3567-42a6-8ef7-c635b1a7bafa"
      },
      "outputs": [
        {
          "data": {
            "text/plain": [
              "'Quer um celular “custo-benefício”? Esquece Apple, só Samsung, Motorola e Xiaomi. Saí do trambolho de 8GB de 2015 pra um Xiaomi que não trava, tem tela decente, bateria que aguenta e até roda jogo pesado (no modo “não morra de raiva”). Surpresa: até comprei outro pra amiga. Boa sorte!'"
            ]
          },
          "execution_count": 52,
          "metadata": {},
          "output_type": "execute_result"
        }
      ],
      "source": [
        "customer_response.content"
      ]
    },
    {
      "cell_type": "code",
      "execution_count": 53,
      "metadata": {
        "colab": {
          "base_uri": "https://localhost:8080/",
          "height": 157
        },
        "id": "Fc-AW9TPpSZw",
        "outputId": "bb12c9ae-6d2b-4661-82fd-51c54d2a1889"
      },
      "outputs": [
        {
          "data": {
            "text/plain": [
              "'Gente, é barato e muito bom mesmo; pelo menos até o momento rs. Comprei com 6 g RAM e estou amando, o bicho tá parecendo um foguete de rápido kkkkk.  Estou usando há um mês e meio; o verde é lindo 😍, e uma das coisas que mais me chamou atenção até o momento, é a durabilidade da bateria. Castiguei ele com aplicativos que consomem muita energia e a bateria aguentou 20 horas numa boa, coloquei para carregar pq iria sair e não queria levar o carregador, mas dura muuuuuito, o meu anterior (Zenfone, que tbm é muito bom, a bateria não aguentava 10 horas ou menos). Para carregar, também é mega rápido. E como utilizo o celular na maior parte do tempo para trabalho, consigo visualizar diversos documentos na gigante tela dele rs. Enfim ... até o momento, só elogios para o aparelho, vale a pena comprar.Obs* apenas demora par reiniciar, se estiver com pressa, ferrou! Mas considero isso um inconveniente bobo rs.'"
            ]
          },
          "execution_count": 53,
          "metadata": {},
          "output_type": "execute_result"
        }
      ],
      "source": [
        "df.iloc[5][\"Review\"]"
      ]
    },
    {
      "cell_type": "markdown",
      "metadata": {
        "id": "AE2T9nFnpSZw"
      },
      "source": [
        "Passando no prompt para resumir e também remover eventuais expressões e agressões."
      ]
    },
    {
      "cell_type": "code",
      "execution_count": 54,
      "metadata": {
        "colab": {
          "base_uri": "https://localhost:8080/",
          "height": 53
        },
        "id": "Tu2jEKVXpSZx",
        "outputId": "5289936e-2549-48d2-d04f-7b6d9d528f3b"
      },
      "outputs": [
        {
          "data": {
            "text/plain": [
              "'Barato e rápido, esse celular é tipo foguete com 6GB de RAM. Bateria dura 20 horas, enquanto meu Zenfone morria em 10. Tela gigante pra fingir que trabalha. Só demora pra reiniciar, mas quem liga? Até agora, só amor e zero paciência pra defeito. Compra sem medo, ou ferra!'"
            ]
          },
          "execution_count": 54,
          "metadata": {},
          "output_type": "execute_result"
        }
      ],
      "source": [
        "customer_messages = prompt_template.format_messages(\n",
        "                    style=style,\n",
        "                    customer_review=df.iloc[5][\"Review\"])\n",
        "\n",
        "customer_response = openai_chat.invoke(customer_messages)\n",
        "customer_response.content"
      ]
    },
    {
      "cell_type": "markdown",
      "metadata": {},
      "source": [
        "# Desafio 1"
      ]
    },
    {
      "cell_type": "code",
      "execution_count": 63,
      "metadata": {},
      "outputs": [],
      "source": [
        "from langchain.output_parsers import ResponseSchema\n",
        "from langchain.output_parsers import StructuredOutputParser\n",
        "from langchain.chat_models import ChatOpenAI\n",
        "from langchain.prompts import ChatPromptTemplate"
      ]
    },
    {
      "cell_type": "code",
      "execution_count": 87,
      "metadata": {},
      "outputs": [],
      "source": [
        "df = pd.read_csv(\"dataset-customer-evaluations/dataset/am_scrape_final.csv\")"
      ]
    },
    {
      "cell_type": "code",
      "execution_count": 88,
      "metadata": {},
      "outputs": [
        {
          "data": {
            "application/vnd.microsoft.datawrangler.viewer.v0+json": {
              "columns": [
                {
                  "name": "index",
                  "rawType": "int64",
                  "type": "integer"
                },
                {
                  "name": "Search Query",
                  "rawType": "object",
                  "type": "string"
                },
                {
                  "name": "Product Title",
                  "rawType": "object",
                  "type": "string"
                },
                {
                  "name": "Link",
                  "rawType": "object",
                  "type": "string"
                },
                {
                  "name": "Review",
                  "rawType": "object",
                  "type": "string"
                }
              ],
              "conversionMethod": "pd.DataFrame",
              "ref": "93665f87-fe80-4c84-a8e3-05ea221bd1b6",
              "rows": [
                [
                  "9810",
                  "smartwatch",
                  "HAYLOU RT2 Smartwatch, 1,32\" tela sensível ao toque para homens, SpO2, IP68 relógio esportivo, relógio inteligente para Android iOS",
                  "https://www.amazon.com.br/dp/B09LV9ZQHX",
                  "A mídia não pôde ser carregada.\n                \n\n\n\n Muito o relógio, gostei muito da qualidade..."
                ],
                [
                  "9811",
                  "smartwatch",
                  "HAYLOU RT2 Smartwatch, 1,32\" tela sensível ao toque para homens, SpO2, IP68 relógio esportivo, relógio inteligente para Android iOS",
                  "https://www.amazon.com.br/dp/B09LV9ZQHX",
                  "Excelente!"
                ],
                [
                  "9812",
                  "smartwatch",
                  "HAYLOU RT2 Smartwatch, 1,32\" tela sensível ao toque para homens, SpO2, IP68 relógio esportivo, relógio inteligente para Android iOS",
                  "https://www.amazon.com.br/dp/B09LV9ZQHX",
                  "Bom produto, fácil de configurar e chegou antes do prazo."
                ],
                [
                  "9813",
                  "smartwatch",
                  "HAYLOU RT2 Smartwatch, 1,32\" tela sensível ao toque para homens, SpO2, IP68 relógio esportivo, relógio inteligente para Android iOS",
                  "https://www.amazon.com.br/dp/B09LV9ZQHX",
                  "No geral produto muito bom. Único detalhe é que o APP é um pouco complicado de manipular. Deveria ser mais amigável."
                ],
                [
                  "9814",
                  "smartwatch",
                  "HAYLOU RT2 Smartwatch, 1,32\" tela sensível ao toque para homens, SpO2, IP68 relógio esportivo, relógio inteligente para Android iOS",
                  "https://www.amazon.com.br/dp/B09LV9ZQHX",
                  "Produto muito bom"
                ]
              ],
              "shape": {
                "columns": 4,
                "rows": 5
              }
            },
            "text/html": [
              "<div>\n",
              "<style scoped>\n",
              "    .dataframe tbody tr th:only-of-type {\n",
              "        vertical-align: middle;\n",
              "    }\n",
              "\n",
              "    .dataframe tbody tr th {\n",
              "        vertical-align: top;\n",
              "    }\n",
              "\n",
              "    .dataframe thead th {\n",
              "        text-align: right;\n",
              "    }\n",
              "</style>\n",
              "<table border=\"1\" class=\"dataframe\">\n",
              "  <thead>\n",
              "    <tr style=\"text-align: right;\">\n",
              "      <th></th>\n",
              "      <th>Search Query</th>\n",
              "      <th>Product Title</th>\n",
              "      <th>Link</th>\n",
              "      <th>Review</th>\n",
              "    </tr>\n",
              "  </thead>\n",
              "  <tbody>\n",
              "    <tr>\n",
              "      <th>9810</th>\n",
              "      <td>smartwatch</td>\n",
              "      <td>HAYLOU RT2 Smartwatch, 1,32\" tela sensível ao ...</td>\n",
              "      <td>https://www.amazon.com.br/dp/B09LV9ZQHX</td>\n",
              "      <td>A mídia não pôde ser carregada.\\n             ...</td>\n",
              "    </tr>\n",
              "    <tr>\n",
              "      <th>9811</th>\n",
              "      <td>smartwatch</td>\n",
              "      <td>HAYLOU RT2 Smartwatch, 1,32\" tela sensível ao ...</td>\n",
              "      <td>https://www.amazon.com.br/dp/B09LV9ZQHX</td>\n",
              "      <td>Excelente!</td>\n",
              "    </tr>\n",
              "    <tr>\n",
              "      <th>9812</th>\n",
              "      <td>smartwatch</td>\n",
              "      <td>HAYLOU RT2 Smartwatch, 1,32\" tela sensível ao ...</td>\n",
              "      <td>https://www.amazon.com.br/dp/B09LV9ZQHX</td>\n",
              "      <td>Bom produto, fácil de configurar e chegou ante...</td>\n",
              "    </tr>\n",
              "    <tr>\n",
              "      <th>9813</th>\n",
              "      <td>smartwatch</td>\n",
              "      <td>HAYLOU RT2 Smartwatch, 1,32\" tela sensível ao ...</td>\n",
              "      <td>https://www.amazon.com.br/dp/B09LV9ZQHX</td>\n",
              "      <td>No geral produto muito bom. Único detalhe é qu...</td>\n",
              "    </tr>\n",
              "    <tr>\n",
              "      <th>9814</th>\n",
              "      <td>smartwatch</td>\n",
              "      <td>HAYLOU RT2 Smartwatch, 1,32\" tela sensível ao ...</td>\n",
              "      <td>https://www.amazon.com.br/dp/B09LV9ZQHX</td>\n",
              "      <td>Produto muito bom</td>\n",
              "    </tr>\n",
              "  </tbody>\n",
              "</table>\n",
              "</div>"
            ],
            "text/plain": [
              "     Search Query                                      Product Title  \\\n",
              "9810   smartwatch  HAYLOU RT2 Smartwatch, 1,32\" tela sensível ao ...   \n",
              "9811   smartwatch  HAYLOU RT2 Smartwatch, 1,32\" tela sensível ao ...   \n",
              "9812   smartwatch  HAYLOU RT2 Smartwatch, 1,32\" tela sensível ao ...   \n",
              "9813   smartwatch  HAYLOU RT2 Smartwatch, 1,32\" tela sensível ao ...   \n",
              "9814   smartwatch  HAYLOU RT2 Smartwatch, 1,32\" tela sensível ao ...   \n",
              "\n",
              "                                         Link  \\\n",
              "9810  https://www.amazon.com.br/dp/B09LV9ZQHX   \n",
              "9811  https://www.amazon.com.br/dp/B09LV9ZQHX   \n",
              "9812  https://www.amazon.com.br/dp/B09LV9ZQHX   \n",
              "9813  https://www.amazon.com.br/dp/B09LV9ZQHX   \n",
              "9814  https://www.amazon.com.br/dp/B09LV9ZQHX   \n",
              "\n",
              "                                                 Review  \n",
              "9810  A mídia não pôde ser carregada.\\n             ...  \n",
              "9811                                         Excelente!  \n",
              "9812  Bom produto, fácil de configurar e chegou ante...  \n",
              "9813  No geral produto muito bom. Único detalhe é qu...  \n",
              "9814                                  Produto muito bom  "
            ]
          },
          "execution_count": 88,
          "metadata": {},
          "output_type": "execute_result"
        }
      ],
      "source": [
        "df.tail()"
      ]
    },
    {
      "cell_type": "code",
      "execution_count": 79,
      "metadata": {},
      "outputs": [],
      "source": [
        "resumo_score_schema = ResponseSchema(name=\"resumo\",\n",
        "                                        description=\"crie um resumo da avaliação em até 120 caracteres, em tom calmo e direto.\")\n",
        "sentiment_score_schema = ResponseSchema(name=\"score\",\n",
        "                                        description=\"Pontue de -10 a +10 conforme análise sentimental de um dado texto.\")\n",
        "sentiment_schema = ResponseSchema(name=\"sentiment\",\n",
        "                                  description=\"Defina como positivo, neutro ou negativo para sintetizar a análise sentimental do referido texto.\")\n",
        "\n",
        "response_schemas = [resumo_score_schema, sentiment_score_schema, sentiment_schema]"
      ]
    },
    {
      "cell_type": "code",
      "execution_count": 80,
      "metadata": {},
      "outputs": [
        {
          "data": {
            "text/plain": [
              "'The output should be a markdown code snippet formatted in the following schema, including the leading and trailing \"```json\" and \"```\":\\n\\n```json\\n{\\n\\t\"resumo\": string  // crie um resumo da avaliação em até 120 caracteres, em tom calmo e direto.\\n\\t\"score\": string  // Pontue de -10 a +10 conforme análise sentimental de um dado texto.\\n\\t\"sentiment\": string  // Defina como positivo, neutro ou negativo para sintetizar a análise sentimental do referido texto.\\n}\\n```'"
            ]
          },
          "execution_count": 80,
          "metadata": {},
          "output_type": "execute_result"
        }
      ],
      "source": [
        "output_parser = StructuredOutputParser.from_response_schemas(response_schemas)\n",
        "format_instructions = output_parser.get_format_instructions()\n",
        "format_instructions"
      ]
    },
    {
      "cell_type": "code",
      "execution_count": 67,
      "metadata": {},
      "outputs": [
        {
          "name": "stdout",
          "output_type": "stream",
          "text": [
            "Entrega: Comprei no dia 28 de abril e chegou 2 de mais (só não chegou antes por conta do feriado), estou com ele a 2 dias e posso afirmar que é um telefone incrívelBateria: bateria dura literalmente o dia todo, ontem sai de casa 7:30 da manhã e só fui carregar umas 00:00, isso que joguei por umas 2 horas ( call os duty e wild Rift ) e também assisti por horas, pra quem não joga dura mais de 1 dia tranquiloTela: dele é maravilhosa pra quem quer assistir, MT linda, grande e com ótimo brilho e cores, sem contar taxa de atualização de 120hz q deixa super fluídoDesemprenho: fenomenal, para quem joga e tem medo de lags e travamento, fica tranquilo, já joguei ( pubg, call of duty, wild Rift e outros ) todos rodaram perfeitamente sem nenhum travamento, mas acredito que se jogar um game extremamente pesado e com TD no máximo deve dar alguma travada, mas pra jogos básicos roda brincandoResumo: super compensa, já tive iPhone e outro xiomi ( poco x3 pro ) e msm tendo esses excelentes telefones, afirmo que esse me atende igualmente a esses outros\n"
          ]
        }
      ],
      "source": [
        "user_review = df.iloc[6][\"Review\"]\n",
        "print(user_review)"
      ]
    },
    {
      "cell_type": "code",
      "execution_count": 81,
      "metadata": {},
      "outputs": [
        {
          "name": "stdout",
          "output_type": "stream",
          "text": [
            "[HumanMessage(content='Para uma revisão de clientes sobre um produto, extraia as seguintes informações:\\n\\nscore: Pontue de -10 a +10 conforme análise sentimental de um dado texto\\n\\nsentiment: Defina como positivo, neutro ou negativo para sintetizar a\\nanálise sentimental do referido texto\\n\\nTexto da revisão do produto: Entrega: Comprei no dia 28 de abril e chegou 2 de mais (só não chegou antes por conta do feriado), estou com ele a 2 dias e posso afirmar que é um telefone incrívelBateria: bateria dura literalmente o dia todo, ontem sai de casa 7:30 da manhã e só fui carregar umas 00:00, isso que joguei por umas 2 horas ( call os duty e wild Rift ) e também assisti por horas, pra quem não joga dura mais de 1 dia tranquiloTela: dele é maravilhosa pra quem quer assistir, MT linda, grande e com ótimo brilho e cores, sem contar taxa de atualização de 120hz q deixa super fluídoDesemprenho: fenomenal, para quem joga e tem medo de lags e travamento, fica tranquilo, já joguei ( pubg, call of duty, wild Rift e outros ) todos rodaram perfeitamente sem nenhum travamento, mas acredito que se jogar um game extremamente pesado e com TD no máximo deve dar alguma travada, mas pra jogos básicos roda brincandoResumo: super compensa, já tive iPhone e outro xiomi ( poco x3 pro ) e msm tendo esses excelentes telefones, afirmo que esse me atende igualmente a esses outros\\n\\nThe output should be a markdown code snippet formatted in the following schema, including the leading and trailing \"```json\" and \"```\":\\n\\n```json\\n{\\n\\t\"resumo\": string  // crie um resumo da avaliação em até 120 caracteres, em tom calmo e direto.\\n\\t\"score\": string  // Pontue de -10 a +10 conforme análise sentimental de um dado texto.\\n\\t\"sentiment\": string  // Defina como positivo, neutro ou negativo para sintetizar a análise sentimental do referido texto.\\n}\\n```\\n', additional_kwargs={}, response_metadata={})]\n"
          ]
        }
      ],
      "source": [
        "review_template_sentiment = \"\"\"\\\n",
        "Para uma revisão de clientes sobre um produto, extraia as seguintes informações:\n",
        "\n",
        "score: Pontue de -10 a +10 conforme análise sentimental de um dado texto\n",
        "\n",
        "sentiment: Defina como positivo, neutro ou negativo para sintetizar a\n",
        "análise sentimental do referido texto\n",
        "\n",
        "Texto da revisão do produto: {user_review}\n",
        "\n",
        "{format_instructions}\n",
        "\"\"\"\n",
        "\n",
        "prompt = ChatPromptTemplate.from_template(template=review_template_sentiment)\n",
        "\n",
        "customer_response_review = prompt.format_messages(user_review=user_review, format_instructions=format_instructions)\n",
        "\n",
        "print(customer_response_review)"
      ]
    },
    {
      "cell_type": "code",
      "execution_count": 82,
      "metadata": {},
      "outputs": [
        {
          "data": {
            "text/plain": [
              "AIMessage(content='```json\\n{\\n\\t\"resumo\": \"Telefone com ótima bateria, tela e desempenho, entrega dentro do esperado e excelente custo-benefício.\",\\n\\t\"score\": \"9\",\\n\\t\"sentiment\": \"positivo\"\\n}\\n```', additional_kwargs={'refusal': None}, response_metadata={'token_usage': {'completion_tokens': 46, 'prompt_tokens': 441, 'total_tokens': 487, 'completion_tokens_details': {'accepted_prediction_tokens': 0, 'audio_tokens': 0, 'reasoning_tokens': 0, 'rejected_prediction_tokens': 0}, 'prompt_tokens_details': {'audio_tokens': 0, 'cached_tokens': 0}}, 'model_name': 'gpt-4.1-mini-2025-04-14', 'system_fingerprint': 'fp_79b79be41f', 'id': 'chatcmpl-BZ4RZKM4l9H8RTbBftbNwgPjXje0n', 'service_tier': 'default', 'finish_reason': 'stop', 'logprobs': None}, id='run--5b7fb124-aa3e-4376-ac51-423bc08fc8be-0', usage_metadata={'input_tokens': 441, 'output_tokens': 46, 'total_tokens': 487, 'input_token_details': {'audio': 0, 'cache_read': 0}, 'output_token_details': {'audio': 0, 'reasoning': 0}})"
            ]
          },
          "execution_count": 82,
          "metadata": {},
          "output_type": "execute_result"
        }
      ],
      "source": [
        "response = openai_chat.invoke(customer_response_review)\n",
        "response"
      ]
    },
    {
      "cell_type": "code",
      "execution_count": 83,
      "metadata": {},
      "outputs": [
        {
          "data": {
            "text/plain": [
              "{'resumo': 'Telefone com ótima bateria, tela e desempenho, entrega dentro do esperado e excelente custo-benefício.',\n",
              " 'score': '9',\n",
              " 'sentiment': 'positivo'}"
            ]
          },
          "execution_count": 83,
          "metadata": {},
          "output_type": "execute_result"
        }
      ],
      "source": [
        "result_dict = output_parser.parse(response.content)\n",
        "result_dict"
      ]
    },
    {
      "cell_type": "code",
      "execution_count": 89,
      "metadata": {},
      "outputs": [],
      "source": [
        "df = df.tail(20)"
      ]
    },
    {
      "cell_type": "code",
      "execution_count": 90,
      "metadata": {},
      "outputs": [
        {
          "name": "stderr",
          "output_type": "stream",
          "text": [
            "100%|██████████| 20/20 [00:28<00:00,  1.42s/it]\n"
          ]
        }
      ],
      "source": [
        "from tqdm import tqdm  # opcional, apenas para visualizar progresso\n",
        "tqdm.pandas()\n",
        "\n",
        "def analisar_review(review):\n",
        "    try:\n",
        "        # Formatar o prompt com a review do usuário\n",
        "        prompt_formatado = ChatPromptTemplate.from_template(template=review_template_sentiment)\n",
        "        customer_response = prompt_formatado.format_messages(\n",
        "            user_review=review, format_instructions=format_instructions\n",
        "        )\n",
        "\n",
        "        # Chamar o modelo da OpenAI\n",
        "        response = openai_chat.invoke(customer_response)\n",
        "\n",
        "        # Parsear a resposta\n",
        "        resultado = output_parser.parse(response.content)\n",
        "\n",
        "        # Retornar como tupla\n",
        "        return resultado['resumo'], resultado['score'], resultado['sentiment']\n",
        "    \n",
        "    except Exception as e:\n",
        "        print(f\"Erro ao processar review: {e}\")\n",
        "        return None, None  # ou valores default, como 0, 'neutro'\n",
        "\n",
        "# Aplicar ao DataFrame\n",
        "df[['resumo', 'score', 'sentimento']] = df['Review'].progress_apply(lambda r: pd.Series(analisar_review(r)))\n"
      ]
    },
    {
      "cell_type": "code",
      "execution_count": 92,
      "metadata": {},
      "outputs": [
        {
          "data": {
            "application/vnd.microsoft.datawrangler.viewer.v0+json": {
              "columns": [
                {
                  "name": "index",
                  "rawType": "int64",
                  "type": "integer"
                },
                {
                  "name": "Search Query",
                  "rawType": "object",
                  "type": "string"
                },
                {
                  "name": "Product Title",
                  "rawType": "object",
                  "type": "string"
                },
                {
                  "name": "Link",
                  "rawType": "object",
                  "type": "string"
                },
                {
                  "name": "Review",
                  "rawType": "object",
                  "type": "string"
                },
                {
                  "name": "resumo",
                  "rawType": "object",
                  "type": "string"
                },
                {
                  "name": "score",
                  "rawType": "object",
                  "type": "string"
                },
                {
                  "name": "sentimento",
                  "rawType": "object",
                  "type": "string"
                }
              ],
              "conversionMethod": "pd.DataFrame",
              "ref": "8b899609-311a-4075-8590-91fbf6a2af66",
              "rows": [
                [
                  "9795",
                  "smartwatch",
                  "mibro Relógio Inteligente Lite 2, monitor de fitness HD DE 1.3\" Tela sensível ao toque Smartwatch 2ATM à prova d'água Vigilância Física para Mulheres Homens com 60 modalidades esportivas Batimento cardíaco Sono com oxigênio Monitor para o iPhone Android",
                  "https://www.amazon.com.br/dp/B0BV62WBK8",
                  "muito bom produto, recomendo!",
                  "Avaliação positiva destacando a qualidade do produto e recomendação.",
                  "8",
                  "positivo"
                ],
                [
                  "9796",
                  "smartwatch",
                  "mibro Relógio Inteligente Lite 2, monitor de fitness HD DE 1.3\" Tela sensível ao toque Smartwatch 2ATM à prova d'água Vigilância Física para Mulheres Homens com 60 modalidades esportivas Batimento cardíaco Sono com oxigênio Monitor para o iPhone Android",
                  "https://www.amazon.com.br/dp/B0BV62WBK8",
                  "Relógio versátil entre os estilos esportivo e casual. Excelente custo x benefício, uma vez que monitora diversas funções como oxigênio no sangue, frequência cardíaca e um número bem elevado de atividades físicas. Para mulheres, consegue acompanhar/mapear o ciclo menstrual. Até o momento só tenho uma crítica: por mais que diga que o idioma é em português, o relógio não mostra todas as informações em português não, mesclando muito com o inglês.",
                  "Relógio versátil e funcional, com bom custo-benefício, mas idioma parcialmente em inglês.",
                  "7",
                  "positivo"
                ],
                [
                  "9797",
                  "smartwatch",
                  "mibro Relógio Inteligente Lite 2, monitor de fitness HD DE 1.3\" Tela sensível ao toque Smartwatch 2ATM à prova d'água Vigilância Física para Mulheres Homens com 60 modalidades esportivas Batimento cardíaco Sono com oxigênio Monitor para o iPhone Android",
                  "https://www.amazon.com.br/dp/B0BV62WBK8",
                  "O relógio é bom. Funciona direitinho, mas é pequeno e frágil. A pulseira de borracha é fina e delicada.",
                  "Relógio funciona bem, mas é pequeno, frágil e com pulseira delicada.",
                  "2",
                  "neutro"
                ],
                [
                  "9798",
                  "smartwatch",
                  "mibro Relógio Inteligente Lite 2, monitor de fitness HD DE 1.3\" Tela sensível ao toque Smartwatch 2ATM à prova d'água Vigilância Física para Mulheres Homens com 60 modalidades esportivas Batimento cardíaco Sono com oxigênio Monitor para o iPhone Android",
                  "https://www.amazon.com.br/dp/B0BV62WBK8",
                  "Muito bom",
                  "Avaliação positiva e direta, indicando satisfação com o produto.",
                  "8",
                  "positivo"
                ],
                [
                  "9799",
                  "smartwatch",
                  "mibro Relógio Inteligente Lite 2, monitor de fitness HD DE 1.3\" Tela sensível ao toque Smartwatch 2ATM à prova d'água Vigilância Física para Mulheres Homens com 60 modalidades esportivas Batimento cardíaco Sono com oxigênio Monitor para o iPhone Android",
                  "https://www.amazon.com.br/dp/B0BV62WBK8",
                  "Ja havia a primeira geração desse produto e ja era muito bom, essa nova geração esta realmente muito bom. Compre sem medo porque vale a pena",
                  "Produto melhorou em relação à geração anterior, recomendação segura e satisfatória.",
                  "8",
                  "positivo"
                ],
                [
                  "9800",
                  "smartwatch",
                  "mibro Relógio Inteligente Lite 2, monitor de fitness HD DE 1.3\" Tela sensível ao toque Smartwatch 2ATM à prova d'água Vigilância Física para Mulheres Homens com 60 modalidades esportivas Batimento cardíaco Sono com oxigênio Monitor para o iPhone Android",
                  "https://www.amazon.com.br/dp/B0BV62WBK8",
                  "Muito lindo e eficiente como relógio, cardíaco e com umas funções novas. Mas a parte do monitoramento de sono não é muito boa, principalmente graficamente - não monitora o sono REM. Mas acho que vão melhorar isso.",
                  "Produto eficiente e bonito, com boas funções, mas monitoramento de sono precisa melhorar.",
                  "4",
                  "neutro"
                ],
                [
                  "9801",
                  "smartwatch",
                  "mibro Relógio Inteligente Lite 2, monitor de fitness HD DE 1.3\" Tela sensível ao toque Smartwatch 2ATM à prova d'água Vigilância Física para Mulheres Homens com 60 modalidades esportivas Batimento cardíaco Sono com oxigênio Monitor para o iPhone Android",
                  "https://www.amazon.com.br/dp/B0BV62WBK8",
                  "Excelente produto ideal para ser utilizado no dia a dia, é de ótima qualidade, pulseira super confortável no braço.",
                  "Produto de ótima qualidade, confortável e ideal para uso diário.",
                  "9",
                  "positivo"
                ],
                [
                  "9802",
                  "smartwatch",
                  "mibro Relógio Inteligente Lite 2, monitor de fitness HD DE 1.3\" Tela sensível ao toque Smartwatch 2ATM à prova d'água Vigilância Física para Mulheres Homens com 60 modalidades esportivas Batimento cardíaco Sono com oxigênio Monitor para o iPhone Android",
                  "https://www.amazon.com.br/dp/B0BV62WBK8",
                  "Muito bonito",
                  "O cliente elogia a aparência do produto de forma simples e positiva.",
                  "7",
                  "positivo"
                ],
                [
                  "9803",
                  "smartwatch",
                  "mibro Relógio Inteligente Lite 2, monitor de fitness HD DE 1.3\" Tela sensível ao toque Smartwatch 2ATM à prova d'água Vigilância Física para Mulheres Homens com 60 modalidades esportivas Batimento cardíaco Sono com oxigênio Monitor para o iPhone Android",
                  "https://www.amazon.com.br/dp/B0BV62WBK8",
                  "Chegou antes do prazo, não fui taxado, veio muito bem embalado e funcionando normalmente, muitas funções boas, curti demais e compraria novamente.",
                  "Produto entregue antes do prazo, bem embalado, funcionando e com várias funções úteis.",
                  "9",
                  "positivo"
                ],
                [
                  "9804",
                  "smartwatch",
                  "mibro Relógio Inteligente Lite 2, monitor de fitness HD DE 1.3\" Tela sensível ao toque Smartwatch 2ATM à prova d'água Vigilância Física para Mulheres Homens com 60 modalidades esportivas Batimento cardíaco Sono com oxigênio Monitor para o iPhone Android",
                  "https://www.amazon.com.br/dp/B0BV62WBK8",
                  "Bonito e prático , ótimo acabamento , mas o app no IOS deixa a desejar pois muitas funcionalidades que funcionam no Android não aparecem no IOS",
                  "Produto bonito e prático com bom acabamento, mas app no iOS tem funcionalidades limitadas.",
                  "3",
                  "neutro"
                ],
                [
                  "9805",
                  "smartwatch",
                  "HAYLOU RT2 Smartwatch, 1,32\" tela sensível ao toque para homens, SpO2, IP68 relógio esportivo, relógio inteligente para Android iOS",
                  "https://www.amazon.com.br/dp/B09LV9ZQHX",
                  "Esse foi um para outra pessoa mas ela disse que recomenda bastante, atende tudo que vem descriminado é um ótimo smartwatch",
                  "Produto recomendado, atende bem às expectativas e é considerado um ótimo smartwatch.",
                  "8",
                  "positivo"
                ],
                [
                  "9806",
                  "smartwatch",
                  "HAYLOU RT2 Smartwatch, 1,32\" tela sensível ao toque para homens, SpO2, IP68 relógio esportivo, relógio inteligente para Android iOS",
                  "https://www.amazon.com.br/dp/B09LV9ZQHX",
                  "A bateria dura uma eternidade e além de confortável e muito lindo.",
                  "Produto com bateria de longa duração, confortável e visual agradável.",
                  "9",
                  "positivo"
                ],
                [
                  "9807",
                  "smartwatch",
                  "HAYLOU RT2 Smartwatch, 1,32\" tela sensível ao toque para homens, SpO2, IP68 relógio esportivo, relógio inteligente para Android iOS",
                  "https://www.amazon.com.br/dp/B09LV9ZQHX",
                  "Apesar de não possuir medidor de pressão arterial, é um bom produto. Mede batimentos e oxigênio o sangue. Bateria dura, em média, 4 dias.",
                  "Produto eficiente para medir batimentos e oxigênio, com boa duração de bateria, apesar da falta do medidor de pressão.",
                  "6",
                  "positivo"
                ],
                [
                  "9808",
                  "smartwatch",
                  "HAYLOU RT2 Smartwatch, 1,32\" tela sensível ao toque para homens, SpO2, IP68 relógio esportivo, relógio inteligente para Android iOS",
                  "https://www.amazon.com.br/dp/B09LV9ZQHX",
                  "Gostei muito, chegou dentro do prazo e contem materiais muito bons, a unica coisa que nao me agradou tanto foi o fato da pulseira grudar um pouco na pela e ficar ruim de colocar a \"cinta\" na sobra da pulseira, mas tirando isso muito bom, muitos dizem que o app de terceiros e melhor mais achei o menos patamar ambos muito bons, o app original so poderia ter mais opçoes de estilo do relogio (quando voce cria seu propio mostrador), enfim relogio muito bom qualidade absurdamente boa.",
                  "Produto de boa qualidade, chegou no prazo, com pequenos incômodos na pulseira e app.",
                  "7",
                  "positivo"
                ],
                [
                  "9809",
                  "smartwatch",
                  "HAYLOU RT2 Smartwatch, 1,32\" tela sensível ao toque para homens, SpO2, IP68 relógio esportivo, relógio inteligente para Android iOS",
                  "https://www.amazon.com.br/dp/B09LV9ZQHX",
                  "Produto muito bonito, bateria não tem uma duração muito longa.",
                  "Produto bonito, mas a bateria tem duração limitada.",
                  "2",
                  "neutro"
                ],
                [
                  "9810",
                  "smartwatch",
                  "HAYLOU RT2 Smartwatch, 1,32\" tela sensível ao toque para homens, SpO2, IP68 relógio esportivo, relógio inteligente para Android iOS",
                  "https://www.amazon.com.br/dp/B09LV9ZQHX",
                  "A mídia não pôde ser carregada.\n                \n\n\n\n Muito o relógio, gostei muito da qualidade...",
                  "Cliente gostou muito da qualidade do relógio, apesar de problema com a mídia.",
                  "7",
                  "positivo"
                ],
                [
                  "9811",
                  "smartwatch",
                  "HAYLOU RT2 Smartwatch, 1,32\" tela sensível ao toque para homens, SpO2, IP68 relógio esportivo, relógio inteligente para Android iOS",
                  "https://www.amazon.com.br/dp/B09LV9ZQHX",
                  "Excelente!",
                  "Avaliação muito positiva destacando a excelência do produto.",
                  "9",
                  "positivo"
                ],
                [
                  "9812",
                  "smartwatch",
                  "HAYLOU RT2 Smartwatch, 1,32\" tela sensível ao toque para homens, SpO2, IP68 relógio esportivo, relógio inteligente para Android iOS",
                  "https://www.amazon.com.br/dp/B09LV9ZQHX",
                  "Bom produto, fácil de configurar e chegou antes do prazo.",
                  "Produto de boa qualidade, fácil de configurar e entregue antes do prazo.",
                  "8",
                  "positivo"
                ],
                [
                  "9813",
                  "smartwatch",
                  "HAYLOU RT2 Smartwatch, 1,32\" tela sensível ao toque para homens, SpO2, IP68 relógio esportivo, relógio inteligente para Android iOS",
                  "https://www.amazon.com.br/dp/B09LV9ZQHX",
                  "No geral produto muito bom. Único detalhe é que o APP é um pouco complicado de manipular. Deveria ser mais amigável.",
                  "Produto é muito bom, mas o aplicativo poderia ser mais fácil de usar.",
                  "5",
                  "positivo"
                ],
                [
                  "9814",
                  "smartwatch",
                  "HAYLOU RT2 Smartwatch, 1,32\" tela sensível ao toque para homens, SpO2, IP68 relógio esportivo, relógio inteligente para Android iOS",
                  "https://www.amazon.com.br/dp/B09LV9ZQHX",
                  "Produto muito bom",
                  "O produto é avaliado como muito bom, demonstrando satisfação do cliente.",
                  "8",
                  "positivo"
                ]
              ],
              "shape": {
                "columns": 7,
                "rows": 20
              }
            },
            "text/html": [
              "<div>\n",
              "<style scoped>\n",
              "    .dataframe tbody tr th:only-of-type {\n",
              "        vertical-align: middle;\n",
              "    }\n",
              "\n",
              "    .dataframe tbody tr th {\n",
              "        vertical-align: top;\n",
              "    }\n",
              "\n",
              "    .dataframe thead th {\n",
              "        text-align: right;\n",
              "    }\n",
              "</style>\n",
              "<table border=\"1\" class=\"dataframe\">\n",
              "  <thead>\n",
              "    <tr style=\"text-align: right;\">\n",
              "      <th></th>\n",
              "      <th>Search Query</th>\n",
              "      <th>Product Title</th>\n",
              "      <th>Link</th>\n",
              "      <th>Review</th>\n",
              "      <th>resumo</th>\n",
              "      <th>score</th>\n",
              "      <th>sentimento</th>\n",
              "    </tr>\n",
              "  </thead>\n",
              "  <tbody>\n",
              "    <tr>\n",
              "      <th>9795</th>\n",
              "      <td>smartwatch</td>\n",
              "      <td>mibro Relógio Inteligente Lite 2, monitor de f...</td>\n",
              "      <td>https://www.amazon.com.br/dp/B0BV62WBK8</td>\n",
              "      <td>muito bom produto, recomendo!</td>\n",
              "      <td>Avaliação positiva destacando a qualidade do p...</td>\n",
              "      <td>8</td>\n",
              "      <td>positivo</td>\n",
              "    </tr>\n",
              "    <tr>\n",
              "      <th>9796</th>\n",
              "      <td>smartwatch</td>\n",
              "      <td>mibro Relógio Inteligente Lite 2, monitor de f...</td>\n",
              "      <td>https://www.amazon.com.br/dp/B0BV62WBK8</td>\n",
              "      <td>Relógio versátil entre os estilos esportivo e ...</td>\n",
              "      <td>Relógio versátil e funcional, com bom custo-be...</td>\n",
              "      <td>7</td>\n",
              "      <td>positivo</td>\n",
              "    </tr>\n",
              "    <tr>\n",
              "      <th>9797</th>\n",
              "      <td>smartwatch</td>\n",
              "      <td>mibro Relógio Inteligente Lite 2, monitor de f...</td>\n",
              "      <td>https://www.amazon.com.br/dp/B0BV62WBK8</td>\n",
              "      <td>O relógio é bom. Funciona direitinho, mas é pe...</td>\n",
              "      <td>Relógio funciona bem, mas é pequeno, frágil e ...</td>\n",
              "      <td>2</td>\n",
              "      <td>neutro</td>\n",
              "    </tr>\n",
              "    <tr>\n",
              "      <th>9798</th>\n",
              "      <td>smartwatch</td>\n",
              "      <td>mibro Relógio Inteligente Lite 2, monitor de f...</td>\n",
              "      <td>https://www.amazon.com.br/dp/B0BV62WBK8</td>\n",
              "      <td>Muito bom</td>\n",
              "      <td>Avaliação positiva e direta, indicando satisfa...</td>\n",
              "      <td>8</td>\n",
              "      <td>positivo</td>\n",
              "    </tr>\n",
              "    <tr>\n",
              "      <th>9799</th>\n",
              "      <td>smartwatch</td>\n",
              "      <td>mibro Relógio Inteligente Lite 2, monitor de f...</td>\n",
              "      <td>https://www.amazon.com.br/dp/B0BV62WBK8</td>\n",
              "      <td>Ja havia a primeira geração desse produto e ja...</td>\n",
              "      <td>Produto melhorou em relação à geração anterior...</td>\n",
              "      <td>8</td>\n",
              "      <td>positivo</td>\n",
              "    </tr>\n",
              "    <tr>\n",
              "      <th>9800</th>\n",
              "      <td>smartwatch</td>\n",
              "      <td>mibro Relógio Inteligente Lite 2, monitor de f...</td>\n",
              "      <td>https://www.amazon.com.br/dp/B0BV62WBK8</td>\n",
              "      <td>Muito lindo e eficiente como relógio, cardíaco...</td>\n",
              "      <td>Produto eficiente e bonito, com boas funções, ...</td>\n",
              "      <td>4</td>\n",
              "      <td>neutro</td>\n",
              "    </tr>\n",
              "    <tr>\n",
              "      <th>9801</th>\n",
              "      <td>smartwatch</td>\n",
              "      <td>mibro Relógio Inteligente Lite 2, monitor de f...</td>\n",
              "      <td>https://www.amazon.com.br/dp/B0BV62WBK8</td>\n",
              "      <td>Excelente produto ideal para ser utilizado no ...</td>\n",
              "      <td>Produto de ótima qualidade, confortável e idea...</td>\n",
              "      <td>9</td>\n",
              "      <td>positivo</td>\n",
              "    </tr>\n",
              "    <tr>\n",
              "      <th>9802</th>\n",
              "      <td>smartwatch</td>\n",
              "      <td>mibro Relógio Inteligente Lite 2, monitor de f...</td>\n",
              "      <td>https://www.amazon.com.br/dp/B0BV62WBK8</td>\n",
              "      <td>Muito bonito</td>\n",
              "      <td>O cliente elogia a aparência do produto de for...</td>\n",
              "      <td>7</td>\n",
              "      <td>positivo</td>\n",
              "    </tr>\n",
              "    <tr>\n",
              "      <th>9803</th>\n",
              "      <td>smartwatch</td>\n",
              "      <td>mibro Relógio Inteligente Lite 2, monitor de f...</td>\n",
              "      <td>https://www.amazon.com.br/dp/B0BV62WBK8</td>\n",
              "      <td>Chegou antes do prazo, não fui taxado, veio mu...</td>\n",
              "      <td>Produto entregue antes do prazo, bem embalado,...</td>\n",
              "      <td>9</td>\n",
              "      <td>positivo</td>\n",
              "    </tr>\n",
              "    <tr>\n",
              "      <th>9804</th>\n",
              "      <td>smartwatch</td>\n",
              "      <td>mibro Relógio Inteligente Lite 2, monitor de f...</td>\n",
              "      <td>https://www.amazon.com.br/dp/B0BV62WBK8</td>\n",
              "      <td>Bonito e prático , ótimo acabamento , mas o ap...</td>\n",
              "      <td>Produto bonito e prático com bom acabamento, m...</td>\n",
              "      <td>3</td>\n",
              "      <td>neutro</td>\n",
              "    </tr>\n",
              "    <tr>\n",
              "      <th>9805</th>\n",
              "      <td>smartwatch</td>\n",
              "      <td>HAYLOU RT2 Smartwatch, 1,32\" tela sensível ao ...</td>\n",
              "      <td>https://www.amazon.com.br/dp/B09LV9ZQHX</td>\n",
              "      <td>Esse foi um para outra pessoa mas ela disse qu...</td>\n",
              "      <td>Produto recomendado, atende bem às expectativa...</td>\n",
              "      <td>8</td>\n",
              "      <td>positivo</td>\n",
              "    </tr>\n",
              "    <tr>\n",
              "      <th>9806</th>\n",
              "      <td>smartwatch</td>\n",
              "      <td>HAYLOU RT2 Smartwatch, 1,32\" tela sensível ao ...</td>\n",
              "      <td>https://www.amazon.com.br/dp/B09LV9ZQHX</td>\n",
              "      <td>A bateria dura uma eternidade e além de confor...</td>\n",
              "      <td>Produto com bateria de longa duração, confortá...</td>\n",
              "      <td>9</td>\n",
              "      <td>positivo</td>\n",
              "    </tr>\n",
              "    <tr>\n",
              "      <th>9807</th>\n",
              "      <td>smartwatch</td>\n",
              "      <td>HAYLOU RT2 Smartwatch, 1,32\" tela sensível ao ...</td>\n",
              "      <td>https://www.amazon.com.br/dp/B09LV9ZQHX</td>\n",
              "      <td>Apesar de não possuir medidor de pressão arter...</td>\n",
              "      <td>Produto eficiente para medir batimentos e oxig...</td>\n",
              "      <td>6</td>\n",
              "      <td>positivo</td>\n",
              "    </tr>\n",
              "    <tr>\n",
              "      <th>9808</th>\n",
              "      <td>smartwatch</td>\n",
              "      <td>HAYLOU RT2 Smartwatch, 1,32\" tela sensível ao ...</td>\n",
              "      <td>https://www.amazon.com.br/dp/B09LV9ZQHX</td>\n",
              "      <td>Gostei muito, chegou dentro do prazo e contem ...</td>\n",
              "      <td>Produto de boa qualidade, chegou no prazo, com...</td>\n",
              "      <td>7</td>\n",
              "      <td>positivo</td>\n",
              "    </tr>\n",
              "    <tr>\n",
              "      <th>9809</th>\n",
              "      <td>smartwatch</td>\n",
              "      <td>HAYLOU RT2 Smartwatch, 1,32\" tela sensível ao ...</td>\n",
              "      <td>https://www.amazon.com.br/dp/B09LV9ZQHX</td>\n",
              "      <td>Produto muito bonito, bateria não tem uma dura...</td>\n",
              "      <td>Produto bonito, mas a bateria tem duração limi...</td>\n",
              "      <td>2</td>\n",
              "      <td>neutro</td>\n",
              "    </tr>\n",
              "    <tr>\n",
              "      <th>9810</th>\n",
              "      <td>smartwatch</td>\n",
              "      <td>HAYLOU RT2 Smartwatch, 1,32\" tela sensível ao ...</td>\n",
              "      <td>https://www.amazon.com.br/dp/B09LV9ZQHX</td>\n",
              "      <td>A mídia não pôde ser carregada.\\n             ...</td>\n",
              "      <td>Cliente gostou muito da qualidade do relógio, ...</td>\n",
              "      <td>7</td>\n",
              "      <td>positivo</td>\n",
              "    </tr>\n",
              "    <tr>\n",
              "      <th>9811</th>\n",
              "      <td>smartwatch</td>\n",
              "      <td>HAYLOU RT2 Smartwatch, 1,32\" tela sensível ao ...</td>\n",
              "      <td>https://www.amazon.com.br/dp/B09LV9ZQHX</td>\n",
              "      <td>Excelente!</td>\n",
              "      <td>Avaliação muito positiva destacando a excelênc...</td>\n",
              "      <td>9</td>\n",
              "      <td>positivo</td>\n",
              "    </tr>\n",
              "    <tr>\n",
              "      <th>9812</th>\n",
              "      <td>smartwatch</td>\n",
              "      <td>HAYLOU RT2 Smartwatch, 1,32\" tela sensível ao ...</td>\n",
              "      <td>https://www.amazon.com.br/dp/B09LV9ZQHX</td>\n",
              "      <td>Bom produto, fácil de configurar e chegou ante...</td>\n",
              "      <td>Produto de boa qualidade, fácil de configurar ...</td>\n",
              "      <td>8</td>\n",
              "      <td>positivo</td>\n",
              "    </tr>\n",
              "    <tr>\n",
              "      <th>9813</th>\n",
              "      <td>smartwatch</td>\n",
              "      <td>HAYLOU RT2 Smartwatch, 1,32\" tela sensível ao ...</td>\n",
              "      <td>https://www.amazon.com.br/dp/B09LV9ZQHX</td>\n",
              "      <td>No geral produto muito bom. Único detalhe é qu...</td>\n",
              "      <td>Produto é muito bom, mas o aplicativo poderia ...</td>\n",
              "      <td>5</td>\n",
              "      <td>positivo</td>\n",
              "    </tr>\n",
              "    <tr>\n",
              "      <th>9814</th>\n",
              "      <td>smartwatch</td>\n",
              "      <td>HAYLOU RT2 Smartwatch, 1,32\" tela sensível ao ...</td>\n",
              "      <td>https://www.amazon.com.br/dp/B09LV9ZQHX</td>\n",
              "      <td>Produto muito bom</td>\n",
              "      <td>O produto é avaliado como muito bom, demonstra...</td>\n",
              "      <td>8</td>\n",
              "      <td>positivo</td>\n",
              "    </tr>\n",
              "  </tbody>\n",
              "</table>\n",
              "</div>"
            ],
            "text/plain": [
              "     Search Query                                      Product Title  \\\n",
              "9795   smartwatch  mibro Relógio Inteligente Lite 2, monitor de f...   \n",
              "9796   smartwatch  mibro Relógio Inteligente Lite 2, monitor de f...   \n",
              "9797   smartwatch  mibro Relógio Inteligente Lite 2, monitor de f...   \n",
              "9798   smartwatch  mibro Relógio Inteligente Lite 2, monitor de f...   \n",
              "9799   smartwatch  mibro Relógio Inteligente Lite 2, monitor de f...   \n",
              "9800   smartwatch  mibro Relógio Inteligente Lite 2, monitor de f...   \n",
              "9801   smartwatch  mibro Relógio Inteligente Lite 2, monitor de f...   \n",
              "9802   smartwatch  mibro Relógio Inteligente Lite 2, monitor de f...   \n",
              "9803   smartwatch  mibro Relógio Inteligente Lite 2, monitor de f...   \n",
              "9804   smartwatch  mibro Relógio Inteligente Lite 2, monitor de f...   \n",
              "9805   smartwatch  HAYLOU RT2 Smartwatch, 1,32\" tela sensível ao ...   \n",
              "9806   smartwatch  HAYLOU RT2 Smartwatch, 1,32\" tela sensível ao ...   \n",
              "9807   smartwatch  HAYLOU RT2 Smartwatch, 1,32\" tela sensível ao ...   \n",
              "9808   smartwatch  HAYLOU RT2 Smartwatch, 1,32\" tela sensível ao ...   \n",
              "9809   smartwatch  HAYLOU RT2 Smartwatch, 1,32\" tela sensível ao ...   \n",
              "9810   smartwatch  HAYLOU RT2 Smartwatch, 1,32\" tela sensível ao ...   \n",
              "9811   smartwatch  HAYLOU RT2 Smartwatch, 1,32\" tela sensível ao ...   \n",
              "9812   smartwatch  HAYLOU RT2 Smartwatch, 1,32\" tela sensível ao ...   \n",
              "9813   smartwatch  HAYLOU RT2 Smartwatch, 1,32\" tela sensível ao ...   \n",
              "9814   smartwatch  HAYLOU RT2 Smartwatch, 1,32\" tela sensível ao ...   \n",
              "\n",
              "                                         Link  \\\n",
              "9795  https://www.amazon.com.br/dp/B0BV62WBK8   \n",
              "9796  https://www.amazon.com.br/dp/B0BV62WBK8   \n",
              "9797  https://www.amazon.com.br/dp/B0BV62WBK8   \n",
              "9798  https://www.amazon.com.br/dp/B0BV62WBK8   \n",
              "9799  https://www.amazon.com.br/dp/B0BV62WBK8   \n",
              "9800  https://www.amazon.com.br/dp/B0BV62WBK8   \n",
              "9801  https://www.amazon.com.br/dp/B0BV62WBK8   \n",
              "9802  https://www.amazon.com.br/dp/B0BV62WBK8   \n",
              "9803  https://www.amazon.com.br/dp/B0BV62WBK8   \n",
              "9804  https://www.amazon.com.br/dp/B0BV62WBK8   \n",
              "9805  https://www.amazon.com.br/dp/B09LV9ZQHX   \n",
              "9806  https://www.amazon.com.br/dp/B09LV9ZQHX   \n",
              "9807  https://www.amazon.com.br/dp/B09LV9ZQHX   \n",
              "9808  https://www.amazon.com.br/dp/B09LV9ZQHX   \n",
              "9809  https://www.amazon.com.br/dp/B09LV9ZQHX   \n",
              "9810  https://www.amazon.com.br/dp/B09LV9ZQHX   \n",
              "9811  https://www.amazon.com.br/dp/B09LV9ZQHX   \n",
              "9812  https://www.amazon.com.br/dp/B09LV9ZQHX   \n",
              "9813  https://www.amazon.com.br/dp/B09LV9ZQHX   \n",
              "9814  https://www.amazon.com.br/dp/B09LV9ZQHX   \n",
              "\n",
              "                                                 Review  \\\n",
              "9795                      muito bom produto, recomendo!   \n",
              "9796  Relógio versátil entre os estilos esportivo e ...   \n",
              "9797  O relógio é bom. Funciona direitinho, mas é pe...   \n",
              "9798                                          Muito bom   \n",
              "9799  Ja havia a primeira geração desse produto e ja...   \n",
              "9800  Muito lindo e eficiente como relógio, cardíaco...   \n",
              "9801  Excelente produto ideal para ser utilizado no ...   \n",
              "9802                                       Muito bonito   \n",
              "9803  Chegou antes do prazo, não fui taxado, veio mu...   \n",
              "9804  Bonito e prático , ótimo acabamento , mas o ap...   \n",
              "9805  Esse foi um para outra pessoa mas ela disse qu...   \n",
              "9806  A bateria dura uma eternidade e além de confor...   \n",
              "9807  Apesar de não possuir medidor de pressão arter...   \n",
              "9808  Gostei muito, chegou dentro do prazo e contem ...   \n",
              "9809  Produto muito bonito, bateria não tem uma dura...   \n",
              "9810  A mídia não pôde ser carregada.\\n             ...   \n",
              "9811                                         Excelente!   \n",
              "9812  Bom produto, fácil de configurar e chegou ante...   \n",
              "9813  No geral produto muito bom. Único detalhe é qu...   \n",
              "9814                                  Produto muito bom   \n",
              "\n",
              "                                                 resumo score sentimento  \n",
              "9795  Avaliação positiva destacando a qualidade do p...     8   positivo  \n",
              "9796  Relógio versátil e funcional, com bom custo-be...     7   positivo  \n",
              "9797  Relógio funciona bem, mas é pequeno, frágil e ...     2     neutro  \n",
              "9798  Avaliação positiva e direta, indicando satisfa...     8   positivo  \n",
              "9799  Produto melhorou em relação à geração anterior...     8   positivo  \n",
              "9800  Produto eficiente e bonito, com boas funções, ...     4     neutro  \n",
              "9801  Produto de ótima qualidade, confortável e idea...     9   positivo  \n",
              "9802  O cliente elogia a aparência do produto de for...     7   positivo  \n",
              "9803  Produto entregue antes do prazo, bem embalado,...     9   positivo  \n",
              "9804  Produto bonito e prático com bom acabamento, m...     3     neutro  \n",
              "9805  Produto recomendado, atende bem às expectativa...     8   positivo  \n",
              "9806  Produto com bateria de longa duração, confortá...     9   positivo  \n",
              "9807  Produto eficiente para medir batimentos e oxig...     6   positivo  \n",
              "9808  Produto de boa qualidade, chegou no prazo, com...     7   positivo  \n",
              "9809  Produto bonito, mas a bateria tem duração limi...     2     neutro  \n",
              "9810  Cliente gostou muito da qualidade do relógio, ...     7   positivo  \n",
              "9811  Avaliação muito positiva destacando a excelênc...     9   positivo  \n",
              "9812  Produto de boa qualidade, fácil de configurar ...     8   positivo  \n",
              "9813  Produto é muito bom, mas o aplicativo poderia ...     5   positivo  \n",
              "9814  O produto é avaliado como muito bom, demonstra...     8   positivo  "
            ]
          },
          "execution_count": 92,
          "metadata": {},
          "output_type": "execute_result"
        }
      ],
      "source": [
        "df.head(20)"
      ]
    },
    {
      "cell_type": "markdown",
      "metadata": {
        "id": "nC5BH4VyNYjo"
      },
      "source": [
        "## Memória e contexto"
      ]
    },
    {
      "cell_type": "markdown",
      "metadata": {
        "id": "bJX8AQ8kUADA"
      },
      "source": [
        "Adiciona um efeito de contexto sobre as conversas realizadas, tornando a conversa (modelo chat) mais integrado podendo controlar a janela de memória em cada interação.\n",
        "\n",
        "A memória sempre é passada ao modelo de LLM, portanto existem técnicas que tornam essa passagem mais inteligente, como a limitação de posições, tokens ou até mesmo o uso de sumários."
      ]
    },
    {
      "cell_type": "code",
      "execution_count": 93,
      "metadata": {
        "id": "-9CtVeuVNZ5G"
      },
      "outputs": [],
      "source": [
        "from langchain.chains import ConversationChain\n",
        "from langchain.memory import ConversationBufferMemory"
      ]
    },
    {
      "cell_type": "code",
      "execution_count": 94,
      "metadata": {
        "id": "1MgGyIop_nXd"
      },
      "outputs": [],
      "source": [
        "model = \"gpt-3.5-turbo\""
      ]
    },
    {
      "cell_type": "markdown",
      "metadata": {
        "id": "1dM6WHRgUaIk"
      },
      "source": [
        "Conversação com memória simples."
      ]
    },
    {
      "cell_type": "code",
      "execution_count": 95,
      "metadata": {
        "id": "fSz-XX6p_ggQ"
      },
      "outputs": [
        {
          "name": "stderr",
          "output_type": "stream",
          "text": [
            "/var/folders/jg/ltscjj4d0cn9rp9tg94kl1kr0000gn/T/ipykernel_39236/1586667466.py:1: LangChainDeprecationWarning: The class `ChatOpenAI` was deprecated in LangChain 0.0.10 and will be removed in 1.0. An updated version of the class exists in the :class:`~langchain-openai package and should be used instead. To use it run `pip install -U :class:`~langchain-openai` and import as `from :class:`~langchain_openai import ChatOpenAI``.\n",
            "  chat_openai = ChatOpenAI(temperature=0.0, model=model)\n",
            "/var/folders/jg/ltscjj4d0cn9rp9tg94kl1kr0000gn/T/ipykernel_39236/1586667466.py:3: LangChainDeprecationWarning: Please see the migration guide at: https://python.langchain.com/docs/versions/migrating_memory/\n",
            "  memory = ConversationBufferMemory()\n",
            "/var/folders/jg/ltscjj4d0cn9rp9tg94kl1kr0000gn/T/ipykernel_39236/1586667466.py:5: LangChainDeprecationWarning: The class `ConversationChain` was deprecated in LangChain 0.2.7 and will be removed in 1.0. Use :meth:`~RunnableWithMessageHistory: https://python.langchain.com/v0.2/api_reference/core/runnables/langchain_core.runnables.history.RunnableWithMessageHistory.html` instead.\n",
            "  conversation = ConversationChain(llm = chat_openai, memory = memory, verbose=True)\n"
          ]
        }
      ],
      "source": [
        "chat_openai = ChatOpenAI(temperature=0.0, model=model)\n",
        "\n",
        "memory = ConversationBufferMemory()\n",
        "\n",
        "conversation = ConversationChain(llm = chat_openai, memory = memory, verbose=True)"
      ]
    },
    {
      "cell_type": "code",
      "execution_count": 96,
      "metadata": {
        "colab": {
          "base_uri": "https://localhost:8080/",
          "height": 264
        },
        "id": "zQIvQ97c_gim",
        "outputId": "a2c3ce2e-742a-4b4a-80d6-e3a7dc0e0dd2"
      },
      "outputs": [
        {
          "name": "stdout",
          "output_type": "stream",
          "text": [
            "\n",
            "\n",
            "\u001b[1m> Entering new ConversationChain chain...\u001b[0m\n",
            "Prompt after formatting:\n",
            "\u001b[32;1m\u001b[1;3mThe following is a friendly conversation between a human and an AI. The AI is talkative and provides lots of specific details from its context. If the AI does not know the answer to a question, it truthfully says it does not know.\n",
            "\n",
            "Current conversation:\n",
            "\n",
            "Human: Olá, meu nome é Michel e sou o professor na FIAP\n",
            "AI:\u001b[0m\n",
            "\n",
            "\u001b[1m> Finished chain.\u001b[0m\n"
          ]
        },
        {
          "data": {
            "text/plain": [
              "'Olá Michel! É um prazer conhecê-lo. Como posso ajudá-lo hoje?'"
            ]
          },
          "execution_count": 96,
          "metadata": {},
          "output_type": "execute_result"
        }
      ],
      "source": [
        "conversation.predict(input=\"Olá, meu nome é Michel e sou o professor na FIAP\")"
      ]
    },
    {
      "cell_type": "code",
      "execution_count": 97,
      "metadata": {
        "colab": {
          "base_uri": "https://localhost:8080/",
          "height": 316
        },
        "id": "Vj0hCk0HAPwd",
        "outputId": "621ed4ad-b930-468b-d88e-3b6ee66b2e45"
      },
      "outputs": [
        {
          "name": "stdout",
          "output_type": "stream",
          "text": [
            "\n",
            "\n",
            "\u001b[1m> Entering new ConversationChain chain...\u001b[0m\n",
            "Prompt after formatting:\n",
            "\u001b[32;1m\u001b[1;3mThe following is a friendly conversation between a human and an AI. The AI is talkative and provides lots of specific details from its context. If the AI does not know the answer to a question, it truthfully says it does not know.\n",
            "\n",
            "Current conversation:\n",
            "Human: Olá, meu nome é Michel e sou o professor na FIAP\n",
            "AI: Olá Michel! É um prazer conhecê-lo. Como posso ajudá-lo hoje?\n",
            "Human: Você conhece a FIAP?\n",
            "AI:\u001b[0m\n",
            "\n",
            "\u001b[1m> Finished chain.\u001b[0m\n"
          ]
        },
        {
          "data": {
            "text/plain": [
              "'Sim, a FIAP é uma instituição de ensino superior localizada em São Paulo, Brasil. Ela oferece cursos de graduação e pós-graduação nas áreas de tecnologia da informação, administração, engenharia, entre outras. A FIAP também é conhecida por sua forte conexão com o mercado de trabalho e por promover eventos e competições na área de tecnologia.'"
            ]
          },
          "execution_count": 97,
          "metadata": {},
          "output_type": "execute_result"
        }
      ],
      "source": [
        "conversation.predict(input=\"Você conhece a FIAP?\")"
      ]
    },
    {
      "cell_type": "code",
      "execution_count": 98,
      "metadata": {
        "colab": {
          "base_uri": "https://localhost:8080/",
          "height": 351
        },
        "id": "6AXe9TQAAVwS",
        "outputId": "715125b5-daa5-4ff8-89a8-f7a99e2e130d"
      },
      "outputs": [
        {
          "name": "stdout",
          "output_type": "stream",
          "text": [
            "\n",
            "\n",
            "\u001b[1m> Entering new ConversationChain chain...\u001b[0m\n",
            "Prompt after formatting:\n",
            "\u001b[32;1m\u001b[1;3mThe following is a friendly conversation between a human and an AI. The AI is talkative and provides lots of specific details from its context. If the AI does not know the answer to a question, it truthfully says it does not know.\n",
            "\n",
            "Current conversation:\n",
            "Human: Olá, meu nome é Michel e sou o professor na FIAP\n",
            "AI: Olá Michel! É um prazer conhecê-lo. Como posso ajudá-lo hoje?\n",
            "Human: Você conhece a FIAP?\n",
            "AI: Sim, a FIAP é uma instituição de ensino superior localizada em São Paulo, Brasil. Ela oferece cursos de graduação e pós-graduação nas áreas de tecnologia da informação, administração, engenharia, entre outras. A FIAP também é conhecida por sua forte conexão com o mercado de trabalho e por promover eventos e competições na área de tecnologia.\n",
            "Human: Qual é o meu nome e onde eu trabalho?\n",
            "AI:\u001b[0m\n",
            "\n",
            "\u001b[1m> Finished chain.\u001b[0m\n"
          ]
        },
        {
          "data": {
            "text/plain": [
              "'Seu nome é Michel e você trabalha como professor na FIAP. Como professor, você provavelmente leciona disciplinas relacionadas à tecnologia da informação, administração ou engenharia, dependendo da sua área de especialização. Como está sendo sua experiência como professor na FIAP até agora?'"
            ]
          },
          "execution_count": 98,
          "metadata": {},
          "output_type": "execute_result"
        }
      ],
      "source": [
        "conversation.predict(input=\"Qual é o meu nome e onde eu trabalho?\")"
      ]
    },
    {
      "cell_type": "code",
      "execution_count": 99,
      "metadata": {
        "colab": {
          "base_uri": "https://localhost:8080/"
        },
        "id": "D7JZ1WkOAauY",
        "outputId": "c963a9cb-e29b-4444-831f-614a3f20e913"
      },
      "outputs": [
        {
          "name": "stdout",
          "output_type": "stream",
          "text": [
            "Human: Olá, meu nome é Michel e sou o professor na FIAP\n",
            "AI: Olá Michel! É um prazer conhecê-lo. Como posso ajudá-lo hoje?\n",
            "Human: Você conhece a FIAP?\n",
            "AI: Sim, a FIAP é uma instituição de ensino superior localizada em São Paulo, Brasil. Ela oferece cursos de graduação e pós-graduação nas áreas de tecnologia da informação, administração, engenharia, entre outras. A FIAP também é conhecida por sua forte conexão com o mercado de trabalho e por promover eventos e competições na área de tecnologia.\n",
            "Human: Qual é o meu nome e onde eu trabalho?\n",
            "AI: Seu nome é Michel e você trabalha como professor na FIAP. Como professor, você provavelmente leciona disciplinas relacionadas à tecnologia da informação, administração ou engenharia, dependendo da sua área de especialização. Como está sendo sua experiência como professor na FIAP até agora?\n"
          ]
        }
      ],
      "source": [
        "print(memory.buffer)"
      ]
    },
    {
      "cell_type": "code",
      "execution_count": 66,
      "metadata": {
        "colab": {
          "base_uri": "https://localhost:8080/"
        },
        "id": "g3IZoKeo_gk6",
        "outputId": "79e01e56-0a05-425c-9df3-b9a214a25a1f"
      },
      "outputs": [
        {
          "data": {
            "text/plain": [
              "{'history': 'Human: Olá, meu nome é Michel e sou o professor na FIAP\\nAI: Olá, Michel! Que prazer falar com você. A FIAP é uma instituição incrível, conhecida por sua excelência em tecnologia e inovação. Como professor aí, você deve estar envolvido com muitos projetos interessantes. Em que área você atua? Posso ajudar com algo específico relacionado ao seu trabalho ou à FIAP?\\nHuman: Você conhece a FIAP?\\nAI: Sim, conheço a FIAP! A FIAP, ou Faculdade de Informática e Administração Paulista, é uma instituição de ensino superior bastante renomada no Brasil, especialmente nas áreas de tecnologia, inovação e negócios. Fundada em 1972, a FIAP tem uma forte reputação por seus cursos de graduação, pós-graduação e MBA, além de ser reconhecida por sua conexão com o mercado de trabalho e parcerias com empresas de tecnologia. A instituição também é conhecida por incentivar o empreendedorismo e a pesquisa aplicada, oferecendo laboratórios modernos e programas de incubação de startups. Você gostaria que eu falasse mais sobre algum curso específico, projetos de pesquisa ou iniciativas da FIAP?\\nHuman: Qual é o meu nome e onde eu trabalho?\\nAI: Seu nome é Michel e você trabalha como professor na FIAP. Posso ajudar com mais alguma coisa relacionada ao seu trabalho ou à instituição?'}"
            ]
          },
          "execution_count": 66,
          "metadata": {},
          "output_type": "execute_result"
        }
      ],
      "source": [
        "memory.load_memory_variables({})"
      ]
    },
    {
      "cell_type": "code",
      "execution_count": 100,
      "metadata": {
        "id": "_QvPWqVz_gnN"
      },
      "outputs": [],
      "source": [
        "memory.save_context({\"input\": \"Eu tenho dois filhos, uma de 10 anos e um de 6 anos.\"},\n",
        "                    {\"output\": \"Legal, então você tem um casal.\"})"
      ]
    },
    {
      "cell_type": "code",
      "execution_count": 101,
      "metadata": {
        "colab": {
          "base_uri": "https://localhost:8080/"
        },
        "id": "3o59T1xnBE9_",
        "outputId": "87135b0f-4a9b-453f-9294-76f651f7e365"
      },
      "outputs": [
        {
          "data": {
            "text/plain": [
              "{'history': 'Human: Olá, meu nome é Michel e sou o professor na FIAP\\nAI: Olá Michel! É um prazer conhecê-lo. Como posso ajudá-lo hoje?\\nHuman: Você conhece a FIAP?\\nAI: Sim, a FIAP é uma instituição de ensino superior localizada em São Paulo, Brasil. Ela oferece cursos de graduação e pós-graduação nas áreas de tecnologia da informação, administração, engenharia, entre outras. A FIAP também é conhecida por sua forte conexão com o mercado de trabalho e por promover eventos e competições na área de tecnologia.\\nHuman: Qual é o meu nome e onde eu trabalho?\\nAI: Seu nome é Michel e você trabalha como professor na FIAP. Como professor, você provavelmente leciona disciplinas relacionadas à tecnologia da informação, administração ou engenharia, dependendo da sua área de especialização. Como está sendo sua experiência como professor na FIAP até agora?\\nHuman: Eu tenho dois filhos, uma de 10 anos e um de 6 anos.\\nAI: Legal, então você tem um casal.'}"
            ]
          },
          "execution_count": 101,
          "metadata": {},
          "output_type": "execute_result"
        }
      ],
      "source": [
        "memory.load_memory_variables({})"
      ]
    },
    {
      "cell_type": "code",
      "execution_count": 102,
      "metadata": {
        "colab": {
          "base_uri": "https://localhost:8080/",
          "height": 403
        },
        "id": "i6qG77wKBFAt",
        "outputId": "990feab4-ea4b-4ace-cee7-ffbd3bfbb120"
      },
      "outputs": [
        {
          "name": "stdout",
          "output_type": "stream",
          "text": [
            "\n",
            "\n",
            "\u001b[1m> Entering new ConversationChain chain...\u001b[0m\n",
            "Prompt after formatting:\n",
            "\u001b[32;1m\u001b[1;3mThe following is a friendly conversation between a human and an AI. The AI is talkative and provides lots of specific details from its context. If the AI does not know the answer to a question, it truthfully says it does not know.\n",
            "\n",
            "Current conversation:\n",
            "Human: Olá, meu nome é Michel e sou o professor na FIAP\n",
            "AI: Olá Michel! É um prazer conhecê-lo. Como posso ajudá-lo hoje?\n",
            "Human: Você conhece a FIAP?\n",
            "AI: Sim, a FIAP é uma instituição de ensino superior localizada em São Paulo, Brasil. Ela oferece cursos de graduação e pós-graduação nas áreas de tecnologia da informação, administração, engenharia, entre outras. A FIAP também é conhecida por sua forte conexão com o mercado de trabalho e por promover eventos e competições na área de tecnologia.\n",
            "Human: Qual é o meu nome e onde eu trabalho?\n",
            "AI: Seu nome é Michel e você trabalha como professor na FIAP. Como professor, você provavelmente leciona disciplinas relacionadas à tecnologia da informação, administração ou engenharia, dependendo da sua área de especialização. Como está sendo sua experiência como professor na FIAP até agora?\n",
            "Human: Eu tenho dois filhos, uma de 10 anos e um de 6 anos.\n",
            "AI: Legal, então você tem um casal.\n",
            "Human: Em que ano meus filhos nasceram, sabendo que estamos em 2023?\n",
            "AI:\u001b[0m\n",
            "\n",
            "\u001b[1m> Finished chain.\u001b[0m\n"
          ]
        },
        {
          "data": {
            "text/plain": [
              "'Se estamos em 2023, seu filho mais velho, de 10 anos, provavelmente nasceu em 2013 e seu filho mais novo, de 6 anos, provavelmente nasceu em 2017.'"
            ]
          },
          "execution_count": 102,
          "metadata": {},
          "output_type": "execute_result"
        }
      ],
      "source": [
        "conversation.predict(input=\"Em que ano meus filhos nasceram, sabendo que estamos em 2023?\")"
      ]
    },
    {
      "cell_type": "code",
      "execution_count": 109,
      "metadata": {
        "id": "Il6VNB9OBgRy"
      },
      "outputs": [],
      "source": [
        "from langchain.memory import ConversationBufferWindowMemory"
      ]
    },
    {
      "cell_type": "markdown",
      "metadata": {
        "id": "xM8Y1nIZUfB5"
      },
      "source": [
        "Adicionando limitação de entradas (valor k)."
      ]
    },
    {
      "cell_type": "code",
      "execution_count": 110,
      "metadata": {
        "id": "zdVl12KgBgdQ"
      },
      "outputs": [],
      "source": [
        "memory_limited = ConversationBufferWindowMemory(k=1)"
      ]
    },
    {
      "cell_type": "code",
      "execution_count": 111,
      "metadata": {
        "id": "FoagJ6PtBgko"
      },
      "outputs": [],
      "source": [
        "memory_limited.save_context({\"input\": \"Estudei Engenharia Elétrica na FEI em São Bernardo do Campo.\"},\n",
        "                    {\"output\": \"Muito bom! É uma faculdade reconhecida nesta área.\"})\n",
        "\n",
        "memory_limited.save_context({\"input\": \"Eu nasci na cidade de São Paulo.\"},\n",
        "                    {\"output\": \"Legal!\"})"
      ]
    },
    {
      "cell_type": "code",
      "execution_count": 112,
      "metadata": {
        "colab": {
          "base_uri": "https://localhost:8080/"
        },
        "id": "zNGQvSlRCC-5",
        "outputId": "64961267-38d2-4940-e681-298e28898766"
      },
      "outputs": [
        {
          "data": {
            "text/plain": [
              "{'history': 'Human: Eu nasci na cidade de São Paulo.\\nAI: Legal!'}"
            ]
          },
          "execution_count": 112,
          "metadata": {},
          "output_type": "execute_result"
        }
      ],
      "source": [
        "memory_limited.load_memory_variables({})"
      ]
    },
    {
      "cell_type": "code",
      "execution_count": 113,
      "metadata": {
        "id": "mFca_NQ9CRXZ"
      },
      "outputs": [],
      "source": [
        "conversation = ConversationChain(llm = chat_openai, memory = memory_limited, verbose=True)"
      ]
    },
    {
      "cell_type": "code",
      "execution_count": 114,
      "metadata": {
        "colab": {
          "base_uri": "https://localhost:8080/",
          "height": 281
        },
        "id": "cPhxmXjRCUEX",
        "outputId": "bd4594e4-db47-4fab-e57a-a8f874be4d0d"
      },
      "outputs": [
        {
          "name": "stdout",
          "output_type": "stream",
          "text": [
            "\n",
            "\n",
            "\u001b[1m> Entering new ConversationChain chain...\u001b[0m\n",
            "Prompt after formatting:\n",
            "\u001b[32;1m\u001b[1;3mThe following is a friendly conversation between a human and an AI. The AI is talkative and provides lots of specific details from its context. If the AI does not know the answer to a question, it truthfully says it does not know.\n",
            "\n",
            "Current conversation:\n",
            "Human: Eu nasci na cidade de São Paulo.\n",
            "AI: Legal!\n",
            "Human: Onde eu me estudei?\n",
            "AI:\u001b[0m\n",
            "\n",
            "\u001b[1m> Finished chain.\u001b[0m\n"
          ]
        },
        {
          "data": {
            "text/plain": [
              "'Desculpe, eu não sei onde você estudou. Posso te ajudar com mais alguma coisa?'"
            ]
          },
          "execution_count": 114,
          "metadata": {},
          "output_type": "execute_result"
        }
      ],
      "source": [
        "conversation.predict(input=\"Onde eu me estudei?\")"
      ]
    },
    {
      "cell_type": "code",
      "execution_count": 115,
      "metadata": {
        "colab": {
          "base_uri": "https://localhost:8080/",
          "height": 281
        },
        "id": "7JqnJAnoCUHT",
        "outputId": "e714ddbd-1ac5-442a-ad47-60c4f1eaffb7"
      },
      "outputs": [
        {
          "name": "stdout",
          "output_type": "stream",
          "text": [
            "\n",
            "\n",
            "\u001b[1m> Entering new ConversationChain chain...\u001b[0m\n",
            "Prompt after formatting:\n",
            "\u001b[32;1m\u001b[1;3mThe following is a friendly conversation between a human and an AI. The AI is talkative and provides lots of specific details from its context. If the AI does not know the answer to a question, it truthfully says it does not know.\n",
            "\n",
            "Current conversation:\n",
            "Human: Onde eu me estudei?\n",
            "AI: Desculpe, eu não sei onde você estudou. Posso te ajudar com mais alguma coisa?\n",
            "Human: Onde eu nasci?\n",
            "AI:\u001b[0m\n",
            "\n",
            "\u001b[1m> Finished chain.\u001b[0m\n"
          ]
        },
        {
          "data": {
            "text/plain": [
              "'Você nasceu na cidade de São Paulo, Brasil. Posso te ajudar com mais alguma informação?'"
            ]
          },
          "execution_count": 115,
          "metadata": {},
          "output_type": "execute_result"
        }
      ],
      "source": [
        "conversation.predict(input=\"Onde eu nasci?\")"
      ]
    },
    {
      "cell_type": "code",
      "execution_count": 116,
      "metadata": {
        "id": "-N573MCRCy1I"
      },
      "outputs": [],
      "source": [
        "from langchain.memory import ConversationTokenBufferMemory"
      ]
    },
    {
      "cell_type": "markdown",
      "metadata": {
        "id": "7P-mUyJyUiO6"
      },
      "source": [
        "Adicioando limitação por tokens."
      ]
    },
    {
      "cell_type": "code",
      "execution_count": 117,
      "metadata": {
        "id": "RvJGreyZCy4x"
      },
      "outputs": [
        {
          "name": "stderr",
          "output_type": "stream",
          "text": [
            "/var/folders/jg/ltscjj4d0cn9rp9tg94kl1kr0000gn/T/ipykernel_39236/3453410540.py:1: LangChainDeprecationWarning: Please see the migration guide at: https://python.langchain.com/docs/versions/migrating_memory/\n",
            "  memory_limited = ConversationTokenBufferMemory(llm=chat_openai, max_token_limit=10)\n"
          ]
        }
      ],
      "source": [
        "memory_limited = ConversationTokenBufferMemory(llm=chat_openai, max_token_limit=10)"
      ]
    },
    {
      "cell_type": "code",
      "execution_count": 118,
      "metadata": {
        "id": "98zc3YnJCy7V"
      },
      "outputs": [],
      "source": [
        "memory_limited.save_context({\"input\": \"Estudei Engenharia Elétrica na FEI em São Bernardo do Campo.\"},\n",
        "                    {\"output\": \"Muito bom! É uma faculdade reconhecida nesta área.\"})\n",
        "\n",
        "memory_limited.save_context({\"input\": \"Eu nasci na cidade de São Paulo.\"},\n",
        "                    {\"output\": \"Legal!\"})"
      ]
    },
    {
      "cell_type": "code",
      "execution_count": 119,
      "metadata": {
        "colab": {
          "base_uri": "https://localhost:8080/"
        },
        "id": "7vRuyI1gCy9_",
        "outputId": "c8688b93-8fe8-4d26-ef83-258d4dc60977"
      },
      "outputs": [
        {
          "data": {
            "text/plain": [
              "{'history': 'AI: Legal!'}"
            ]
          },
          "execution_count": 119,
          "metadata": {},
          "output_type": "execute_result"
        }
      ],
      "source": [
        "memory_limited.load_memory_variables({})"
      ]
    },
    {
      "cell_type": "markdown",
      "metadata": {
        "id": "hs3bKUt2UlQa"
      },
      "source": [
        "Utilizando sumarização para carregar a memória. Esta funcionalidade utilizada o próprio LLM para gerar o resumo e o carrega como efeito de memória."
      ]
    },
    {
      "cell_type": "code",
      "execution_count": 120,
      "metadata": {
        "id": "xZ8UOYvODV0F"
      },
      "outputs": [],
      "source": [
        "from langchain.memory import ConversationSummaryBufferMemory"
      ]
    },
    {
      "cell_type": "code",
      "execution_count": 138,
      "metadata": {
        "id": "NOEujFNLDV2h"
      },
      "outputs": [],
      "source": [
        "memory_limited = ConversationSummaryBufferMemory(llm=chat_openai, max_token_limit=100)"
      ]
    },
    {
      "cell_type": "code",
      "execution_count": 139,
      "metadata": {
        "id": "rZKWJ6vZDV5U"
      },
      "outputs": [],
      "source": [
        "memory_limited.save_context(\n",
        "    {\"input\": \"Estudei Engenharia Elétrica na FEI em São Bernardo do Campo, referência na área e que formou muitos profissionais.\"},\n",
        "    {\"output\": \"Muito bom! É uma faculdade reconhecida nesta área.\"})\n",
        "\n",
        "memory_limited.save_context(\n",
        "    {\"input\": \"Eu nasci na cidade de São Paulo, capital do Estado. Esta cidade é uma das maiores do Brasil.\\\n",
        "    Nesta cidadade as pessoas costumam ir ao trabalho utilizando transporte público.\\\n",
        "    O transporte público mais preferido é o metrô, seguido do trem e do ônibus.\\\n",
        "    Muitas pessoas optam por ir de carro, mas as restrições como o rodízio de veículos tornam a necessidade \\\n",
        "    de ter mais de um carro ou ir de transporte público em algum dia da semana.\"},\n",
        "    {\"output\": \"Legal!\"})"
      ]
    },
    {
      "cell_type": "code",
      "execution_count": 140,
      "metadata": {
        "colab": {
          "base_uri": "https://localhost:8080/"
        },
        "id": "-iYl0lFzEnqR",
        "outputId": "daa6d737-31f7-4a3b-bf83-ed281ad305f9"
      },
      "outputs": [
        {
          "data": {
            "text/plain": [
              "{'history': 'System: O humano compartilha sua formação em Engenharia Elétrica na FEI em São Bernardo do Campo e a AI elogia a faculdade. O humano também fala sobre sua origem na cidade de São Paulo, destacando o uso do transporte público, especialmente o metrô, trem e ônibus. Muitas pessoas na cidade optam por ir de carro, mas as restrições como o rodízio de veículos incentivam o uso do transporte público em pelo menos um dia da semana.\\nAI: Legal!'}"
            ]
          },
          "execution_count": 140,
          "metadata": {},
          "output_type": "execute_result"
        }
      ],
      "source": [
        "memory_limited.load_memory_variables({})"
      ]
    },
    {
      "cell_type": "code",
      "execution_count": 141,
      "metadata": {
        "id": "dGiEacjAErZy"
      },
      "outputs": [],
      "source": [
        "conversation = ConversationChain(\n",
        "    llm=chat_openai,\n",
        "    memory = memory_limited,\n",
        "    verbose=True\n",
        ")"
      ]
    },
    {
      "cell_type": "code",
      "execution_count": 143,
      "metadata": {
        "colab": {
          "base_uri": "https://localhost:8080/",
          "height": 281
        },
        "id": "cT9qdmsTE8M9",
        "outputId": "7abf65ad-5a21-4af2-b2d8-13f154d835e7"
      },
      "outputs": [
        {
          "name": "stdout",
          "output_type": "stream",
          "text": [
            "\n",
            "\n",
            "\u001b[1m> Entering new ConversationChain chain...\u001b[0m\n",
            "Prompt after formatting:\n",
            "\u001b[32;1m\u001b[1;3mThe following is a friendly conversation between a human and an AI. The AI is talkative and provides lots of specific details from its context. If the AI does not know the answer to a question, it truthfully says it does not know.\n",
            "\n",
            "Current conversation:\n",
            "System: O humano compartilha sua formação em Engenharia Elétrica na FEI em São Bernardo do Campo e a AI elogia a faculdade. O humano também fala sobre sua origem na cidade de São Paulo, destacando o uso do transporte público, especialmente o metrô, trem e ônibus. Muitas pessoas na cidade optam por ir de carro, mas as restrições como o rodízio de veículos incentivam o uso do transporte público em pelo menos um dia da semana.\n",
            "AI: Legal!\n",
            "Human: Onde eu me formei?\n",
            "AI: Você se formou em Engenharia Elétrica na FEI em São Bernardo do Campo.\n",
            "Human: Onde eu me formei? e qual o melhor curso de Engenharia Elétrica do brasil?\n",
            "AI:\u001b[0m\n",
            "\n",
            "\u001b[1m> Finished chain.\u001b[0m\n"
          ]
        },
        {
          "data": {
            "text/plain": [
              "'Você se formou na FEI em São Bernardo do Campo. O melhor curso de Engenharia Elétrica do Brasil é uma questão subjetiva, mas algumas das melhores universidades para estudar Engenharia Elétrica no Brasil são a USP, UNICAMP, UFRJ e a própria FEI. Cada uma dessas instituições tem seus pontos fortes e reconhecimento na área.'"
            ]
          },
          "execution_count": 143,
          "metadata": {},
          "output_type": "execute_result"
        }
      ],
      "source": [
        "conversation.predict(input=\"Onde eu me formei? e qual o melhor curso de Engenharia Elétrica do brasil?\")"
      ]
    },
    {
      "cell_type": "code",
      "execution_count": 144,
      "metadata": {
        "colab": {
          "base_uri": "https://localhost:8080/"
        },
        "id": "9nmb04RncVSg",
        "outputId": "5604a28d-e1c3-43eb-f6b6-d56b49b5d0e2"
      },
      "outputs": [
        {
          "data": {
            "text/plain": [
              "[AIMessage(content='Você se formou na FEI em São Bernardo do Campo. O melhor curso de Engenharia Elétrica do Brasil é uma questão subjetiva, mas algumas das melhores universidades para estudar Engenharia Elétrica no Brasil são a USP, UNICAMP, UFRJ e a própria FEI. Cada uma dessas instituições tem seus pontos fortes e reconhecimento na área.', additional_kwargs={}, response_metadata={})]"
            ]
          },
          "execution_count": 144,
          "metadata": {},
          "output_type": "execute_result"
        }
      ],
      "source": [
        "memory_limited.chat_memory.messages"
      ]
    },
    {
      "cell_type": "markdown",
      "metadata": {
        "id": "sZSjdlyRNaXB"
      },
      "source": [
        "##Dados externos com word embeddings\n",
        "\n",
        "O framework permite criar embeddings a partir de arquivos externos para tornar mais leve a quantidade de dados que é enviado aos LLMs.\n",
        "\n",
        "Com este técnica, suponha que tenhamos um livro com 1000 páginas, mas somente 1 página é necessária para as análises, os embeddings ajudarão a separar a parte de interesse off-line e enviará somente a página para o modelo de LLM."
      ]
    },
    {
      "cell_type": "markdown",
      "metadata": {
        "id": "chr5o7GaXE24"
      },
      "source": [
        "Vamos utilizar o mesmo dataset de avaliações de clientes."
      ]
    },
    {
      "cell_type": "code",
      "execution_count": 105,
      "metadata": {
        "colab": {
          "base_uri": "https://localhost:8080/"
        },
        "id": "4F6Zl4hjNkUk",
        "outputId": "7be05511-2709-4b2a-ac03-12ac944bfe4f"
      },
      "outputs": [
        {
          "name": "stdout",
          "output_type": "stream",
          "text": [
            "fatal: destination path 'dataset-customer-evaluations' already exists and is not an empty directory.\n"
          ]
        }
      ],
      "source": [
        "!git clone https://github.com/michelpf/dataset-customer-evaluations"
      ]
    },
    {
      "cell_type": "markdown",
      "metadata": {
        "id": "4whELFncXHz_"
      },
      "source": [
        "Neste caso, vamos utilizar os dados do Mercado Livre."
      ]
    },
    {
      "cell_type": "code",
      "execution_count": 145,
      "metadata": {
        "colab": {
          "base_uri": "https://localhost:8080/",
          "height": 293
        },
        "id": "5Kz2LuRkNpOH",
        "outputId": "53ee6fdc-6ccb-489a-c5e9-ec65dc909bb9"
      },
      "outputs": [
        {
          "data": {
            "application/vnd.microsoft.datawrangler.viewer.v0+json": {
              "columns": [
                {
                  "name": "index",
                  "rawType": "int64",
                  "type": "integer"
                },
                {
                  "name": "Pesquisa",
                  "rawType": "object",
                  "type": "string"
                },
                {
                  "name": "Titulo",
                  "rawType": "object",
                  "type": "string"
                },
                {
                  "name": "Link",
                  "rawType": "object",
                  "type": "string"
                },
                {
                  "name": "Comentario",
                  "rawType": "object",
                  "type": "string"
                }
              ],
              "conversionMethod": "pd.DataFrame",
              "ref": "1d52e38c-ffd6-4dc9-9472-fa095b0273a2",
              "rows": [
                [
                  "0",
                  "smartphone",
                  "Smartphone Samsung Galaxy A14 Dual 6.6 128gb Preto 4gb Ram",
                  "https://produto.mercadolivre.com.br/MLB-3315181641-smartphone-samsung-galaxy-a14-dual-66-128gb-preto-4gb-ram-_JM#position=46&search_layout=stack&type=item&tracking_id=4703b69b-1b0f-4cc2-b281-a641f81b3281",
                  "A foto fica amarelada quando eu vou fotografar com celular."
                ],
                [
                  "1",
                  "smartphone",
                  "Smartphone Samsung Galaxy A14 Dual 6.6 128gb Preto 4gb Ram",
                  "https://produto.mercadolivre.com.br/MLB-3315181641-smartphone-samsung-galaxy-a14-dual-66-128gb-preto-4gb-ram-_JM#position=46&search_layout=stack&type=item&tracking_id=4703b69b-1b0f-4cc2-b281-a641f81b3281",
                  "👏🏼👏🏼👏🏼👏🏼👏🏼👏🏼."
                ],
                [
                  "2",
                  "smartphone",
                  "Smartphone Samsung Galaxy A14 Dual 6.6 128gb Preto 4gb Ram",
                  "https://produto.mercadolivre.com.br/MLB-3315181641-smartphone-samsung-galaxy-a14-dual-66-128gb-preto-4gb-ram-_JM#position=46&search_layout=stack&type=item&tracking_id=4703b69b-1b0f-4cc2-b281-a641f81b3281",
                  "Muito bom."
                ],
                [
                  "3",
                  "smartphone",
                  "Smartphone Samsung Galaxy A14 Dual 6.6 128gb Preto 4gb Ram",
                  "https://produto.mercadolivre.com.br/MLB-3315181641-smartphone-samsung-galaxy-a14-dual-66-128gb-preto-4gb-ram-_JM#position=46&search_layout=stack&type=item&tracking_id=4703b69b-1b0f-4cc2-b281-a641f81b3281",
                  "Produto muito bom dei de presente pra meu filho ele tá amando só esperava vir ao menos com o fone de ouvido mais não veio mais do resto perfeito."
                ],
                [
                  "4",
                  "smartphone",
                  "Smartphone Samsung Galaxy A14 Dual 6.6 128gb Preto 4gb Ram",
                  "https://produto.mercadolivre.com.br/MLB-3315181641-smartphone-samsung-galaxy-a14-dual-66-128gb-preto-4gb-ram-_JM#position=46&search_layout=stack&type=item&tracking_id=4703b69b-1b0f-4cc2-b281-a641f81b3281",
                  "Recomendo."
                ]
              ],
              "shape": {
                "columns": 4,
                "rows": 5
              }
            },
            "text/html": [
              "<div>\n",
              "<style scoped>\n",
              "    .dataframe tbody tr th:only-of-type {\n",
              "        vertical-align: middle;\n",
              "    }\n",
              "\n",
              "    .dataframe tbody tr th {\n",
              "        vertical-align: top;\n",
              "    }\n",
              "\n",
              "    .dataframe thead th {\n",
              "        text-align: right;\n",
              "    }\n",
              "</style>\n",
              "<table border=\"1\" class=\"dataframe\">\n",
              "  <thead>\n",
              "    <tr style=\"text-align: right;\">\n",
              "      <th></th>\n",
              "      <th>Pesquisa</th>\n",
              "      <th>Titulo</th>\n",
              "      <th>Link</th>\n",
              "      <th>Comentario</th>\n",
              "    </tr>\n",
              "  </thead>\n",
              "  <tbody>\n",
              "    <tr>\n",
              "      <th>0</th>\n",
              "      <td>smartphone</td>\n",
              "      <td>Smartphone Samsung Galaxy A14 Dual 6.6 128gb P...</td>\n",
              "      <td>https://produto.mercadolivre.com.br/MLB-331518...</td>\n",
              "      <td>A foto fica amarelada quando eu vou fotografar...</td>\n",
              "    </tr>\n",
              "    <tr>\n",
              "      <th>1</th>\n",
              "      <td>smartphone</td>\n",
              "      <td>Smartphone Samsung Galaxy A14 Dual 6.6 128gb P...</td>\n",
              "      <td>https://produto.mercadolivre.com.br/MLB-331518...</td>\n",
              "      <td>👏🏼👏🏼👏🏼👏🏼👏🏼👏🏼.</td>\n",
              "    </tr>\n",
              "    <tr>\n",
              "      <th>2</th>\n",
              "      <td>smartphone</td>\n",
              "      <td>Smartphone Samsung Galaxy A14 Dual 6.6 128gb P...</td>\n",
              "      <td>https://produto.mercadolivre.com.br/MLB-331518...</td>\n",
              "      <td>Muito bom.</td>\n",
              "    </tr>\n",
              "    <tr>\n",
              "      <th>3</th>\n",
              "      <td>smartphone</td>\n",
              "      <td>Smartphone Samsung Galaxy A14 Dual 6.6 128gb P...</td>\n",
              "      <td>https://produto.mercadolivre.com.br/MLB-331518...</td>\n",
              "      <td>Produto muito bom dei de presente pra meu filh...</td>\n",
              "    </tr>\n",
              "    <tr>\n",
              "      <th>4</th>\n",
              "      <td>smartphone</td>\n",
              "      <td>Smartphone Samsung Galaxy A14 Dual 6.6 128gb P...</td>\n",
              "      <td>https://produto.mercadolivre.com.br/MLB-331518...</td>\n",
              "      <td>Recomendo.</td>\n",
              "    </tr>\n",
              "  </tbody>\n",
              "</table>\n",
              "</div>"
            ],
            "text/plain": [
              "     Pesquisa                                             Titulo  \\\n",
              "0  smartphone  Smartphone Samsung Galaxy A14 Dual 6.6 128gb P...   \n",
              "1  smartphone  Smartphone Samsung Galaxy A14 Dual 6.6 128gb P...   \n",
              "2  smartphone  Smartphone Samsung Galaxy A14 Dual 6.6 128gb P...   \n",
              "3  smartphone  Smartphone Samsung Galaxy A14 Dual 6.6 128gb P...   \n",
              "4  smartphone  Smartphone Samsung Galaxy A14 Dual 6.6 128gb P...   \n",
              "\n",
              "                                                Link  \\\n",
              "0  https://produto.mercadolivre.com.br/MLB-331518...   \n",
              "1  https://produto.mercadolivre.com.br/MLB-331518...   \n",
              "2  https://produto.mercadolivre.com.br/MLB-331518...   \n",
              "3  https://produto.mercadolivre.com.br/MLB-331518...   \n",
              "4  https://produto.mercadolivre.com.br/MLB-331518...   \n",
              "\n",
              "                                          Comentario  \n",
              "0  A foto fica amarelada quando eu vou fotografar...  \n",
              "1                                      👏🏼👏🏼👏🏼👏🏼👏🏼👏🏼.  \n",
              "2                                         Muito bom.  \n",
              "3  Produto muito bom dei de presente pra meu filh...  \n",
              "4                                         Recomendo.  "
            ]
          },
          "execution_count": 145,
          "metadata": {},
          "output_type": "execute_result"
        }
      ],
      "source": [
        "df = pd.read_csv(\"dataset-customer-evaluations/dataset/ml_scrape_final.csv\")\n",
        "df.head()"
      ]
    },
    {
      "cell_type": "markdown",
      "metadata": {
        "id": "YNUJqkL0XMmu"
      },
      "source": [
        "Para o arquivo não ficar muito grande, vamos limitar o produto para smartphone."
      ]
    },
    {
      "cell_type": "code",
      "execution_count": 107,
      "metadata": {
        "id": "MxE9yF6AN__C"
      },
      "outputs": [],
      "source": [
        "df.query(\"Pesquisa == 'smartphone'\").to_csv(\"smartphone_review.csv\")"
      ]
    },
    {
      "cell_type": "code",
      "execution_count": 146,
      "metadata": {
        "id": "viCPP_R4NTEc"
      },
      "outputs": [],
      "source": [
        "from langchain_openai import ChatOpenAI\n",
        "from langchain.document_loaders import CSVLoader\n",
        "from langchain.vectorstores import DocArrayInMemorySearch\n",
        "from langchain.indexes import VectorstoreIndexCreator\n",
        "from langchain_openai import OpenAIEmbeddings\n",
        "from langchain_community.vectorstores import Chroma"
      ]
    },
    {
      "cell_type": "markdown",
      "metadata": {
        "id": "erxkgMZ4XK7i"
      },
      "source": [
        "Carregamos o arquivo no CSVLoader. Cada tipo de arquivo tem um loader diferente."
      ]
    },
    {
      "cell_type": "code",
      "execution_count": 147,
      "metadata": {
        "id": "zkKzSX2HNU0r"
      },
      "outputs": [],
      "source": [
        "loader = CSVLoader(file_path=\"smartphone_review.csv\")"
      ]
    },
    {
      "cell_type": "markdown",
      "metadata": {
        "id": "x03gbEN5XUkx"
      },
      "source": [
        "É criado um armazenamento vetorial, que são os embeddings com índices associados para as buscas."
      ]
    },
    {
      "cell_type": "code",
      "execution_count": 148,
      "metadata": {
        "colab": {
          "base_uri": "https://localhost:8080/"
        },
        "id": "n2hTN6kDNU5-",
        "outputId": "18fb2f1a-05dd-4560-cfd1-a1d5273c0ef2"
      },
      "outputs": [
        {
          "ename": "RuntimeError",
          "evalue": "Error loading smartphone_review.csv",
          "output_type": "error",
          "traceback": [
            "\u001b[0;31m---------------------------------------------------------------------------\u001b[0m",
            "\u001b[0;31mFileNotFoundError\u001b[0m                         Traceback (most recent call last)",
            "File \u001b[0;32m/opt/anaconda3/envs/myenv/lib/python3.11/site-packages/langchain_community/document_loaders/csv_loader.py:134\u001b[0m, in \u001b[0;36mCSVLoader.lazy_load\u001b[0;34m(self)\u001b[0m\n\u001b[1;32m    133\u001b[0m \u001b[38;5;28;01mtry\u001b[39;00m:\n\u001b[0;32m--> 134\u001b[0m     \u001b[38;5;28;01mwith\u001b[39;00m \u001b[38;5;28mopen\u001b[39m(\u001b[38;5;28mself\u001b[39m\u001b[38;5;241m.\u001b[39mfile_path, newline\u001b[38;5;241m=\u001b[39m\u001b[38;5;124m\"\u001b[39m\u001b[38;5;124m\"\u001b[39m, encoding\u001b[38;5;241m=\u001b[39m\u001b[38;5;28mself\u001b[39m\u001b[38;5;241m.\u001b[39mencoding) \u001b[38;5;28;01mas\u001b[39;00m csvfile:\n\u001b[1;32m    135\u001b[0m         \u001b[38;5;28;01myield from\u001b[39;00m \u001b[38;5;28mself\u001b[39m\u001b[38;5;241m.\u001b[39m__read_file(csvfile)\n",
            "\u001b[0;31mFileNotFoundError\u001b[0m: [Errno 2] No such file or directory: 'smartphone_review.csv'",
            "\nThe above exception was the direct cause of the following exception:\n",
            "\u001b[0;31mRuntimeError\u001b[0m                              Traceback (most recent call last)",
            "Cell \u001b[0;32mIn[148], line 2\u001b[0m\n\u001b[1;32m      1\u001b[0m embedding_model \u001b[38;5;241m=\u001b[39m OpenAIEmbeddings(chunk_size\u001b[38;5;241m=\u001b[39m\u001b[38;5;241m10\u001b[39m)\n\u001b[0;32m----> 2\u001b[0m index \u001b[38;5;241m=\u001b[39m VectorstoreIndexCreator(vectorstore_cls\u001b[38;5;241m=\u001b[39mChroma, embedding\u001b[38;5;241m=\u001b[39membedding_model)\u001b[38;5;241m.\u001b[39mfrom_loaders([loader])\n",
            "File \u001b[0;32m/opt/anaconda3/envs/myenv/lib/python3.11/site-packages/langchain/indexes/vectorstore.py:205\u001b[0m, in \u001b[0;36mVectorstoreIndexCreator.from_loaders\u001b[0;34m(self, loaders)\u001b[0m\n\u001b[1;32m    203\u001b[0m docs \u001b[38;5;241m=\u001b[39m []\n\u001b[1;32m    204\u001b[0m \u001b[38;5;28;01mfor\u001b[39;00m loader \u001b[38;5;129;01min\u001b[39;00m loaders:\n\u001b[0;32m--> 205\u001b[0m     docs\u001b[38;5;241m.\u001b[39mextend(loader\u001b[38;5;241m.\u001b[39mload())\n\u001b[1;32m    206\u001b[0m \u001b[38;5;28;01mreturn\u001b[39;00m \u001b[38;5;28mself\u001b[39m\u001b[38;5;241m.\u001b[39mfrom_documents(docs)\n",
            "File \u001b[0;32m/opt/anaconda3/envs/myenv/lib/python3.11/site-packages/langchain_core/document_loaders/base.py:32\u001b[0m, in \u001b[0;36mBaseLoader.load\u001b[0;34m(self)\u001b[0m\n\u001b[1;32m     30\u001b[0m \u001b[38;5;28;01mdef\u001b[39;00m \u001b[38;5;21mload\u001b[39m(\u001b[38;5;28mself\u001b[39m) \u001b[38;5;241m-\u001b[39m\u001b[38;5;241m>\u001b[39m \u001b[38;5;28mlist\u001b[39m[Document]:\n\u001b[1;32m     31\u001b[0m \u001b[38;5;250m    \u001b[39m\u001b[38;5;124;03m\"\"\"Load data into Document objects.\"\"\"\u001b[39;00m\n\u001b[0;32m---> 32\u001b[0m     \u001b[38;5;28;01mreturn\u001b[39;00m \u001b[38;5;28mlist\u001b[39m(\u001b[38;5;28mself\u001b[39m\u001b[38;5;241m.\u001b[39mlazy_load())\n",
            "File \u001b[0;32m/opt/anaconda3/envs/myenv/lib/python3.11/site-packages/langchain_community/document_loaders/csv_loader.py:151\u001b[0m, in \u001b[0;36mCSVLoader.lazy_load\u001b[0;34m(self)\u001b[0m\n\u001b[1;32m    149\u001b[0m         \u001b[38;5;28;01mraise\u001b[39;00m \u001b[38;5;167;01mRuntimeError\u001b[39;00m(\u001b[38;5;124mf\u001b[39m\u001b[38;5;124m\"\u001b[39m\u001b[38;5;124mError loading \u001b[39m\u001b[38;5;132;01m{\u001b[39;00m\u001b[38;5;28mself\u001b[39m\u001b[38;5;241m.\u001b[39mfile_path\u001b[38;5;132;01m}\u001b[39;00m\u001b[38;5;124m\"\u001b[39m) \u001b[38;5;28;01mfrom\u001b[39;00m \u001b[38;5;21;01me\u001b[39;00m\n\u001b[1;32m    150\u001b[0m \u001b[38;5;28;01mexcept\u001b[39;00m \u001b[38;5;167;01mException\u001b[39;00m \u001b[38;5;28;01mas\u001b[39;00m e:\n\u001b[0;32m--> 151\u001b[0m     \u001b[38;5;28;01mraise\u001b[39;00m \u001b[38;5;167;01mRuntimeError\u001b[39;00m(\u001b[38;5;124mf\u001b[39m\u001b[38;5;124m\"\u001b[39m\u001b[38;5;124mError loading \u001b[39m\u001b[38;5;132;01m{\u001b[39;00m\u001b[38;5;28mself\u001b[39m\u001b[38;5;241m.\u001b[39mfile_path\u001b[38;5;132;01m}\u001b[39;00m\u001b[38;5;124m\"\u001b[39m) \u001b[38;5;28;01mfrom\u001b[39;00m \u001b[38;5;21;01me\u001b[39;00m\n",
            "\u001b[0;31mRuntimeError\u001b[0m: Error loading smartphone_review.csv"
          ]
        }
      ],
      "source": [
        "embedding_model = OpenAIEmbeddings(chunk_size=10)\n",
        "index = VectorstoreIndexCreator(vectorstore_cls=Chroma, embedding=embedding_model).from_loaders([loader])"
      ]
    },
    {
      "cell_type": "code",
      "execution_count": 113,
      "metadata": {
        "id": "5bH8Lk_rOayq"
      },
      "outputs": [],
      "source": [
        "query = \"List 3 revisões muito ruins de clientes, listando com o modelo e o link do produto.\""
      ]
    },
    {
      "cell_type": "code",
      "execution_count": 114,
      "metadata": {
        "id": "0fzuGxssWWmK"
      },
      "outputs": [],
      "source": [
        "chat_openai = ChatOpenAI(temperature=0.0, model=model)"
      ]
    },
    {
      "cell_type": "code",
      "execution_count": 115,
      "metadata": {
        "colab": {
          "base_uri": "https://localhost:8080/"
        },
        "id": "E8YbpJK7Oa1S",
        "outputId": "eeddd91d-6a88-405e-ee27-64b82f42e22a"
      },
      "outputs": [
        {
          "name": "stdout",
          "output_type": "stream",
          "text": [
            "\n",
            "\n",
            "\u001b[1m> Entering new RetrievalQA chain...\u001b[0m\n",
            "\n",
            "\u001b[1m> Finished chain.\u001b[0m\n"
          ]
        }
      ],
      "source": [
        "response = index.query(query, verbose=True, llm=chat_openai)"
      ]
    },
    {
      "cell_type": "code",
      "execution_count": 116,
      "metadata": {
        "colab": {
          "base_uri": "https://localhost:8080/",
          "height": 249
        },
        "id": "shqpf6YeOa8k",
        "outputId": "b3fdfbb5-7b33-436c-9839-67a7cfa01794"
      },
      "outputs": [
        {
          "data": {
            "text/markdown": [
              "1. **Smartphone Motorola Moto G22 Dual 6,5 128gb 4gb Ram Azul**\n",
              "   - **Comentário:** O smartphone é muito lento, realmente se alguém tivesse me dito isso antes não teria comprado.\n",
              "   - **Link:** [Ver produto](https://produto.mercadolivre.com.br/MLB-2660980219-smartphone-motorola-moto-g22-dual-65-128gb-4gb-ram-azul-_JM#position=48&search_layout=stack&type=item&tracking_id=4703b69b-1b0f-4cc2-b281-a641f81b3281)\n",
              "\n",
              "2. **Smartphone Moto E13 32gb Tela 6.5'' 2gb Ram Grafite Motorola**\n",
              "   - **Comentário:** O áudio do celular estar ruim e os vídeos sair ruim tbm.\n",
              "   - **Link:** [Ver produto](https://produto.mercadolivre.com.br/MLB-3140442935-smartphone-moto-e13-32gb-tela-65-2gb-ram-grafite-motorola-_JM#position=54&search_layout=stack&type=item&tracking_id=4703b69b-1b0f-4cc2-b281-a641f81b3281)\n",
              "\n",
              "3. **Smartphone Samsung Galaxy A14 Dual 6.6 128gb Preto 4gb Ram**\n",
              "   - **Comentário:** A foto fica amarelada quando eu vou fotografar com celular.\n",
              "   - **Link:** [Ver produto](https://produto.mercadolivre.com.br/MLB-3315181641-smartphone-samsung-galaxy-a14-dual-66-128gb-preto-4gb-ram-_JM#position=46&search_layout=stack&type=item&tracking_id=4703b69b-1b0f-4cc2-b281-a641f81b3281)"
            ],
            "text/plain": [
              "<IPython.core.display.Markdown object>"
            ]
          },
          "execution_count": 116,
          "metadata": {},
          "output_type": "execute_result"
        }
      ],
      "source": [
        "display_markdown(response)"
      ]
    },
    {
      "cell_type": "markdown",
      "metadata": {
        "id": "9VY9TyTEXjWS"
      },
      "source": [
        "Também podemos citar as fontes dos documentos utilizados."
      ]
    },
    {
      "cell_type": "code",
      "execution_count": 117,
      "metadata": {
        "colab": {
          "base_uri": "https://localhost:8080/"
        },
        "id": "pBRLLGqOPUtK",
        "outputId": "7a1e3629-e989-4062-bbc3-aa93f989951c"
      },
      "outputs": [
        {
          "name": "stdout",
          "output_type": "stream",
          "text": [
            "\n",
            "\n",
            "\u001b[1m> Entering new RetrievalQAWithSourcesChain chain...\u001b[0m\n",
            "\n",
            "\u001b[1m> Finished chain.\u001b[0m\n"
          ]
        }
      ],
      "source": [
        "response = index.query_with_sources(query, verbose=True, llm=chat_openai)"
      ]
    },
    {
      "cell_type": "code",
      "execution_count": 118,
      "metadata": {
        "colab": {
          "base_uri": "https://localhost:8080/"
        },
        "id": "oBgqTT4gPYs9",
        "outputId": "569bf7ba-389e-4f22-ec42-e6dbfd786efb"
      },
      "outputs": [
        {
          "data": {
            "text/plain": [
              "{'question': 'List 3 revisões muito ruins de clientes, listando com o modelo e o link do produto.',\n",
              " 'answer': \"1. Modelo: Smartphone Motorola Moto G22 Dual 6,5 128gb 4gb Ram Azul\\n   Link: https://produto.mercadolivre.com.br/MLB-2660980219-smartphone-motorola-moto-g22-dual-65-128gb-4gb-ram-azul-_JM#position=48&search_layout=stack&type=item&tracking_id=4703b69b-1b0f-4cc2-b281-a641f81b3281\\n   Revisão Ruim: O smartphone é muito lento, realmente se alguém tivesse me dito isso antes não teria comprado.\\n\\n2. Modelo: Smartphone Moto E13 32gb Tela 6.5'' 2gb Ram Grafite Motorola\\n   Link: https://produto.mercadolivre.com.br/MLB-3140442935-smartphone-moto-e13-32gb-tela-65-2gb-ram-grafite-motorola-_JM#position=54&search_layout=stack&type=item&tracking_id=4703b69b-1b0f-4cc2-b281-a641f81b3281\\n   Revisão Ruim: O áudio do celular estar ruim e os vídeos sair ruim tbm.\\n\\n3. Modelo: Smartphone Samsung Galaxy A14 Dual 6.6 128gb Preto 4gb Ram\\n   Link: https://produto.mercadolivre.com.br/MLB-3315181641-smartphone-samsung-galaxy-a14-dual-66-128gb-preto-4gb-ram-_JM#position=46&search_layout=stack&type=item&tracking_id=4703b69b-1b0f-4cc2-b281-a641f81b3281\\n   Revisão Ruim: A foto fica amarelada quando eu vou fotografar com celular.\\n\",\n",
              " 'sources': 'smartphone_review.csv'}"
            ]
          },
          "execution_count": 118,
          "metadata": {},
          "output_type": "execute_result"
        }
      ],
      "source": [
        "response"
      ]
    },
    {
      "cell_type": "code",
      "execution_count": 119,
      "metadata": {
        "id": "QKHAEHaHpdtm"
      },
      "outputs": [],
      "source": [
        "chat_openai = ChatOpenAI(temperature=0.0, model=model)"
      ]
    },
    {
      "cell_type": "markdown",
      "metadata": {
        "id": "kRr0XTflXpfF"
      },
      "source": [
        "Adicionamente podemos utilizar um loader de PDF e utilizar outros tipos de indexação offline."
      ]
    },
    {
      "cell_type": "code",
      "execution_count": 120,
      "metadata": {
        "colab": {
          "base_uri": "https://localhost:8080/"
        },
        "id": "C5CtuHC9QzKU",
        "outputId": "727293b2-5299-4908-851a-99cdc3b370df"
      },
      "outputs": [
        {
          "name": "stdout",
          "output_type": "stream",
          "text": [
            "Collecting pypdf\n",
            "  Downloading pypdf-5.4.0-py3-none-any.whl.metadata (7.3 kB)\n",
            "Collecting faiss-cpu\n",
            "  Downloading faiss_cpu-1.11.0-cp310-cp310-macosx_14_0_arm64.whl.metadata (4.8 kB)\n",
            "Requirement already satisfied: typing_extensions>=4.0 in /Users/michelpf/.pyenv/versions/3.10.13/lib/python3.10/site-packages (from pypdf) (4.13.2)\n",
            "Requirement already satisfied: numpy<3.0,>=1.25.0 in /Users/michelpf/.pyenv/versions/3.10.13/lib/python3.10/site-packages (from faiss-cpu) (2.2.5)\n",
            "Requirement already satisfied: packaging in /Users/michelpf/.pyenv/versions/3.10.13/lib/python3.10/site-packages (from faiss-cpu) (23.2)\n",
            "Downloading pypdf-5.4.0-py3-none-any.whl (302 kB)\n",
            "Downloading faiss_cpu-1.11.0-cp310-cp310-macosx_14_0_arm64.whl (3.3 MB)\n",
            "\u001b[2K   \u001b[90m━━━━━━━━━━━━━━━━━━━━━━━━━━━━━━━━━━━━━━━━\u001b[0m \u001b[32m3.3/3.3 MB\u001b[0m \u001b[31m6.0 MB/s\u001b[0m eta \u001b[36m0:00:00\u001b[0ma \u001b[36m0:00:01\u001b[0m\n",
            "\u001b[?25hInstalling collected packages: pypdf, faiss-cpu\n",
            "\u001b[2K   \u001b[90m━━━━━━━━━━━━━━━━━━━━━━━━━━━━━━━━━━━━━━━━\u001b[0m \u001b[32m2/2\u001b[0m [faiss-cpu]/2\u001b[0m [faiss-cpu]\n",
            "\u001b[1A\u001b[2KSuccessfully installed faiss-cpu-1.11.0 pypdf-5.4.0\n"
          ]
        }
      ],
      "source": [
        "!pip install pypdf faiss-cpu"
      ]
    },
    {
      "cell_type": "code",
      "execution_count": 121,
      "metadata": {
        "id": "GCBplqqQQ13W"
      },
      "outputs": [],
      "source": [
        "from langchain.document_loaders import PyPDFLoader\n",
        "\n",
        "loader = PyPDFLoader(\"docs/SM-A146M_Emb_BR_Rev.1.2.pdf\")\n",
        "pages = loader.load_and_split()"
      ]
    },
    {
      "cell_type": "markdown",
      "metadata": {
        "id": "1JiK-NDQXvhg"
      },
      "source": [
        "A indexação offline [FAISS](https://python.langchain.com/docs/integrations/vectorstores/faiss) é do Facebook para buscar similiaridade nos textos."
      ]
    },
    {
      "cell_type": "code",
      "execution_count": 123,
      "metadata": {
        "id": "7hkVwt5GRREu"
      },
      "outputs": [],
      "source": [
        "from langchain.vectorstores import FAISS\n",
        "from langchain_openai import OpenAIEmbeddings\n",
        "\n",
        "faiss_index = FAISS.from_documents(pages, OpenAIEmbeddings(chunk_size=10))"
      ]
    },
    {
      "cell_type": "code",
      "execution_count": 124,
      "metadata": {
        "colab": {
          "base_uri": "https://localhost:8080/"
        },
        "id": "zZ_DTqH8zz01",
        "outputId": "22fddae6-2402-45d5-dd0c-ac920983ec56"
      },
      "outputs": [
        {
          "data": {
            "text/plain": [
              "[Document(id='68bf9fda-7498-42f7-9ca2-ed46d6d35c4f', metadata={'producer': 'PyPDF', 'creator': 'PyPDF', 'creationdate': '2023-02-13T14:42:22-04:00', 'moddate': '2023-02-13T14:42:22-04:00', 'source': 'docs/SM-A146M_Emb_BR_Rev.1.2.pdf', 'total_pages': 114, 'page': 12, 'page_label': '13'}, page_content='Primeiros passos\\n13\\nLigar ou desligar seu aparelho\\nSiga todos os avisos e instruções recomendadas pelo pessoal autorizado em áreas \\nonde aparelhos sem fio são proibidos, tais como aviões e hospitais.\\nTecla Lateral\\nLigar o aparelho\\nMantenha pressionada a Tecla Lateral por alguns segundos para ligar o aparelho.\\nDesligar o aparelho\\n1 Para desligar o aparelho, mantenha as teclas Lateral e Diminuir volume pressionadas \\nsimultaneamente. Como alternativa, abra o painel de notificações e toque em \\n .\\n2 Toque em Desligar.\\nPara reiniciar o aparelho, toque em Reiniciar.\\nForçar reinício\\nSe o seu aparelho estiver travado e sem operação, mantenha as teclas Lateral e \\nDiminuir volume pressionadas simultaneamente por aproximadamente 7 segundos \\npara reiniciá-lo.\\nConfiguração inicial\\nAo ligar pela primeira vez ou após executar uma restauração de dados, siga as instruções \\nna tela para configurá-lo.\\nSe você não se conectar a uma rede Wi-Fi, você não conseguirá definir algumas \\nfunções do aparelho durante a configuração inicial.'),\n",
              " Document(id='ef598c17-0184-4f31-a607-765f6d4c81ba', metadata={'producer': 'PyPDF', 'creator': 'PyPDF', 'creationdate': '2023-02-13T14:42:22-04:00', 'moddate': '2023-02-13T14:42:22-04:00', 'source': 'docs/SM-A146M_Emb_BR_Rev.1.2.pdf', 'total_pages': 114, 'page': 107, 'page_label': '108'}, page_content='Apêndice\\n108\\nApêndice\\nSolução de problemas\\nAntes de contatar a Central de Atendimento Samsung, tente as seguintes soluções. \\nAlgumas situações podem não se aplicar ao seu aparelho.\\nVocê também pode usar o Samsung Members para resolver qualquer problema que \\nencontre enquanto usa o aparelho.\\nAo ligar seu aparelho ou enquanto o usa, a inserção de um dos \\nseguintes códigos pode ser solicitada:\\n•  Senha: quando a função de bloqueio do aparelho está ativada, você precisa inserir \\na senha que configurou para desbloqueá-lo.\\n•  PIN: ao usar o aparelho pela primeira vez ou quando a solicitação de PIN está \\nativada, você precisa inserir o PIN fornecido com seu chip. Você pode desativar \\nessa função. Na tela de configurações, toque em Segurança e privacidade → \\nOutras config. de segurança → Conf. bloqueio cartão SIM.\\n•  PUK: seu chip bloqueia normalmente como resultado de inserir seu PIN \\nincorretamente várias vezes. Você deve inserir o PUK fornecido pela sua operadora \\nde serviços.\\n•  PIN2: ao acessar um menu que requer o PIN2, precisa ser inserido o PIN2 fornecido \\ncom o chip. Para maiores detalhes, contate sua operadora de serviços.\\nSeu aparelho exibe mensagens de erro de rede ou falha no serviço\\n•  Quando você está em áreas com sinal fraco ou recepção fraca, você pode perder a \\nrecepção do sinal. Vá para outra área e tente novamente. Ao se mover, mensagens \\nde erro podem aparecer repetidamente.\\n•  Você pode não acessar algumas opções sem um plano de dados. Para maiores \\ndetalhes, contate sua operadora de serviços.\\nSeu aparelho não liga\\nQuando a bateria estiver completamente descarregada, seu aparelho não ligará. \\nCarregue a bateria completamente antes de ligar o aparelho.'),\n",
              " Document(id='624d8391-7c4c-443d-ab22-b70c4fd17b8b', metadata={'producer': 'PyPDF', 'creator': 'PyPDF', 'creationdate': '2023-02-13T14:42:22-04:00', 'moddate': '2023-02-13T14:42:22-04:00', 'source': 'docs/SM-A146M_Emb_BR_Rev.1.2.pdf', 'total_pages': 114, 'page': 109, 'page_label': '110'}, page_content='Apêndice\\n110\\nAs chamadas recebidas não são conectadas\\n•  Certifique-se de que acessou a rede de telefonia correta.\\n•  Certifique-se de que não configurou a restrição de chamada para o número que \\nestá ligando.\\n•  Certifique-se de que você não configurou a restrição de chamada para o número \\nque está recebendo a chamada.\\nAs pessoas não conseguem ouvi-lo durante uma chamada\\n•  Certifique-se de que você não está bloqueando o microfone.\\n•  Certifique-se de que o microfone está próximo à sua boca.\\n•  Se você estiver utilizando um fone de ouvido, certifique-se de que ele está \\ncorretamente conectado.\\nO som ecoa durante uma chamada\\nAjuste o volume ao pressionar a Tecla Volume ou vá para outra área.\\nA rede móvel ou a internet é desconectada muitas vezes ou a \\nqualidade do áudio é ruim\\n•  Certifique-se de que você não está bloqueando a antena interna do aparelho.\\n•  Quando você está em áreas com sinal fraco ou recepção fraca, você pode perder a \\nrecepção do sinal. Você poderá ter problemas de conectividade devido a problemas \\ncom a estação rádio base da operadora. Vá para outra área e tente novamente.\\n•  Quando utilizar o aparelho em movimento, os serviços de rede sem fio poderão ser \\ndesativados devido a problemas com a rede da operadora.\\nA bateria não carrega corretamente (Em caso de utilizar \\ncarregadores Samsung)\\n•  Certifique-se de que o carregador está conectado corretamente.\\n•  Visite um Centro de Serviços Samsung para trocar a bateria.\\n•  Para carregadores não Samsung, contate o fabricante do carregador.'),\n",
              " Document(id='b09eb8aa-81ef-4329-b11f-d84f47c2e6b5', metadata={'producer': 'PyPDF', 'creator': 'PyPDF', 'creationdate': '2023-02-13T14:42:22-04:00', 'moddate': '2023-02-13T14:42:22-04:00', 'source': 'docs/SM-A146M_Emb_BR_Rev.1.2.pdf', 'total_pages': 114, 'page': 7, 'page_label': '8'}, page_content='Primeiros passos\\n8\\n • Para economizar energia, desconecte o carregador da tomada quando não \\nestiver em uso. O carregador não possui um botão de liga e desliga, então você \\ndeve retirar da tomada para evitar desperdício de energia. O carregador deve \\npermanecer na tomada e facilmente acessível enquanto carregar.\\n • Ao usar um carregador, é recomendável usar um aprovado que garanta o \\ndesempenho do carregamento.\\n • Se a bateria estiver completamente descarregada, você não conseguirá ligar o \\naparelho, mesmo que o carregador esteja conectado. Aguarde a bateria carregar \\npor alguns minutos antes de tentar ligar o aparelho.\\n • Se utilizar vários aplicativos ao mesmo tempo, tais como aplicativos de rede ou \\naplicativos que precisem da conexão de outro aparelho, a bateria descarregará \\nrapidamente. Para evitar desconexão da rede ou esgotar a bateria durante \\numa transferência de dados, use sempre esses aplicativos após carregar \\ncompletamente a bateria.\\n • Usar uma fonte de energia diferente do carregador USB, por exemplo, um \\ncomputador, pode resultar em lentidão ao carregar a bateria devido à corrente \\nelétrica ser mais baixa.\\n • O aparelho pode ser utilizado enquanto carrega, porém pode levar mais tempo \\npara carregar a bateria completamente.\\n • Se o aparelho receber uma fonte de alimentação instável enquanto carrega, o \\ntouch screen pode não funcionar. Se isto acontecer, desconecte o carregador.\\n • O aparelho pode aquecer enquanto carrega. Isto é normal e não deve afetar a \\nvida útil ou desempenho dele. Se a bateria aquecer mais do que o normal, o \\ncarregador pode parar de funcionar.\\n • Se o seu aparelho não carregar adequadamente, leve para um Centro de Serviços \\nSamsung.')]"
            ]
          },
          "execution_count": 124,
          "metadata": {},
          "output_type": "execute_result"
        }
      ],
      "source": [
        "query = \"O que fazer se o aparelho não liga?\"\n",
        "docs = faiss_index.similarity_search(query)\n",
        "docs"
      ]
    },
    {
      "cell_type": "code",
      "execution_count": 125,
      "metadata": {
        "colab": {
          "base_uri": "https://localhost:8080/"
        },
        "id": "IOgfacfn0B_8",
        "outputId": "fc6971dd-9de1-45ef-82e0-b3d18da0fb8a"
      },
      "outputs": [
        {
          "name": "stdout",
          "output_type": "stream",
          "text": [
            "12: Primeiros passos\n",
            "13\n",
            "Ligar ou desligar seu aparelho\n",
            "Siga todos os avisos e instruções recomendadas pelo pessoal autorizado em áreas \n",
            "onde aparelhos sem fio são proibidos, tais como aviões e hospitais.\n",
            "Tecla Lateral\n",
            "Ligar o aparelho\n",
            "Mantenha pressionada a Tecla Lateral por alguns segundos para ligar o aparelho.\n",
            "Desligar o aparelho\n",
            "1 Para desligar o aparelho, mantenha as teclas Lateral e Diminuir volume pressionadas \n",
            "simultaneamente. Como alternativa, abra o painel de notificações e toque em \n",
            " .\n",
            "2 Toque em Desligar.\n",
            "Para reiniciar o aparelho, toque em Reiniciar.\n",
            "Forçar reinício\n",
            "Se o seu aparelho estiver travado e sem operação, mantenha as teclas Lateral e \n",
            "Diminuir volume pressionadas simultaneamente por aproximadamente 7 segundos \n",
            "para reiniciá-lo.\n",
            "Configuração inicial\n",
            "Ao ligar pela primeira vez ou após executar uma restauração de dados, siga as instruções \n",
            "na tela para configurá-lo.\n",
            "Se você não se conectar a uma rede Wi-Fi, você não conseguirá definir algumas \n",
            "funções do aparelho durante a configuração inicial.\n",
            "107: Apêndice\n",
            "108\n",
            "Apêndice\n",
            "Solução de problemas\n",
            "Antes de contatar a Central de Atendimento Samsung, tente as seguintes soluções. \n",
            "Algumas situações podem não se aplicar ao seu aparelho.\n",
            "Você também pode usar o Samsung Members para resolver qualquer problema que \n",
            "encontre enquanto usa o aparelho.\n",
            "Ao ligar seu aparelho ou enquanto o usa, a inserção de um dos \n",
            "seguintes códigos pode ser solicitada:\n",
            "•  Senha: quando a função de bloqueio do aparelho está ativada, você precisa inserir \n",
            "a senha que configurou para desbloqueá-lo.\n",
            "•  PIN: ao usar o aparelho pela primeira vez ou quando a solicitação de PIN está \n",
            "ativada, você precisa inserir o PIN fornecido com seu chip. Você pode desativar \n",
            "essa função. Na tela de configurações, toque em Segurança e privacidade → \n",
            "Outras config. de segurança → Conf. bloqueio cartão SIM.\n",
            "•  PUK: seu chip bloqueia normalmente como resultado de inserir seu PIN \n",
            "incorretamente várias vezes. Você deve inserir o PUK fornecido pela sua operadora \n",
            "de serviços.\n",
            "•  PIN2: ao acessar um menu que requer o PIN2, precisa ser inserido o PIN2 fornecido \n",
            "com o chip. Para maiores detalhes, contate sua operadora de serviços.\n",
            "Seu aparelho exibe mensagens de erro de rede ou falha no serviço\n",
            "•  Quando você está em áreas com sinal fraco ou recepção fraca, você pode perder a \n",
            "recepção do sinal. Vá para outra área e tente novamente. Ao se mover, mensagens \n",
            "de erro podem aparecer repetidamente.\n",
            "•  Você pode não acessar algumas opções sem um plano de dados. Para maiores \n",
            "detalhes, contate sua operadora de serviços.\n",
            "Seu aparelho não liga\n",
            "Quando a bateria estiver completamente descarregada, seu aparelho não ligará. \n",
            "Carregue a bateria completamente antes de ligar o aparelho.\n",
            "109: Apêndice\n",
            "110\n",
            "As chamadas recebidas não são conectadas\n",
            "•  Certifique-se de que acessou a rede de telefonia correta.\n",
            "•  Certifique-se de que não configurou a restrição de chamada para o número que \n",
            "está ligando.\n",
            "•  Certifique-se de que você não configurou a restrição de chamada para o número \n",
            "que está recebendo a chamada.\n",
            "As pessoas não conseguem ouvi-lo durante uma chamada\n",
            "•  Certifique-se de que você não está bloqueando o microfone.\n",
            "•  Certifique-se de que o microfone está próximo à sua boca.\n",
            "•  Se você estiver utilizando um fone de ouvido, certifique-se de que ele está \n",
            "corretamente conectado.\n",
            "O som ecoa durante uma chamada\n",
            "Ajuste o volume ao pressionar a Tecla Volume ou vá para outra área.\n",
            "A rede móvel ou a internet é desconectada muitas vezes ou a \n",
            "qualidade do áudio é ruim\n",
            "•  Certifique-se de que você não está bloqueando a antena interna do aparelho.\n",
            "•  Quando você está em áreas com sinal fraco ou recepção fraca, você pode perder a \n",
            "recepção do sinal. Você poderá ter problemas de conectividade devido a problemas \n",
            "com a estação rádio base da operadora. Vá para outra área e tente novamente.\n",
            "•  Quando utilizar o aparelho em movimento, os serviços de rede sem fio poderão ser \n",
            "desativados devido a problemas com a rede da operadora.\n",
            "A bateria não carrega corretamente (Em caso de utilizar \n",
            "carregadores Samsung)\n",
            "•  Certifique-se de que o carregador está conectado corretamente.\n",
            "•  Visite um Centro de Serviços Samsung para trocar a bateria.\n",
            "•  Para carregadores não Samsung, contate o fabricante do carregador.\n",
            "7: Primeiros passos\n",
            "8\n",
            " • Para economizar energia, desconecte o carregador da tomada quando não \n",
            "estiver em uso. O carregador não possui um botão de liga e desliga, então você \n",
            "deve retirar da tomada para evitar desperdício de energia. O carregador deve \n",
            "permanecer na tomada e facilmente acessível enquanto carregar.\n",
            " • Ao usar um carregador, é recomendável usar um aprovado que garanta o \n",
            "desempenho do carregamento.\n",
            " • Se a bateria estiver completamente descarregada, você não conseguirá ligar o \n",
            "aparelho, mesmo que o carregador esteja conectado. Aguarde a bateria carregar \n",
            "por alguns minutos antes de tentar ligar o aparelho.\n",
            " • Se utilizar vários aplicativos ao mesmo tempo, tais como aplicativos de rede ou \n",
            "aplicativos que precisem da conexão de outro aparelho, a bateria descarregará \n",
            "rapidamente. Para evitar desconexão da rede ou esgotar a bateria durante \n",
            "uma transferência de dados, use sempre esses aplicativos após carregar \n",
            "completamente a bateria.\n",
            " • Usar uma fonte de energia diferente do carregador USB, por exemplo, um \n",
            "computador, pode resultar em lentidão ao carregar a bateria devido à corrente \n",
            "elétrica ser mais baixa.\n",
            " • O aparelho pode ser utilizado enquanto carrega, porém pode levar mais tempo \n",
            "para carregar a bateria completamente.\n",
            " • Se o aparelho receber uma fonte de alimentação instável enquanto carrega, o \n",
            "touch screen pode não funcionar. Se isto acontecer, desconecte o carregador.\n",
            " • O aparelho pode aquecer enquanto carrega. Isto é normal e não deve afetar a \n",
            "vida útil ou desempenho dele. Se a bateria aquecer mais do que o normal, o \n",
            "carregador pode parar de funcionar.\n",
            " • Se o seu aparelho não carregar adequadamente, leve para um Centro de Serviços \n",
            "Samsung.\n"
          ]
        }
      ],
      "source": [
        "for doc in docs:\n",
        "    print(str(doc.metadata[\"page\"]) + \":\", doc.page_content)"
      ]
    },
    {
      "cell_type": "markdown",
      "metadata": {
        "id": "0ISjbxymX4IS"
      },
      "source": [
        "Ou podemos fazer a mesma coisa que fizemos com o arquivo CSV e criar os embeddings e depois buscar pelo índice, trazendo o modelo de LLM para ajudar na busca do mesmo."
      ]
    },
    {
      "cell_type": "code",
      "execution_count": null,
      "metadata": {
        "colab": {
          "base_uri": "https://localhost:8080/"
        },
        "id": "6ch4anMRRRKH",
        "outputId": "36bd629c-3a06-4ba1-910c-e0508997b6c2"
      },
      "outputs": [],
      "source": [
        "embedding_model = OpenAIEmbeddings(chunk_size=10)\n",
        "index = VectorstoreIndexCreator(vectorstore_cls=FAISS, embedding=embedding_model).from_loaders([loader])"
      ]
    },
    {
      "cell_type": "code",
      "execution_count": 127,
      "metadata": {
        "id": "2m5zu95HSnVm"
      },
      "outputs": [],
      "source": [
        "query = \"O que fazer se o aparelho não ligar?\""
      ]
    },
    {
      "cell_type": "code",
      "execution_count": 128,
      "metadata": {
        "id": "CWzC7QV8RRMe"
      },
      "outputs": [],
      "source": [
        "response = index.query(query, llm=chat_openai)"
      ]
    },
    {
      "cell_type": "code",
      "execution_count": 129,
      "metadata": {
        "colab": {
          "base_uri": "https://localhost:8080/",
          "height": 98
        },
        "id": "sQ-IjrxrSr2W",
        "outputId": "b6f3936a-ef03-44ae-aaad-6b0ed015202b"
      },
      "outputs": [
        {
          "data": {
            "text/markdown": [
              "Se o seu aparelho não ligar, mesmo estando conectado ao carregador, pode ser necessário aguardar alguns minutos para permitir que a bateria se recarregue o suficiente para ligar o aparelho. Se mesmo após esperar um tempo a situação persistir, você pode tentar forçar o reinício do aparelho mantendo as teclas Lateral e Diminuir volume pressionadas por mais de 7 segundos. Se ainda assim o problema não for resolvido, você pode tentar restaurar o aparelho para as configurações de fábrica. Lembre-se de fazer um backup de todos os dados importantes antes de executar essa ação."
            ],
            "text/plain": [
              "<IPython.core.display.Markdown object>"
            ]
          },
          "execution_count": 129,
          "metadata": {},
          "output_type": "execute_result"
        }
      ],
      "source": [
        "display_markdown(response)"
      ]
    },
    {
      "cell_type": "code",
      "execution_count": 130,
      "metadata": {
        "id": "1fCrPWkHSzCO"
      },
      "outputs": [],
      "source": [
        "response = index.query_with_sources(query, llm=chat_openai)"
      ]
    },
    {
      "cell_type": "code",
      "execution_count": 131,
      "metadata": {
        "colab": {
          "base_uri": "https://localhost:8080/"
        },
        "id": "UgS5JemaSzJc",
        "outputId": "03b141d2-7904-43d1-9a97-ff708d0153f9"
      },
      "outputs": [
        {
          "data": {
            "text/plain": [
              "{'question': 'O que fazer se o aparelho não ligar?',\n",
              " 'answer': 'Se o aparelho não ligar, é recomendado forçar um reinício mantendo as teclas Lateral e Diminuir volume pressionadas por mais de 7 segundos. Se o problema persistir, é aconselhável executar uma restauração para o padrão de fábrica. Certifique-se de fazer um backup de todos os dados importantes antes de prosseguir com a restauração.\\n',\n",
              " 'sources': 'docs/SM-A146M_Emb_BR_Rev.1.2.pdf'}"
            ]
          },
          "execution_count": 131,
          "metadata": {},
          "output_type": "execute_result"
        }
      ],
      "source": [
        "response"
      ]
    },
    {
      "cell_type": "markdown",
      "metadata": {
        "id": "uXwNhHQDNqCy"
      },
      "source": [
        "## Agentes\n",
        "\n",
        "Os agentes são ações que podem ser disparados a partir dos modelos LLM.\n",
        "\n",
        "A idéia principal é que cada agente possui um \"pensamento\", uma determinação de qual \"ação\" realizar e depois delegar ao \"agente\" especificado, dentro das descrições passadas."
      ]
    },
    {
      "cell_type": "code",
      "execution_count": 132,
      "metadata": {
        "colab": {
          "base_uri": "https://localhost:8080/"
        },
        "id": "iS24ywdW6ld7",
        "outputId": "35b92a6c-9957-4fb1-f678-bad15af01394"
      },
      "outputs": [
        {
          "name": "stdout",
          "output_type": "stream",
          "text": [
            "Collecting langchainhub\n",
            "  Downloading langchainhub-0.1.21-py3-none-any.whl.metadata (659 bytes)\n",
            "Requirement already satisfied: packaging<25,>=23.2 in /Users/michelpf/.pyenv/versions/3.10.13/lib/python3.10/site-packages (from langchainhub) (23.2)\n",
            "Requirement already satisfied: requests<3,>=2 in /Users/michelpf/.pyenv/versions/3.10.13/lib/python3.10/site-packages (from langchainhub) (2.31.0)\n",
            "Requirement already satisfied: types-requests<3.0.0.0,>=2.31.0.2 in /Users/michelpf/.pyenv/versions/3.10.13/lib/python3.10/site-packages (from langchainhub) (2.32.0.20250328)\n",
            "Requirement already satisfied: charset-normalizer<4,>=2 in /Users/michelpf/.pyenv/versions/3.10.13/lib/python3.10/site-packages (from requests<3,>=2->langchainhub) (3.3.2)\n",
            "Requirement already satisfied: idna<4,>=2.5 in /Users/michelpf/.pyenv/versions/3.10.13/lib/python3.10/site-packages (from requests<3,>=2->langchainhub) (3.6)\n",
            "Requirement already satisfied: urllib3<3,>=1.21.1 in /Users/michelpf/.pyenv/versions/3.10.13/lib/python3.10/site-packages (from requests<3,>=2->langchainhub) (2.0.7)\n",
            "Requirement already satisfied: certifi>=2017.4.17 in /Users/michelpf/.pyenv/versions/3.10.13/lib/python3.10/site-packages (from requests<3,>=2->langchainhub) (2024.2.2)\n",
            "Downloading langchainhub-0.1.21-py3-none-any.whl (5.2 kB)\n",
            "Installing collected packages: langchainhub\n",
            "Successfully installed langchainhub-0.1.21\n"
          ]
        }
      ],
      "source": [
        "!pip install langchainhub"
      ]
    },
    {
      "cell_type": "code",
      "execution_count": 169,
      "metadata": {
        "id": "4eOFJDdkNrsV"
      },
      "outputs": [],
      "source": [
        "from langchain.agents import load_tools\n",
        "from langchain.agents import AgentType, Tool, create_json_chat_agent, create_react_agent, AgentExecutor\n",
        "from langchain_openai import ChatOpenAI"
      ]
    },
    {
      "cell_type": "code",
      "execution_count": 138,
      "metadata": {
        "id": "P6f39KTkMcEj"
      },
      "outputs": [
        {
          "name": "stderr",
          "output_type": "stream",
          "text": [
            "/Users/michelpf/.pyenv/versions/3.10.13/lib/python3.10/site-packages/langsmith/client.py:272: LangSmithMissingAPIKeyWarning: API key must be provided when using hosted LangSmith API\n",
            "  warnings.warn(\n"
          ]
        }
      ],
      "source": [
        "from langchain import hub\n",
        "\n",
        "prompt = hub.pull(\"hwchase17/react-chat-json\")"
      ]
    },
    {
      "cell_type": "code",
      "execution_count": 139,
      "metadata": {},
      "outputs": [],
      "source": [
        "model = \"gpt-4.1-mini\""
      ]
    },
    {
      "cell_type": "code",
      "execution_count": 140,
      "metadata": {
        "id": "XcWX4u4RAsLH"
      },
      "outputs": [],
      "source": [
        "chat_openai = ChatOpenAI(temperature=0, model=model)"
      ]
    },
    {
      "cell_type": "markdown",
      "metadata": {
        "id": "LSSS0TgYYQxW"
      },
      "source": [
        "Vamos carregar a ferramenta (ou agente) para operações matemáticas."
      ]
    },
    {
      "cell_type": "code",
      "execution_count": 142,
      "metadata": {},
      "outputs": [
        {
          "name": "stdout",
          "output_type": "stream",
          "text": [
            "Collecting numexpr\n",
            "  Downloading numexpr-2.10.2-cp310-cp310-macosx_11_0_arm64.whl.metadata (8.1 kB)\n",
            "Requirement already satisfied: numpy>=1.23.0 in /Users/michelpf/.pyenv/versions/3.10.13/lib/python3.10/site-packages (from numexpr) (2.2.5)\n",
            "Downloading numexpr-2.10.2-cp310-cp310-macosx_11_0_arm64.whl (134 kB)\n",
            "Installing collected packages: numexpr\n",
            "Successfully installed numexpr-2.10.2\n"
          ]
        }
      ],
      "source": [
        "!pip install numexpr"
      ]
    },
    {
      "cell_type": "code",
      "execution_count": 143,
      "metadata": {
        "id": "FptZBDmdAzgF"
      },
      "outputs": [],
      "source": [
        "tools = load_tools([\"llm-math\"], llm=chat_openai)"
      ]
    },
    {
      "cell_type": "code",
      "execution_count": 144,
      "metadata": {
        "id": "YEttIBDN7b2D"
      },
      "outputs": [],
      "source": [
        "agent = create_json_chat_agent(\n",
        "    chat_openai,\n",
        "    tools,\n",
        "    prompt)"
      ]
    },
    {
      "cell_type": "code",
      "execution_count": 145,
      "metadata": {
        "id": "dtTt2UviM-vw"
      },
      "outputs": [],
      "source": [
        "agent_executor = AgentExecutor(\n",
        "    agent=agent, tools=tools, verbose=True, handle_parsing_errors=True\n",
        ")"
      ]
    },
    {
      "cell_type": "code",
      "execution_count": 146,
      "metadata": {
        "colab": {
          "base_uri": "https://localhost:8080/"
        },
        "id": "dR-7m-npNCfa",
        "outputId": "8534436c-7f94-432c-b0cd-dd062fc6d28c"
      },
      "outputs": [
        {
          "name": "stdout",
          "output_type": "stream",
          "text": [
            "\n",
            "\n",
            "\u001b[1m> Entering new AgentExecutor chain...\u001b[0m\n",
            "\u001b[32;1m\u001b[1;3m```json\n",
            "{\n",
            "  \"action\": \"Calculator\",\n",
            "  \"action_input\": \"sqrt(5) - 0.75\"\n",
            "}\n",
            "```\u001b[0m\u001b[36;1m\u001b[1;3mAnswer: 1.4860679774997898\u001b[0m\u001b[32;1m\u001b[1;3m```json\n",
            "{\n",
            "  \"action\": \"Final Answer\",\n",
            "  \"action_input\": \"A raiz quadrada de 5 menos 0,75 é aproximadamente 1,49.\"\n",
            "}\n",
            "```\u001b[0m\n",
            "\n",
            "\u001b[1m> Finished chain.\u001b[0m\n"
          ]
        },
        {
          "data": {
            "text/plain": [
              "{'input': 'Quanto é raiz quadrada de 5 menos 0,75?',\n",
              " 'output': 'A raiz quadrada de 5 menos 0,75 é aproximadamente 1,49.'}"
            ]
          },
          "execution_count": 146,
          "metadata": {},
          "output_type": "execute_result"
        }
      ],
      "source": [
        "agent_executor.invoke({\"input\": \"Quanto é raiz quadrada de 5 menos 0,75?\"})"
      ]
    },
    {
      "cell_type": "markdown",
      "metadata": {
        "id": "gsOf02KgYla3"
      },
      "source": [
        "Podemos escolher outra ferramenta, neste caso o Wikipedia, para interagir com os dados armazenados."
      ]
    },
    {
      "cell_type": "code",
      "execution_count": 147,
      "metadata": {
        "id": "7iicA-9jOSJq"
      },
      "outputs": [],
      "source": [
        "tools = load_tools([\"wikipedia\"], llm=chat_openai)"
      ]
    },
    {
      "cell_type": "code",
      "execution_count": 148,
      "metadata": {
        "id": "T8zGlR_DNyzB"
      },
      "outputs": [
        {
          "name": "stderr",
          "output_type": "stream",
          "text": [
            "/Users/michelpf/.pyenv/versions/3.10.13/lib/python3.10/site-packages/langsmith/client.py:272: LangSmithMissingAPIKeyWarning: API key must be provided when using hosted LangSmith API\n",
            "  warnings.warn(\n"
          ]
        }
      ],
      "source": [
        "prompt = hub.pull(\"hwchase17/react\")"
      ]
    },
    {
      "cell_type": "code",
      "execution_count": 149,
      "metadata": {
        "id": "6ShsI5iINcb8"
      },
      "outputs": [],
      "source": [
        "agent = create_react_agent(\n",
        "    chat_openai,\n",
        "    tools,\n",
        "    prompt)"
      ]
    },
    {
      "cell_type": "code",
      "execution_count": 150,
      "metadata": {
        "id": "MpwxW5WLNcvy"
      },
      "outputs": [],
      "source": [
        "agent_executor = AgentExecutor(\n",
        "    agent=agent, tools=tools, verbose=True, handle_parsing_errors=True\n",
        ")"
      ]
    },
    {
      "cell_type": "code",
      "execution_count": 151,
      "metadata": {
        "colab": {
          "base_uri": "https://localhost:8080/"
        },
        "id": "QPWu3mXGPe1h",
        "outputId": "6c466f9e-54f9-4226-a2c3-8abebc5d2c4b"
      },
      "outputs": [
        {
          "name": "stdout",
          "output_type": "stream",
          "text": [
            "\n",
            "\n",
            "\u001b[1m> Entering new AgentExecutor chain...\u001b[0m\n",
            "\u001b[32;1m\u001b[1;3mQuestion: Quem é o fundador da Gurgel?\n",
            "Thought: Para responder a essa pergunta, vou buscar informações sobre a Gurgel no Wikipedia para identificar quem é o fundador da empresa.\n",
            "Action: wikipedia\n",
            "Action Input: Gurgel (empresa)\u001b[0m\u001b[36;1m\u001b[1;3mPage: Flávio Rocha\n",
            "Summary: Flávio Gurgel Rocha (born 14 February 1958) is a Brazilian former federal deputy and businessman, current CEO and Chairman of Lojas Riachuelo, one of the largest retailers in the country.\n",
            "\n",
            "Page: Social security in Brazil\n",
            "Summary: Social security in Brazil has its origins in the 1824 Constitution, through a 'public aid' system supported by private initiatives, such as the Santa Casa de Misericórdia. Social security, along with public health and social assistance, forms part of the broader social welfare system. The Instituto Nacional do Seguro Social (National Social Security Institute - INSS), responsible for managing social security benefits, was established by Decree No. 99,350 on June 27, 1990. The INSS resulted from the merger of the Instituto de Administração Financeira da Previdência e Assistência Social (IAPAS), founded in 1977, and the Instituto Nacional de Previdência Social (INPS), created in 1966.\n",
            "\n",
            "\n",
            "\n",
            "Page: Automotive industry in Brazil\n",
            "Summary: The Brazilian automotive industry is coordinated by the Associação Nacional dos Fabricantes de Veículos Automotores (Anfavea), created in 1956, which includes automakers (cars, light vehicles, trucks, buses and agriculture machines) with factories in Brazil. Anfavea is part of the Organisation Internationale des Constructeurs d'Automobiles (OICA), based in Paris. In 2021, the annual production exceeded 2.2 million vehicles, the 8th largest in the world.\n",
            "Most large global automotive companies are present in Brazil, such as: BMW, BYD, Chery, Fiat, Ford, Geely, General Motors, Honda, Hyundai, JAC Motors, Kia, Land Rover, Lexus, Lifan, Mercedes-Benz, Mitsubishi, Nissan Motors, Renault, Stellantis, Subaru, Toyota, Volkswagen, Volvo Trucks, among others, as well as national companies such as Agrale, Marcopolo, Randon, and more. In the past there were national brands such as DKW Vemag, FNM, Gurgel, and Troller. Some traditionally produced modern equipped replicas of older models.\u001b[0m\u001b[32;1m\u001b[1;3mThought: The search for \"Gurgel (empresa)\" did not return a direct answer about the founder of Gurgel, but it did mention the company in the context of the Brazilian automotive industry. I know Gurgel is a Brazilian car manufacturer. I will try searching specifically for \"Gurgel fundador\" to find the founder's name.\n",
            "\n",
            "Action: wikipedia\n",
            "Action Input: Gurgel fundador\u001b[0m\u001b[36;1m\u001b[1;3mPage: João do Amaral Gurgel\n",
            "Summary: João Augusto Conrado do Amaral Gurgel (March 26, 1926 – January 30, 2009) was a Brazilian engineer and businessman. He founded Gurgel Motores, a Brazilian automobile manufacturer, in 1969, with the aim of producing vehicles entirely made in Brazil. The company's initial models featured fiberglass bodies mounted on Volkswagen Beetle (Fusca) chassis and machinery.\n",
            "During the São Paulo International Motor Show in 1974, Gurgel presented the Itaipu, a two-seater minicar that became the first electric vehicle developed in Latin America. Later on, he introduced the BR-800, the first fully designed and manufactured car made in Brazil.\n",
            "However, Gurgel faced challenges over the years and eventually ceased operations in 1996.\n",
            "\n",
            "Page: Deaths in January 2009\n",
            "Summary: \n",
            "\n",
            "Page: 2017 in Brazil\n",
            "Summary: Events in the year 2017 in Brazil.\u001b[0m\u001b[32;1m\u001b[1;3mThought: The search for \"Gurgel fundador\" returned a clear answer that João Augusto Conrado do Amaral Gurgel is the founder of Gurgel Motores, a Brazilian automobile manufacturer.\n",
            "Final Answer: O fundador da Gurgel é João Augusto Conrado do Amaral Gurgel.\u001b[0m\n",
            "\n",
            "\u001b[1m> Finished chain.\u001b[0m\n"
          ]
        },
        {
          "data": {
            "text/plain": [
              "{'input': 'Quem é o fundador da Gurgel?',\n",
              " 'output': 'O fundador da Gurgel é João Augusto Conrado do Amaral Gurgel.'}"
            ]
          },
          "execution_count": 151,
          "metadata": {},
          "output_type": "execute_result"
        }
      ],
      "source": [
        "agent_executor.invoke({\"input\": \"Quem é o fundador da Gurgel?\"})"
      ]
    },
    {
      "cell_type": "markdown",
      "metadata": {
        "id": "VhuECQOAYtIS"
      },
      "source": [
        "Existem diversos tipos de ferramentas que podem ser utilizadas, como por exemplo o acesso ao Pubmed, um repositório de artigos médicos."
      ]
    },
    {
      "cell_type": "code",
      "execution_count": 168,
      "metadata": {
        "id": "hmmzdVdIPwSz"
      },
      "outputs": [],
      "source": [
        "from langchain_community.tools.pubmed.tool import PubmedQueryRun"
      ]
    },
    {
      "cell_type": "code",
      "execution_count": null,
      "metadata": {
        "colab": {
          "base_uri": "https://localhost:8080/",
          "height": 174
        },
        "id": "nIFkeCIBPx07",
        "outputId": "d9c6b086-677d-4f4b-9f09-dc892faf50e2"
      },
      "outputs": [
        {
          "data": {
            "text/plain": [
              "'Published: 2017-03-23\\nTitle: Clinical outcomes and survival in AA amyloidosis patients.\\nCopyright Information: Copyright © 2017. Published by Elsevier Editora Ltda.\\nSummary::\\nAIM: Amyloid A amyloidosis is a rare complication of chronic inflammatory conditions. Most patients with amyloid A amyloidosis present with nephropathy and it leads to renal failure and death. We studied clinical characteristics and survival in patients with amyloid A amyloidosis.\\nMETHODS: A total of 81 patients (51 males, 30 females) with renal biopsy proven amyloid A amyloidosis were analyzed retrospectively. The patients were divided into good and poor outcomes groups according to survival results.\\nRESULTS: Most of the patients (55.6%) had nephrotic range proteinuria at diagnosis. Most frequent underlying disorders were familial Mediterranean fever (21.2%) and rheumatoid arthritis (10.6%) in the good outcome group and malignancy (20%) in the poor outcome group. Only diastolic blood pressure in the good outcome group and phosphorus level in the poor outcome group was higher. Serum creatinine levels increased after treatment in both groups, while proteinuria in the good outcome group decreased. Increase in serum creatinine and decrease in estimated glomerular filtration rate of the poor outcome group were more significant in the good outcome group. At the time of diagnosis 18.5% and 27.2% of all patients had advanced chronic kidney disease (stage 4 and 5, respectively). Median duration of renal survival was 65±3.54 months. Among all patients, 27.1% were started dialysis treatment during the follow-up period and 7.4% of all patients underwent kidney transplantation. Higher levels of systolic blood pressure [hazard ratios 1.03, 95% confidence interval: 1-1.06, p=0.036], serum creatinine (hazard ratios 1.25, 95% confidence interval: 1.07-1.46, p=0.006) and urinary protein excretion (hazard ratios 1.08, 95% confidence interval: 1.01-1.16, p=0.027) were predictors of end-stage renal disease. Median'"
            ]
          },
          "execution_count": 153,
          "metadata": {},
          "output_type": "execute_result"
        }
      ],
      "source": [
        "tool = PubmedQueryRun()\n",
        "\n",
        "tool.run(\"Febre Familiar do Mediterrâneo\")"
      ]
    },
    {
      "cell_type": "code",
      "execution_count": 154,
      "metadata": {
        "id": "Liy2b1uWN792"
      },
      "outputs": [
        {
          "name": "stderr",
          "output_type": "stream",
          "text": [
            "/Users/michelpf/.pyenv/versions/3.10.13/lib/python3.10/site-packages/langsmith/client.py:272: LangSmithMissingAPIKeyWarning: API key must be provided when using hosted LangSmith API\n",
            "  warnings.warn(\n"
          ]
        }
      ],
      "source": [
        "prompt = hub.pull(\"hwchase17/react\")"
      ]
    },
    {
      "cell_type": "code",
      "execution_count": 170,
      "metadata": {},
      "outputs": [],
      "source": [
        "pubmed_tool = PubmedQueryRun()\n",
        "\n",
        "tool = Tool(\n",
        "    name=\"PubMed\",\n",
        "    func=pubmed_tool.run,\n",
        "    description=\"Use esta ferramenta para pesquisar artigos científicos no PubMed. Forneça um termo de busca como entrada.\"\n",
        ")\n"
      ]
    },
    {
      "cell_type": "code",
      "execution_count": 171,
      "metadata": {
        "id": "NUS-mJ_qN-wx"
      },
      "outputs": [],
      "source": [
        "agent = create_react_agent(\n",
        "    chat_openai,\n",
        "    [tool],\n",
        "    prompt)"
      ]
    },
    {
      "cell_type": "code",
      "execution_count": 172,
      "metadata": {
        "id": "KCJQ3vN5OBka"
      },
      "outputs": [],
      "source": [
        "agent_executor = AgentExecutor(\n",
        "    agent=agent, tools=[tool], verbose=True, handle_parsing_errors=True\n",
        ")"
      ]
    },
    {
      "cell_type": "code",
      "execution_count": 174,
      "metadata": {
        "colab": {
          "base_uri": "https://localhost:8080/"
        },
        "id": "QVkbQB16QISn",
        "outputId": "3e48b947-c0ee-4f74-b873-826a43470beb"
      },
      "outputs": [
        {
          "name": "stdout",
          "output_type": "stream",
          "text": [
            "\n",
            "\n",
            "\u001b[1m> Entering new AgentExecutor chain...\u001b[0m\n",
            "\u001b[32;1m\u001b[1;3mThought: Para relacionar a Febre Familiar do Mediterrâneo (FFM) com alergias, preciso buscar artigos científicos que abordem a associação entre essa doença autoinflamatória e manifestações alérgicas ou condições alérgicas. Vou pesquisar no PubMed usando termos que combinem \"Familial Mediterranean Fever\" e \"allergies\" ou \"allergic reactions\".\n",
            "\n",
            "Action: PubMed\n",
            "Action Input: \"Familial Mediterranean Fever AND allergies\"\n",
            "\u001b[0m\u001b[36;1m\u001b[1;3mPublished: 2025-04-29\n",
            "Title: Pediatric Systemic Autoinflammatory Disorders: An Overview.\n",
            "Copyright Information: © 2025. The Author(s), under exclusive licence to Springer Science+Business Media, LLC, part of Springer Nature.\n",
            "Summary::\n",
            "PURPOSE OF REVIEW: Systemic autoinflammatory disorders (SAIDs) are a group of diseases that are characterized by recurrent or persistent unprovoked attacks of inflammation resulting from innate immunity dysregulation and leading to significant sequelae in many cases. The concept of autoinflammatory disorders has been widely studied in the last 28 years since the genetic mutation responsible for familial Mediterranean fever (FMF) was discovered. These disorders are mainly hereditary autoinflammatory diseases with key immunological pathways affected and particularly involving inflammasomes, nuclear factor-κB dysregulation and interferon upregulation. This article serves as an overview of pediatric systemic autoinflammatory disorders, their presentation, workup, complications, and therapeutic management.\n",
            "RECENT FINDINGS: Advances in genetic analysis have allowed for the rapid identification of mutations responsible for many autoinflammatory disorders. Advances in biomolecular techniques, which have allowed for identifying key players such as inflammasomes, have led to treatment options that have significantly improved morbidity and mortality in affected patients. This review provides an overview of the proposed pathogenesis, presenting features, potential complications and suggested therapies of systemic autoinflammatory disorders. Providers should have a high clinical suspicion for autoinflammatory disorders in children who present with fever, a heightened inflammatory response and negative evaluation for an infectious, malignant, and autoimmune etiology. Understanding and identifying these disorders in a timely manner and implementing prompt treatment allow for the best possible outcome for these patients.\n",
            "\n",
            "Published: 2025-04-07\n",
            "Title: \u001b[0m\u001b[32;1m\u001b[1;3mThought: O artigo encontrado é uma revisão geral sobre doenças autoinflamatórias sistêmicas pediátricas, incluindo a Febre Familiar do Mediterrâneo (FFM), mas não menciona especificamente a relação entre FFM e alergias. Para aprofundar, preciso buscar artigos que abordem diretamente a associação entre FFM e manifestações alérgicas, como asma, dermatite atópica ou outras reações alérgicas.\n",
            "\n",
            "Action: PubMed\n",
            "Action Input: \"Familial Mediterranean Fever AND allergic diseases\"\n",
            "\u001b[0m\u001b[36;1m\u001b[1;3mPublished: 2025-04-23\n",
            "Title: Amyloidosis in Human Inborn Errors of Immunity Predicts Poor Prognosis.\n",
            "Copyright Information: © 2025. The Author(s).\n",
            "Summary::\n",
            "PURPOSE: Chronic inflammation in inborn errors of immunity(IEI) caused by the infections or immune dysregulation is associated with the amyloid A (AA) amyloidosis development. This study aims to analyze the clinical characteristics, management strategies, and outcomes of patients with IEI complicated by AA amyloidosis, focusing on demographics, disease manifestations, treatment modalities, and survival rates.\n",
            "METHODS: Thirteen patients diagnosed with IEI and AA amyloidosis, along with an additional 10 patients previously reported from Türkiye, were reviewed retrospectively.\n",
            "RESULTS: The median ages at diagnosis of IEI and amyloidosis were 20 years (2-61) and 25 years (7-70), respectively. Renal (74%) and gastrointestinal involvement (44%) were the most common, followed by skin(9%), pulmonary (9%), and cardiac involvement (9%). Primary antibody deficiencies(48%), combined immunodeficiencies(31%), hyperimmunoglobulin E syndrome(9%), congenital neutropenia (4%), autoinflammatory disorders (4%), and chronic mucocutaneous candidiasis (4%) were the IEI types associated with amyloidosis. Bronchiectasis (74%) and malignancy (17%) were observed in given ratio of patients. Treatment modalities for amyloidosis include colchicine (n = 12, 52%), steroids (n = 5, 22%) and tocilizumab (n = 2, 9%) without significant benefit. Thirteen patients (57%) died with a median age of 24 years (8-45), predominantly due to sepsis (52%). Familial Mediterranean fever (FMF) gene analysis was negative in all patients except for one, who had a heterozygous MEFV gene defect (M694V).\n",
            "CONCLUSION: AA amyloidosis in IEI is associated with severe morbidity and mortality. Early diagnosis and management of IEI are crucial to prevent amyloidosis development. However, colchicine appears ineffective once amyloidosis has occurred, highlighting the need fo\u001b[0m\u001b[32;1m\u001b[1;3mThought: O segundo artigo aborda a associação de doenças imunológicas hereditárias com complicações como amiloidose, mencionando a Febre Familiar do Mediterrâneo (FFM) como uma das condições autoinflamatórias, mas não discute diretamente a relação entre FFM e alergias. Até agora, não encontrei evidências claras ou estudos que relacionem diretamente FFM com alergias ou doenças alérgicas. Vou tentar uma busca mais específica por termos como \"Familial Mediterranean Fever AND asthma\" ou \"Familial Mediterranean Fever AND atopy\" para verificar se há alguma associação com manifestações alérgicas específicas.\n",
            "\n",
            "Action: PubMed  \n",
            "Action Input: \"Familial Mediterranean Fever AND asthma\"\n",
            "\u001b[0m\u001b[36;1m\u001b[1;3mPublished: 2025-04-29\n",
            "Title: Pediatric Systemic Autoinflammatory Disorders: An Overview.\n",
            "Copyright Information: © 2025. The Author(s), under exclusive licence to Springer Science+Business Media, LLC, part of Springer Nature.\n",
            "Summary::\n",
            "PURPOSE OF REVIEW: Systemic autoinflammatory disorders (SAIDs) are a group of diseases that are characterized by recurrent or persistent unprovoked attacks of inflammation resulting from innate immunity dysregulation and leading to significant sequelae in many cases. The concept of autoinflammatory disorders has been widely studied in the last 28 years since the genetic mutation responsible for familial Mediterranean fever (FMF) was discovered. These disorders are mainly hereditary autoinflammatory diseases with key immunological pathways affected and particularly involving inflammasomes, nuclear factor-κB dysregulation and interferon upregulation. This article serves as an overview of pediatric systemic autoinflammatory disorders, their presentation, workup, complications, and therapeutic management.\n",
            "RECENT FINDINGS: Advances in genetic analysis have allowed for the rapid identification of mutations responsible for many autoinflammatory disorders. Advances in biomolecular techniques, which have allowed for identifying key players such as inflammasomes, have led to treatment options that have significantly improved morbidity and mortality in affected patients. This review provides an overview of the proposed pathogenesis, presenting features, potential complications and suggested therapies of systemic autoinflammatory disorders. Providers should have a high clinical suspicion for autoinflammatory disorders in children who present with fever, a heightened inflammatory response and negative evaluation for an infectious, malignant, and autoimmune etiology. Understanding and identifying these disorders in a timely manner and implementing prompt treatment allow for the best possible outcome for these patients.\n",
            "\n",
            "Published: 2024-05-23\n",
            "Title: \u001b[0m\u001b[32;1m\u001b[1;3mThought: As buscas realizadas não retornaram evidências claras ou estudos que relacionem diretamente a Febre Familiar do Mediterrâneo (FFM) com alergias ou doenças alérgicas específicas como asma ou atopia. A FFM é uma doença autoinflamatória hereditária caracterizada por episódios recorrentes de inflamação, mas não há dados robustos que indiquem uma associação direta com alergias. A literatura disponível destaca mais a disfunção da imunidade inata e inflamação do que uma predisposição a reações alérgicas mediadas por imunidade adaptativa, típicas das alergias.\n",
            "\n",
            "Final Answer: A Febre Familiar do Mediterrâneo (FFM) é uma doença autoinflamatória hereditária caracterizada por episódios recorrentes de inflamação devido à disfunção da imunidade inata. Até o momento, não há evidências científicas claras que relacionem diretamente a FFM com alergias ou doenças alérgicas, como asma ou dermatite atópica. Portanto, a FFM não é considerada uma condição associada a alergias, e suas manifestações clínicas estão mais relacionadas a processos inflamatórios autoinflamatórios do que a reações alérgicas.\u001b[0m\n",
            "\n",
            "\u001b[1m> Finished chain.\u001b[0m\n"
          ]
        },
        {
          "data": {
            "text/plain": [
              "{'input': 'Relacione a Febre Familiar do Mediterrâneo com Alergias.',\n",
              " 'output': 'A Febre Familiar do Mediterrâneo (FFM) é uma doença autoinflamatória hereditária caracterizada por episódios recorrentes de inflamação devido à disfunção da imunidade inata. Até o momento, não há evidências científicas claras que relacionem diretamente a FFM com alergias ou doenças alérgicas, como asma ou dermatite atópica. Portanto, a FFM não é considerada uma condição associada a alergias, e suas manifestações clínicas estão mais relacionadas a processos inflamatórios autoinflamatórios do que a reações alérgicas.'}"
            ]
          },
          "execution_count": 174,
          "metadata": {},
          "output_type": "execute_result"
        }
      ],
      "source": [
        "agent_executor.invoke({\"input\": \"Relacione a Febre Familiar do Mediterrâneo com Alergias.\"})"
      ]
    },
    {
      "cell_type": "markdown",
      "metadata": {
        "id": "CoWcReHqY0Zl"
      },
      "source": [
        "E por fim, podemos criar nossa própria ferramenta.\n",
        "O exemplo a seguir será de consumir 2 APIs de testes (mock) que traz uma lista de produtos ou um produto individual, de acordo com um identificador."
      ]
    },
    {
      "cell_type": "code",
      "execution_count": 175,
      "metadata": {
        "id": "N1T6A0BAKMVC"
      },
      "outputs": [],
      "source": [
        "import requests\n",
        "from langchain.agents import tool"
      ]
    },
    {
      "cell_type": "markdown",
      "metadata": {
        "id": "vSC-JmQcZACq"
      },
      "source": [
        "Incluímos a anotação \"@tool\" na função e obrigatóriamente precisa ter entrada e saída em String.\n",
        "\n",
        "Se não for utiliar a entrada, envie um parâmetro vazio.\n",
        "\n",
        "Importante é detalhar no comentário da função sobre o que faz e qual parâmetro necessita."
      ]
    },
    {
      "cell_type": "code",
      "execution_count": 176,
      "metadata": {
        "colab": {
          "base_uri": "https://localhost:8080/"
        },
        "id": "Kz_01EqHKonS",
        "outputId": "6b8acc47-537d-4c5c-f147-7f612c0b1280"
      },
      "outputs": [
        {
          "data": {
            "text/plain": [
              "{'products': [{'id': 1,\n",
              "   'title': 'Essence Mascara Lash Princess',\n",
              "   'description': 'The Essence Mascara Lash Princess is a popular mascara known for its volumizing and lengthening effects. Achieve dramatic lashes with this long-lasting and cruelty-free formula.',\n",
              "   'category': 'beauty',\n",
              "   'price': 9.99,\n",
              "   'discountPercentage': 10.48,\n",
              "   'rating': 2.56,\n",
              "   'stock': 99,\n",
              "   'tags': ['beauty', 'mascara'],\n",
              "   'brand': 'Essence',\n",
              "   'sku': 'BEA-ESS-ESS-001',\n",
              "   'weight': 4,\n",
              "   'dimensions': {'width': 15.14, 'height': 13.08, 'depth': 22.99},\n",
              "   'warrantyInformation': '1 week warranty',\n",
              "   'shippingInformation': 'Ships in 3-5 business days',\n",
              "   'availabilityStatus': 'In Stock',\n",
              "   'reviews': [{'rating': 3,\n",
              "     'comment': 'Would not recommend!',\n",
              "     'date': '2025-04-30T09:41:02.053Z',\n",
              "     'reviewerName': 'Eleanor Collins',\n",
              "     'reviewerEmail': 'eleanor.collins@x.dummyjson.com'},\n",
              "    {'rating': 4,\n",
              "     'comment': 'Very satisfied!',\n",
              "     'date': '2025-04-30T09:41:02.053Z',\n",
              "     'reviewerName': 'Lucas Gordon',\n",
              "     'reviewerEmail': 'lucas.gordon@x.dummyjson.com'},\n",
              "    {'rating': 5,\n",
              "     'comment': 'Highly impressed!',\n",
              "     'date': '2025-04-30T09:41:02.053Z',\n",
              "     'reviewerName': 'Eleanor Collins',\n",
              "     'reviewerEmail': 'eleanor.collins@x.dummyjson.com'}],\n",
              "   'returnPolicy': 'No return policy',\n",
              "   'minimumOrderQuantity': 48,\n",
              "   'meta': {'createdAt': '2025-04-30T09:41:02.053Z',\n",
              "    'updatedAt': '2025-04-30T09:41:02.053Z',\n",
              "    'barcode': '5784719087687',\n",
              "    'qrCode': 'https://cdn.dummyjson.com/public/qr-code.png'},\n",
              "   'images': ['https://cdn.dummyjson.com/product-images/beauty/essence-mascara-lash-princess/1.webp'],\n",
              "   'thumbnail': 'https://cdn.dummyjson.com/product-images/beauty/essence-mascara-lash-princess/thumbnail.webp'},\n",
              "  {'id': 2,\n",
              "   'title': 'Eyeshadow Palette with Mirror',\n",
              "   'description': \"The Eyeshadow Palette with Mirror offers a versatile range of eyeshadow shades for creating stunning eye looks. With a built-in mirror, it's convenient for on-the-go makeup application.\",\n",
              "   'category': 'beauty',\n",
              "   'price': 19.99,\n",
              "   'discountPercentage': 18.19,\n",
              "   'rating': 2.86,\n",
              "   'stock': 34,\n",
              "   'tags': ['beauty', 'eyeshadow'],\n",
              "   'brand': 'Glamour Beauty',\n",
              "   'sku': 'BEA-GLA-EYE-002',\n",
              "   'weight': 9,\n",
              "   'dimensions': {'width': 9.26, 'height': 22.47, 'depth': 27.67},\n",
              "   'warrantyInformation': '1 year warranty',\n",
              "   'shippingInformation': 'Ships in 2 weeks',\n",
              "   'availabilityStatus': 'In Stock',\n",
              "   'reviews': [{'rating': 5,\n",
              "     'comment': 'Great product!',\n",
              "     'date': '2025-04-30T09:41:02.053Z',\n",
              "     'reviewerName': 'Savannah Gomez',\n",
              "     'reviewerEmail': 'savannah.gomez@x.dummyjson.com'},\n",
              "    {'rating': 4,\n",
              "     'comment': 'Awesome product!',\n",
              "     'date': '2025-04-30T09:41:02.053Z',\n",
              "     'reviewerName': 'Christian Perez',\n",
              "     'reviewerEmail': 'christian.perez@x.dummyjson.com'},\n",
              "    {'rating': 1,\n",
              "     'comment': 'Poor quality!',\n",
              "     'date': '2025-04-30T09:41:02.053Z',\n",
              "     'reviewerName': 'Nicholas Bailey',\n",
              "     'reviewerEmail': 'nicholas.bailey@x.dummyjson.com'}],\n",
              "   'returnPolicy': '7 days return policy',\n",
              "   'minimumOrderQuantity': 20,\n",
              "   'meta': {'createdAt': '2025-04-30T09:41:02.053Z',\n",
              "    'updatedAt': '2025-04-30T09:41:02.053Z',\n",
              "    'barcode': '9170275171413',\n",
              "    'qrCode': 'https://cdn.dummyjson.com/public/qr-code.png'},\n",
              "   'images': ['https://cdn.dummyjson.com/product-images/beauty/eyeshadow-palette-with-mirror/1.webp'],\n",
              "   'thumbnail': 'https://cdn.dummyjson.com/product-images/beauty/eyeshadow-palette-with-mirror/thumbnail.webp'},\n",
              "  {'id': 3,\n",
              "   'title': 'Powder Canister',\n",
              "   'description': 'The Powder Canister is a finely milled setting powder designed to set makeup and control shine. With a lightweight and translucent formula, it provides a smooth and matte finish.',\n",
              "   'category': 'beauty',\n",
              "   'price': 14.99,\n",
              "   'discountPercentage': 9.84,\n",
              "   'rating': 4.64,\n",
              "   'stock': 89,\n",
              "   'tags': ['beauty', 'face powder'],\n",
              "   'brand': 'Velvet Touch',\n",
              "   'sku': 'BEA-VEL-POW-003',\n",
              "   'weight': 8,\n",
              "   'dimensions': {'width': 29.27, 'height': 27.93, 'depth': 20.59},\n",
              "   'warrantyInformation': '3 months warranty',\n",
              "   'shippingInformation': 'Ships in 1-2 business days',\n",
              "   'availabilityStatus': 'In Stock',\n",
              "   'reviews': [{'rating': 4,\n",
              "     'comment': 'Would buy again!',\n",
              "     'date': '2025-04-30T09:41:02.053Z',\n",
              "     'reviewerName': 'Alexander Jones',\n",
              "     'reviewerEmail': 'alexander.jones@x.dummyjson.com'},\n",
              "    {'rating': 5,\n",
              "     'comment': 'Highly impressed!',\n",
              "     'date': '2025-04-30T09:41:02.053Z',\n",
              "     'reviewerName': 'Elijah Cruz',\n",
              "     'reviewerEmail': 'elijah.cruz@x.dummyjson.com'},\n",
              "    {'rating': 1,\n",
              "     'comment': 'Very dissatisfied!',\n",
              "     'date': '2025-04-30T09:41:02.053Z',\n",
              "     'reviewerName': 'Avery Perez',\n",
              "     'reviewerEmail': 'avery.perez@x.dummyjson.com'}],\n",
              "   'returnPolicy': 'No return policy',\n",
              "   'minimumOrderQuantity': 22,\n",
              "   'meta': {'createdAt': '2025-04-30T09:41:02.053Z',\n",
              "    'updatedAt': '2025-04-30T09:41:02.053Z',\n",
              "    'barcode': '8418883906837',\n",
              "    'qrCode': 'https://cdn.dummyjson.com/public/qr-code.png'},\n",
              "   'images': ['https://cdn.dummyjson.com/product-images/beauty/powder-canister/1.webp'],\n",
              "   'thumbnail': 'https://cdn.dummyjson.com/product-images/beauty/powder-canister/thumbnail.webp'},\n",
              "  {'id': 4,\n",
              "   'title': 'Red Lipstick',\n",
              "   'description': 'The Red Lipstick is a classic and bold choice for adding a pop of color to your lips. With a creamy and pigmented formula, it provides a vibrant and long-lasting finish.',\n",
              "   'category': 'beauty',\n",
              "   'price': 12.99,\n",
              "   'discountPercentage': 12.16,\n",
              "   'rating': 4.36,\n",
              "   'stock': 91,\n",
              "   'tags': ['beauty', 'lipstick'],\n",
              "   'brand': 'Chic Cosmetics',\n",
              "   'sku': 'BEA-CHI-LIP-004',\n",
              "   'weight': 1,\n",
              "   'dimensions': {'width': 18.11, 'height': 28.38, 'depth': 22.17},\n",
              "   'warrantyInformation': '3 year warranty',\n",
              "   'shippingInformation': 'Ships in 1 week',\n",
              "   'availabilityStatus': 'In Stock',\n",
              "   'reviews': [{'rating': 4,\n",
              "     'comment': 'Great product!',\n",
              "     'date': '2025-04-30T09:41:02.053Z',\n",
              "     'reviewerName': 'Liam Garcia',\n",
              "     'reviewerEmail': 'liam.garcia@x.dummyjson.com'},\n",
              "    {'rating': 5,\n",
              "     'comment': 'Great product!',\n",
              "     'date': '2025-04-30T09:41:02.053Z',\n",
              "     'reviewerName': 'Ruby Andrews',\n",
              "     'reviewerEmail': 'ruby.andrews@x.dummyjson.com'},\n",
              "    {'rating': 5,\n",
              "     'comment': 'Would buy again!',\n",
              "     'date': '2025-04-30T09:41:02.053Z',\n",
              "     'reviewerName': 'Clara Berry',\n",
              "     'reviewerEmail': 'clara.berry@x.dummyjson.com'}],\n",
              "   'returnPolicy': '7 days return policy',\n",
              "   'minimumOrderQuantity': 40,\n",
              "   'meta': {'createdAt': '2025-04-30T09:41:02.053Z',\n",
              "    'updatedAt': '2025-04-30T09:41:02.053Z',\n",
              "    'barcode': '9467746727219',\n",
              "    'qrCode': 'https://cdn.dummyjson.com/public/qr-code.png'},\n",
              "   'images': ['https://cdn.dummyjson.com/product-images/beauty/red-lipstick/1.webp'],\n",
              "   'thumbnail': 'https://cdn.dummyjson.com/product-images/beauty/red-lipstick/thumbnail.webp'},\n",
              "  {'id': 5,\n",
              "   'title': 'Red Nail Polish',\n",
              "   'description': 'The Red Nail Polish offers a rich and glossy red hue for vibrant and polished nails. With a quick-drying formula, it provides a salon-quality finish at home.',\n",
              "   'category': 'beauty',\n",
              "   'price': 8.99,\n",
              "   'discountPercentage': 11.44,\n",
              "   'rating': 4.32,\n",
              "   'stock': 79,\n",
              "   'tags': ['beauty', 'nail polish'],\n",
              "   'brand': 'Nail Couture',\n",
              "   'sku': 'BEA-NAI-NAI-005',\n",
              "   'weight': 8,\n",
              "   'dimensions': {'width': 21.63, 'height': 16.48, 'depth': 29.84},\n",
              "   'warrantyInformation': '1 month warranty',\n",
              "   'shippingInformation': 'Ships overnight',\n",
              "   'availabilityStatus': 'In Stock',\n",
              "   'reviews': [{'rating': 2,\n",
              "     'comment': 'Poor quality!',\n",
              "     'date': '2025-04-30T09:41:02.053Z',\n",
              "     'reviewerName': 'Benjamin Wilson',\n",
              "     'reviewerEmail': 'benjamin.wilson@x.dummyjson.com'},\n",
              "    {'rating': 5,\n",
              "     'comment': 'Great product!',\n",
              "     'date': '2025-04-30T09:41:02.053Z',\n",
              "     'reviewerName': 'Liam Smith',\n",
              "     'reviewerEmail': 'liam.smith@x.dummyjson.com'},\n",
              "    {'rating': 1,\n",
              "     'comment': 'Very unhappy with my purchase!',\n",
              "     'date': '2025-04-30T09:41:02.053Z',\n",
              "     'reviewerName': 'Clara Berry',\n",
              "     'reviewerEmail': 'clara.berry@x.dummyjson.com'}],\n",
              "   'returnPolicy': 'No return policy',\n",
              "   'minimumOrderQuantity': 22,\n",
              "   'meta': {'createdAt': '2025-04-30T09:41:02.053Z',\n",
              "    'updatedAt': '2025-04-30T09:41:02.053Z',\n",
              "    'barcode': '4063010628104',\n",
              "    'qrCode': 'https://cdn.dummyjson.com/public/qr-code.png'},\n",
              "   'images': ['https://cdn.dummyjson.com/product-images/beauty/red-nail-polish/1.webp'],\n",
              "   'thumbnail': 'https://cdn.dummyjson.com/product-images/beauty/red-nail-polish/thumbnail.webp'},\n",
              "  {'id': 6,\n",
              "   'title': 'Calvin Klein CK One',\n",
              "   'description': \"CK One by Calvin Klein is a classic unisex fragrance, known for its fresh and clean scent. It's a versatile fragrance suitable for everyday wear.\",\n",
              "   'category': 'fragrances',\n",
              "   'price': 49.99,\n",
              "   'discountPercentage': 1.89,\n",
              "   'rating': 4.37,\n",
              "   'stock': 29,\n",
              "   'tags': ['fragrances', 'perfumes'],\n",
              "   'brand': 'Calvin Klein',\n",
              "   'sku': 'FRA-CAL-CAL-006',\n",
              "   'weight': 7,\n",
              "   'dimensions': {'width': 29.36, 'height': 27.76, 'depth': 20.72},\n",
              "   'warrantyInformation': '1 week warranty',\n",
              "   'shippingInformation': 'Ships overnight',\n",
              "   'availabilityStatus': 'In Stock',\n",
              "   'reviews': [{'rating': 2,\n",
              "     'comment': 'Very disappointed!',\n",
              "     'date': '2025-04-30T09:41:02.053Z',\n",
              "     'reviewerName': 'Layla Young',\n",
              "     'reviewerEmail': 'layla.young@x.dummyjson.com'},\n",
              "    {'rating': 4,\n",
              "     'comment': 'Fast shipping!',\n",
              "     'date': '2025-04-30T09:41:02.053Z',\n",
              "     'reviewerName': 'Daniel Cook',\n",
              "     'reviewerEmail': 'daniel.cook@x.dummyjson.com'},\n",
              "    {'rating': 3,\n",
              "     'comment': 'Not as described!',\n",
              "     'date': '2025-04-30T09:41:02.053Z',\n",
              "     'reviewerName': 'Jacob Cooper',\n",
              "     'reviewerEmail': 'jacob.cooper@x.dummyjson.com'}],\n",
              "   'returnPolicy': '90 days return policy',\n",
              "   'minimumOrderQuantity': 9,\n",
              "   'meta': {'createdAt': '2025-04-30T09:41:02.053Z',\n",
              "    'updatedAt': '2025-04-30T09:41:02.053Z',\n",
              "    'barcode': '2451534060749',\n",
              "    'qrCode': 'https://cdn.dummyjson.com/public/qr-code.png'},\n",
              "   'images': ['https://cdn.dummyjson.com/product-images/fragrances/calvin-klein-ck-one/1.webp',\n",
              "    'https://cdn.dummyjson.com/product-images/fragrances/calvin-klein-ck-one/2.webp',\n",
              "    'https://cdn.dummyjson.com/product-images/fragrances/calvin-klein-ck-one/3.webp'],\n",
              "   'thumbnail': 'https://cdn.dummyjson.com/product-images/fragrances/calvin-klein-ck-one/thumbnail.webp'},\n",
              "  {'id': 7,\n",
              "   'title': 'Chanel Coco Noir Eau De',\n",
              "   'description': 'Coco Noir by Chanel is an elegant and mysterious fragrance, featuring notes of grapefruit, rose, and sandalwood. Perfect for evening occasions.',\n",
              "   'category': 'fragrances',\n",
              "   'price': 129.99,\n",
              "   'discountPercentage': 16.51,\n",
              "   'rating': 4.26,\n",
              "   'stock': 58,\n",
              "   'tags': ['fragrances', 'perfumes'],\n",
              "   'brand': 'Chanel',\n",
              "   'sku': 'FRA-CHA-CHA-007',\n",
              "   'weight': 7,\n",
              "   'dimensions': {'width': 24.5, 'height': 25.7, 'depth': 25.98},\n",
              "   'warrantyInformation': '3 year warranty',\n",
              "   'shippingInformation': 'Ships overnight',\n",
              "   'availabilityStatus': 'In Stock',\n",
              "   'reviews': [{'rating': 4,\n",
              "     'comment': 'Highly impressed!',\n",
              "     'date': '2025-04-30T09:41:02.053Z',\n",
              "     'reviewerName': 'Ruby Andrews',\n",
              "     'reviewerEmail': 'ruby.andrews@x.dummyjson.com'},\n",
              "    {'rating': 5,\n",
              "     'comment': 'Awesome product!',\n",
              "     'date': '2025-04-30T09:41:02.053Z',\n",
              "     'reviewerName': 'Leah Henderson',\n",
              "     'reviewerEmail': 'leah.henderson@x.dummyjson.com'},\n",
              "    {'rating': 5,\n",
              "     'comment': 'Very happy with my purchase!',\n",
              "     'date': '2025-04-30T09:41:02.053Z',\n",
              "     'reviewerName': 'Xavier Wright',\n",
              "     'reviewerEmail': 'xavier.wright@x.dummyjson.com'}],\n",
              "   'returnPolicy': 'No return policy',\n",
              "   'minimumOrderQuantity': 1,\n",
              "   'meta': {'createdAt': '2025-04-30T09:41:02.053Z',\n",
              "    'updatedAt': '2025-04-30T09:41:02.053Z',\n",
              "    'barcode': '4091737746820',\n",
              "    'qrCode': 'https://cdn.dummyjson.com/public/qr-code.png'},\n",
              "   'images': ['https://cdn.dummyjson.com/product-images/fragrances/chanel-coco-noir-eau-de/1.webp',\n",
              "    'https://cdn.dummyjson.com/product-images/fragrances/chanel-coco-noir-eau-de/2.webp',\n",
              "    'https://cdn.dummyjson.com/product-images/fragrances/chanel-coco-noir-eau-de/3.webp'],\n",
              "   'thumbnail': 'https://cdn.dummyjson.com/product-images/fragrances/chanel-coco-noir-eau-de/thumbnail.webp'},\n",
              "  {'id': 8,\n",
              "   'title': \"Dior J'adore\",\n",
              "   'description': \"J'adore by Dior is a luxurious and floral fragrance, known for its blend of ylang-ylang, rose, and jasmine. It embodies femininity and sophistication.\",\n",
              "   'category': 'fragrances',\n",
              "   'price': 89.99,\n",
              "   'discountPercentage': 14.72,\n",
              "   'rating': 3.8,\n",
              "   'stock': 98,\n",
              "   'tags': ['fragrances', 'perfumes'],\n",
              "   'brand': 'Dior',\n",
              "   'sku': 'FRA-DIO-DIO-008',\n",
              "   'weight': 4,\n",
              "   'dimensions': {'width': 27.67, 'height': 28.28, 'depth': 11.83},\n",
              "   'warrantyInformation': '1 week warranty',\n",
              "   'shippingInformation': 'Ships in 2 weeks',\n",
              "   'availabilityStatus': 'In Stock',\n",
              "   'reviews': [{'rating': 5,\n",
              "     'comment': 'Great value for money!',\n",
              "     'date': '2025-04-30T09:41:02.053Z',\n",
              "     'reviewerName': 'Nicholas Bailey',\n",
              "     'reviewerEmail': 'nicholas.bailey@x.dummyjson.com'},\n",
              "    {'rating': 4,\n",
              "     'comment': 'Great value for money!',\n",
              "     'date': '2025-04-30T09:41:02.053Z',\n",
              "     'reviewerName': 'Penelope Harper',\n",
              "     'reviewerEmail': 'penelope.harper@x.dummyjson.com'},\n",
              "    {'rating': 4,\n",
              "     'comment': 'Great product!',\n",
              "     'date': '2025-04-30T09:41:02.053Z',\n",
              "     'reviewerName': 'Emma Miller',\n",
              "     'reviewerEmail': 'emma.miller@x.dummyjson.com'}],\n",
              "   'returnPolicy': '7 days return policy',\n",
              "   'minimumOrderQuantity': 10,\n",
              "   'meta': {'createdAt': '2025-04-30T09:41:02.053Z',\n",
              "    'updatedAt': '2025-04-30T09:41:02.053Z',\n",
              "    'barcode': '1445086097250',\n",
              "    'qrCode': 'https://cdn.dummyjson.com/public/qr-code.png'},\n",
              "   'images': [\"https://cdn.dummyjson.com/product-images/fragrances/dior-j'adore/1.webp\",\n",
              "    \"https://cdn.dummyjson.com/product-images/fragrances/dior-j'adore/2.webp\",\n",
              "    \"https://cdn.dummyjson.com/product-images/fragrances/dior-j'adore/3.webp\"],\n",
              "   'thumbnail': \"https://cdn.dummyjson.com/product-images/fragrances/dior-j'adore/thumbnail.webp\"},\n",
              "  {'id': 9,\n",
              "   'title': 'Dolce Shine Eau de',\n",
              "   'description': \"Dolce Shine by Dolce & Gabbana is a vibrant and fruity fragrance, featuring notes of mango, jasmine, and blonde woods. It's a joyful and youthful scent.\",\n",
              "   'category': 'fragrances',\n",
              "   'price': 69.99,\n",
              "   'discountPercentage': 0.62,\n",
              "   'rating': 3.96,\n",
              "   'stock': 4,\n",
              "   'tags': ['fragrances', 'perfumes'],\n",
              "   'brand': 'Dolce & Gabbana',\n",
              "   'sku': 'FRA-DOL-DOL-009',\n",
              "   'weight': 6,\n",
              "   'dimensions': {'width': 27.28, 'height': 29.88, 'depth': 18.3},\n",
              "   'warrantyInformation': '3 year warranty',\n",
              "   'shippingInformation': 'Ships in 1 month',\n",
              "   'availabilityStatus': 'Low Stock',\n",
              "   'reviews': [{'rating': 4,\n",
              "     'comment': 'Would buy again!',\n",
              "     'date': '2025-04-30T09:41:02.053Z',\n",
              "     'reviewerName': 'Mateo Bennett',\n",
              "     'reviewerEmail': 'mateo.bennett@x.dummyjson.com'},\n",
              "    {'rating': 4,\n",
              "     'comment': 'Highly recommended!',\n",
              "     'date': '2025-04-30T09:41:02.053Z',\n",
              "     'reviewerName': 'Nolan Gonzalez',\n",
              "     'reviewerEmail': 'nolan.gonzalez@x.dummyjson.com'},\n",
              "    {'rating': 5,\n",
              "     'comment': 'Very happy with my purchase!',\n",
              "     'date': '2025-04-30T09:41:02.053Z',\n",
              "     'reviewerName': 'Aurora Lawson',\n",
              "     'reviewerEmail': 'aurora.lawson@x.dummyjson.com'}],\n",
              "   'returnPolicy': '7 days return policy',\n",
              "   'minimumOrderQuantity': 2,\n",
              "   'meta': {'createdAt': '2025-04-30T09:41:02.053Z',\n",
              "    'updatedAt': '2025-04-30T09:41:02.053Z',\n",
              "    'barcode': '3023868210708',\n",
              "    'qrCode': 'https://cdn.dummyjson.com/public/qr-code.png'},\n",
              "   'images': ['https://cdn.dummyjson.com/product-images/fragrances/dolce-shine-eau-de/1.webp',\n",
              "    'https://cdn.dummyjson.com/product-images/fragrances/dolce-shine-eau-de/2.webp',\n",
              "    'https://cdn.dummyjson.com/product-images/fragrances/dolce-shine-eau-de/3.webp'],\n",
              "   'thumbnail': 'https://cdn.dummyjson.com/product-images/fragrances/dolce-shine-eau-de/thumbnail.webp'},\n",
              "  {'id': 10,\n",
              "   'title': 'Gucci Bloom Eau de',\n",
              "   'description': \"Gucci Bloom by Gucci is a floral and captivating fragrance, with notes of tuberose, jasmine, and Rangoon creeper. It's a modern and romantic scent.\",\n",
              "   'category': 'fragrances',\n",
              "   'price': 79.99,\n",
              "   'discountPercentage': 14.39,\n",
              "   'rating': 2.74,\n",
              "   'stock': 91,\n",
              "   'tags': ['fragrances', 'perfumes'],\n",
              "   'brand': 'Gucci',\n",
              "   'sku': 'FRA-GUC-GUC-010',\n",
              "   'weight': 7,\n",
              "   'dimensions': {'width': 20.92, 'height': 21.68, 'depth': 11.2},\n",
              "   'warrantyInformation': '6 months warranty',\n",
              "   'shippingInformation': 'Ships overnight',\n",
              "   'availabilityStatus': 'In Stock',\n",
              "   'reviews': [{'rating': 1,\n",
              "     'comment': 'Very dissatisfied!',\n",
              "     'date': '2025-04-30T09:41:02.053Z',\n",
              "     'reviewerName': 'Cameron Perez',\n",
              "     'reviewerEmail': 'cameron.perez@x.dummyjson.com'},\n",
              "    {'rating': 5,\n",
              "     'comment': 'Very happy with my purchase!',\n",
              "     'date': '2025-04-30T09:41:02.053Z',\n",
              "     'reviewerName': 'Daniel Cook',\n",
              "     'reviewerEmail': 'daniel.cook@x.dummyjson.com'},\n",
              "    {'rating': 4,\n",
              "     'comment': 'Highly impressed!',\n",
              "     'date': '2025-04-30T09:41:02.053Z',\n",
              "     'reviewerName': 'Addison Wright',\n",
              "     'reviewerEmail': 'addison.wright@x.dummyjson.com'}],\n",
              "   'returnPolicy': 'No return policy',\n",
              "   'minimumOrderQuantity': 2,\n",
              "   'meta': {'createdAt': '2025-04-30T09:41:02.053Z',\n",
              "    'updatedAt': '2025-04-30T09:41:02.053Z',\n",
              "    'barcode': '3170832177880',\n",
              "    'qrCode': 'https://cdn.dummyjson.com/public/qr-code.png'},\n",
              "   'images': ['https://cdn.dummyjson.com/product-images/fragrances/gucci-bloom-eau-de/1.webp',\n",
              "    'https://cdn.dummyjson.com/product-images/fragrances/gucci-bloom-eau-de/2.webp',\n",
              "    'https://cdn.dummyjson.com/product-images/fragrances/gucci-bloom-eau-de/3.webp'],\n",
              "   'thumbnail': 'https://cdn.dummyjson.com/product-images/fragrances/gucci-bloom-eau-de/thumbnail.webp'},\n",
              "  {'id': 11,\n",
              "   'title': 'Annibale Colombo Bed',\n",
              "   'description': 'The Annibale Colombo Bed is a luxurious and elegant bed frame, crafted with high-quality materials for a comfortable and stylish bedroom.',\n",
              "   'category': 'furniture',\n",
              "   'price': 1899.99,\n",
              "   'discountPercentage': 8.57,\n",
              "   'rating': 4.77,\n",
              "   'stock': 88,\n",
              "   'tags': ['furniture', 'beds'],\n",
              "   'brand': 'Annibale Colombo',\n",
              "   'sku': 'FUR-ANN-ANN-011',\n",
              "   'weight': 10,\n",
              "   'dimensions': {'width': 28.16, 'height': 25.36, 'depth': 17.28},\n",
              "   'warrantyInformation': '1 year warranty',\n",
              "   'shippingInformation': 'Ships in 1 month',\n",
              "   'availabilityStatus': 'In Stock',\n",
              "   'reviews': [{'rating': 2,\n",
              "     'comment': 'Would not recommend!',\n",
              "     'date': '2025-04-30T09:41:02.053Z',\n",
              "     'reviewerName': 'Christopher West',\n",
              "     'reviewerEmail': 'christopher.west@x.dummyjson.com'},\n",
              "    {'rating': 4,\n",
              "     'comment': 'Highly impressed!',\n",
              "     'date': '2025-04-30T09:41:02.053Z',\n",
              "     'reviewerName': 'Vivian Carter',\n",
              "     'reviewerEmail': 'vivian.carter@x.dummyjson.com'},\n",
              "    {'rating': 1,\n",
              "     'comment': 'Poor quality!',\n",
              "     'date': '2025-04-30T09:41:02.053Z',\n",
              "     'reviewerName': 'Mason Wright',\n",
              "     'reviewerEmail': 'mason.wright@x.dummyjson.com'}],\n",
              "   'returnPolicy': 'No return policy',\n",
              "   'minimumOrderQuantity': 1,\n",
              "   'meta': {'createdAt': '2025-04-30T09:41:02.053Z',\n",
              "    'updatedAt': '2025-04-30T09:41:02.053Z',\n",
              "    'barcode': '3610757456581',\n",
              "    'qrCode': 'https://cdn.dummyjson.com/public/qr-code.png'},\n",
              "   'images': ['https://cdn.dummyjson.com/product-images/furniture/annibale-colombo-bed/1.webp',\n",
              "    'https://cdn.dummyjson.com/product-images/furniture/annibale-colombo-bed/2.webp',\n",
              "    'https://cdn.dummyjson.com/product-images/furniture/annibale-colombo-bed/3.webp'],\n",
              "   'thumbnail': 'https://cdn.dummyjson.com/product-images/furniture/annibale-colombo-bed/thumbnail.webp'},\n",
              "  {'id': 12,\n",
              "   'title': 'Annibale Colombo Sofa',\n",
              "   'description': 'The Annibale Colombo Sofa is a sophisticated and comfortable seating option, featuring exquisite design and premium upholstery for your living room.',\n",
              "   'category': 'furniture',\n",
              "   'price': 2499.99,\n",
              "   'discountPercentage': 14.4,\n",
              "   'rating': 3.92,\n",
              "   'stock': 60,\n",
              "   'tags': ['furniture', 'sofas'],\n",
              "   'brand': 'Annibale Colombo',\n",
              "   'sku': 'FUR-ANN-ANN-012',\n",
              "   'weight': 6,\n",
              "   'dimensions': {'width': 12.75, 'height': 20.55, 'depth': 19.06},\n",
              "   'warrantyInformation': 'Lifetime warranty',\n",
              "   'shippingInformation': 'Ships in 1 week',\n",
              "   'availabilityStatus': 'In Stock',\n",
              "   'reviews': [{'rating': 3,\n",
              "     'comment': 'Very unhappy with my purchase!',\n",
              "     'date': '2025-04-30T09:41:02.053Z',\n",
              "     'reviewerName': 'Christian Perez',\n",
              "     'reviewerEmail': 'christian.perez@x.dummyjson.com'},\n",
              "    {'rating': 5,\n",
              "     'comment': 'Fast shipping!',\n",
              "     'date': '2025-04-30T09:41:02.053Z',\n",
              "     'reviewerName': 'Lillian Bishop',\n",
              "     'reviewerEmail': 'lillian.bishop@x.dummyjson.com'},\n",
              "    {'rating': 1,\n",
              "     'comment': 'Poor quality!',\n",
              "     'date': '2025-04-30T09:41:02.053Z',\n",
              "     'reviewerName': 'Lillian Simmons',\n",
              "     'reviewerEmail': 'lillian.simmons@x.dummyjson.com'}],\n",
              "   'returnPolicy': '7 days return policy',\n",
              "   'minimumOrderQuantity': 1,\n",
              "   'meta': {'createdAt': '2025-04-30T09:41:02.053Z',\n",
              "    'updatedAt': '2025-04-30T09:41:02.053Z',\n",
              "    'barcode': '1777662847736',\n",
              "    'qrCode': 'https://cdn.dummyjson.com/public/qr-code.png'},\n",
              "   'images': ['https://cdn.dummyjson.com/product-images/furniture/annibale-colombo-sofa/1.webp',\n",
              "    'https://cdn.dummyjson.com/product-images/furniture/annibale-colombo-sofa/2.webp',\n",
              "    'https://cdn.dummyjson.com/product-images/furniture/annibale-colombo-sofa/3.webp'],\n",
              "   'thumbnail': 'https://cdn.dummyjson.com/product-images/furniture/annibale-colombo-sofa/thumbnail.webp'},\n",
              "  {'id': 13,\n",
              "   'title': 'Bedside Table African Cherry',\n",
              "   'description': 'The Bedside Table in African Cherry is a stylish and functional addition to your bedroom, providing convenient storage space and a touch of elegance.',\n",
              "   'category': 'furniture',\n",
              "   'price': 299.99,\n",
              "   'discountPercentage': 19.09,\n",
              "   'rating': 2.87,\n",
              "   'stock': 64,\n",
              "   'tags': ['furniture', 'bedside tables'],\n",
              "   'brand': 'Furniture Co.',\n",
              "   'sku': 'FUR-FUR-BED-013',\n",
              "   'weight': 2,\n",
              "   'dimensions': {'width': 13.47, 'height': 24.99, 'depth': 27.35},\n",
              "   'warrantyInformation': '5 year warranty',\n",
              "   'shippingInformation': 'Ships overnight',\n",
              "   'availabilityStatus': 'In Stock',\n",
              "   'reviews': [{'rating': 4,\n",
              "     'comment': 'Excellent quality!',\n",
              "     'date': '2025-04-30T09:41:02.053Z',\n",
              "     'reviewerName': 'Aaliyah Hanson',\n",
              "     'reviewerEmail': 'aaliyah.hanson@x.dummyjson.com'},\n",
              "    {'rating': 4,\n",
              "     'comment': 'Excellent quality!',\n",
              "     'date': '2025-04-30T09:41:02.053Z',\n",
              "     'reviewerName': 'Liam Smith',\n",
              "     'reviewerEmail': 'liam.smith@x.dummyjson.com'},\n",
              "    {'rating': 4,\n",
              "     'comment': 'Highly recommended!',\n",
              "     'date': '2025-04-30T09:41:02.053Z',\n",
              "     'reviewerName': 'Avery Barnes',\n",
              "     'reviewerEmail': 'avery.barnes@x.dummyjson.com'}],\n",
              "   'returnPolicy': '7 days return policy',\n",
              "   'minimumOrderQuantity': 3,\n",
              "   'meta': {'createdAt': '2025-04-30T09:41:02.053Z',\n",
              "    'updatedAt': '2025-04-30T09:41:02.053Z',\n",
              "    'barcode': '6441287925979',\n",
              "    'qrCode': 'https://cdn.dummyjson.com/public/qr-code.png'},\n",
              "   'images': ['https://cdn.dummyjson.com/product-images/furniture/bedside-table-african-cherry/1.webp',\n",
              "    'https://cdn.dummyjson.com/product-images/furniture/bedside-table-african-cherry/2.webp',\n",
              "    'https://cdn.dummyjson.com/product-images/furniture/bedside-table-african-cherry/3.webp'],\n",
              "   'thumbnail': 'https://cdn.dummyjson.com/product-images/furniture/bedside-table-african-cherry/thumbnail.webp'},\n",
              "  {'id': 14,\n",
              "   'title': 'Knoll Saarinen Executive Conference Chair',\n",
              "   'description': 'The Knoll Saarinen Executive Conference Chair is a modern and ergonomic chair, perfect for your office or conference room with its timeless design.',\n",
              "   'category': 'furniture',\n",
              "   'price': 499.99,\n",
              "   'discountPercentage': 2.01,\n",
              "   'rating': 4.88,\n",
              "   'stock': 26,\n",
              "   'tags': ['furniture', 'office chairs'],\n",
              "   'brand': 'Knoll',\n",
              "   'sku': 'FUR-KNO-KNO-014',\n",
              "   'weight': 10,\n",
              "   'dimensions': {'width': 13.81, 'height': 7.5, 'depth': 5.62},\n",
              "   'warrantyInformation': '2 year warranty',\n",
              "   'shippingInformation': 'Ships overnight',\n",
              "   'availabilityStatus': 'In Stock',\n",
              "   'reviews': [{'rating': 2,\n",
              "     'comment': 'Waste of money!',\n",
              "     'date': '2025-04-30T09:41:02.053Z',\n",
              "     'reviewerName': 'Ella Cook',\n",
              "     'reviewerEmail': 'ella.cook@x.dummyjson.com'},\n",
              "    {'rating': 2,\n",
              "     'comment': 'Very dissatisfied!',\n",
              "     'date': '2025-04-30T09:41:02.053Z',\n",
              "     'reviewerName': 'Clara Berry',\n",
              "     'reviewerEmail': 'clara.berry@x.dummyjson.com'},\n",
              "    {'rating': 5,\n",
              "     'comment': 'Would buy again!',\n",
              "     'date': '2025-04-30T09:41:02.053Z',\n",
              "     'reviewerName': 'Elena Long',\n",
              "     'reviewerEmail': 'elena.long@x.dummyjson.com'}],\n",
              "   'returnPolicy': '60 days return policy',\n",
              "   'minimumOrderQuantity': 5,\n",
              "   'meta': {'createdAt': '2025-04-30T09:41:02.053Z',\n",
              "    'updatedAt': '2025-04-30T09:41:02.053Z',\n",
              "    'barcode': '8919386859966',\n",
              "    'qrCode': 'https://cdn.dummyjson.com/public/qr-code.png'},\n",
              "   'images': ['https://cdn.dummyjson.com/product-images/furniture/knoll-saarinen-executive-conference-chair/1.webp',\n",
              "    'https://cdn.dummyjson.com/product-images/furniture/knoll-saarinen-executive-conference-chair/2.webp',\n",
              "    'https://cdn.dummyjson.com/product-images/furniture/knoll-saarinen-executive-conference-chair/3.webp'],\n",
              "   'thumbnail': 'https://cdn.dummyjson.com/product-images/furniture/knoll-saarinen-executive-conference-chair/thumbnail.webp'},\n",
              "  {'id': 15,\n",
              "   'title': 'Wooden Bathroom Sink With Mirror',\n",
              "   'description': 'The Wooden Bathroom Sink with Mirror is a unique and stylish addition to your bathroom, featuring a wooden sink countertop and a matching mirror.',\n",
              "   'category': 'furniture',\n",
              "   'price': 799.99,\n",
              "   'discountPercentage': 8.8,\n",
              "   'rating': 3.59,\n",
              "   'stock': 7,\n",
              "   'tags': ['furniture', 'bathroom'],\n",
              "   'brand': 'Bath Trends',\n",
              "   'sku': 'FUR-BAT-WOO-015',\n",
              "   'weight': 10,\n",
              "   'dimensions': {'width': 7.98, 'height': 8.88, 'depth': 28.46},\n",
              "   'warrantyInformation': '3 year warranty',\n",
              "   'shippingInformation': 'Ships in 3-5 business days',\n",
              "   'availabilityStatus': 'Low Stock',\n",
              "   'reviews': [{'rating': 4,\n",
              "     'comment': 'Fast shipping!',\n",
              "     'date': '2025-04-30T09:41:02.053Z',\n",
              "     'reviewerName': 'Logan Torres',\n",
              "     'reviewerEmail': 'logan.torres@x.dummyjson.com'},\n",
              "    {'rating': 5,\n",
              "     'comment': 'Very pleased!',\n",
              "     'date': '2025-04-30T09:41:02.053Z',\n",
              "     'reviewerName': 'Aria Parker',\n",
              "     'reviewerEmail': 'aria.parker@x.dummyjson.com'},\n",
              "    {'rating': 3,\n",
              "     'comment': 'Poor quality!',\n",
              "     'date': '2025-04-30T09:41:02.053Z',\n",
              "     'reviewerName': 'Dylan Wells',\n",
              "     'reviewerEmail': 'dylan.wells@x.dummyjson.com'}],\n",
              "   'returnPolicy': '60 days return policy',\n",
              "   'minimumOrderQuantity': 2,\n",
              "   'meta': {'createdAt': '2025-04-30T09:41:02.053Z',\n",
              "    'updatedAt': '2025-04-30T09:41:02.053Z',\n",
              "    'barcode': '1958104402873',\n",
              "    'qrCode': 'https://cdn.dummyjson.com/public/qr-code.png'},\n",
              "   'images': ['https://cdn.dummyjson.com/product-images/furniture/wooden-bathroom-sink-with-mirror/1.webp',\n",
              "    'https://cdn.dummyjson.com/product-images/furniture/wooden-bathroom-sink-with-mirror/2.webp',\n",
              "    'https://cdn.dummyjson.com/product-images/furniture/wooden-bathroom-sink-with-mirror/3.webp'],\n",
              "   'thumbnail': 'https://cdn.dummyjson.com/product-images/furniture/wooden-bathroom-sink-with-mirror/thumbnail.webp'},\n",
              "  {'id': 16,\n",
              "   'title': 'Apple',\n",
              "   'description': 'Fresh and crisp apples, perfect for snacking or incorporating into various recipes.',\n",
              "   'category': 'groceries',\n",
              "   'price': 1.99,\n",
              "   'discountPercentage': 12.62,\n",
              "   'rating': 4.19,\n",
              "   'stock': 8,\n",
              "   'tags': ['fruits'],\n",
              "   'sku': 'GRO-BRD-APP-016',\n",
              "   'weight': 9,\n",
              "   'dimensions': {'width': 13.66, 'height': 11.01, 'depth': 9.73},\n",
              "   'warrantyInformation': '3 year warranty',\n",
              "   'shippingInformation': 'Ships in 2 weeks',\n",
              "   'availabilityStatus': 'In Stock',\n",
              "   'reviews': [{'rating': 5,\n",
              "     'comment': 'Very satisfied!',\n",
              "     'date': '2025-04-30T09:41:02.053Z',\n",
              "     'reviewerName': 'Sophia Brown',\n",
              "     'reviewerEmail': 'sophia.brown@x.dummyjson.com'},\n",
              "    {'rating': 1,\n",
              "     'comment': 'Very dissatisfied!',\n",
              "     'date': '2025-04-30T09:41:02.053Z',\n",
              "     'reviewerName': 'Scarlett Bowman',\n",
              "     'reviewerEmail': 'scarlett.bowman@x.dummyjson.com'},\n",
              "    {'rating': 3,\n",
              "     'comment': 'Very unhappy with my purchase!',\n",
              "     'date': '2025-04-30T09:41:02.053Z',\n",
              "     'reviewerName': 'William Gonzalez',\n",
              "     'reviewerEmail': 'william.gonzalez@x.dummyjson.com'}],\n",
              "   'returnPolicy': '90 days return policy',\n",
              "   'minimumOrderQuantity': 7,\n",
              "   'meta': {'createdAt': '2025-04-30T09:41:02.053Z',\n",
              "    'updatedAt': '2025-04-30T09:41:02.053Z',\n",
              "    'barcode': '7962803553314',\n",
              "    'qrCode': 'https://cdn.dummyjson.com/public/qr-code.png'},\n",
              "   'images': ['https://cdn.dummyjson.com/product-images/groceries/apple/1.webp'],\n",
              "   'thumbnail': 'https://cdn.dummyjson.com/product-images/groceries/apple/thumbnail.webp'},\n",
              "  {'id': 17,\n",
              "   'title': 'Beef Steak',\n",
              "   'description': 'High-quality beef steak, great for grilling or cooking to your preferred level of doneness.',\n",
              "   'category': 'groceries',\n",
              "   'price': 12.99,\n",
              "   'discountPercentage': 9.61,\n",
              "   'rating': 4.47,\n",
              "   'stock': 86,\n",
              "   'tags': ['meat'],\n",
              "   'sku': 'GRO-BRD-BEE-017',\n",
              "   'weight': 10,\n",
              "   'dimensions': {'width': 18.9, 'height': 5.77, 'depth': 18.57},\n",
              "   'warrantyInformation': '3 year warranty',\n",
              "   'shippingInformation': 'Ships overnight',\n",
              "   'availabilityStatus': 'In Stock',\n",
              "   'reviews': [{'rating': 3,\n",
              "     'comment': 'Would not recommend!',\n",
              "     'date': '2025-04-30T09:41:02.053Z',\n",
              "     'reviewerName': 'Eleanor Tyler',\n",
              "     'reviewerEmail': 'eleanor.tyler@x.dummyjson.com'},\n",
              "    {'rating': 4,\n",
              "     'comment': 'Fast shipping!',\n",
              "     'date': '2025-04-30T09:41:02.053Z',\n",
              "     'reviewerName': 'Alexander Jones',\n",
              "     'reviewerEmail': 'alexander.jones@x.dummyjson.com'},\n",
              "    {'rating': 5,\n",
              "     'comment': 'Great value for money!',\n",
              "     'date': '2025-04-30T09:41:02.053Z',\n",
              "     'reviewerName': 'Natalie Harris',\n",
              "     'reviewerEmail': 'natalie.harris@x.dummyjson.com'}],\n",
              "   'returnPolicy': '60 days return policy',\n",
              "   'minimumOrderQuantity': 43,\n",
              "   'meta': {'createdAt': '2025-04-30T09:41:02.053Z',\n",
              "    'updatedAt': '2025-04-30T09:41:02.053Z',\n",
              "    'barcode': '5640063409695',\n",
              "    'qrCode': 'https://cdn.dummyjson.com/public/qr-code.png'},\n",
              "   'images': ['https://cdn.dummyjson.com/product-images/groceries/beef-steak/1.webp'],\n",
              "   'thumbnail': 'https://cdn.dummyjson.com/product-images/groceries/beef-steak/thumbnail.webp'},\n",
              "  {'id': 18,\n",
              "   'title': 'Cat Food',\n",
              "   'description': 'Nutritious cat food formulated to meet the dietary needs of your feline friend.',\n",
              "   'category': 'groceries',\n",
              "   'price': 8.99,\n",
              "   'discountPercentage': 9.58,\n",
              "   'rating': 3.13,\n",
              "   'stock': 46,\n",
              "   'tags': ['pet supplies', 'cat food'],\n",
              "   'sku': 'GRO-BRD-FOO-018',\n",
              "   'weight': 10,\n",
              "   'dimensions': {'width': 18.08, 'height': 9.26, 'depth': 21.86},\n",
              "   'warrantyInformation': '1 year warranty',\n",
              "   'shippingInformation': 'Ships overnight',\n",
              "   'availabilityStatus': 'In Stock',\n",
              "   'reviews': [{'rating': 3,\n",
              "     'comment': 'Would not recommend!',\n",
              "     'date': '2025-04-30T09:41:02.053Z',\n",
              "     'reviewerName': 'Noah Lewis',\n",
              "     'reviewerEmail': 'noah.lewis@x.dummyjson.com'},\n",
              "    {'rating': 3,\n",
              "     'comment': 'Very unhappy with my purchase!',\n",
              "     'date': '2025-04-30T09:41:02.053Z',\n",
              "     'reviewerName': 'Ruby Andrews',\n",
              "     'reviewerEmail': 'ruby.andrews@x.dummyjson.com'},\n",
              "    {'rating': 2,\n",
              "     'comment': 'Very disappointed!',\n",
              "     'date': '2025-04-30T09:41:02.053Z',\n",
              "     'reviewerName': 'Ethan Thompson',\n",
              "     'reviewerEmail': 'ethan.thompson@x.dummyjson.com'}],\n",
              "   'returnPolicy': 'No return policy',\n",
              "   'minimumOrderQuantity': 18,\n",
              "   'meta': {'createdAt': '2025-04-30T09:41:02.053Z',\n",
              "    'updatedAt': '2025-04-30T09:41:02.053Z',\n",
              "    'barcode': '1483991328610',\n",
              "    'qrCode': 'https://cdn.dummyjson.com/public/qr-code.png'},\n",
              "   'images': ['https://cdn.dummyjson.com/product-images/groceries/cat-food/1.webp'],\n",
              "   'thumbnail': 'https://cdn.dummyjson.com/product-images/groceries/cat-food/thumbnail.webp'},\n",
              "  {'id': 19,\n",
              "   'title': 'Chicken Meat',\n",
              "   'description': 'Fresh and tender chicken meat, suitable for various culinary preparations.',\n",
              "   'category': 'groceries',\n",
              "   'price': 9.99,\n",
              "   'discountPercentage': 13.7,\n",
              "   'rating': 3.19,\n",
              "   'stock': 97,\n",
              "   'tags': ['meat'],\n",
              "   'sku': 'GRO-BRD-CHI-019',\n",
              "   'weight': 1,\n",
              "   'dimensions': {'width': 11.03, 'height': 22.11, 'depth': 16.01},\n",
              "   'warrantyInformation': '1 year warranty',\n",
              "   'shippingInformation': 'Ships in 1 month',\n",
              "   'availabilityStatus': 'In Stock',\n",
              "   'reviews': [{'rating': 5,\n",
              "     'comment': 'Great product!',\n",
              "     'date': '2025-04-30T09:41:02.053Z',\n",
              "     'reviewerName': 'Mateo Bennett',\n",
              "     'reviewerEmail': 'mateo.bennett@x.dummyjson.com'},\n",
              "    {'rating': 4,\n",
              "     'comment': 'Highly recommended!',\n",
              "     'date': '2025-04-30T09:41:02.053Z',\n",
              "     'reviewerName': 'Jackson Evans',\n",
              "     'reviewerEmail': 'jackson.evans@x.dummyjson.com'},\n",
              "    {'rating': 3,\n",
              "     'comment': 'Not worth the price!',\n",
              "     'date': '2025-04-30T09:41:02.053Z',\n",
              "     'reviewerName': 'Sadie Morales',\n",
              "     'reviewerEmail': 'sadie.morales@x.dummyjson.com'}],\n",
              "   'returnPolicy': '7 days return policy',\n",
              "   'minimumOrderQuantity': 22,\n",
              "   'meta': {'createdAt': '2025-04-30T09:41:02.053Z',\n",
              "    'updatedAt': '2025-04-30T09:41:02.053Z',\n",
              "    'barcode': '8829514594521',\n",
              "    'qrCode': 'https://cdn.dummyjson.com/public/qr-code.png'},\n",
              "   'images': ['https://cdn.dummyjson.com/product-images/groceries/chicken-meat/1.webp',\n",
              "    'https://cdn.dummyjson.com/product-images/groceries/chicken-meat/2.webp'],\n",
              "   'thumbnail': 'https://cdn.dummyjson.com/product-images/groceries/chicken-meat/thumbnail.webp'},\n",
              "  {'id': 20,\n",
              "   'title': 'Cooking Oil',\n",
              "   'description': 'Versatile cooking oil suitable for frying, sautéing, and various culinary applications.',\n",
              "   'category': 'groceries',\n",
              "   'price': 4.99,\n",
              "   'discountPercentage': 9.33,\n",
              "   'rating': 4.8,\n",
              "   'stock': 10,\n",
              "   'tags': ['cooking essentials'],\n",
              "   'sku': 'GRO-BRD-COO-020',\n",
              "   'weight': 5,\n",
              "   'dimensions': {'width': 19.95, 'height': 27.54, 'depth': 24.86},\n",
              "   'warrantyInformation': 'Lifetime warranty',\n",
              "   'shippingInformation': 'Ships in 1-2 business days',\n",
              "   'availabilityStatus': 'In Stock',\n",
              "   'reviews': [{'rating': 5,\n",
              "     'comment': 'Very happy with my purchase!',\n",
              "     'date': '2025-04-30T09:41:02.053Z',\n",
              "     'reviewerName': 'Victoria McDonald',\n",
              "     'reviewerEmail': 'victoria.mcdonald@x.dummyjson.com'},\n",
              "    {'rating': 2,\n",
              "     'comment': 'Would not recommend!',\n",
              "     'date': '2025-04-30T09:41:02.053Z',\n",
              "     'reviewerName': 'Hazel Evans',\n",
              "     'reviewerEmail': 'hazel.evans@x.dummyjson.com'},\n",
              "    {'rating': 5,\n",
              "     'comment': 'Would buy again!',\n",
              "     'date': '2025-04-30T09:41:02.053Z',\n",
              "     'reviewerName': 'Zoe Bennett',\n",
              "     'reviewerEmail': 'zoe.bennett@x.dummyjson.com'}],\n",
              "   'returnPolicy': '30 days return policy',\n",
              "   'minimumOrderQuantity': 46,\n",
              "   'meta': {'createdAt': '2025-04-30T09:41:02.053Z',\n",
              "    'updatedAt': '2025-04-30T09:41:02.053Z',\n",
              "    'barcode': '4874727824518',\n",
              "    'qrCode': 'https://cdn.dummyjson.com/public/qr-code.png'},\n",
              "   'images': ['https://cdn.dummyjson.com/product-images/groceries/cooking-oil/1.webp'],\n",
              "   'thumbnail': 'https://cdn.dummyjson.com/product-images/groceries/cooking-oil/thumbnail.webp'},\n",
              "  {'id': 21,\n",
              "   'title': 'Cucumber',\n",
              "   'description': 'Crisp and hydrating cucumbers, ideal for salads, snacks, or as a refreshing side.',\n",
              "   'category': 'groceries',\n",
              "   'price': 1.49,\n",
              "   'discountPercentage': 0.16,\n",
              "   'rating': 4.07,\n",
              "   'stock': 84,\n",
              "   'tags': ['vegetables'],\n",
              "   'sku': 'GRO-BRD-CUC-021',\n",
              "   'weight': 4,\n",
              "   'dimensions': {'width': 12.8, 'height': 28.38, 'depth': 21.34},\n",
              "   'warrantyInformation': '2 year warranty',\n",
              "   'shippingInformation': 'Ships in 1-2 business days',\n",
              "   'availabilityStatus': 'In Stock',\n",
              "   'reviews': [{'rating': 4,\n",
              "     'comment': 'Great product!',\n",
              "     'date': '2025-04-30T09:41:02.053Z',\n",
              "     'reviewerName': 'Lincoln Kelly',\n",
              "     'reviewerEmail': 'lincoln.kelly@x.dummyjson.com'},\n",
              "    {'rating': 4,\n",
              "     'comment': 'Great value for money!',\n",
              "     'date': '2025-04-30T09:41:02.053Z',\n",
              "     'reviewerName': 'Savannah Gomez',\n",
              "     'reviewerEmail': 'savannah.gomez@x.dummyjson.com'},\n",
              "    {'rating': 2,\n",
              "     'comment': 'Poor quality!',\n",
              "     'date': '2025-04-30T09:41:02.053Z',\n",
              "     'reviewerName': 'James Davis',\n",
              "     'reviewerEmail': 'james.davis@x.dummyjson.com'}],\n",
              "   'returnPolicy': '7 days return policy',\n",
              "   'minimumOrderQuantity': 2,\n",
              "   'meta': {'createdAt': '2025-04-30T09:41:02.053Z',\n",
              "    'updatedAt': '2025-04-30T09:41:02.053Z',\n",
              "    'barcode': '5300066378225',\n",
              "    'qrCode': 'https://cdn.dummyjson.com/public/qr-code.png'},\n",
              "   'images': ['https://cdn.dummyjson.com/product-images/groceries/cucumber/1.webp'],\n",
              "   'thumbnail': 'https://cdn.dummyjson.com/product-images/groceries/cucumber/thumbnail.webp'},\n",
              "  {'id': 22,\n",
              "   'title': 'Dog Food',\n",
              "   'description': 'Specially formulated dog food designed to provide essential nutrients for your canine companion.',\n",
              "   'category': 'groceries',\n",
              "   'price': 10.99,\n",
              "   'discountPercentage': 10.27,\n",
              "   'rating': 4.55,\n",
              "   'stock': 71,\n",
              "   'tags': ['pet supplies', 'dog food'],\n",
              "   'sku': 'GRO-BRD-FOO-022',\n",
              "   'weight': 10,\n",
              "   'dimensions': {'width': 16.93, 'height': 27.15, 'depth': 9.29},\n",
              "   'warrantyInformation': 'No warranty',\n",
              "   'shippingInformation': 'Ships in 1-2 business days',\n",
              "   'availabilityStatus': 'In Stock',\n",
              "   'reviews': [{'rating': 5,\n",
              "     'comment': 'Excellent quality!',\n",
              "     'date': '2025-04-30T09:41:02.053Z',\n",
              "     'reviewerName': 'Nicholas Edwards',\n",
              "     'reviewerEmail': 'nicholas.edwards@x.dummyjson.com'},\n",
              "    {'rating': 5,\n",
              "     'comment': 'Awesome product!',\n",
              "     'date': '2025-04-30T09:41:02.053Z',\n",
              "     'reviewerName': 'Zachary Lee',\n",
              "     'reviewerEmail': 'zachary.lee@x.dummyjson.com'},\n",
              "    {'rating': 4,\n",
              "     'comment': 'Great product!',\n",
              "     'date': '2025-04-30T09:41:02.053Z',\n",
              "     'reviewerName': 'Nova Cooper',\n",
              "     'reviewerEmail': 'nova.cooper@x.dummyjson.com'}],\n",
              "   'returnPolicy': '60 days return policy',\n",
              "   'minimumOrderQuantity': 43,\n",
              "   'meta': {'createdAt': '2025-04-30T09:41:02.053Z',\n",
              "    'updatedAt': '2025-04-30T09:41:02.053Z',\n",
              "    'barcode': '5906686116469',\n",
              "    'qrCode': 'https://cdn.dummyjson.com/public/qr-code.png'},\n",
              "   'images': ['https://cdn.dummyjson.com/product-images/groceries/dog-food/1.webp'],\n",
              "   'thumbnail': 'https://cdn.dummyjson.com/product-images/groceries/dog-food/thumbnail.webp'},\n",
              "  {'id': 23,\n",
              "   'title': 'Eggs',\n",
              "   'description': 'Fresh eggs, a versatile ingredient for baking, cooking, or breakfast.',\n",
              "   'category': 'groceries',\n",
              "   'price': 2.99,\n",
              "   'discountPercentage': 11.05,\n",
              "   'rating': 2.53,\n",
              "   'stock': 9,\n",
              "   'tags': ['dairy'],\n",
              "   'sku': 'GRO-BRD-EGG-023',\n",
              "   'weight': 2,\n",
              "   'dimensions': {'width': 11.42, 'height': 7.44, 'depth': 16.95},\n",
              "   'warrantyInformation': '1 week warranty',\n",
              "   'shippingInformation': 'Ships in 1 week',\n",
              "   'availabilityStatus': 'In Stock',\n",
              "   'reviews': [{'rating': 3,\n",
              "     'comment': 'Disappointing product!',\n",
              "     'date': '2025-04-30T09:41:02.053Z',\n",
              "     'reviewerName': 'Penelope King',\n",
              "     'reviewerEmail': 'penelope.king@x.dummyjson.com'},\n",
              "    {'rating': 3,\n",
              "     'comment': 'Poor quality!',\n",
              "     'date': '2025-04-30T09:41:02.053Z',\n",
              "     'reviewerName': 'Eleanor Tyler',\n",
              "     'reviewerEmail': 'eleanor.tyler@x.dummyjson.com'},\n",
              "    {'rating': 4,\n",
              "     'comment': 'Very pleased!',\n",
              "     'date': '2025-04-30T09:41:02.053Z',\n",
              "     'reviewerName': 'Benjamin Foster',\n",
              "     'reviewerEmail': 'benjamin.foster@x.dummyjson.com'}],\n",
              "   'returnPolicy': 'No return policy',\n",
              "   'minimumOrderQuantity': 32,\n",
              "   'meta': {'createdAt': '2025-04-30T09:41:02.053Z',\n",
              "    'updatedAt': '2025-04-30T09:41:02.053Z',\n",
              "    'barcode': '3478638588469',\n",
              "    'qrCode': 'https://cdn.dummyjson.com/public/qr-code.png'},\n",
              "   'images': ['https://cdn.dummyjson.com/product-images/groceries/eggs/1.webp'],\n",
              "   'thumbnail': 'https://cdn.dummyjson.com/product-images/groceries/eggs/thumbnail.webp'},\n",
              "  {'id': 24,\n",
              "   'title': 'Fish Steak',\n",
              "   'description': 'Quality fish steak, suitable for grilling, baking, or pan-searing.',\n",
              "   'category': 'groceries',\n",
              "   'price': 14.99,\n",
              "   'discountPercentage': 4.23,\n",
              "   'rating': 3.78,\n",
              "   'stock': 74,\n",
              "   'tags': ['seafood'],\n",
              "   'sku': 'GRO-BRD-FIS-024',\n",
              "   'weight': 6,\n",
              "   'dimensions': {'width': 14.95, 'height': 26.31, 'depth': 11.27},\n",
              "   'warrantyInformation': '1 month warranty',\n",
              "   'shippingInformation': 'Ships in 3-5 business days',\n",
              "   'availabilityStatus': 'In Stock',\n",
              "   'reviews': [{'rating': 2,\n",
              "     'comment': 'Would not buy again!',\n",
              "     'date': '2025-04-30T09:41:02.053Z',\n",
              "     'reviewerName': 'Caleb Perkins',\n",
              "     'reviewerEmail': 'caleb.perkins@x.dummyjson.com'},\n",
              "    {'rating': 5,\n",
              "     'comment': 'Excellent quality!',\n",
              "     'date': '2025-04-30T09:41:02.053Z',\n",
              "     'reviewerName': 'Isabella Jackson',\n",
              "     'reviewerEmail': 'isabella.jackson@x.dummyjson.com'},\n",
              "    {'rating': 4,\n",
              "     'comment': 'Great value for money!',\n",
              "     'date': '2025-04-30T09:41:02.053Z',\n",
              "     'reviewerName': 'Nathan Dixon',\n",
              "     'reviewerEmail': 'nathan.dixon@x.dummyjson.com'}],\n",
              "   'returnPolicy': '60 days return policy',\n",
              "   'minimumOrderQuantity': 50,\n",
              "   'meta': {'createdAt': '2025-04-30T09:41:02.053Z',\n",
              "    'updatedAt': '2025-04-30T09:41:02.053Z',\n",
              "    'barcode': '9595036192098',\n",
              "    'qrCode': 'https://cdn.dummyjson.com/public/qr-code.png'},\n",
              "   'images': ['https://cdn.dummyjson.com/product-images/groceries/fish-steak/1.webp'],\n",
              "   'thumbnail': 'https://cdn.dummyjson.com/product-images/groceries/fish-steak/thumbnail.webp'},\n",
              "  {'id': 25,\n",
              "   'title': 'Green Bell Pepper',\n",
              "   'description': 'Fresh and vibrant green bell pepper, perfect for adding color and flavor to your dishes.',\n",
              "   'category': 'groceries',\n",
              "   'price': 1.29,\n",
              "   'discountPercentage': 0.16,\n",
              "   'rating': 3.25,\n",
              "   'stock': 33,\n",
              "   'tags': ['vegetables'],\n",
              "   'sku': 'GRO-BRD-GRE-025',\n",
              "   'weight': 2,\n",
              "   'dimensions': {'width': 15.33, 'height': 26.65, 'depth': 14.44},\n",
              "   'warrantyInformation': '1 month warranty',\n",
              "   'shippingInformation': 'Ships in 1 week',\n",
              "   'availabilityStatus': 'In Stock',\n",
              "   'reviews': [{'rating': 4,\n",
              "     'comment': 'Highly recommended!',\n",
              "     'date': '2025-04-30T09:41:02.053Z',\n",
              "     'reviewerName': 'Avery Carter',\n",
              "     'reviewerEmail': 'avery.carter@x.dummyjson.com'},\n",
              "    {'rating': 3,\n",
              "     'comment': 'Would not recommend!',\n",
              "     'date': '2025-04-30T09:41:02.053Z',\n",
              "     'reviewerName': 'Henry Hill',\n",
              "     'reviewerEmail': 'henry.hill@x.dummyjson.com'},\n",
              "    {'rating': 5,\n",
              "     'comment': 'Excellent quality!',\n",
              "     'date': '2025-04-30T09:41:02.053Z',\n",
              "     'reviewerName': 'Addison Wright',\n",
              "     'reviewerEmail': 'addison.wright@x.dummyjson.com'}],\n",
              "   'returnPolicy': '30 days return policy',\n",
              "   'minimumOrderQuantity': 12,\n",
              "   'meta': {'createdAt': '2025-04-30T09:41:02.053Z',\n",
              "    'updatedAt': '2025-04-30T09:41:02.053Z',\n",
              "    'barcode': '2365227493323',\n",
              "    'qrCode': 'https://cdn.dummyjson.com/public/qr-code.png'},\n",
              "   'images': ['https://cdn.dummyjson.com/product-images/groceries/green-bell-pepper/1.webp'],\n",
              "   'thumbnail': 'https://cdn.dummyjson.com/product-images/groceries/green-bell-pepper/thumbnail.webp'},\n",
              "  {'id': 26,\n",
              "   'title': 'Green Chili Pepper',\n",
              "   'description': 'Spicy green chili pepper, ideal for adding heat to your favorite recipes.',\n",
              "   'category': 'groceries',\n",
              "   'price': 0.99,\n",
              "   'discountPercentage': 1,\n",
              "   'rating': 3.66,\n",
              "   'stock': 3,\n",
              "   'tags': ['vegetables'],\n",
              "   'sku': 'GRO-BRD-GRE-026',\n",
              "   'weight': 7,\n",
              "   'dimensions': {'width': 15.38, 'height': 18.12, 'depth': 19.92},\n",
              "   'warrantyInformation': '2 year warranty',\n",
              "   'shippingInformation': 'Ships in 1 week',\n",
              "   'availabilityStatus': 'Low Stock',\n",
              "   'reviews': [{'rating': 4,\n",
              "     'comment': 'Great product!',\n",
              "     'date': '2025-04-30T09:41:02.053Z',\n",
              "     'reviewerName': 'Luna Russell',\n",
              "     'reviewerEmail': 'luna.russell@x.dummyjson.com'},\n",
              "    {'rating': 1,\n",
              "     'comment': 'Waste of money!',\n",
              "     'date': '2025-04-30T09:41:02.053Z',\n",
              "     'reviewerName': 'Noah Lewis',\n",
              "     'reviewerEmail': 'noah.lewis@x.dummyjson.com'},\n",
              "    {'rating': 3,\n",
              "     'comment': 'Very disappointed!',\n",
              "     'date': '2025-04-30T09:41:02.053Z',\n",
              "     'reviewerName': 'Clara Berry',\n",
              "     'reviewerEmail': 'clara.berry@x.dummyjson.com'}],\n",
              "   'returnPolicy': '30 days return policy',\n",
              "   'minimumOrderQuantity': 39,\n",
              "   'meta': {'createdAt': '2025-04-30T09:41:02.053Z',\n",
              "    'updatedAt': '2025-04-30T09:41:02.053Z',\n",
              "    'barcode': '9335000538563',\n",
              "    'qrCode': 'https://cdn.dummyjson.com/public/qr-code.png'},\n",
              "   'images': ['https://cdn.dummyjson.com/product-images/groceries/green-chili-pepper/1.webp'],\n",
              "   'thumbnail': 'https://cdn.dummyjson.com/product-images/groceries/green-chili-pepper/thumbnail.webp'},\n",
              "  {'id': 27,\n",
              "   'title': 'Honey Jar',\n",
              "   'description': 'Pure and natural honey in a convenient jar, perfect for sweetening beverages or drizzling over food.',\n",
              "   'category': 'groceries',\n",
              "   'price': 6.99,\n",
              "   'discountPercentage': 14.4,\n",
              "   'rating': 3.97,\n",
              "   'stock': 34,\n",
              "   'tags': ['condiments'],\n",
              "   'sku': 'GRO-BRD-HON-027',\n",
              "   'weight': 2,\n",
              "   'dimensions': {'width': 9.28, 'height': 21.72, 'depth': 17.74},\n",
              "   'warrantyInformation': '1 month warranty',\n",
              "   'shippingInformation': 'Ships in 1-2 business days',\n",
              "   'availabilityStatus': 'In Stock',\n",
              "   'reviews': [{'rating': 1,\n",
              "     'comment': 'Very disappointed!',\n",
              "     'date': '2025-04-30T09:41:02.053Z',\n",
              "     'reviewerName': 'Autumn Gomez',\n",
              "     'reviewerEmail': 'autumn.gomez@x.dummyjson.com'},\n",
              "    {'rating': 4,\n",
              "     'comment': 'Highly impressed!',\n",
              "     'date': '2025-04-30T09:41:02.053Z',\n",
              "     'reviewerName': 'Benjamin Wilson',\n",
              "     'reviewerEmail': 'benjamin.wilson@x.dummyjson.com'},\n",
              "    {'rating': 2,\n",
              "     'comment': 'Very disappointed!',\n",
              "     'date': '2025-04-30T09:41:02.053Z',\n",
              "     'reviewerName': 'Nicholas Edwards',\n",
              "     'reviewerEmail': 'nicholas.edwards@x.dummyjson.com'}],\n",
              "   'returnPolicy': '90 days return policy',\n",
              "   'minimumOrderQuantity': 47,\n",
              "   'meta': {'createdAt': '2025-04-30T09:41:02.053Z',\n",
              "    'updatedAt': '2025-04-30T09:41:02.053Z',\n",
              "    'barcode': '6354306346329',\n",
              "    'qrCode': 'https://cdn.dummyjson.com/public/qr-code.png'},\n",
              "   'images': ['https://cdn.dummyjson.com/product-images/groceries/honey-jar/1.webp'],\n",
              "   'thumbnail': 'https://cdn.dummyjson.com/product-images/groceries/honey-jar/thumbnail.webp'},\n",
              "  {'id': 28,\n",
              "   'title': 'Ice Cream',\n",
              "   'description': 'Creamy and delicious ice cream, available in various flavors for a delightful treat.',\n",
              "   'category': 'groceries',\n",
              "   'price': 5.49,\n",
              "   'discountPercentage': 8.69,\n",
              "   'rating': 3.39,\n",
              "   'stock': 27,\n",
              "   'tags': ['desserts'],\n",
              "   'sku': 'GRO-BRD-CRE-028',\n",
              "   'weight': 1,\n",
              "   'dimensions': {'width': 14.83, 'height': 15.07, 'depth': 24.2},\n",
              "   'warrantyInformation': '1 month warranty',\n",
              "   'shippingInformation': 'Ships in 2 weeks',\n",
              "   'availabilityStatus': 'In Stock',\n",
              "   'reviews': [{'rating': 5,\n",
              "     'comment': 'Very pleased!',\n",
              "     'date': '2025-04-30T09:41:02.053Z',\n",
              "     'reviewerName': 'Elijah Cruz',\n",
              "     'reviewerEmail': 'elijah.cruz@x.dummyjson.com'},\n",
              "    {'rating': 4,\n",
              "     'comment': 'Excellent quality!',\n",
              "     'date': '2025-04-30T09:41:02.053Z',\n",
              "     'reviewerName': 'Jace Smith',\n",
              "     'reviewerEmail': 'jace.smith@x.dummyjson.com'},\n",
              "    {'rating': 5,\n",
              "     'comment': 'Highly impressed!',\n",
              "     'date': '2025-04-30T09:41:02.053Z',\n",
              "     'reviewerName': 'Sadie Morales',\n",
              "     'reviewerEmail': 'sadie.morales@x.dummyjson.com'}],\n",
              "   'returnPolicy': 'No return policy',\n",
              "   'minimumOrderQuantity': 42,\n",
              "   'meta': {'createdAt': '2025-04-30T09:41:02.053Z',\n",
              "    'updatedAt': '2025-04-30T09:41:02.053Z',\n",
              "    'barcode': '0788954559076',\n",
              "    'qrCode': 'https://cdn.dummyjson.com/public/qr-code.png'},\n",
              "   'images': ['https://cdn.dummyjson.com/product-images/groceries/ice-cream/1.webp',\n",
              "    'https://cdn.dummyjson.com/product-images/groceries/ice-cream/2.webp',\n",
              "    'https://cdn.dummyjson.com/product-images/groceries/ice-cream/3.webp',\n",
              "    'https://cdn.dummyjson.com/product-images/groceries/ice-cream/4.webp'],\n",
              "   'thumbnail': 'https://cdn.dummyjson.com/product-images/groceries/ice-cream/thumbnail.webp'},\n",
              "  {'id': 29,\n",
              "   'title': 'Juice',\n",
              "   'description': 'Refreshing fruit juice, packed with vitamins and great for staying hydrated.',\n",
              "   'category': 'groceries',\n",
              "   'price': 3.99,\n",
              "   'discountPercentage': 12.06,\n",
              "   'rating': 3.94,\n",
              "   'stock': 50,\n",
              "   'tags': ['beverages'],\n",
              "   'sku': 'GRO-BRD-JUI-029',\n",
              "   'weight': 1,\n",
              "   'dimensions': {'width': 18.56, 'height': 21.46, 'depth': 28.02},\n",
              "   'warrantyInformation': '6 months warranty',\n",
              "   'shippingInformation': 'Ships in 1 week',\n",
              "   'availabilityStatus': 'In Stock',\n",
              "   'reviews': [{'rating': 5,\n",
              "     'comment': 'Excellent quality!',\n",
              "     'date': '2025-04-30T09:41:02.053Z',\n",
              "     'reviewerName': 'Nolan Gonzalez',\n",
              "     'reviewerEmail': 'nolan.gonzalez@x.dummyjson.com'},\n",
              "    {'rating': 4,\n",
              "     'comment': 'Would buy again!',\n",
              "     'date': '2025-04-30T09:41:02.053Z',\n",
              "     'reviewerName': 'Bella Grant',\n",
              "     'reviewerEmail': 'bella.grant@x.dummyjson.com'},\n",
              "    {'rating': 5,\n",
              "     'comment': 'Awesome product!',\n",
              "     'date': '2025-04-30T09:41:02.053Z',\n",
              "     'reviewerName': 'Aria Flores',\n",
              "     'reviewerEmail': 'aria.flores@x.dummyjson.com'}],\n",
              "   'returnPolicy': 'No return policy',\n",
              "   'minimumOrderQuantity': 25,\n",
              "   'meta': {'createdAt': '2025-04-30T09:41:02.053Z',\n",
              "    'updatedAt': '2025-04-30T09:41:02.053Z',\n",
              "    'barcode': '6936112580956',\n",
              "    'qrCode': 'https://cdn.dummyjson.com/public/qr-code.png'},\n",
              "   'images': ['https://cdn.dummyjson.com/product-images/groceries/juice/1.webp'],\n",
              "   'thumbnail': 'https://cdn.dummyjson.com/product-images/groceries/juice/thumbnail.webp'},\n",
              "  {'id': 30,\n",
              "   'title': 'Kiwi',\n",
              "   'description': 'Nutrient-rich kiwi, perfect for snacking or adding a tropical twist to your dishes.',\n",
              "   'category': 'groceries',\n",
              "   'price': 2.49,\n",
              "   'discountPercentage': 15.22,\n",
              "   'rating': 4.93,\n",
              "   'stock': 99,\n",
              "   'tags': ['fruits'],\n",
              "   'sku': 'GRO-BRD-KIW-030',\n",
              "   'weight': 5,\n",
              "   'dimensions': {'width': 19.4, 'height': 18.67, 'depth': 17.13},\n",
              "   'warrantyInformation': '6 months warranty',\n",
              "   'shippingInformation': 'Ships overnight',\n",
              "   'availabilityStatus': 'In Stock',\n",
              "   'reviews': [{'rating': 4,\n",
              "     'comment': 'Highly recommended!',\n",
              "     'date': '2025-04-30T09:41:02.053Z',\n",
              "     'reviewerName': 'Emily Brown',\n",
              "     'reviewerEmail': 'emily.brown@x.dummyjson.com'},\n",
              "    {'rating': 2,\n",
              "     'comment': 'Would not buy again!',\n",
              "     'date': '2025-04-30T09:41:02.053Z',\n",
              "     'reviewerName': 'Jackson Morales',\n",
              "     'reviewerEmail': 'jackson.morales@x.dummyjson.com'},\n",
              "    {'rating': 4,\n",
              "     'comment': 'Fast shipping!',\n",
              "     'date': '2025-04-30T09:41:02.053Z',\n",
              "     'reviewerName': 'Nora Russell',\n",
              "     'reviewerEmail': 'nora.russell@x.dummyjson.com'}],\n",
              "   'returnPolicy': '7 days return policy',\n",
              "   'minimumOrderQuantity': 30,\n",
              "   'meta': {'createdAt': '2025-04-30T09:41:02.053Z',\n",
              "    'updatedAt': '2025-04-30T09:41:02.053Z',\n",
              "    'barcode': '2530169917252',\n",
              "    'qrCode': 'https://cdn.dummyjson.com/public/qr-code.png'},\n",
              "   'images': ['https://cdn.dummyjson.com/product-images/groceries/kiwi/1.webp'],\n",
              "   'thumbnail': 'https://cdn.dummyjson.com/product-images/groceries/kiwi/thumbnail.webp'}],\n",
              " 'total': 194,\n",
              " 'skip': 0,\n",
              " 'limit': 30}"
            ]
          },
          "execution_count": 176,
          "metadata": {},
          "output_type": "execute_result"
        }
      ],
      "source": [
        "retorno = requests.get(\"https://dummyjson.com/products\")\n",
        "products = json.loads(retorno.content)\n",
        "products"
      ]
    },
    {
      "cell_type": "code",
      "execution_count": 177,
      "metadata": {
        "id": "l98JFXMDBA4h"
      },
      "outputs": [],
      "source": [
        "import requests\n",
        "\n",
        "@tool\n",
        "def products(text: str) -> str:\n",
        "    \"\"\"Retorna lista de produtos de uma loja de\n",
        "    comércio eletrônico chamada ShopAI.\n",
        "    Não requer parâmetro de entrada, se necessário informe vazio.\n",
        "    O resultado será na forma JSON somente com o campo title e price.\"\"\"\n",
        "\n",
        "    retorno = requests.get(\"https://dummyjson.com/products\")\n",
        "    items = json.loads(retorno.content)\n",
        "    items = items[\"products\"][:3]\n",
        "\n",
        "    return items"
      ]
    },
    {
      "cell_type": "code",
      "execution_count": 178,
      "metadata": {
        "colab": {
          "base_uri": "https://localhost:8080/"
        },
        "id": "Obxe6dILKaSv",
        "outputId": "66876720-4da9-49b0-a460-eaac7b67892f"
      },
      "outputs": [
        {
          "name": "stderr",
          "output_type": "stream",
          "text": [
            "/var/folders/wg/hmxmh5ds0x73wpdxzt6w7k340000gn/T/ipykernel_11510/2952740257.py:1: LangChainDeprecationWarning: The method `BaseTool.__call__` was deprecated in langchain-core 0.1.47 and will be removed in 1.0. Use :meth:`~invoke` instead.\n",
            "  products(\"\")\n"
          ]
        },
        {
          "data": {
            "text/plain": [
              "[{'id': 1,\n",
              "  'title': 'Essence Mascara Lash Princess',\n",
              "  'description': 'The Essence Mascara Lash Princess is a popular mascara known for its volumizing and lengthening effects. Achieve dramatic lashes with this long-lasting and cruelty-free formula.',\n",
              "  'category': 'beauty',\n",
              "  'price': 9.99,\n",
              "  'discountPercentage': 10.48,\n",
              "  'rating': 2.56,\n",
              "  'stock': 99,\n",
              "  'tags': ['beauty', 'mascara'],\n",
              "  'brand': 'Essence',\n",
              "  'sku': 'BEA-ESS-ESS-001',\n",
              "  'weight': 4,\n",
              "  'dimensions': {'width': 15.14, 'height': 13.08, 'depth': 22.99},\n",
              "  'warrantyInformation': '1 week warranty',\n",
              "  'shippingInformation': 'Ships in 3-5 business days',\n",
              "  'availabilityStatus': 'In Stock',\n",
              "  'reviews': [{'rating': 3,\n",
              "    'comment': 'Would not recommend!',\n",
              "    'date': '2025-04-30T09:41:02.053Z',\n",
              "    'reviewerName': 'Eleanor Collins',\n",
              "    'reviewerEmail': 'eleanor.collins@x.dummyjson.com'},\n",
              "   {'rating': 4,\n",
              "    'comment': 'Very satisfied!',\n",
              "    'date': '2025-04-30T09:41:02.053Z',\n",
              "    'reviewerName': 'Lucas Gordon',\n",
              "    'reviewerEmail': 'lucas.gordon@x.dummyjson.com'},\n",
              "   {'rating': 5,\n",
              "    'comment': 'Highly impressed!',\n",
              "    'date': '2025-04-30T09:41:02.053Z',\n",
              "    'reviewerName': 'Eleanor Collins',\n",
              "    'reviewerEmail': 'eleanor.collins@x.dummyjson.com'}],\n",
              "  'returnPolicy': 'No return policy',\n",
              "  'minimumOrderQuantity': 48,\n",
              "  'meta': {'createdAt': '2025-04-30T09:41:02.053Z',\n",
              "   'updatedAt': '2025-04-30T09:41:02.053Z',\n",
              "   'barcode': '5784719087687',\n",
              "   'qrCode': 'https://cdn.dummyjson.com/public/qr-code.png'},\n",
              "  'images': ['https://cdn.dummyjson.com/product-images/beauty/essence-mascara-lash-princess/1.webp'],\n",
              "  'thumbnail': 'https://cdn.dummyjson.com/product-images/beauty/essence-mascara-lash-princess/thumbnail.webp'},\n",
              " {'id': 2,\n",
              "  'title': 'Eyeshadow Palette with Mirror',\n",
              "  'description': \"The Eyeshadow Palette with Mirror offers a versatile range of eyeshadow shades for creating stunning eye looks. With a built-in mirror, it's convenient for on-the-go makeup application.\",\n",
              "  'category': 'beauty',\n",
              "  'price': 19.99,\n",
              "  'discountPercentage': 18.19,\n",
              "  'rating': 2.86,\n",
              "  'stock': 34,\n",
              "  'tags': ['beauty', 'eyeshadow'],\n",
              "  'brand': 'Glamour Beauty',\n",
              "  'sku': 'BEA-GLA-EYE-002',\n",
              "  'weight': 9,\n",
              "  'dimensions': {'width': 9.26, 'height': 22.47, 'depth': 27.67},\n",
              "  'warrantyInformation': '1 year warranty',\n",
              "  'shippingInformation': 'Ships in 2 weeks',\n",
              "  'availabilityStatus': 'In Stock',\n",
              "  'reviews': [{'rating': 5,\n",
              "    'comment': 'Great product!',\n",
              "    'date': '2025-04-30T09:41:02.053Z',\n",
              "    'reviewerName': 'Savannah Gomez',\n",
              "    'reviewerEmail': 'savannah.gomez@x.dummyjson.com'},\n",
              "   {'rating': 4,\n",
              "    'comment': 'Awesome product!',\n",
              "    'date': '2025-04-30T09:41:02.053Z',\n",
              "    'reviewerName': 'Christian Perez',\n",
              "    'reviewerEmail': 'christian.perez@x.dummyjson.com'},\n",
              "   {'rating': 1,\n",
              "    'comment': 'Poor quality!',\n",
              "    'date': '2025-04-30T09:41:02.053Z',\n",
              "    'reviewerName': 'Nicholas Bailey',\n",
              "    'reviewerEmail': 'nicholas.bailey@x.dummyjson.com'}],\n",
              "  'returnPolicy': '7 days return policy',\n",
              "  'minimumOrderQuantity': 20,\n",
              "  'meta': {'createdAt': '2025-04-30T09:41:02.053Z',\n",
              "   'updatedAt': '2025-04-30T09:41:02.053Z',\n",
              "   'barcode': '9170275171413',\n",
              "   'qrCode': 'https://cdn.dummyjson.com/public/qr-code.png'},\n",
              "  'images': ['https://cdn.dummyjson.com/product-images/beauty/eyeshadow-palette-with-mirror/1.webp'],\n",
              "  'thumbnail': 'https://cdn.dummyjson.com/product-images/beauty/eyeshadow-palette-with-mirror/thumbnail.webp'},\n",
              " {'id': 3,\n",
              "  'title': 'Powder Canister',\n",
              "  'description': 'The Powder Canister is a finely milled setting powder designed to set makeup and control shine. With a lightweight and translucent formula, it provides a smooth and matte finish.',\n",
              "  'category': 'beauty',\n",
              "  'price': 14.99,\n",
              "  'discountPercentage': 9.84,\n",
              "  'rating': 4.64,\n",
              "  'stock': 89,\n",
              "  'tags': ['beauty', 'face powder'],\n",
              "  'brand': 'Velvet Touch',\n",
              "  'sku': 'BEA-VEL-POW-003',\n",
              "  'weight': 8,\n",
              "  'dimensions': {'width': 29.27, 'height': 27.93, 'depth': 20.59},\n",
              "  'warrantyInformation': '3 months warranty',\n",
              "  'shippingInformation': 'Ships in 1-2 business days',\n",
              "  'availabilityStatus': 'In Stock',\n",
              "  'reviews': [{'rating': 4,\n",
              "    'comment': 'Would buy again!',\n",
              "    'date': '2025-04-30T09:41:02.053Z',\n",
              "    'reviewerName': 'Alexander Jones',\n",
              "    'reviewerEmail': 'alexander.jones@x.dummyjson.com'},\n",
              "   {'rating': 5,\n",
              "    'comment': 'Highly impressed!',\n",
              "    'date': '2025-04-30T09:41:02.053Z',\n",
              "    'reviewerName': 'Elijah Cruz',\n",
              "    'reviewerEmail': 'elijah.cruz@x.dummyjson.com'},\n",
              "   {'rating': 1,\n",
              "    'comment': 'Very dissatisfied!',\n",
              "    'date': '2025-04-30T09:41:02.053Z',\n",
              "    'reviewerName': 'Avery Perez',\n",
              "    'reviewerEmail': 'avery.perez@x.dummyjson.com'}],\n",
              "  'returnPolicy': 'No return policy',\n",
              "  'minimumOrderQuantity': 22,\n",
              "  'meta': {'createdAt': '2025-04-30T09:41:02.053Z',\n",
              "   'updatedAt': '2025-04-30T09:41:02.053Z',\n",
              "   'barcode': '8418883906837',\n",
              "   'qrCode': 'https://cdn.dummyjson.com/public/qr-code.png'},\n",
              "  'images': ['https://cdn.dummyjson.com/product-images/beauty/powder-canister/1.webp'],\n",
              "  'thumbnail': 'https://cdn.dummyjson.com/product-images/beauty/powder-canister/thumbnail.webp'}]"
            ]
          },
          "execution_count": 178,
          "metadata": {},
          "output_type": "execute_result"
        }
      ],
      "source": [
        "products(\"\")"
      ]
    },
    {
      "cell_type": "code",
      "execution_count": 179,
      "metadata": {
        "id": "bX2FyvI3NG0U"
      },
      "outputs": [],
      "source": [
        "@tool\n",
        "def product(text: str) -> str:\n",
        "    \"\"\"Retorna o produto baseado na sua identificação.\n",
        "    Ela é numérica, mas deve ser enviado no formato texto e é obrigatória ser passado.\n",
        "    Esse é um produto do comércio eletrônico chamada ShopAI.\n",
        "    O resultado será na forma JSON ou dicionário.\"\"\"\n",
        "\n",
        "    retorno = requests.get(\"https://dummyjson.com/products/\"+text)\n",
        "    item = json.loads(retorno.content)\n",
        "\n",
        "    return item"
      ]
    },
    {
      "cell_type": "code",
      "execution_count": 180,
      "metadata": {
        "colab": {
          "base_uri": "https://localhost:8080/"
        },
        "id": "U3GgM3AtNeV1",
        "outputId": "d5599c7c-a424-4777-dbfb-7107c8823b6a"
      },
      "outputs": [
        {
          "data": {
            "text/plain": [
              "{'id': 1,\n",
              " 'title': 'Essence Mascara Lash Princess',\n",
              " 'description': 'The Essence Mascara Lash Princess is a popular mascara known for its volumizing and lengthening effects. Achieve dramatic lashes with this long-lasting and cruelty-free formula.',\n",
              " 'category': 'beauty',\n",
              " 'price': 9.99,\n",
              " 'discountPercentage': 10.48,\n",
              " 'rating': 2.56,\n",
              " 'stock': 99,\n",
              " 'tags': ['beauty', 'mascara'],\n",
              " 'brand': 'Essence',\n",
              " 'sku': 'BEA-ESS-ESS-001',\n",
              " 'weight': 4,\n",
              " 'dimensions': {'width': 15.14, 'height': 13.08, 'depth': 22.99},\n",
              " 'warrantyInformation': '1 week warranty',\n",
              " 'shippingInformation': 'Ships in 3-5 business days',\n",
              " 'availabilityStatus': 'In Stock',\n",
              " 'reviews': [{'rating': 3,\n",
              "   'comment': 'Would not recommend!',\n",
              "   'date': '2025-04-30T09:41:02.053Z',\n",
              "   'reviewerName': 'Eleanor Collins',\n",
              "   'reviewerEmail': 'eleanor.collins@x.dummyjson.com'},\n",
              "  {'rating': 4,\n",
              "   'comment': 'Very satisfied!',\n",
              "   'date': '2025-04-30T09:41:02.053Z',\n",
              "   'reviewerName': 'Lucas Gordon',\n",
              "   'reviewerEmail': 'lucas.gordon@x.dummyjson.com'},\n",
              "  {'rating': 5,\n",
              "   'comment': 'Highly impressed!',\n",
              "   'date': '2025-04-30T09:41:02.053Z',\n",
              "   'reviewerName': 'Eleanor Collins',\n",
              "   'reviewerEmail': 'eleanor.collins@x.dummyjson.com'}],\n",
              " 'returnPolicy': 'No return policy',\n",
              " 'minimumOrderQuantity': 48,\n",
              " 'meta': {'createdAt': '2025-04-30T09:41:02.053Z',\n",
              "  'updatedAt': '2025-04-30T09:41:02.053Z',\n",
              "  'barcode': '5784719087687',\n",
              "  'qrCode': 'https://cdn.dummyjson.com/public/qr-code.png'},\n",
              " 'images': ['https://cdn.dummyjson.com/product-images/beauty/essence-mascara-lash-princess/1.webp'],\n",
              " 'thumbnail': 'https://cdn.dummyjson.com/product-images/beauty/essence-mascara-lash-princess/thumbnail.webp'}"
            ]
          },
          "execution_count": 180,
          "metadata": {},
          "output_type": "execute_result"
        }
      ],
      "source": [
        "product(\"1\")"
      ]
    },
    {
      "cell_type": "markdown",
      "metadata": {
        "id": "XO1_qPmeZSPp"
      },
      "source": [
        "Iniciamos o agente como os anteriores."
      ]
    },
    {
      "cell_type": "code",
      "execution_count": 181,
      "metadata": {
        "id": "07wJZAVuOiIV"
      },
      "outputs": [
        {
          "name": "stderr",
          "output_type": "stream",
          "text": [
            "/Users/michelpf/.pyenv/versions/3.10.13/lib/python3.10/site-packages/langsmith/client.py:272: LangSmithMissingAPIKeyWarning: API key must be provided when using hosted LangSmith API\n",
            "  warnings.warn(\n"
          ]
        }
      ],
      "source": [
        "prompt = hub.pull(\"hwchase17/react\")"
      ]
    },
    {
      "cell_type": "code",
      "execution_count": 182,
      "metadata": {
        "id": "4KVbNrXLOoxL"
      },
      "outputs": [],
      "source": [
        "tools = [products, product]"
      ]
    },
    {
      "cell_type": "code",
      "execution_count": 183,
      "metadata": {
        "id": "B8TEi5-WOiq7"
      },
      "outputs": [],
      "source": [
        "agent = create_react_agent(\n",
        "    chat_openai,\n",
        "    tools,\n",
        "    prompt)"
      ]
    },
    {
      "cell_type": "code",
      "execution_count": 184,
      "metadata": {
        "id": "wLpTndUyOivG"
      },
      "outputs": [],
      "source": [
        "agent_executor = AgentExecutor(\n",
        "    agent=agent, tools=tools, verbose=True, handle_parsing_errors=True\n",
        ")"
      ]
    },
    {
      "cell_type": "markdown",
      "metadata": {
        "id": "g6asjKJcZUtF"
      },
      "source": [
        "Pelas descrições, o modelo LLM será capaz de realizar um \"planejamento\" sobre que ação tomar e quais dados precisa para cada ação."
      ]
    },
    {
      "cell_type": "code",
      "execution_count": 185,
      "metadata": {
        "colab": {
          "base_uri": "https://localhost:8080/"
        },
        "id": "Jhjy4RlNOt_Q",
        "outputId": "6af59384-c75c-4a7e-ed7a-b3ac0c1f724a"
      },
      "outputs": [
        {
          "name": "stdout",
          "output_type": "stream",
          "text": [
            "\n",
            "\n",
            "\u001b[1m> Entering new AgentExecutor chain...\u001b[0m\n",
            "\u001b[32;1m\u001b[1;3mThought: Para responder à pergunta, preciso obter a lista de produtos da loja ShopAI usando a função products.\n",
            "Action: products\n",
            "Action Input: \u001b[0m\u001b[36;1m\u001b[1;3m[{'id': 1, 'title': 'Essence Mascara Lash Princess', 'description': 'The Essence Mascara Lash Princess is a popular mascara known for its volumizing and lengthening effects. Achieve dramatic lashes with this long-lasting and cruelty-free formula.', 'category': 'beauty', 'price': 9.99, 'discountPercentage': 10.48, 'rating': 2.56, 'stock': 99, 'tags': ['beauty', 'mascara'], 'brand': 'Essence', 'sku': 'BEA-ESS-ESS-001', 'weight': 4, 'dimensions': {'width': 15.14, 'height': 13.08, 'depth': 22.99}, 'warrantyInformation': '1 week warranty', 'shippingInformation': 'Ships in 3-5 business days', 'availabilityStatus': 'In Stock', 'reviews': [{'rating': 3, 'comment': 'Would not recommend!', 'date': '2025-04-30T09:41:02.053Z', 'reviewerName': 'Eleanor Collins', 'reviewerEmail': 'eleanor.collins@x.dummyjson.com'}, {'rating': 4, 'comment': 'Very satisfied!', 'date': '2025-04-30T09:41:02.053Z', 'reviewerName': 'Lucas Gordon', 'reviewerEmail': 'lucas.gordon@x.dummyjson.com'}, {'rating': 5, 'comment': 'Highly impressed!', 'date': '2025-04-30T09:41:02.053Z', 'reviewerName': 'Eleanor Collins', 'reviewerEmail': 'eleanor.collins@x.dummyjson.com'}], 'returnPolicy': 'No return policy', 'minimumOrderQuantity': 48, 'meta': {'createdAt': '2025-04-30T09:41:02.053Z', 'updatedAt': '2025-04-30T09:41:02.053Z', 'barcode': '5784719087687', 'qrCode': 'https://cdn.dummyjson.com/public/qr-code.png'}, 'images': ['https://cdn.dummyjson.com/product-images/beauty/essence-mascara-lash-princess/1.webp'], 'thumbnail': 'https://cdn.dummyjson.com/product-images/beauty/essence-mascara-lash-princess/thumbnail.webp'}, {'id': 2, 'title': 'Eyeshadow Palette with Mirror', 'description': \"The Eyeshadow Palette with Mirror offers a versatile range of eyeshadow shades for creating stunning eye looks. With a built-in mirror, it's convenient for on-the-go makeup application.\", 'category': 'beauty', 'price': 19.99, 'discountPercentage': 18.19, 'rating': 2.86, 'stock': 34, 'tags': ['beauty', 'eyeshadow'], 'brand': 'Glamour Beauty', 'sku': 'BEA-GLA-EYE-002', 'weight': 9, 'dimensions': {'width': 9.26, 'height': 22.47, 'depth': 27.67}, 'warrantyInformation': '1 year warranty', 'shippingInformation': 'Ships in 2 weeks', 'availabilityStatus': 'In Stock', 'reviews': [{'rating': 5, 'comment': 'Great product!', 'date': '2025-04-30T09:41:02.053Z', 'reviewerName': 'Savannah Gomez', 'reviewerEmail': 'savannah.gomez@x.dummyjson.com'}, {'rating': 4, 'comment': 'Awesome product!', 'date': '2025-04-30T09:41:02.053Z', 'reviewerName': 'Christian Perez', 'reviewerEmail': 'christian.perez@x.dummyjson.com'}, {'rating': 1, 'comment': 'Poor quality!', 'date': '2025-04-30T09:41:02.053Z', 'reviewerName': 'Nicholas Bailey', 'reviewerEmail': 'nicholas.bailey@x.dummyjson.com'}], 'returnPolicy': '7 days return policy', 'minimumOrderQuantity': 20, 'meta': {'createdAt': '2025-04-30T09:41:02.053Z', 'updatedAt': '2025-04-30T09:41:02.053Z', 'barcode': '9170275171413', 'qrCode': 'https://cdn.dummyjson.com/public/qr-code.png'}, 'images': ['https://cdn.dummyjson.com/product-images/beauty/eyeshadow-palette-with-mirror/1.webp'], 'thumbnail': 'https://cdn.dummyjson.com/product-images/beauty/eyeshadow-palette-with-mirror/thumbnail.webp'}, {'id': 3, 'title': 'Powder Canister', 'description': 'The Powder Canister is a finely milled setting powder designed to set makeup and control shine. With a lightweight and translucent formula, it provides a smooth and matte finish.', 'category': 'beauty', 'price': 14.99, 'discountPercentage': 9.84, 'rating': 4.64, 'stock': 89, 'tags': ['beauty', 'face powder'], 'brand': 'Velvet Touch', 'sku': 'BEA-VEL-POW-003', 'weight': 8, 'dimensions': {'width': 29.27, 'height': 27.93, 'depth': 20.59}, 'warrantyInformation': '3 months warranty', 'shippingInformation': 'Ships in 1-2 business days', 'availabilityStatus': 'In Stock', 'reviews': [{'rating': 4, 'comment': 'Would buy again!', 'date': '2025-04-30T09:41:02.053Z', 'reviewerName': 'Alexander Jones', 'reviewerEmail': 'alexander.jones@x.dummyjson.com'}, {'rating': 5, 'comment': 'Highly impressed!', 'date': '2025-04-30T09:41:02.053Z', 'reviewerName': 'Elijah Cruz', 'reviewerEmail': 'elijah.cruz@x.dummyjson.com'}, {'rating': 1, 'comment': 'Very dissatisfied!', 'date': '2025-04-30T09:41:02.053Z', 'reviewerName': 'Avery Perez', 'reviewerEmail': 'avery.perez@x.dummyjson.com'}], 'returnPolicy': 'No return policy', 'minimumOrderQuantity': 22, 'meta': {'createdAt': '2025-04-30T09:41:02.053Z', 'updatedAt': '2025-04-30T09:41:02.053Z', 'barcode': '8418883906837', 'qrCode': 'https://cdn.dummyjson.com/public/qr-code.png'}, 'images': ['https://cdn.dummyjson.com/product-images/beauty/powder-canister/1.webp'], 'thumbnail': 'https://cdn.dummyjson.com/product-images/beauty/powder-canister/thumbnail.webp'}]\u001b[0m\u001b[32;1m\u001b[1;3mThought: Já tenho a lista de produtos da loja ShopAI, com título e preço de cada um.\n",
            "Final Answer: A lista de produtos da loja ShopAI é:\n",
            "1. Essence Mascara Lash Princess - R$ 9,99\n",
            "2. Eyeshadow Palette with Mirror - R$ 19,99\n",
            "3. Powder Canister - R$ 14,99\u001b[0m\n",
            "\n",
            "\u001b[1m> Finished chain.\u001b[0m\n"
          ]
        },
        {
          "data": {
            "text/plain": [
              "{'input': 'Traga a lista de produtos da loja ShopAI.',\n",
              " 'output': 'A lista de produtos da loja ShopAI é:\\n1. Essence Mascara Lash Princess - R$ 9,99\\n2. Eyeshadow Palette with Mirror - R$ 19,99\\n3. Powder Canister - R$ 14,99'}"
            ]
          },
          "execution_count": 185,
          "metadata": {},
          "output_type": "execute_result"
        }
      ],
      "source": [
        "agent_executor.invoke({\"input\": \"Traga a lista de produtos da loja ShopAI.\"})"
      ]
    },
    {
      "cell_type": "code",
      "execution_count": 186,
      "metadata": {
        "colab": {
          "base_uri": "https://localhost:8080/"
        },
        "id": "1U08B0j6EJfi",
        "outputId": "985558c3-ba58-4a10-c1cb-1746cfcbaa82"
      },
      "outputs": [
        {
          "name": "stdout",
          "output_type": "stream",
          "text": [
            "\n",
            "\n",
            "\u001b[1m> Entering new AgentExecutor chain...\u001b[0m\n",
            "\u001b[32;1m\u001b[1;3mThought: Vou buscar o produto com a identificação \"1\" na loja ShopAI usando a função product.\n",
            "Action: product\n",
            "Action Input: \"1\"\u001b[0m\u001b[33;1m\u001b[1;3m{'id': 1, 'title': 'Essence Mascara Lash Princess', 'description': 'The Essence Mascara Lash Princess is a popular mascara known for its volumizing and lengthening effects. Achieve dramatic lashes with this long-lasting and cruelty-free formula.', 'category': 'beauty', 'price': 9.99, 'discountPercentage': 10.48, 'rating': 2.56, 'stock': 99, 'tags': ['beauty', 'mascara'], 'brand': 'Essence', 'sku': 'BEA-ESS-ESS-001', 'weight': 4, 'dimensions': {'width': 15.14, 'height': 13.08, 'depth': 22.99}, 'warrantyInformation': '1 week warranty', 'shippingInformation': 'Ships in 3-5 business days', 'availabilityStatus': 'In Stock', 'reviews': [{'rating': 3, 'comment': 'Would not recommend!', 'date': '2025-04-30T09:41:02.053Z', 'reviewerName': 'Eleanor Collins', 'reviewerEmail': 'eleanor.collins@x.dummyjson.com'}, {'rating': 4, 'comment': 'Very satisfied!', 'date': '2025-04-30T09:41:02.053Z', 'reviewerName': 'Lucas Gordon', 'reviewerEmail': 'lucas.gordon@x.dummyjson.com'}, {'rating': 5, 'comment': 'Highly impressed!', 'date': '2025-04-30T09:41:02.053Z', 'reviewerName': 'Eleanor Collins', 'reviewerEmail': 'eleanor.collins@x.dummyjson.com'}], 'returnPolicy': 'No return policy', 'minimumOrderQuantity': 48, 'meta': {'createdAt': '2025-04-30T09:41:02.053Z', 'updatedAt': '2025-04-30T09:41:02.053Z', 'barcode': '5784719087687', 'qrCode': 'https://cdn.dummyjson.com/public/qr-code.png'}, 'images': ['https://cdn.dummyjson.com/product-images/beauty/essence-mascara-lash-princess/1.webp'], 'thumbnail': 'https://cdn.dummyjson.com/product-images/beauty/essence-mascara-lash-princess/thumbnail.webp'}\u001b[0m\u001b[32;1m\u001b[1;3mThought: Já obtive as informações do produto com identificação 1, que é a Essence Mascara Lash Princess, incluindo detalhes como preço, descrição, avaliações e imagens.\n",
            "Final Answer: O produto com identificação 1 é a Essence Mascara Lash Princess. É uma máscara de cílios conhecida por seus efeitos de volume e alongamento, com preço de 9,99. Está disponível em estoque, possui garantia de 1 semana e não aceita devolução. Aqui está a imagem do produto: https://cdn.dummyjson.com/product-images/beauty/essence-mascara-lash-princess/1.webp\u001b[0m\n",
            "\n",
            "\u001b[1m> Finished chain.\u001b[0m\n"
          ]
        },
        {
          "data": {
            "text/plain": [
              "{'input': 'Traga o produto com identificação 1 da loja ShopAI.',\n",
              " 'output': 'O produto com identificação 1 é a Essence Mascara Lash Princess. É uma máscara de cílios conhecida por seus efeitos de volume e alongamento, com preço de 9,99. Está disponível em estoque, possui garantia de 1 semana e não aceita devolução. Aqui está a imagem do produto: https://cdn.dummyjson.com/product-images/beauty/essence-mascara-lash-princess/1.webp'}"
            ]
          },
          "execution_count": 186,
          "metadata": {},
          "output_type": "execute_result"
        }
      ],
      "source": [
        "agent_executor.invoke({\"input\": \"Traga o produto com identificação 1 da loja ShopAI.\"})"
      ]
    }
  ],
  "metadata": {
    "colab": {
      "provenance": [],
      "toc_visible": true
    },
    "kernelspec": {
      "display_name": "myenv",
      "language": "python",
      "name": "python3"
    },
    "language_info": {
      "codemirror_mode": {
        "name": "ipython",
        "version": 3
      },
      "file_extension": ".py",
      "mimetype": "text/x-python",
      "name": "python",
      "nbconvert_exporter": "python",
      "pygments_lexer": "ipython3",
      "version": "3.11.10"
    }
  },
  "nbformat": 4,
  "nbformat_minor": 0
}
