{
 "cells": [
  {
   "cell_type": "markdown",
   "metadata": {},
   "source": [
    "# Aula 2"
   ]
  },
  {
   "cell_type": "markdown",
   "metadata": {},
   "source": [
    "## Funções"
   ]
  },
  {
   "cell_type": "code",
   "execution_count": 1,
   "metadata": {},
   "outputs": [],
   "source": [
    "#implementação recursiva\n",
    "def fatorial(num):\n",
    "    \"\"\"\n",
    "    Esta função calcula o fatorial de um número\n",
    "    usando implementação recursiva\n",
    "    \n",
    "    args: num (int) - número a partir do qual \n",
    "    será calculado o fatorial\n",
    "    \n",
    "    return: o fatorial de num\n",
    "    \"\"\"\n",
    "    if (num <= 1):\n",
    "        return 1\n",
    "    else:\n",
    "        return(num * fatorial(num - 1))"
   ]
  },
  {
   "cell_type": "code",
   "execution_count": 2,
   "metadata": {},
   "outputs": [
    {
     "data": {
      "text/plain": [
       "120"
      ]
     },
     "execution_count": 2,
     "metadata": {},
     "output_type": "execute_result"
    }
   ],
   "source": [
    "y = fatorial(5)\n",
    "yaqw"
   ]
  },
  {
   "cell_type": "code",
   "execution_count": null,
   "metadata": {},
   "outputs": [],
   "source": [
    "# Verifica se um número é par\n",
    "def numero_par(num):\n",
    "    resto = num % 2\n",
    "    if (resto == 0):\n",
    "        return True\n",
    "    else:\n",
    "        return False"
   ]
  },
  {
   "cell_type": "code",
   "execution_count": null,
   "metadata": {},
   "outputs": [],
   "source": [
    "print(numero_par(4))"
   ]
  },
  {
   "cell_type": "markdown",
   "metadata": {},
   "source": [
    "## TODO Section"
   ]
  },
  {
   "cell_type": "markdown",
   "metadata": {},
   "source": [
    "### 1)\n",
    "TODO: Crie uma função que retorne na forma de um dicionário as seguintes informações do texto abaixo: \n",
    "número de palavras, número de números e número de frases.\n",
    "\n",
    "Dica: a função isdigit() pode ser útil para determinar o tipo de \n",
    "caracter;\n",
    "Dica: split() usa um caracter (a ser inserido dentro dos parenteses) para separar uma string"
   ]
  },
  {
   "cell_type": "markdown",
   "metadata": {},
   "source": [
    "### Texto\n",
    "\n",
    "Brasil, oficialmente República Federativa do Brasil é o maior país da América do Sul e da região da América Latina, sendo o quinto maior do mundo em área territorial (equivalente a 47 porcento do território sul-americano) e sexto em população (com mais de 200 milhões de habitantes). É o único país na América onde se fala majoritariamente a língua portuguesa e o maior país lusófono do planeta, além de ser uma das nações mais multiculturais e etnicamente diversas, em decorrência da forte imigração oriunda de variados locais do mundo."
   ]
  },
  {
   "cell_type": "code",
   "execution_count": 85,
   "metadata": {},
   "outputs": [
    {
     "data": {
      "text/plain": [
       "{'num_words': 119, 'num_numbers': 2, 'num_frases': 2}"
      ]
     },
     "execution_count": 85,
     "metadata": {},
     "output_type": "execute_result"
    }
   ],
   "source": [
    "# Resposta 1\n",
    "texto = 'Brasil, oficialmente República Federativa do Brasil é o maior país da América do Sul e da \\\n",
    "        região da América Latina, sendo o quinto maior do mundo em área territorial (equivalente a 47 porcento do \\\n",
    "        território sul-americano) e sexto em população (com mais de 200 milhões de habitantes). É o único país na América \\\n",
    "        onde se fala majoritariamente a língua portuguesa e o maior país lusófono do planeta, além de ser uma das nações \\\n",
    "        mais multiculturais e etnicamente diversas, em decorrência da forte imigração oriunda de variados locais do mundo.'\n",
    "\n",
    "def dic_text(texto):\n",
    "    list_word = []\n",
    "    list_num  = []\n",
    "    texto_split = texto.split(' ')\n",
    "    for word in texto_split:\n",
    "        if word.isdigit() == True:\n",
    "            list_num.append(word)\n",
    "        else:\n",
    "            list_word.append(word)\n",
    "    texto_split_dot = texto.split('. ')\n",
    "\n",
    "    dict =  {'num_words':   len(list_word),\n",
    "             'num_numbers': len(list_num),\n",
    "             'num_frases':  len(texto_split_dot)} \n",
    "    \n",
    "    return dict\n",
    "\n",
    "dict = dic_text(texto)\n",
    "dict"
   ]
  },
  {
   "cell_type": "markdown",
   "metadata": {},
   "source": [
    "### 2)\n",
    "\n",
    "TODO: implemente uma função que recebe uma lista com 100 números, de 0 a 99, e retorne outra lista contendo apenas números primos.\n",
    "\n",
    "Dica: use o método arange() para gerar uma lista. [arange](https://numpy.org/doc/stable/reference/generated/numpy.arange.html)"
   ]
  },
  {
   "cell_type": "code",
   "execution_count": 20,
   "metadata": {},
   "outputs": [],
   "source": [
    "import numpy as np"
   ]
  },
  {
   "cell_type": "code",
   "execution_count": 82,
   "metadata": {},
   "outputs": [],
   "source": [
    "lista = np.arange(0,99)"
   ]
  },
  {
   "cell_type": "code",
   "execution_count": null,
   "metadata": {},
   "outputs": [],
   "source": [
    "def ehprimo(num):\n",
    "    if num == 0:\n",
    "        return False\n",
    "    elif num == 1:\n",
    "        return False\n",
    "    else:\n",
    "        for i in range (2, num):\n",
    "            if (num % i) == 0:\n",
    "                return False\n",
    "    return True\n",
    "\n",
    "def apenasprimos()"
   ]
  },
  {
   "cell_type": "code",
   "execution_count": 50,
   "metadata": {},
   "outputs": [
    {
     "name": "stdout",
     "output_type": "stream",
     "text": [
      "[1, 3, 11]\n"
     ]
    }
   ],
   "source": [
    "divisores = []\n",
    "for i in np.arange(1,33):\n",
    "    if 33 % i == 0:\n",
    "        x = x +1\n",
    "        divisores.append(int(i))\n",
    "\n",
    "print(divisores)"
   ]
  },
  {
   "cell_type": "code",
   "execution_count": null,
   "metadata": {},
   "outputs": [],
   "source": [
    "while x <= 5:\n",
    "    if 5 % i == 0:\n",
    "        divisores.append(int(i))\n",
    "        x = x +1"
   ]
  },
  {
   "cell_type": "code",
   "execution_count": 77,
   "metadata": {},
   "outputs": [
    {
     "name": "stdout",
     "output_type": "stream",
     "text": [
      "[]\n"
     ]
    }
   ],
   "source": [
    "lista = []\n",
    "for i in np.arange(1,7):\n",
    "    x = 0\n",
    "    divisores = []\n",
    "\n",
    "    while x <= 7:\n",
    "        if 7 % i == 0:\n",
    "            divisores.append(int(i))\n",
    "            x = x +1\n",
    "        else:\n",
    "            x = x +1\n",
    "    \n",
    "    if len(divisores) == 2:\n",
    "        lista.append(7)\n",
    "\n",
    "print(lista)"
   ]
  },
  {
   "cell_type": "code",
   "execution_count": 79,
   "metadata": {},
   "outputs": [
    {
     "ename": "KeyboardInterrupt",
     "evalue": "",
     "output_type": "error",
     "traceback": [
      "\u001b[0;31m---------------------------------------------------------------------------\u001b[0m",
      "\u001b[0;31mKeyboardInterrupt\u001b[0m                         Traceback (most recent call last)",
      "Cell \u001b[0;32mIn[79], line 24\u001b[0m\n\u001b[1;32m     20\u001b[0m                 lista\u001b[38;5;241m.\u001b[39mappend(num)\n\u001b[1;32m     22\u001b[0m     \u001b[38;5;28;01mreturn\u001b[39;00m lista\n\u001b[0;32m---> 24\u001b[0m lista \u001b[38;5;241m=\u001b[39m primos(\u001b[38;5;28mrange\u001b[39m(\u001b[38;5;241m0\u001b[39m,\u001b[38;5;241m5\u001b[39m))\n\u001b[1;32m     25\u001b[0m \u001b[38;5;28mprint\u001b[39m(lista)\n",
      "Cell \u001b[0;32mIn[79], line 14\u001b[0m, in \u001b[0;36mprimos\u001b[0;34m(numeros)\u001b[0m\n\u001b[1;32m     12\u001b[0m x \u001b[38;5;241m=\u001b[39m \u001b[38;5;241m0\u001b[39m\n\u001b[1;32m     13\u001b[0m \u001b[38;5;28;01mif\u001b[39;00m num \u001b[38;5;241m%\u001b[39m i \u001b[38;5;241m==\u001b[39m \u001b[38;5;241m0\u001b[39m:\n\u001b[0;32m---> 14\u001b[0m     divisores\u001b[38;5;241m.\u001b[39mappend(\u001b[38;5;28mint\u001b[39m(i))\n\u001b[1;32m     15\u001b[0m     x \u001b[38;5;241m=\u001b[39m x \u001b[38;5;241m+\u001b[39m\u001b[38;5;241m1\u001b[39m\n\u001b[1;32m     16\u001b[0m \u001b[38;5;28;01melse\u001b[39;00m:\n",
      "\u001b[0;31mKeyboardInterrupt\u001b[0m: "
     ]
    }
   ],
   "source": [
    "# Resposta 2\n",
    "\n",
    "def primos(numeros):\n",
    "    lista = []\n",
    "    x = 0\n",
    "    for num in numeros:\n",
    "        \n",
    "        for i in np.arange(1,num):\n",
    "            divisores = []\n",
    "\n",
    "            while x <= num:\n",
    "                x = 0\n",
    "                if num % i == 0:\n",
    "                    divisores.append(int(i))\n",
    "                    x = x +1\n",
    "                else:\n",
    "                    x = x +1\n",
    "            \n",
    "            if len(divisores) == 2:\n",
    "                lista.append(num)\n",
    "\n",
    "    return lista\n",
    "\n",
    "lista = primos(range(0,5))\n",
    "print(lista)"
   ]
  },
  {
   "cell_type": "code",
   "execution_count": null,
   "metadata": {},
   "outputs": [],
   "source": [
    "if 5 % 5 == 0:\n",
    "    if 5 % (5 - 1) == 0:\n",
    "\n",
    "else: \n",
    "    pass"
   ]
  },
  {
   "cell_type": "markdown",
   "metadata": {},
   "source": [
    "    "
   ]
  },
  {
   "cell_type": "markdown",
   "metadata": {},
   "source": [
    "### Chamando um módulo"
   ]
  },
  {
   "cell_type": "code",
   "execution_count": 86,
   "metadata": {},
   "outputs": [
    {
     "ename": "NameError",
     "evalue": "name 'lista' is not defined",
     "output_type": "error",
     "traceback": [
      "\u001b[0;31m---------------------------------------------------------------------------\u001b[0m",
      "\u001b[0;31mNameError\u001b[0m                                 Traceback (most recent call last)",
      "Cell \u001b[0;32mIn[86], line 3\u001b[0m\n\u001b[1;32m      1\u001b[0m \u001b[38;5;28;01mimport\u001b[39;00m \u001b[38;5;21;01mcalc\u001b[39;00m\n\u001b[1;32m      2\u001b[0m l \u001b[38;5;241m=\u001b[39m [\u001b[38;5;241m23\u001b[39m, \u001b[38;5;241m54\u001b[39m, \u001b[38;5;241m31\u001b[39m, \u001b[38;5;241m77\u001b[39m, \u001b[38;5;241m12\u001b[39m, \u001b[38;5;241m34\u001b[39m]\n\u001b[0;32m----> 3\u001b[0m \u001b[38;5;28mprint\u001b[39m (calc\u001b[38;5;241m.\u001b[39mmedia(l))\n",
      "File \u001b[0;32m~/Desktop/9DTSR/Data Processing with Python/9DTSR-main/calc.py:2\u001b[0m, in \u001b[0;36mmedia\u001b[0;34m(l)\u001b[0m\n\u001b[1;32m      1\u001b[0m \u001b[38;5;28;01mdef\u001b[39;00m \u001b[38;5;21mmedia\u001b[39m(l):\n\u001b[0;32m----> 2\u001b[0m \t\u001b[38;5;28;01mreturn\u001b[39;00m \u001b[38;5;28mfloat\u001b[39m(\u001b[38;5;28msum\u001b[39m(lista)) \u001b[38;5;241m/\u001b[39m \u001b[38;5;28mlen\u001b[39m(lista)\n",
      "\u001b[0;31mNameError\u001b[0m: name 'lista' is not defined"
     ]
    }
   ],
   "source": [
    "import calc\n",
    "l = [23, 54, 31, 77, 12, 34]\n",
    "print (calc.media(l))"
   ]
  },
  {
   "cell_type": "markdown",
   "metadata": {},
   "source": [
    "## Arquivos e I/O"
   ]
  },
  {
   "cell_type": "code",
   "execution_count": 87,
   "metadata": {},
   "outputs": [
    {
     "name": "stdout",
     "output_type": "stream",
     "text": [
      "000\n",
      "001\n",
      "002\n",
      "003\n",
      "004\n",
      "005\n",
      "006\n",
      "007\n",
      "008\n",
      "009\n",
      "010\n",
      "011\n",
      "012\n",
      "013\n",
      "014\n",
      "015\n",
      "016\n",
      "017\n",
      "018\n",
      "019\n",
      "020\n",
      "021\n",
      "022\n",
      "023\n",
      "024\n",
      "025\n",
      "026\n",
      "027\n",
      "028\n",
      "029\n",
      "030\n",
      "031\n",
      "032\n",
      "033\n",
      "034\n",
      "035\n",
      "036\n",
      "037\n",
      "038\n",
      "039\n",
      "040\n",
      "041\n",
      "042\n",
      "043\n",
      "044\n",
      "045\n",
      "046\n",
      "047\n",
      "048\n",
      "049\n",
      "050\n",
      "051\n",
      "052\n",
      "053\n",
      "054\n",
      "055\n",
      "056\n",
      "057\n",
      "058\n",
      "059\n",
      "060\n",
      "061\n",
      "062\n",
      "063\n",
      "064\n",
      "065\n",
      "066\n",
      "067\n",
      "068\n",
      "069\n",
      "070\n",
      "071\n",
      "072\n",
      "073\n",
      "074\n",
      "075\n",
      "076\n",
      "077\n",
      "078\n",
      "079\n",
      "080\n",
      "081\n",
      "082\n",
      "083\n",
      "084\n",
      "085\n",
      "086\n",
      "087\n",
      "088\n",
      "089\n",
      "090\n",
      "091\n",
      "092\n",
      "093\n",
      "094\n",
      "095\n",
      "096\n",
      "097\n",
      "098\n",
      "099\n"
     ]
    }
   ],
   "source": [
    "import sys\n",
    "# Criando um objeto do tipo file\n",
    "temp = open('temp.txt', 'w')\n",
    "# Escreven                                                                                                                                                                                                                                                                                                                                                                                                                                                                                                                                                                                                                                                                                                                                                                                                                                                                                                                              do no arquivo\n",
    "for i in range(100):\n",
    "    temp.write('%03d\\n' % i)\n",
    "# Fechando\n",
    "temp.close()\n",
    "temp = open('temp.txt')\n",
    "# Escrevendo no terminal\n",
    "for x in temp:\n",
    "    #import pdb; pdb.set_trace()\n",
    "    # Escrever em sys.stdout envia o texto para a saída padrão\n",
    "    sys.stdout.write(x)\n",
    "temp.close()"
   ]
  },
  {
   "cell_type": "code",
   "execution_count": null,
   "metadata": {},
   "outputs": [],
   "source": [
    "import sys\n",
    "import os.path\n",
    "# input() retorna a string digitada\n",
    "fn = input('Nome do arquivo: ').strip() #remove espaço em branco extra do nome do arquivo\n",
    "if not os.path.exists(fn):\n",
    "    print ('Tente outra vez...')\n",
    "    sys.exit() # pare a execução do programa\n",
    "# Numerando as linhas\n",
    "for i, s in enumerate(open(fn)):\n",
    "    print (i + 1, s,)"
   ]
  },
  {
   "cell_type": "code",
   "execution_count": null,
   "metadata": {},
   "outputs": [],
   "source": [
    "# Imprime uma lista contendo linhas do arquivo\n",
    "print (open('temp.txt').readlines())"
   ]
  },
  {
   "cell_type": "markdown",
   "metadata": {},
   "source": [
    "## Trabalhando com Tempo"
   ]
  },
  {
   "cell_type": "code",
   "execution_count": 88,
   "metadata": {},
   "outputs": [
    {
     "name": "stdout",
     "output_type": "stream",
     "text": [
      "time.struct_time(tm_year=2024, tm_mon=10, tm_mday=25, tm_hour=19, tm_min=24, tm_sec=37, tm_wday=4, tm_yday=299, tm_isdst=0)\n",
      "Fri Oct 25 19:24:37 2024\n",
      "Espera 3 segundos e imprime na tela\n",
      "\n",
      "Espera 3 segundos e imprime na tela\n",
      "\n",
      "Espera 3 segundos e imprime na tela\n",
      "\n",
      "Espera 3 segundos e imprime na tela\n",
      "\n",
      "Espera 3 segundos e imprime na tela\n",
      "\n"
     ]
    }
   ],
   "source": [
    "import time\n",
    "print (time.localtime()) #imprime como uma estrutura\n",
    "print (time.asctime()) #imprime como string\n",
    "for x in range(5):\n",
    "    time.sleep(3)\n",
    "    print('Espera 3 segundos e imprime na tela\\n')"
   ]
  },
  {
   "cell_type": "code",
   "execution_count": 90,
   "metadata": {},
   "outputs": [
    {
     "name": "stdout",
     "output_type": "stream",
     "text": [
      "499999500000\n",
      "tempo decorrido:  0.2542133331298828 segundos\n"
     ]
    }
   ],
   "source": [
    "start_time = time.time()\n",
    "x = 0\n",
    "for i in range(0,1000000):\n",
    "    x += i\n",
    "end_time = time.time()\n",
    "\n",
    "print(x)\n",
    "print('tempo decorrido: ',end_time-start_time, 'segundos')"
   ]
  },
  {
   "cell_type": "code",
   "execution_count": 92,
   "metadata": {},
   "outputs": [
    {
     "name": "stdout",
     "output_type": "stream",
     "text": [
      "Data: 2020-12-31\n",
      "Hora: 23:59:59\n",
      "Quanto tempo falta para 31/12/2020: -1394 days, 4:28:25.246028\n",
      "1 ano a partir de agora será: 2025-10-25 19:31:33.754702\n"
     ]
    }
   ],
   "source": [
    "import datetime\n",
    "from datetime import timedelta\n",
    "\n",
    "dt = datetime.datetime(2020, 12, 31, 23, 59, 59) #criando uma data com horário\n",
    "\n",
    "data = dt.date() #retorna a data\n",
    "hora = dt.time() #retorna o horário\n",
    "\n",
    "dd = dt - dt.today() #cálculo de tempo\n",
    "print ('Data:', data)\n",
    "print ('Hora:', hora)\n",
    "print ('Quanto tempo falta para 31/12/2020:', dd)\n",
    "print ('1 ano a partir de agora será: ' + str(datetime.datetime.now() + timedelta(days=365)))"
   ]
  },
  {
   "cell_type": "markdown",
   "metadata": {},
   "source": [
    "## Regex - Expressões Regulares"
   ]
  },
  {
   "cell_type": "code",
   "execution_count": 93,
   "metadata": {},
   "outputs": [
    {
     "name": "stdout",
     "output_type": "stream",
     "text": [
      "Queen, Aerosmith & Beatles -> ['Queen', 'Aerosmith', 'Beatles']\n",
      "Phone Num :  2004-959-559 \n",
      "Phone Num :  2004959559\n"
     ]
    },
    {
     "name": "stderr",
     "output_type": "stream",
     "text": [
      "<>:2: SyntaxWarning: invalid escape sequence '\\w'\n",
      "<>:2: SyntaxWarning: invalid escape sequence '\\w'\n",
      "/var/folders/jg/ltscjj4d0cn9rp9tg94kl1kr0000gn/T/ipykernel_7316/2175383128.py:2: SyntaxWarning: invalid escape sequence '\\w'\n",
      "  rex = re.compile('\\w+') #qualquer caracter alfanumérico - compilado\n"
     ]
    }
   ],
   "source": [
    "import re\n",
    "rex = re.compile('\\w+') #qualquer caracter alfanumérico - compilado\n",
    "bandas = 'Queen, Aerosmith & Beatles'\n",
    "print (bandas, '->', rex.findall(bandas))\n",
    "phone = \"2004-959-559 # This is Phone Number\"\n",
    "num = re.sub('#.*$', \"\", phone) #elimina tudo após #\n",
    "print (\"Phone Num : \", num)\n",
    "num = re.sub(r'\\D', \"\", phone)# só deixa número\n",
    "print (\"Phone Num : \", num)"
   ]
  },
  {
   "cell_type": "markdown",
   "metadata": {},
   "source": [
    "## TODO Section"
   ]
  },
  {
   "cell_type": "markdown",
   "metadata": {},
   "source": [
    "### 3)\n",
    "Crie uma função que receba uma data no formato yyyy-mm-dd e, usando Regex,retorne essa data no formato dd-mm-yyyy"
   ]
  },
  {
   "cell_type": "code",
   "execution_count": 112,
   "metadata": {},
   "outputs": [
    {
     "name": "stdout",
     "output_type": "stream",
     "text": [
      "Data formatada: 25-10-2023\n"
     ]
    }
   ],
   "source": [
    "import re\n",
    "\n",
    "def formatar_data(data):\n",
    "    # Substitui a data de 'yyyy-mm-dd' para 'dd-mm-yyyy'\n",
    "    data_formatada = re.sub(r'(\\d{4})-(\\d{1,2})-(\\d{1,2})', \n",
    "                            '\\\\3-\\\\2-\\\\1', data)\n",
    "    return data_formatada\n",
    "\n",
    "# Exemplo de uso\n",
    "data = \"2023-10-25\"\n",
    "data_formatada = formatar_data(data)\n",
    "print(\"Data formatada:\", data_formatada)"
   ]
  },
  {
   "cell_type": "markdown",
   "metadata": {},
   "source": [
    "### 4)\n",
    "\n",
    "Escreva uma função que receba duas datas (formato datetime '%Y-%m-%d %H:%M:%S') e retorne a diferença entre elas em dias, horas, minutos e segundos\n",
    "\n",
    "Dica: a função divmod() pode ser útil: [link](https://www.programiz.com/python-programming/methods/built-in/divmod)"
   ]
  },
  {
   "cell_type": "code",
   "execution_count": 115,
   "metadata": {},
   "outputs": [
    {
     "name": "stdout",
     "output_type": "stream",
     "text": [
      "Diferença: 2 dias, 3 horas, 30 minutos, 30 segundos\n"
     ]
    }
   ],
   "source": [
    "from datetime import datetime\n",
    "\n",
    "def diferenca_tempo(data1, data2):\n",
    "    # Calcula a diferença entre as duas datas\n",
    "    diferenca = data2 - data1\n",
    "    \n",
    "    # Extrai dias diretamente\n",
    "    dias = diferenca.days\n",
    "    \n",
    "    # Calcula o restante em segundos e converte para horas, minutos e segundos\n",
    "    segundos_restantes = diferenca.seconds\n",
    "    horas, minutos_restantes = divmod(segundos_restantes, 3600)\n",
    "    minutos, segundos = divmod(minutos_restantes, 60)\n",
    "    \n",
    "    return (dias, horas, minutos, segundos)\n",
    "\n",
    "# Exemplo de uso:\n",
    "data1 = datetime.strptime('2023-01-01 12:00:00', '%Y-%m-%d %H:%M:%S')\n",
    "data2 = datetime.strptime('2023-01-03 15:30:30', '%Y-%m-%d %H:%M:%S')\n",
    "resultado = diferenca_tempo(data1, data2)\n",
    "print(f\"Diferença: {resultado[0]} dias, {resultado[1]} horas, {resultado[2]} minutos, {resultado[3]} segundos\")\n"
   ]
  },
  {
   "cell_type": "code",
   "execution_count": null,
   "metadata": {},
   "outputs": [],
   "source": []
  }
 ],
 "metadata": {
  "kernelspec": {
   "display_name": "Python (chatgpt)",
   "language": "python",
   "name": "chatgpt"
  },
  "language_info": {
   "codemirror_mode": {
    "name": "ipython",
    "version": 3
   },
   "file_extension": ".py",
   "mimetype": "text/x-python",
   "name": "python",
   "nbconvert_exporter": "python",
   "pygments_lexer": "ipython3",
   "version": "3.12.4"
  }
 },
 "nbformat": 4,
 "nbformat_minor": 4
}
