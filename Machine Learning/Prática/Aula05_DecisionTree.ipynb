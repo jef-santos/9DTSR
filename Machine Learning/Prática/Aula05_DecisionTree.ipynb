{
 "cells": [
  {
   "cell_type": "markdown",
   "metadata": {},
   "source": [
    "# Decision Tree"
   ]
  },
  {
   "cell_type": "code",
   "execution_count": 2,
   "metadata": {},
   "outputs": [],
   "source": [
    "import pandas as pd"
   ]
  },
  {
   "cell_type": "code",
   "execution_count": 3,
   "metadata": {},
   "outputs": [
    {
     "data": {
      "application/vnd.microsoft.datawrangler.viewer.v0+json": {
       "columns": [
        {
         "name": "index",
         "rawType": "int64",
         "type": "integer"
        },
        {
         "name": "age",
         "rawType": "int64",
         "type": "integer"
        },
        {
         "name": "is_male",
         "rawType": "int64",
         "type": "integer"
        },
        {
         "name": "engine_size",
         "rawType": "int64",
         "type": "integer"
        },
        {
         "name": "months_last_claim",
         "rawType": "int64",
         "type": "integer"
        },
        {
         "name": "fraud",
         "rawType": "int64",
         "type": "integer"
        }
       ],
       "conversionMethod": "pd.DataFrame",
       "ref": "eda75bf5-18fc-49f1-9ddb-ed58540e4efd",
       "rows": [
        [
         "0",
         "71",
         "0",
         "120",
         "24",
         "1"
        ],
        [
         "1",
         "40",
         "0",
         "70",
         "12",
         "1"
        ],
        [
         "2",
         "78",
         "0",
         "200",
         "12",
         "0"
        ],
        [
         "3",
         "31",
         "1",
         "120",
         "6",
         "1"
        ],
        [
         "4",
         "32",
         "1",
         "120",
         "12",
         "0"
        ]
       ],
       "shape": {
        "columns": 5,
        "rows": 5
       }
      },
      "text/html": [
       "<div>\n",
       "<style scoped>\n",
       "    .dataframe tbody tr th:only-of-type {\n",
       "        vertical-align: middle;\n",
       "    }\n",
       "\n",
       "    .dataframe tbody tr th {\n",
       "        vertical-align: top;\n",
       "    }\n",
       "\n",
       "    .dataframe thead th {\n",
       "        text-align: right;\n",
       "    }\n",
       "</style>\n",
       "<table border=\"1\" class=\"dataframe\">\n",
       "  <thead>\n",
       "    <tr style=\"text-align: right;\">\n",
       "      <th></th>\n",
       "      <th>age</th>\n",
       "      <th>is_male</th>\n",
       "      <th>engine_size</th>\n",
       "      <th>months_last_claim</th>\n",
       "      <th>fraud</th>\n",
       "    </tr>\n",
       "  </thead>\n",
       "  <tbody>\n",
       "    <tr>\n",
       "      <th>0</th>\n",
       "      <td>71</td>\n",
       "      <td>0</td>\n",
       "      <td>120</td>\n",
       "      <td>24</td>\n",
       "      <td>1</td>\n",
       "    </tr>\n",
       "    <tr>\n",
       "      <th>1</th>\n",
       "      <td>40</td>\n",
       "      <td>0</td>\n",
       "      <td>70</td>\n",
       "      <td>12</td>\n",
       "      <td>1</td>\n",
       "    </tr>\n",
       "    <tr>\n",
       "      <th>2</th>\n",
       "      <td>78</td>\n",
       "      <td>0</td>\n",
       "      <td>200</td>\n",
       "      <td>12</td>\n",
       "      <td>0</td>\n",
       "    </tr>\n",
       "    <tr>\n",
       "      <th>3</th>\n",
       "      <td>31</td>\n",
       "      <td>1</td>\n",
       "      <td>120</td>\n",
       "      <td>6</td>\n",
       "      <td>1</td>\n",
       "    </tr>\n",
       "    <tr>\n",
       "      <th>4</th>\n",
       "      <td>32</td>\n",
       "      <td>1</td>\n",
       "      <td>120</td>\n",
       "      <td>12</td>\n",
       "      <td>0</td>\n",
       "    </tr>\n",
       "  </tbody>\n",
       "</table>\n",
       "</div>"
      ],
      "text/plain": [
       "   age  is_male  engine_size  months_last_claim  fraud\n",
       "0   71        0          120                 24      1\n",
       "1   40        0           70                 12      1\n",
       "2   78        0          200                 12      0\n",
       "3   31        1          120                  6      1\n",
       "4   32        1          120                 12      0"
      ]
     },
     "execution_count": 3,
     "metadata": {},
     "output_type": "execute_result"
    }
   ],
   "source": [
    "df = pd.read_csv('https://raw.githubusercontent.com/lcbjrrr/quantai/refs/heads/main/datasets/car_insurance_fraud.csv')\n",
    "df.head()"
   ]
  },
  {
   "cell_type": "code",
   "execution_count": 4,
   "metadata": {},
   "outputs": [
    {
     "data": {
      "application/vnd.microsoft.datawrangler.viewer.v0+json": {
       "columns": [
        {
         "name": "index",
         "rawType": "int64",
         "type": "integer"
        },
        {
         "name": "age",
         "rawType": "int64",
         "type": "integer"
        },
        {
         "name": "is_male",
         "rawType": "int64",
         "type": "integer"
        },
        {
         "name": "engine_size",
         "rawType": "int64",
         "type": "integer"
        },
        {
         "name": "months_last_claim",
         "rawType": "int64",
         "type": "integer"
        }
       ],
       "conversionMethod": "pd.DataFrame",
       "ref": "a9364fca-10fd-4978-b31b-1df85e231b10",
       "rows": [
        [
         "16",
         "82",
         "0",
         "70",
         "12"
        ],
        [
         "36",
         "44",
         "1",
         "70",
         "6"
        ],
        [
         "99",
         "51",
         "0",
         "200",
         "24"
        ]
       ],
       "shape": {
        "columns": 4,
        "rows": 3
       }
      },
      "text/html": [
       "<div>\n",
       "<style scoped>\n",
       "    .dataframe tbody tr th:only-of-type {\n",
       "        vertical-align: middle;\n",
       "    }\n",
       "\n",
       "    .dataframe tbody tr th {\n",
       "        vertical-align: top;\n",
       "    }\n",
       "\n",
       "    .dataframe thead th {\n",
       "        text-align: right;\n",
       "    }\n",
       "</style>\n",
       "<table border=\"1\" class=\"dataframe\">\n",
       "  <thead>\n",
       "    <tr style=\"text-align: right;\">\n",
       "      <th></th>\n",
       "      <th>age</th>\n",
       "      <th>is_male</th>\n",
       "      <th>engine_size</th>\n",
       "      <th>months_last_claim</th>\n",
       "    </tr>\n",
       "  </thead>\n",
       "  <tbody>\n",
       "    <tr>\n",
       "      <th>16</th>\n",
       "      <td>82</td>\n",
       "      <td>0</td>\n",
       "      <td>70</td>\n",
       "      <td>12</td>\n",
       "    </tr>\n",
       "    <tr>\n",
       "      <th>36</th>\n",
       "      <td>44</td>\n",
       "      <td>1</td>\n",
       "      <td>70</td>\n",
       "      <td>6</td>\n",
       "    </tr>\n",
       "    <tr>\n",
       "      <th>99</th>\n",
       "      <td>51</td>\n",
       "      <td>0</td>\n",
       "      <td>200</td>\n",
       "      <td>24</td>\n",
       "    </tr>\n",
       "  </tbody>\n",
       "</table>\n",
       "</div>"
      ],
      "text/plain": [
       "    age  is_male  engine_size  months_last_claim\n",
       "16   82        0           70                 12\n",
       "36   44        1           70                  6\n",
       "99   51        0          200                 24"
      ]
     },
     "execution_count": 4,
     "metadata": {},
     "output_type": "execute_result"
    }
   ],
   "source": [
    "from sklearn.model_selection import train_test_split\n",
    "X_train, X_test, y_train, y_test = train_test_split(df[['age', \n",
    "                                                        'is_male', \n",
    "                                                        'engine_size', \n",
    "                                                        'months_last_claim']],\n",
    "                                                    df['fraud'] ,test_size=0.2)\n",
    "X_train.head(3)"
   ]
  },
  {
   "cell_type": "code",
   "execution_count": 13,
   "metadata": {},
   "outputs": [
    {
     "data": {
      "text/plain": [
       "72.5"
      ]
     },
     "execution_count": 13,
     "metadata": {},
     "output_type": "execute_result"
    }
   ],
   "source": [
    "from sklearn.tree import DecisionTreeClassifier\n",
    "tree = DecisionTreeClassifier(max_depth=3)\n",
    "tree.fit(X_train,y_train)\n",
    "train_accuracy= tree.score(X_train,y_train)*100\n",
    "train_accuracy"
   ]
  },
  {
   "cell_type": "code",
   "execution_count": 14,
   "metadata": {},
   "outputs": [
    {
     "data": {
      "image/svg+xml": [
       "<?xml version=\"1.0\" encoding=\"UTF-8\" standalone=\"no\"?>\n",
       "<!DOCTYPE svg PUBLIC \"-//W3C//DTD SVG 1.1//EN\"\n",
       " \"http://www.w3.org/Graphics/SVG/1.1/DTD/svg11.dtd\">\n",
       "<!-- Generated by graphviz version 12.2.1 (20241206.2353)\n",
       " -->\n",
       "<!-- Title: Tree Pages: 1 -->\n",
       "<svg width=\"705pt\" height=\"433pt\"\n",
       " viewBox=\"0.00 0.00 705.12 433.00\" xmlns=\"http://www.w3.org/2000/svg\" xmlns:xlink=\"http://www.w3.org/1999/xlink\">\n",
       "<g id=\"graph0\" class=\"graph\" transform=\"scale(1 1) rotate(0) translate(4 429)\">\n",
       "<title>Tree</title>\n",
       "<polygon fill=\"white\" stroke=\"none\" points=\"-4,4 -4,-429 701.12,-429 701.12,4 -4,4\"/>\n",
       "<!-- 0 -->\n",
       "<g id=\"node1\" class=\"node\">\n",
       "<title>0</title>\n",
       "<path fill=\"#fae8db\" stroke=\"black\" d=\"M284.25,-425C284.25,-425 199.25,-425 199.25,-425 193.25,-425 187.25,-419 187.25,-413 187.25,-413 187.25,-354 187.25,-354 187.25,-348 193.25,-342 199.25,-342 199.25,-342 284.25,-342 284.25,-342 290.25,-342 296.25,-348 296.25,-354 296.25,-354 296.25,-413 296.25,-413 296.25,-419 290.25,-425 284.25,-425\"/>\n",
       "<text text-anchor=\"middle\" x=\"241.75\" y=\"-407.7\" font-family=\"Helvetica,sans-Serif\" font-size=\"14.00\">age &lt;= 46.0</text>\n",
       "<text text-anchor=\"middle\" x=\"241.75\" y=\"-392.7\" font-family=\"Helvetica,sans-Serif\" font-size=\"14.00\">gini = 0.495</text>\n",
       "<text text-anchor=\"middle\" x=\"241.75\" y=\"-377.7\" font-family=\"Helvetica,sans-Serif\" font-size=\"14.00\">samples = 80</text>\n",
       "<text text-anchor=\"middle\" x=\"241.75\" y=\"-362.7\" font-family=\"Helvetica,sans-Serif\" font-size=\"14.00\">value = [44, 36]</text>\n",
       "<text text-anchor=\"middle\" x=\"241.75\" y=\"-347.7\" font-family=\"Helvetica,sans-Serif\" font-size=\"14.00\">class = ok</text>\n",
       "</g>\n",
       "<!-- 1 -->\n",
       "<g id=\"node2\" class=\"node\">\n",
       "<title>1</title>\n",
       "<path fill=\"#a1d0f3\" stroke=\"black\" d=\"M212.25,-306C212.25,-306 127.25,-306 127.25,-306 121.25,-306 115.25,-300 115.25,-294 115.25,-294 115.25,-235 115.25,-235 115.25,-229 121.25,-223 127.25,-223 127.25,-223 212.25,-223 212.25,-223 218.25,-223 224.25,-229 224.25,-235 224.25,-235 224.25,-294 224.25,-294 224.25,-300 218.25,-306 212.25,-306\"/>\n",
       "<text text-anchor=\"middle\" x=\"169.75\" y=\"-288.7\" font-family=\"Helvetica,sans-Serif\" font-size=\"14.00\">age &lt;= 17.5</text>\n",
       "<text text-anchor=\"middle\" x=\"169.75\" y=\"-273.7\" font-family=\"Helvetica,sans-Serif\" font-size=\"14.00\">gini = 0.451</text>\n",
       "<text text-anchor=\"middle\" x=\"169.75\" y=\"-258.7\" font-family=\"Helvetica,sans-Serif\" font-size=\"14.00\">samples = 32</text>\n",
       "<text text-anchor=\"middle\" x=\"169.75\" y=\"-243.7\" font-family=\"Helvetica,sans-Serif\" font-size=\"14.00\">value = [11, 21]</text>\n",
       "<text text-anchor=\"middle\" x=\"169.75\" y=\"-228.7\" font-family=\"Helvetica,sans-Serif\" font-size=\"14.00\">class = fraude</text>\n",
       "</g>\n",
       "<!-- 0&#45;&gt;1 -->\n",
       "<g id=\"edge1\" class=\"edge\">\n",
       "<title>0&#45;&gt;1</title>\n",
       "<path fill=\"none\" stroke=\"black\" d=\"M216.57,-341.58C211.44,-333.25 205.99,-324.39 200.69,-315.78\"/>\n",
       "<polygon fill=\"black\" stroke=\"black\" points=\"203.81,-314.17 195.59,-307.49 197.85,-317.84 203.81,-314.17\"/>\n",
       "<text text-anchor=\"middle\" x=\"189.01\" y=\"-324.72\" font-family=\"Helvetica,sans-Serif\" font-size=\"14.00\">True</text>\n",
       "</g>\n",
       "<!-- 6 -->\n",
       "<g id=\"node7\" class=\"node\">\n",
       "<title>6</title>\n",
       "<path fill=\"#f1ba93\" stroke=\"black\" d=\"M393.25,-306C393.25,-306 308.25,-306 308.25,-306 302.25,-306 296.25,-300 296.25,-294 296.25,-294 296.25,-235 296.25,-235 296.25,-229 302.25,-223 308.25,-223 308.25,-223 393.25,-223 393.25,-223 399.25,-223 405.25,-229 405.25,-235 405.25,-235 405.25,-294 405.25,-294 405.25,-300 399.25,-306 393.25,-306\"/>\n",
       "<text text-anchor=\"middle\" x=\"350.75\" y=\"-288.7\" font-family=\"Helvetica,sans-Serif\" font-size=\"14.00\">age &lt;= 80.5</text>\n",
       "<text text-anchor=\"middle\" x=\"350.75\" y=\"-273.7\" font-family=\"Helvetica,sans-Serif\" font-size=\"14.00\">gini = 0.43</text>\n",
       "<text text-anchor=\"middle\" x=\"350.75\" y=\"-258.7\" font-family=\"Helvetica,sans-Serif\" font-size=\"14.00\">samples = 48</text>\n",
       "<text text-anchor=\"middle\" x=\"350.75\" y=\"-243.7\" font-family=\"Helvetica,sans-Serif\" font-size=\"14.00\">value = [33, 15]</text>\n",
       "<text text-anchor=\"middle\" x=\"350.75\" y=\"-228.7\" font-family=\"Helvetica,sans-Serif\" font-size=\"14.00\">class = ok</text>\n",
       "</g>\n",
       "<!-- 0&#45;&gt;6 -->\n",
       "<g id=\"edge6\" class=\"edge\">\n",
       "<title>0&#45;&gt;6</title>\n",
       "<path fill=\"none\" stroke=\"black\" d=\"M279.87,-341.58C288.05,-332.8 296.77,-323.44 305.2,-314.39\"/>\n",
       "<polygon fill=\"black\" stroke=\"black\" points=\"307.55,-317.01 311.8,-307.31 302.42,-312.24 307.55,-317.01\"/>\n",
       "<text text-anchor=\"middle\" x=\"313.72\" y=\"-325.38\" font-family=\"Helvetica,sans-Serif\" font-size=\"14.00\">False</text>\n",
       "</g>\n",
       "<!-- 2 -->\n",
       "<g id=\"node3\" class=\"node\">\n",
       "<title>2</title>\n",
       "<path fill=\"#e58139\" stroke=\"black\" d=\"M84.75,-179.5C84.75,-179.5 14.75,-179.5 14.75,-179.5 8.75,-179.5 2.75,-173.5 2.75,-167.5 2.75,-167.5 2.75,-123.5 2.75,-123.5 2.75,-117.5 8.75,-111.5 14.75,-111.5 14.75,-111.5 84.75,-111.5 84.75,-111.5 90.75,-111.5 96.75,-117.5 96.75,-123.5 96.75,-123.5 96.75,-167.5 96.75,-167.5 96.75,-173.5 90.75,-179.5 84.75,-179.5\"/>\n",
       "<text text-anchor=\"middle\" x=\"49.75\" y=\"-162.2\" font-family=\"Helvetica,sans-Serif\" font-size=\"14.00\">gini = 0.0</text>\n",
       "<text text-anchor=\"middle\" x=\"49.75\" y=\"-147.2\" font-family=\"Helvetica,sans-Serif\" font-size=\"14.00\">samples = 1</text>\n",
       "<text text-anchor=\"middle\" x=\"49.75\" y=\"-132.2\" font-family=\"Helvetica,sans-Serif\" font-size=\"14.00\">value = [1, 0]</text>\n",
       "<text text-anchor=\"middle\" x=\"49.75\" y=\"-117.2\" font-family=\"Helvetica,sans-Serif\" font-size=\"14.00\">class = ok</text>\n",
       "</g>\n",
       "<!-- 1&#45;&gt;2 -->\n",
       "<g id=\"edge2\" class=\"edge\">\n",
       "<title>1&#45;&gt;2</title>\n",
       "<path fill=\"none\" stroke=\"black\" d=\"M127.78,-222.58C116.25,-211.34 103.74,-199.14 92.18,-187.87\"/>\n",
       "<polygon fill=\"black\" stroke=\"black\" points=\"94.65,-185.39 85.05,-180.92 89.77,-190.4 94.65,-185.39\"/>\n",
       "</g>\n",
       "<!-- 3 -->\n",
       "<g id=\"node4\" class=\"node\">\n",
       "<title>3</title>\n",
       "<path fill=\"#97ccf1\" stroke=\"black\" d=\"M212.25,-187C212.25,-187 127.25,-187 127.25,-187 121.25,-187 115.25,-181 115.25,-175 115.25,-175 115.25,-116 115.25,-116 115.25,-110 121.25,-104 127.25,-104 127.25,-104 212.25,-104 212.25,-104 218.25,-104 224.25,-110 224.25,-116 224.25,-116 224.25,-175 224.25,-175 224.25,-181 218.25,-187 212.25,-187\"/>\n",
       "<text text-anchor=\"middle\" x=\"169.75\" y=\"-169.7\" font-family=\"Helvetica,sans-Serif\" font-size=\"14.00\">age &lt;= 36.5</text>\n",
       "<text text-anchor=\"middle\" x=\"169.75\" y=\"-154.7\" font-family=\"Helvetica,sans-Serif\" font-size=\"14.00\">gini = 0.437</text>\n",
       "<text text-anchor=\"middle\" x=\"169.75\" y=\"-139.7\" font-family=\"Helvetica,sans-Serif\" font-size=\"14.00\">samples = 31</text>\n",
       "<text text-anchor=\"middle\" x=\"169.75\" y=\"-124.7\" font-family=\"Helvetica,sans-Serif\" font-size=\"14.00\">value = [10, 21]</text>\n",
       "<text text-anchor=\"middle\" x=\"169.75\" y=\"-109.7\" font-family=\"Helvetica,sans-Serif\" font-size=\"14.00\">class = fraude</text>\n",
       "</g>\n",
       "<!-- 1&#45;&gt;3 -->\n",
       "<g id=\"edge3\" class=\"edge\">\n",
       "<title>1&#45;&gt;3</title>\n",
       "<path fill=\"none\" stroke=\"black\" d=\"M169.75,-222.58C169.75,-214.79 169.75,-206.53 169.75,-198.45\"/>\n",
       "<polygon fill=\"black\" stroke=\"black\" points=\"173.25,-198.71 169.75,-188.71 166.25,-198.71 173.25,-198.71\"/>\n",
       "</g>\n",
       "<!-- 4 -->\n",
       "<g id=\"node5\" class=\"node\">\n",
       "<title>4</title>\n",
       "<path fill=\"#7bbeee\" stroke=\"black\" d=\"M89.5,-68C89.5,-68 12,-68 12,-68 6,-68 0,-62 0,-56 0,-56 0,-12 0,-12 0,-6 6,0 12,0 12,0 89.5,0 89.5,0 95.5,0 101.5,-6 101.5,-12 101.5,-12 101.5,-56 101.5,-56 101.5,-62 95.5,-68 89.5,-68\"/>\n",
       "<text text-anchor=\"middle\" x=\"50.75\" y=\"-50.7\" font-family=\"Helvetica,sans-Serif\" font-size=\"14.00\">gini = 0.375</text>\n",
       "<text text-anchor=\"middle\" x=\"50.75\" y=\"-35.7\" font-family=\"Helvetica,sans-Serif\" font-size=\"14.00\">samples = 20</text>\n",
       "<text text-anchor=\"middle\" x=\"50.75\" y=\"-20.7\" font-family=\"Helvetica,sans-Serif\" font-size=\"14.00\">value = [5, 15]</text>\n",
       "<text text-anchor=\"middle\" x=\"50.75\" y=\"-5.7\" font-family=\"Helvetica,sans-Serif\" font-size=\"14.00\">class = fraude</text>\n",
       "</g>\n",
       "<!-- 3&#45;&gt;4 -->\n",
       "<g id=\"edge4\" class=\"edge\">\n",
       "<title>3&#45;&gt;4</title>\n",
       "<path fill=\"none\" stroke=\"black\" d=\"M125.44,-103.73C115.63,-94.7 105.22,-85.12 95.4,-76.08\"/>\n",
       "<polygon fill=\"black\" stroke=\"black\" points=\"97.78,-73.52 88.05,-69.32 93.04,-78.67 97.78,-73.52\"/>\n",
       "</g>\n",
       "<!-- 5 -->\n",
       "<g id=\"node6\" class=\"node\">\n",
       "<title>5</title>\n",
       "<path fill=\"#deeffb\" stroke=\"black\" d=\"M208.12,-68C208.12,-68 131.38,-68 131.38,-68 125.38,-68 119.38,-62 119.38,-56 119.38,-56 119.38,-12 119.38,-12 119.38,-6 125.38,0 131.38,0 131.38,0 208.12,0 208.12,0 214.12,0 220.12,-6 220.12,-12 220.12,-12 220.12,-56 220.12,-56 220.12,-62 214.12,-68 208.12,-68\"/>\n",
       "<text text-anchor=\"middle\" x=\"169.75\" y=\"-50.7\" font-family=\"Helvetica,sans-Serif\" font-size=\"14.00\">gini = 0.496</text>\n",
       "<text text-anchor=\"middle\" x=\"169.75\" y=\"-35.7\" font-family=\"Helvetica,sans-Serif\" font-size=\"14.00\">samples = 11</text>\n",
       "<text text-anchor=\"middle\" x=\"169.75\" y=\"-20.7\" font-family=\"Helvetica,sans-Serif\" font-size=\"14.00\">value = [5, 6]</text>\n",
       "<text text-anchor=\"middle\" x=\"169.75\" y=\"-5.7\" font-family=\"Helvetica,sans-Serif\" font-size=\"14.00\">class = fraude</text>\n",
       "</g>\n",
       "<!-- 3&#45;&gt;5 -->\n",
       "<g id=\"edge5\" class=\"edge\">\n",
       "<title>3&#45;&gt;5</title>\n",
       "<path fill=\"none\" stroke=\"black\" d=\"M169.75,-103.73C169.75,-95.88 169.75,-87.63 169.75,-79.67\"/>\n",
       "<polygon fill=\"black\" stroke=\"black\" points=\"173.25,-79.81 169.75,-69.81 166.25,-79.81 173.25,-79.81\"/>\n",
       "</g>\n",
       "<!-- 7 -->\n",
       "<g id=\"node8\" class=\"node\">\n",
       "<title>7</title>\n",
       "<path fill=\"#eca470\" stroke=\"black\" d=\"M411.62,-187C411.62,-187 289.88,-187 289.88,-187 283.88,-187 277.88,-181 277.88,-175 277.88,-175 277.88,-116 277.88,-116 277.88,-110 283.88,-104 289.88,-104 289.88,-104 411.62,-104 411.62,-104 417.62,-104 423.62,-110 423.62,-116 423.62,-116 423.62,-175 423.62,-175 423.62,-181 417.62,-187 411.62,-187\"/>\n",
       "<text text-anchor=\"middle\" x=\"350.75\" y=\"-169.7\" font-family=\"Helvetica,sans-Serif\" font-size=\"14.00\">engine_size &lt;= 160.0</text>\n",
       "<text text-anchor=\"middle\" x=\"350.75\" y=\"-154.7\" font-family=\"Helvetica,sans-Serif\" font-size=\"14.00\">gini = 0.339</text>\n",
       "<text text-anchor=\"middle\" x=\"350.75\" y=\"-139.7\" font-family=\"Helvetica,sans-Serif\" font-size=\"14.00\">samples = 37</text>\n",
       "<text text-anchor=\"middle\" x=\"350.75\" y=\"-124.7\" font-family=\"Helvetica,sans-Serif\" font-size=\"14.00\">value = [29, 8]</text>\n",
       "<text text-anchor=\"middle\" x=\"350.75\" y=\"-109.7\" font-family=\"Helvetica,sans-Serif\" font-size=\"14.00\">class = ok</text>\n",
       "</g>\n",
       "<!-- 6&#45;&gt;7 -->\n",
       "<g id=\"edge7\" class=\"edge\">\n",
       "<title>6&#45;&gt;7</title>\n",
       "<path fill=\"none\" stroke=\"black\" d=\"M350.75,-222.58C350.75,-214.79 350.75,-206.53 350.75,-198.45\"/>\n",
       "<polygon fill=\"black\" stroke=\"black\" points=\"354.25,-198.71 350.75,-188.71 347.25,-198.71 354.25,-198.71\"/>\n",
       "</g>\n",
       "<!-- 10 -->\n",
       "<g id=\"node11\" class=\"node\">\n",
       "<title>10</title>\n",
       "<path fill=\"#aad5f4\" stroke=\"black\" d=\"M566.12,-187C566.12,-187 489.38,-187 489.38,-187 483.38,-187 477.38,-181 477.38,-175 477.38,-175 477.38,-116 477.38,-116 477.38,-110 483.38,-104 489.38,-104 489.38,-104 566.12,-104 566.12,-104 572.12,-104 578.12,-110 578.12,-116 578.12,-116 578.12,-175 578.12,-175 578.12,-181 572.12,-187 566.12,-187\"/>\n",
       "<text text-anchor=\"middle\" x=\"527.75\" y=\"-169.7\" font-family=\"Helvetica,sans-Serif\" font-size=\"14.00\">age &lt;= 88.5</text>\n",
       "<text text-anchor=\"middle\" x=\"527.75\" y=\"-154.7\" font-family=\"Helvetica,sans-Serif\" font-size=\"14.00\">gini = 0.463</text>\n",
       "<text text-anchor=\"middle\" x=\"527.75\" y=\"-139.7\" font-family=\"Helvetica,sans-Serif\" font-size=\"14.00\">samples = 11</text>\n",
       "<text text-anchor=\"middle\" x=\"527.75\" y=\"-124.7\" font-family=\"Helvetica,sans-Serif\" font-size=\"14.00\">value = [4, 7]</text>\n",
       "<text text-anchor=\"middle\" x=\"527.75\" y=\"-109.7\" font-family=\"Helvetica,sans-Serif\" font-size=\"14.00\">class = fraude</text>\n",
       "</g>\n",
       "<!-- 6&#45;&gt;10 -->\n",
       "<g id=\"edge10\" class=\"edge\">\n",
       "<title>6&#45;&gt;10</title>\n",
       "<path fill=\"none\" stroke=\"black\" d=\"M405.3,-227.44C425.03,-214.4 447.41,-199.6 467.6,-186.26\"/>\n",
       "<polygon fill=\"black\" stroke=\"black\" points=\"469.33,-189.31 475.74,-180.88 465.47,-183.47 469.33,-189.31\"/>\n",
       "</g>\n",
       "<!-- 8 -->\n",
       "<g id=\"node9\" class=\"node\">\n",
       "<title>8</title>\n",
       "<path fill=\"#f2c09c\" stroke=\"black\" d=\"M327.5,-68C327.5,-68 250,-68 250,-68 244,-68 238,-62 238,-56 238,-56 238,-12 238,-12 238,-6 244,0 250,0 250,0 327.5,0 327.5,0 333.5,0 339.5,-6 339.5,-12 339.5,-12 339.5,-56 339.5,-56 339.5,-62 333.5,-68 327.5,-68\"/>\n",
       "<text text-anchor=\"middle\" x=\"288.75\" y=\"-50.7\" font-family=\"Helvetica,sans-Serif\" font-size=\"14.00\">gini = 0.444</text>\n",
       "<text text-anchor=\"middle\" x=\"288.75\" y=\"-35.7\" font-family=\"Helvetica,sans-Serif\" font-size=\"14.00\">samples = 21</text>\n",
       "<text text-anchor=\"middle\" x=\"288.75\" y=\"-20.7\" font-family=\"Helvetica,sans-Serif\" font-size=\"14.00\">value = [14, 7]</text>\n",
       "<text text-anchor=\"middle\" x=\"288.75\" y=\"-5.7\" font-family=\"Helvetica,sans-Serif\" font-size=\"14.00\">class = ok</text>\n",
       "</g>\n",
       "<!-- 7&#45;&gt;8 -->\n",
       "<g id=\"edge8\" class=\"edge\">\n",
       "<title>7&#45;&gt;8</title>\n",
       "<path fill=\"none\" stroke=\"black\" d=\"M327.66,-103.73C322.96,-95.43 318,-86.67 313.26,-78.28\"/>\n",
       "<polygon fill=\"black\" stroke=\"black\" points=\"316.32,-76.59 308.35,-69.62 310.23,-80.04 316.32,-76.59\"/>\n",
       "</g>\n",
       "<!-- 9 -->\n",
       "<g id=\"node10\" class=\"node\">\n",
       "<title>9</title>\n",
       "<path fill=\"#e78946\" stroke=\"black\" d=\"M447.5,-68C447.5,-68 370,-68 370,-68 364,-68 358,-62 358,-56 358,-56 358,-12 358,-12 358,-6 364,0 370,0 370,0 447.5,0 447.5,0 453.5,0 459.5,-6 459.5,-12 459.5,-12 459.5,-56 459.5,-56 459.5,-62 453.5,-68 447.5,-68\"/>\n",
       "<text text-anchor=\"middle\" x=\"408.75\" y=\"-50.7\" font-family=\"Helvetica,sans-Serif\" font-size=\"14.00\">gini = 0.117</text>\n",
       "<text text-anchor=\"middle\" x=\"408.75\" y=\"-35.7\" font-family=\"Helvetica,sans-Serif\" font-size=\"14.00\">samples = 16</text>\n",
       "<text text-anchor=\"middle\" x=\"408.75\" y=\"-20.7\" font-family=\"Helvetica,sans-Serif\" font-size=\"14.00\">value = [15, 1]</text>\n",
       "<text text-anchor=\"middle\" x=\"408.75\" y=\"-5.7\" font-family=\"Helvetica,sans-Serif\" font-size=\"14.00\">class = ok</text>\n",
       "</g>\n",
       "<!-- 7&#45;&gt;9 -->\n",
       "<g id=\"edge9\" class=\"edge\">\n",
       "<title>7&#45;&gt;9</title>\n",
       "<path fill=\"none\" stroke=\"black\" d=\"M372.35,-103.73C376.74,-95.43 381.38,-86.67 385.82,-78.28\"/>\n",
       "<polygon fill=\"black\" stroke=\"black\" points=\"388.82,-80.11 390.4,-69.64 382.63,-76.84 388.82,-80.11\"/>\n",
       "</g>\n",
       "<!-- 11 -->\n",
       "<g id=\"node12\" class=\"node\">\n",
       "<title>11</title>\n",
       "<path fill=\"#d7ebfa\" stroke=\"black\" d=\"M566.12,-68C566.12,-68 489.38,-68 489.38,-68 483.38,-68 477.38,-62 477.38,-56 477.38,-56 477.38,-12 477.38,-12 477.38,-6 483.38,0 489.38,0 489.38,0 566.12,0 566.12,0 572.12,0 578.12,-6 578.12,-12 578.12,-12 578.12,-56 578.12,-56 578.12,-62 572.12,-68 566.12,-68\"/>\n",
       "<text text-anchor=\"middle\" x=\"527.75\" y=\"-50.7\" font-family=\"Helvetica,sans-Serif\" font-size=\"14.00\">gini = 0.494</text>\n",
       "<text text-anchor=\"middle\" x=\"527.75\" y=\"-35.7\" font-family=\"Helvetica,sans-Serif\" font-size=\"14.00\">samples = 9</text>\n",
       "<text text-anchor=\"middle\" x=\"527.75\" y=\"-20.7\" font-family=\"Helvetica,sans-Serif\" font-size=\"14.00\">value = [4, 5]</text>\n",
       "<text text-anchor=\"middle\" x=\"527.75\" y=\"-5.7\" font-family=\"Helvetica,sans-Serif\" font-size=\"14.00\">class = fraude</text>\n",
       "</g>\n",
       "<!-- 10&#45;&gt;11 -->\n",
       "<g id=\"edge11\" class=\"edge\">\n",
       "<title>10&#45;&gt;11</title>\n",
       "<path fill=\"none\" stroke=\"black\" d=\"M527.75,-103.73C527.75,-95.88 527.75,-87.63 527.75,-79.67\"/>\n",
       "<polygon fill=\"black\" stroke=\"black\" points=\"531.25,-79.81 527.75,-69.81 524.25,-79.81 531.25,-79.81\"/>\n",
       "</g>\n",
       "<!-- 12 -->\n",
       "<g id=\"node13\" class=\"node\">\n",
       "<title>12</title>\n",
       "<path fill=\"#399de5\" stroke=\"black\" d=\"M685.12,-68C685.12,-68 608.38,-68 608.38,-68 602.38,-68 596.38,-62 596.38,-56 596.38,-56 596.38,-12 596.38,-12 596.38,-6 602.38,0 608.38,0 608.38,0 685.12,0 685.12,0 691.12,0 697.12,-6 697.12,-12 697.12,-12 697.12,-56 697.12,-56 697.12,-62 691.12,-68 685.12,-68\"/>\n",
       "<text text-anchor=\"middle\" x=\"646.75\" y=\"-50.7\" font-family=\"Helvetica,sans-Serif\" font-size=\"14.00\">gini = 0.0</text>\n",
       "<text text-anchor=\"middle\" x=\"646.75\" y=\"-35.7\" font-family=\"Helvetica,sans-Serif\" font-size=\"14.00\">samples = 2</text>\n",
       "<text text-anchor=\"middle\" x=\"646.75\" y=\"-20.7\" font-family=\"Helvetica,sans-Serif\" font-size=\"14.00\">value = [0, 2]</text>\n",
       "<text text-anchor=\"middle\" x=\"646.75\" y=\"-5.7\" font-family=\"Helvetica,sans-Serif\" font-size=\"14.00\">class = fraude</text>\n",
       "</g>\n",
       "<!-- 10&#45;&gt;12 -->\n",
       "<g id=\"edge12\" class=\"edge\">\n",
       "<title>10&#45;&gt;12</title>\n",
       "<path fill=\"none\" stroke=\"black\" d=\"M572.06,-103.73C581.87,-94.7 592.28,-85.12 602.1,-76.08\"/>\n",
       "<polygon fill=\"black\" stroke=\"black\" points=\"604.46,-78.67 609.45,-69.32 599.72,-73.52 604.46,-78.67\"/>\n",
       "</g>\n",
       "</g>\n",
       "</svg>\n"
      ],
      "text/plain": [
       "<graphviz.sources.Source at 0x11e66e010>"
      ]
     },
     "execution_count": 14,
     "metadata": {},
     "output_type": "execute_result"
    }
   ],
   "source": [
    "from sklearn.tree import export_graphviz\n",
    "from graphviz import Source\n",
    "\n",
    "dot_data = export_graphviz(tree, out_file=None,\n",
    "                           filled=True, rounded=True,\n",
    "                           feature_names=['age','is_male','engine_size','months_last_claim'],\n",
    "                           class_names=['ok', 'fraude'])\n",
    "\n",
    "grafico = Source(dot_data)\n",
    "grafico"
   ]
  },
  {
   "cell_type": "code",
   "execution_count": 24,
   "metadata": {},
   "outputs": [
    {
     "name": "stdout",
     "output_type": "stream",
     "text": [
      "2 72.5 55.00000000000001\n",
      "3 72.5 55.00000000000001\n",
      "4 76.25 45.0\n",
      "5 85.0 55.00000000000001\n",
      "6 92.5 55.00000000000001\n",
      "7 96.25 55.00000000000001\n",
      "8 98.75 55.00000000000001\n",
      "9 98.75 45.0\n",
      "10 98.75 50.0\n",
      "11 98.75 45.0\n",
      "12 98.75 45.0\n",
      "13 98.75 50.0\n",
      "14 98.75 55.00000000000001\n",
      "15 98.75 55.00000000000001\n",
      "16 98.75 50.0\n",
      "17 98.75 60.0\n",
      "18 98.75 50.0\n",
      "19 98.75 55.00000000000001\n"
     ]
    }
   ],
   "source": [
    "from sklearn.metrics import accuracy_score\n",
    "\n",
    "for k in range(2,20,1):\n",
    "  arv = DecisionTreeClassifier(max_depth = k )\n",
    "  arv.fit(X_train , y_train)\n",
    "  acc_treino = arv.score(X_train , y_train)\n",
    "  preds = arv.predict(X_test)\n",
    "  acc_teste = accuracy_score(y_test, preds)\n",
    "  print(k, acc_treino*100, acc_teste*100)\n",
    " "
   ]
  },
  {
   "cell_type": "markdown",
   "metadata": {},
   "source": [
    "# Random Forest"
   ]
  },
  {
   "cell_type": "code",
   "execution_count": 25,
   "metadata": {},
   "outputs": [
    {
     "name": "stdout",
     "output_type": "stream",
     "text": [
      "0.7125\n"
     ]
    }
   ],
   "source": [
    "from sklearn.ensemble import RandomForestClassifier\n",
    "rf = RandomForestClassifier(n_estimators=100, max_depth=2)\n",
    "rf.fit(X_train, y_train)\n",
    "acc_treino = rf.score(X_train, y_train)\n",
    "print(acc_treino)"
   ]
  },
  {
   "cell_type": "code",
   "execution_count": 27,
   "metadata": {},
   "outputs": [
    {
     "name": "stdout",
     "output_type": "stream",
     "text": [
      "0.6\n"
     ]
    }
   ],
   "source": [
    "preds = rf.predict(X_test)\n",
    "acc_teste = accuracy_score(y_test, preds)\n",
    "print(acc_teste)"
   ]
  },
  {
   "cell_type": "code",
   "execution_count": 41,
   "metadata": {},
   "outputs": [
    {
     "name": "stdout",
     "output_type": "stream",
     "text": [
      "1 81.25 60.0\n",
      "2 83.75 60.0\n",
      "3 90.0 65.0\n",
      "4 91.25 70.0\n",
      "5 92.5 70.0\n",
      "6 91.25 65.0\n",
      "7 93.75 65.0\n",
      "8 95.0 60.0\n",
      "9 95.0 70.0\n",
      "10 97.5 70.0\n",
      "11 96.25 65.0\n",
      "12 97.5 65.0\n",
      "13 97.5 65.0\n",
      "14 95.0 55.0\n",
      "15 98.75 55.0\n",
      "16 97.5 65.0\n",
      "17 97.5 65.0\n",
      "18 98.75 70.0\n",
      "19 97.5 60.0\n"
     ]
    }
   ],
   "source": [
    "for k in range(1,20,1):\n",
    "    rf = RandomForestClassifier(n_estimators=k)\n",
    "    rf.fit(X_train, y_train)\n",
    "    acc_treino = round(rf.score(X_train, y_train) * 100, 2)\n",
    "    preds = rf.predict(X_test)\n",
    "    acc_teste = round(accuracy_score(y_test, preds) * 100, 2)\n",
    "    print(k, acc_treino, acc_teste)"
   ]
  },
  {
   "cell_type": "markdown",
   "metadata": {},
   "source": [
    "# Atividade individual"
   ]
  },
  {
   "cell_type": "code",
   "execution_count": 54,
   "metadata": {},
   "outputs": [
    {
     "data": {
      "application/vnd.microsoft.datawrangler.viewer.v0+json": {
       "columns": [
        {
         "name": "index",
         "rawType": "int64",
         "type": "integer"
        },
        {
         "name": "Inadimplente",
         "rawType": "int64",
         "type": "integer"
        },
        {
         "name": "Genero",
         "rawType": "int64",
         "type": "integer"
        },
        {
         "name": "GrauEscolaridade",
         "rawType": "int64",
         "type": "integer"
        },
        {
         "name": "Profissao",
         "rawType": "int64",
         "type": "integer"
        },
        {
         "name": "Renda",
         "rawType": "float64",
         "type": "float"
        }
       ],
       "conversionMethod": "pd.DataFrame",
       "ref": "5741f4c0-624c-4a9e-a52f-e6005d522eb1",
       "rows": [
        [
         "0",
         "1",
         "1",
         "4",
         "1",
         "1.4"
        ],
        [
         "1",
         "0",
         "2",
         "7",
         "9",
         "2.6"
        ],
        [
         "2",
         "0",
         "1",
         "7",
         "9",
         "5.8"
        ],
        [
         "3",
         "0",
         "1",
         "7",
         "9",
         "4.7"
        ],
        [
         "4",
         "0",
         "1",
         "7",
         "9",
         "3.9"
        ],
        [
         "5",
         "0",
         "1",
         "8",
         "9",
         "3.25"
        ],
        [
         "6",
         "0",
         "1",
         "8",
         "8",
         "7.2"
        ],
        [
         "7",
         "1",
         "2",
         "4",
         "3",
         "1.25"
        ],
        [
         "8",
         "1",
         "1",
         "3",
         "3",
         "1.325"
        ],
        [
         "9",
         "1",
         "2",
         "4",
         "3",
         "1.48"
        ],
        [
         "10",
         "1",
         "1",
         "5",
         "2",
         "2.89"
        ],
        [
         "11",
         "1",
         "2",
         "4",
         "2",
         "1.234"
        ],
        [
         "12",
         "1",
         "1",
         "4",
         "1",
         "2.9"
        ],
        [
         "13",
         "1",
         "1",
         "4",
         "1",
         "1.4"
        ],
        [
         "14",
         "0",
         "2",
         "7",
         "8",
         "2.6"
        ],
        [
         "15",
         "0",
         "1",
         "7",
         "8",
         "5.8"
        ],
        [
         "16",
         "0",
         "1",
         "7",
         "8",
         "4.7"
        ],
        [
         "17",
         "0",
         "1",
         "7",
         "8",
         "3.9"
        ],
        [
         "18",
         "0",
         "1",
         "8",
         "8",
         "3.25"
        ],
        [
         "19",
         "0",
         "1",
         "8",
         "8",
         "7.2"
        ],
        [
         "20",
         "1",
         "2",
         "4",
         "3",
         "1.25"
        ],
        [
         "21",
         "1",
         "1",
         "3",
         "3",
         "1.325"
        ],
        [
         "22",
         "1",
         "2",
         "4",
         "3",
         "1.48"
        ],
        [
         "23",
         "1",
         "1",
         "5",
         "2",
         "2.89"
        ],
        [
         "24",
         "1",
         "2",
         "4",
         "2",
         "1.234"
        ],
        [
         "25",
         "1",
         "1",
         "4",
         "1",
         "2.9"
        ],
        [
         "26",
         "1",
         "1",
         "4",
         "1",
         "1.4"
        ],
        [
         "27",
         "0",
         "2",
         "2",
         "9",
         "2.6"
        ],
        [
         "28",
         "0",
         "1",
         "2",
         "9",
         "5.8"
        ],
        [
         "29",
         "0",
         "1",
         "2",
         "9",
         "4.7"
        ],
        [
         "30",
         "0",
         "1",
         "2",
         "9",
         "3.9"
        ],
        [
         "31",
         "0",
         "1",
         "2",
         "9",
         "3.25"
        ],
        [
         "32",
         "0",
         "1",
         "2",
         "8",
         "7.2"
        ],
        [
         "33",
         "1",
         "2",
         "4",
         "3",
         "1.25"
        ],
        [
         "34",
         "1",
         "1",
         "3",
         "3",
         "1.325"
        ],
        [
         "35",
         "1",
         "2",
         "4",
         "3",
         "1.48"
        ],
        [
         "36",
         "1",
         "1",
         "5",
         "2",
         "2.89"
        ],
        [
         "37",
         "1",
         "2",
         "4",
         "2",
         "1.234"
        ],
        [
         "38",
         "1",
         "1",
         "4",
         "1",
         "2.9"
        ],
        [
         "39",
         "1",
         "1",
         "4",
         "1",
         "1.4"
        ],
        [
         "40",
         "0",
         "2",
         "2",
         "8",
         "2.6"
        ],
        [
         "41",
         "0",
         "1",
         "2",
         "8",
         "5.8"
        ],
        [
         "42",
         "0",
         "1",
         "2",
         "8",
         "4.7"
        ],
        [
         "43",
         "0",
         "1",
         "2",
         "8",
         "3.9"
        ],
        [
         "44",
         "0",
         "1",
         "2",
         "8",
         "3.25"
        ],
        [
         "45",
         "0",
         "1",
         "2",
         "8",
         "7.2"
        ],
        [
         "46",
         "1",
         "2",
         "4",
         "3",
         "1.25"
        ],
        [
         "47",
         "1",
         "1",
         "3",
         "3",
         "1.325"
        ],
        [
         "48",
         "1",
         "2",
         "4",
         "3",
         "1.48"
        ],
        [
         "49",
         "1",
         "1",
         "5",
         "2",
         "2.89"
        ]
       ],
       "shape": {
        "columns": 5,
        "rows": 100
       }
      },
      "text/html": [
       "<div>\n",
       "<style scoped>\n",
       "    .dataframe tbody tr th:only-of-type {\n",
       "        vertical-align: middle;\n",
       "    }\n",
       "\n",
       "    .dataframe tbody tr th {\n",
       "        vertical-align: top;\n",
       "    }\n",
       "\n",
       "    .dataframe thead th {\n",
       "        text-align: right;\n",
       "    }\n",
       "</style>\n",
       "<table border=\"1\" class=\"dataframe\">\n",
       "  <thead>\n",
       "    <tr style=\"text-align: right;\">\n",
       "      <th></th>\n",
       "      <th>Inadimplente</th>\n",
       "      <th>Genero</th>\n",
       "      <th>GrauEscolaridade</th>\n",
       "      <th>Profissao</th>\n",
       "      <th>Renda</th>\n",
       "    </tr>\n",
       "  </thead>\n",
       "  <tbody>\n",
       "    <tr>\n",
       "      <th>0</th>\n",
       "      <td>1</td>\n",
       "      <td>1</td>\n",
       "      <td>4</td>\n",
       "      <td>1</td>\n",
       "      <td>1.4</td>\n",
       "    </tr>\n",
       "    <tr>\n",
       "      <th>1</th>\n",
       "      <td>0</td>\n",
       "      <td>2</td>\n",
       "      <td>7</td>\n",
       "      <td>9</td>\n",
       "      <td>2.6</td>\n",
       "    </tr>\n",
       "    <tr>\n",
       "      <th>2</th>\n",
       "      <td>0</td>\n",
       "      <td>1</td>\n",
       "      <td>7</td>\n",
       "      <td>9</td>\n",
       "      <td>5.8</td>\n",
       "    </tr>\n",
       "    <tr>\n",
       "      <th>3</th>\n",
       "      <td>0</td>\n",
       "      <td>1</td>\n",
       "      <td>7</td>\n",
       "      <td>9</td>\n",
       "      <td>4.7</td>\n",
       "    </tr>\n",
       "    <tr>\n",
       "      <th>4</th>\n",
       "      <td>0</td>\n",
       "      <td>1</td>\n",
       "      <td>7</td>\n",
       "      <td>9</td>\n",
       "      <td>3.9</td>\n",
       "    </tr>\n",
       "    <tr>\n",
       "      <th>...</th>\n",
       "      <td>...</td>\n",
       "      <td>...</td>\n",
       "      <td>...</td>\n",
       "      <td>...</td>\n",
       "      <td>...</td>\n",
       "    </tr>\n",
       "    <tr>\n",
       "      <th>95</th>\n",
       "      <td>1</td>\n",
       "      <td>1</td>\n",
       "      <td>4</td>\n",
       "      <td>1</td>\n",
       "      <td>2.9</td>\n",
       "    </tr>\n",
       "    <tr>\n",
       "      <th>96</th>\n",
       "      <td>1</td>\n",
       "      <td>1</td>\n",
       "      <td>4</td>\n",
       "      <td>1</td>\n",
       "      <td>1.4</td>\n",
       "    </tr>\n",
       "    <tr>\n",
       "      <th>97</th>\n",
       "      <td>0</td>\n",
       "      <td>2</td>\n",
       "      <td>7</td>\n",
       "      <td>8</td>\n",
       "      <td>2.6</td>\n",
       "    </tr>\n",
       "    <tr>\n",
       "      <th>98</th>\n",
       "      <td>0</td>\n",
       "      <td>1</td>\n",
       "      <td>7</td>\n",
       "      <td>8</td>\n",
       "      <td>5.8</td>\n",
       "    </tr>\n",
       "    <tr>\n",
       "      <th>99</th>\n",
       "      <td>0</td>\n",
       "      <td>1</td>\n",
       "      <td>7</td>\n",
       "      <td>8</td>\n",
       "      <td>4.7</td>\n",
       "    </tr>\n",
       "  </tbody>\n",
       "</table>\n",
       "<p>100 rows × 5 columns</p>\n",
       "</div>"
      ],
      "text/plain": [
       "    Inadimplente  Genero  GrauEscolaridade  Profissao  Renda\n",
       "0              1       1                 4          1    1.4\n",
       "1              0       2                 7          9    2.6\n",
       "2              0       1                 7          9    5.8\n",
       "3              0       1                 7          9    4.7\n",
       "4              0       1                 7          9    3.9\n",
       "..           ...     ...               ...        ...    ...\n",
       "95             1       1                 4          1    2.9\n",
       "96             1       1                 4          1    1.4\n",
       "97             0       2                 7          8    2.6\n",
       "98             0       1                 7          8    5.8\n",
       "99             0       1                 7          8    4.7\n",
       "\n",
       "[100 rows x 5 columns]"
      ]
     },
     "execution_count": 54,
     "metadata": {},
     "output_type": "execute_result"
    }
   ],
   "source": [
    "treino = pd.read_csv('https://raw.githubusercontent.com/lcbjrrr/data/main/RiscoCredito%20-%20okk.csv')\n",
    "treino.head(100)"
   ]
  },
  {
   "cell_type": "code",
   "execution_count": 43,
   "metadata": {},
   "outputs": [
    {
     "data": {
      "application/vnd.microsoft.datawrangler.viewer.v0+json": {
       "columns": [
        {
         "name": "index",
         "rawType": "int64",
         "type": "integer"
        },
        {
         "name": "Inadimplente",
         "rawType": "int64",
         "type": "integer"
        },
        {
         "name": "Genero",
         "rawType": "int64",
         "type": "integer"
        },
        {
         "name": "GrauEscolaridade",
         "rawType": "int64",
         "type": "integer"
        },
        {
         "name": "Profissao",
         "rawType": "int64",
         "type": "integer"
        },
        {
         "name": "Renda",
         "rawType": "float64",
         "type": "float"
        }
       ],
       "conversionMethod": "pd.DataFrame",
       "ref": "bbabfba1-7762-409a-8b4c-f1ced522f2d9",
       "rows": [
        [
         "0",
         "1",
         "1",
         "4",
         "1",
         "1.4"
        ],
        [
         "1",
         "0",
         "2",
         "7",
         "9",
         "2.6"
        ],
        [
         "2",
         "0",
         "1",
         "7",
         "9",
         "5.8"
        ],
        [
         "3",
         "0",
         "1",
         "7",
         "9",
         "4.7"
        ],
        [
         "4",
         "0",
         "1",
         "7",
         "9",
         "3.9"
        ]
       ],
       "shape": {
        "columns": 5,
        "rows": 5
       }
      },
      "text/html": [
       "<div>\n",
       "<style scoped>\n",
       "    .dataframe tbody tr th:only-of-type {\n",
       "        vertical-align: middle;\n",
       "    }\n",
       "\n",
       "    .dataframe tbody tr th {\n",
       "        vertical-align: top;\n",
       "    }\n",
       "\n",
       "    .dataframe thead th {\n",
       "        text-align: right;\n",
       "    }\n",
       "</style>\n",
       "<table border=\"1\" class=\"dataframe\">\n",
       "  <thead>\n",
       "    <tr style=\"text-align: right;\">\n",
       "      <th></th>\n",
       "      <th>Inadimplente</th>\n",
       "      <th>Genero</th>\n",
       "      <th>GrauEscolaridade</th>\n",
       "      <th>Profissao</th>\n",
       "      <th>Renda</th>\n",
       "    </tr>\n",
       "  </thead>\n",
       "  <tbody>\n",
       "    <tr>\n",
       "      <th>0</th>\n",
       "      <td>1</td>\n",
       "      <td>1</td>\n",
       "      <td>4</td>\n",
       "      <td>1</td>\n",
       "      <td>1.4</td>\n",
       "    </tr>\n",
       "    <tr>\n",
       "      <th>1</th>\n",
       "      <td>0</td>\n",
       "      <td>2</td>\n",
       "      <td>7</td>\n",
       "      <td>9</td>\n",
       "      <td>2.6</td>\n",
       "    </tr>\n",
       "    <tr>\n",
       "      <th>2</th>\n",
       "      <td>0</td>\n",
       "      <td>1</td>\n",
       "      <td>7</td>\n",
       "      <td>9</td>\n",
       "      <td>5.8</td>\n",
       "    </tr>\n",
       "    <tr>\n",
       "      <th>3</th>\n",
       "      <td>0</td>\n",
       "      <td>1</td>\n",
       "      <td>7</td>\n",
       "      <td>9</td>\n",
       "      <td>4.7</td>\n",
       "    </tr>\n",
       "    <tr>\n",
       "      <th>4</th>\n",
       "      <td>0</td>\n",
       "      <td>1</td>\n",
       "      <td>7</td>\n",
       "      <td>9</td>\n",
       "      <td>3.9</td>\n",
       "    </tr>\n",
       "  </tbody>\n",
       "</table>\n",
       "</div>"
      ],
      "text/plain": [
       "   Inadimplente  Genero  GrauEscolaridade  Profissao  Renda\n",
       "0             1       1                 4          1    1.4\n",
       "1             0       2                 7          9    2.6\n",
       "2             0       1                 7          9    5.8\n",
       "3             0       1                 7          9    4.7\n",
       "4             0       1                 7          9    3.9"
      ]
     },
     "execution_count": 43,
     "metadata": {},
     "output_type": "execute_result"
    }
   ],
   "source": [
    "teste = pd.read_csv('https://raw.githubusercontent.com/lcbjrrr/data/main/RiscoCredito%20-%20prever2.csv')\n",
    "teste.head()"
   ]
  },
  {
   "cell_type": "code",
   "execution_count": 57,
   "metadata": {},
   "outputs": [
    {
     "data": {
      "application/vnd.microsoft.datawrangler.viewer.v0+json": {
       "columns": [
        {
         "name": "Profissao",
         "rawType": "int64",
         "type": "integer"
        },
        {
         "name": "Inadimplente",
         "rawType": "int64",
         "type": "integer"
        }
       ],
       "conversionMethod": "pd.DataFrame",
       "ref": "7917a335-1ad1-4e3a-b5d4-4886fa3a11e2",
       "rows": [
        [
         "1",
         "1"
        ],
        [
         "3",
         "1"
        ],
        [
         "8",
         "0"
        ],
        [
         "9",
         "0"
        ]
       ],
       "shape": {
        "columns": 1,
        "rows": 4
       }
      },
      "text/html": [
       "<div>\n",
       "<style scoped>\n",
       "    .dataframe tbody tr th:only-of-type {\n",
       "        vertical-align: middle;\n",
       "    }\n",
       "\n",
       "    .dataframe tbody tr th {\n",
       "        vertical-align: top;\n",
       "    }\n",
       "\n",
       "    .dataframe thead th {\n",
       "        text-align: right;\n",
       "    }\n",
       "</style>\n",
       "<table border=\"1\" class=\"dataframe\">\n",
       "  <thead>\n",
       "    <tr style=\"text-align: right;\">\n",
       "      <th></th>\n",
       "      <th>Inadimplente</th>\n",
       "    </tr>\n",
       "    <tr>\n",
       "      <th>Profissao</th>\n",
       "      <th></th>\n",
       "    </tr>\n",
       "  </thead>\n",
       "  <tbody>\n",
       "    <tr>\n",
       "      <th>1</th>\n",
       "      <td>1</td>\n",
       "    </tr>\n",
       "    <tr>\n",
       "      <th>3</th>\n",
       "      <td>1</td>\n",
       "    </tr>\n",
       "    <tr>\n",
       "      <th>8</th>\n",
       "      <td>0</td>\n",
       "    </tr>\n",
       "    <tr>\n",
       "      <th>9</th>\n",
       "      <td>0</td>\n",
       "    </tr>\n",
       "  </tbody>\n",
       "</table>\n",
       "</div>"
      ],
      "text/plain": [
       "           Inadimplente\n",
       "Profissao              \n",
       "1                     1\n",
       "3                     1\n",
       "8                     0\n",
       "9                     0"
      ]
     },
     "execution_count": 57,
     "metadata": {},
     "output_type": "execute_result"
    }
   ],
   "source": [
    "teste.groupby('Profissao').agg({'Inadimplente': 'sum'})"
   ]
  },
  {
   "cell_type": "code",
   "execution_count": 58,
   "metadata": {},
   "outputs": [],
   "source": [
    "alvo = 'Inadimplente'\n",
    "variavel = ['Genero', 'GrauEscolaridade', 'Renda']\n",
    "\n",
    "X_train = treino[variavel]\n",
    "y_train = treino[alvo]\n",
    "\n",
    "X_test = teste[variavel]\n",
    "y_test = teste[alvo]"
   ]
  },
  {
   "cell_type": "code",
   "execution_count": 59,
   "metadata": {},
   "outputs": [
    {
     "name": "stdout",
     "output_type": "stream",
     "text": [
      "2 97.0 87.5\n",
      "3 100.0 100.0\n",
      "4 100.0 100.0\n",
      "5 100.0 100.0\n",
      "6 100.0 100.0\n",
      "7 100.0 100.0\n",
      "8 100.0 100.0\n",
      "9 100.0 100.0\n",
      "10 100.0 100.0\n",
      "11 100.0 100.0\n",
      "12 100.0 100.0\n",
      "13 100.0 100.0\n",
      "14 100.0 100.0\n",
      "15 100.0 100.0\n",
      "16 100.0 100.0\n",
      "17 100.0 100.0\n",
      "18 100.0 100.0\n",
      "19 100.0 100.0\n"
     ]
    }
   ],
   "source": [
    "from sklearn.metrics import accuracy_score\n",
    "\n",
    "for k in range(2,20,1):\n",
    "  tree = DecisionTreeClassifier(max_depth = k)\n",
    "  tree.fit(X_train , y_train)\n",
    "  acc_treino = tree.score(X_train , y_train)\n",
    "  preds = tree.predict(X_test)\n",
    "  acc_teste = accuracy_score(y_test, preds)\n",
    "  print(k, acc_treino*100, acc_teste*100)"
   ]
  },
  {
   "cell_type": "code",
   "execution_count": 60,
   "metadata": {},
   "outputs": [
    {
     "name": "stdout",
     "output_type": "stream",
     "text": [
      "97.0 87.5\n"
     ]
    }
   ],
   "source": [
    "tree = DecisionTreeClassifier(max_depth = 2)\n",
    "tree.fit(X_train , y_train)\n",
    "acc_treino = tree.score(X_train , y_train)\n",
    "preds = tree.predict(X_test)\n",
    "acc_teste = accuracy_score(y_test, preds)\n",
    "print(acc_treino*100, acc_teste*100)"
   ]
  },
  {
   "cell_type": "code",
   "execution_count": 61,
   "metadata": {},
   "outputs": [
    {
     "data": {
      "image/svg+xml": [
       "<?xml version=\"1.0\" encoding=\"UTF-8\" standalone=\"no\"?>\n",
       "<!DOCTYPE svg PUBLIC \"-//W3C//DTD SVG 1.1//EN\"\n",
       " \"http://www.w3.org/Graphics/SVG/1.1/DTD/svg11.dtd\">\n",
       "<!-- Generated by graphviz version 12.2.1 (20241206.2353)\n",
       " -->\n",
       "<!-- Title: Tree Pages: 1 -->\n",
       "<svg width=\"326pt\" height=\"314pt\"\n",
       " viewBox=\"0.00 0.00 325.75 314.00\" xmlns=\"http://www.w3.org/2000/svg\" xmlns:xlink=\"http://www.w3.org/1999/xlink\">\n",
       "<g id=\"graph0\" class=\"graph\" transform=\"scale(1 1) rotate(0) translate(4 310)\">\n",
       "<title>Tree</title>\n",
       "<polygon fill=\"white\" stroke=\"none\" points=\"-4,4 -4,-310 321.75,-310 321.75,4 -4,4\"/>\n",
       "<!-- 0 -->\n",
       "<g id=\"node1\" class=\"node\">\n",
       "<title>0</title>\n",
       "<path fill=\"#b8dcf6\" stroke=\"black\" d=\"M248.25,-306C248.25,-306 131.75,-306 131.75,-306 125.75,-306 119.75,-300 119.75,-294 119.75,-294 119.75,-235 119.75,-235 119.75,-229 125.75,-223 131.75,-223 131.75,-223 248.25,-223 248.25,-223 254.25,-223 260.25,-229 260.25,-235 260.25,-235 260.25,-294 260.25,-294 260.25,-300 254.25,-306 248.25,-306\"/>\n",
       "<text text-anchor=\"middle\" x=\"190\" y=\"-288.7\" font-family=\"Helvetica,sans-Serif\" font-size=\"14.00\">Renda &lt;= 3.075</text>\n",
       "<text text-anchor=\"middle\" x=\"190\" y=\"-273.7\" font-family=\"Helvetica,sans-Serif\" font-size=\"14.00\">gini = 0.476</text>\n",
       "<text text-anchor=\"middle\" x=\"190\" y=\"-258.7\" font-family=\"Helvetica,sans-Serif\" font-size=\"14.00\">samples = 100</text>\n",
       "<text text-anchor=\"middle\" x=\"190\" y=\"-243.7\" font-family=\"Helvetica,sans-Serif\" font-size=\"14.00\">value = [39, 61]</text>\n",
       "<text text-anchor=\"middle\" x=\"190\" y=\"-228.7\" font-family=\"Helvetica,sans-Serif\" font-size=\"14.00\">class = Inadimplente</text>\n",
       "</g>\n",
       "<!-- 1 -->\n",
       "<g id=\"node2\" class=\"node\">\n",
       "<title>1</title>\n",
       "<path fill=\"#50a8e8\" stroke=\"black\" d=\"M185.75,-187C185.75,-187 42.25,-187 42.25,-187 36.25,-187 30.25,-181 30.25,-175 30.25,-175 30.25,-116 30.25,-116 30.25,-110 36.25,-104 42.25,-104 42.25,-104 185.75,-104 185.75,-104 191.75,-104 197.75,-110 197.75,-116 197.75,-116 197.75,-175 197.75,-175 197.75,-181 191.75,-187 185.75,-187\"/>\n",
       "<text text-anchor=\"middle\" x=\"114\" y=\"-169.7\" font-family=\"Helvetica,sans-Serif\" font-size=\"14.00\">GrauEscolaridade &lt;= 2.5</text>\n",
       "<text text-anchor=\"middle\" x=\"114\" y=\"-154.7\" font-family=\"Helvetica,sans-Serif\" font-size=\"14.00\">gini = 0.185</text>\n",
       "<text text-anchor=\"middle\" x=\"114\" y=\"-139.7\" font-family=\"Helvetica,sans-Serif\" font-size=\"14.00\">samples = 68</text>\n",
       "<text text-anchor=\"middle\" x=\"114\" y=\"-124.7\" font-family=\"Helvetica,sans-Serif\" font-size=\"14.00\">value = [7, 61]</text>\n",
       "<text text-anchor=\"middle\" x=\"114\" y=\"-109.7\" font-family=\"Helvetica,sans-Serif\" font-size=\"14.00\">class = Inadimplente</text>\n",
       "</g>\n",
       "<!-- 0&#45;&gt;1 -->\n",
       "<g id=\"edge1\" class=\"edge\">\n",
       "<title>0&#45;&gt;1</title>\n",
       "<path fill=\"none\" stroke=\"black\" d=\"M163.42,-222.58C158.01,-214.25 152.26,-205.39 146.66,-196.78\"/>\n",
       "<polygon fill=\"black\" stroke=\"black\" points=\"149.64,-194.95 141.26,-188.47 143.77,-198.76 149.64,-194.95\"/>\n",
       "<text text-anchor=\"middle\" x=\"135.24\" y=\"-205.85\" font-family=\"Helvetica,sans-Serif\" font-size=\"14.00\">True</text>\n",
       "</g>\n",
       "<!-- 4 -->\n",
       "<g id=\"node5\" class=\"node\">\n",
       "<title>4</title>\n",
       "<path fill=\"#e58139\" stroke=\"black\" d=\"M305.75,-179.5C305.75,-179.5 228.25,-179.5 228.25,-179.5 222.25,-179.5 216.25,-173.5 216.25,-167.5 216.25,-167.5 216.25,-123.5 216.25,-123.5 216.25,-117.5 222.25,-111.5 228.25,-111.5 228.25,-111.5 305.75,-111.5 305.75,-111.5 311.75,-111.5 317.75,-117.5 317.75,-123.5 317.75,-123.5 317.75,-167.5 317.75,-167.5 317.75,-173.5 311.75,-179.5 305.75,-179.5\"/>\n",
       "<text text-anchor=\"middle\" x=\"267\" y=\"-162.2\" font-family=\"Helvetica,sans-Serif\" font-size=\"14.00\">gini = 0.0</text>\n",
       "<text text-anchor=\"middle\" x=\"267\" y=\"-147.2\" font-family=\"Helvetica,sans-Serif\" font-size=\"14.00\">samples = 32</text>\n",
       "<text text-anchor=\"middle\" x=\"267\" y=\"-132.2\" font-family=\"Helvetica,sans-Serif\" font-size=\"14.00\">value = [32, 0]</text>\n",
       "<text text-anchor=\"middle\" x=\"267\" y=\"-117.2\" font-family=\"Helvetica,sans-Serif\" font-size=\"14.00\">class = ok</text>\n",
       "</g>\n",
       "<!-- 0&#45;&gt;4 -->\n",
       "<g id=\"edge4\" class=\"edge\">\n",
       "<title>0&#45;&gt;4</title>\n",
       "<path fill=\"none\" stroke=\"black\" d=\"M216.93,-222.58C224.04,-211.77 231.73,-200.09 238.9,-189.19\"/>\n",
       "<polygon fill=\"black\" stroke=\"black\" points=\"241.64,-191.4 244.21,-181.13 235.79,-187.55 241.64,-191.4\"/>\n",
       "<text text-anchor=\"middle\" x=\"250.09\" y=\"-198.55\" font-family=\"Helvetica,sans-Serif\" font-size=\"14.00\">False</text>\n",
       "</g>\n",
       "<!-- 2 -->\n",
       "<g id=\"node3\" class=\"node\">\n",
       "<title>2</title>\n",
       "<path fill=\"#e58139\" stroke=\"black\" d=\"M82,-68C82,-68 12,-68 12,-68 6,-68 0,-62 0,-56 0,-56 0,-12 0,-12 0,-6 6,0 12,0 12,0 82,0 82,0 88,0 94,-6 94,-12 94,-12 94,-56 94,-56 94,-62 88,-68 82,-68\"/>\n",
       "<text text-anchor=\"middle\" x=\"47\" y=\"-50.7\" font-family=\"Helvetica,sans-Serif\" font-size=\"14.00\">gini = 0.0</text>\n",
       "<text text-anchor=\"middle\" x=\"47\" y=\"-35.7\" font-family=\"Helvetica,sans-Serif\" font-size=\"14.00\">samples = 4</text>\n",
       "<text text-anchor=\"middle\" x=\"47\" y=\"-20.7\" font-family=\"Helvetica,sans-Serif\" font-size=\"14.00\">value = [4, 0]</text>\n",
       "<text text-anchor=\"middle\" x=\"47\" y=\"-5.7\" font-family=\"Helvetica,sans-Serif\" font-size=\"14.00\">class = ok</text>\n",
       "</g>\n",
       "<!-- 1&#45;&gt;2 -->\n",
       "<g id=\"edge2\" class=\"edge\">\n",
       "<title>1&#45;&gt;2</title>\n",
       "<path fill=\"none\" stroke=\"black\" d=\"M89.05,-103.73C83.92,-95.34 78.5,-86.47 73.31,-78.01\"/>\n",
       "<polygon fill=\"black\" stroke=\"black\" points=\"76.37,-76.29 68.17,-69.59 70.4,-79.95 76.37,-76.29\"/>\n",
       "</g>\n",
       "<!-- 3 -->\n",
       "<g id=\"node4\" class=\"node\">\n",
       "<title>3</title>\n",
       "<path fill=\"#43a2e6\" stroke=\"black\" d=\"M240.25,-68C240.25,-68 123.75,-68 123.75,-68 117.75,-68 111.75,-62 111.75,-56 111.75,-56 111.75,-12 111.75,-12 111.75,-6 117.75,0 123.75,0 123.75,0 240.25,0 240.25,0 246.25,0 252.25,-6 252.25,-12 252.25,-12 252.25,-56 252.25,-56 252.25,-62 246.25,-68 240.25,-68\"/>\n",
       "<text text-anchor=\"middle\" x=\"182\" y=\"-50.7\" font-family=\"Helvetica,sans-Serif\" font-size=\"14.00\">gini = 0.089</text>\n",
       "<text text-anchor=\"middle\" x=\"182\" y=\"-35.7\" font-family=\"Helvetica,sans-Serif\" font-size=\"14.00\">samples = 64</text>\n",
       "<text text-anchor=\"middle\" x=\"182\" y=\"-20.7\" font-family=\"Helvetica,sans-Serif\" font-size=\"14.00\">value = [3, 61]</text>\n",
       "<text text-anchor=\"middle\" x=\"182\" y=\"-5.7\" font-family=\"Helvetica,sans-Serif\" font-size=\"14.00\">class = Inadimplente</text>\n",
       "</g>\n",
       "<!-- 1&#45;&gt;3 -->\n",
       "<g id=\"edge3\" class=\"edge\">\n",
       "<title>1&#45;&gt;3</title>\n",
       "<path fill=\"none\" stroke=\"black\" d=\"M139.32,-103.73C144.53,-95.34 150.03,-86.47 155.29,-78.01\"/>\n",
       "<polygon fill=\"black\" stroke=\"black\" points=\"158.22,-79.93 160.52,-69.59 152.27,-76.23 158.22,-79.93\"/>\n",
       "</g>\n",
       "</g>\n",
       "</svg>\n"
      ],
      "text/plain": [
       "<graphviz.sources.Source at 0x12461db10>"
      ]
     },
     "execution_count": 61,
     "metadata": {},
     "output_type": "execute_result"
    }
   ],
   "source": [
    "from sklearn.tree import export_graphviz\n",
    "from graphviz import Source\n",
    "\n",
    "dot_data = export_graphviz(tree, out_file=None,\n",
    "                           filled=True, rounded=True,\n",
    "                           feature_names=variavel,\n",
    "                           class_names=['ok', 'Inadimplente'])\n",
    "\n",
    "grafico = Source(dot_data)\n",
    "grafico"
   ]
  },
  {
   "cell_type": "code",
   "execution_count": 62,
   "metadata": {},
   "outputs": [
    {
     "data": {
      "text/plain": [
       "array([0.        , 0.16339869, 0.83660131])"
      ]
     },
     "execution_count": 62,
     "metadata": {},
     "output_type": "execute_result"
    }
   ],
   "source": [
    "tree.feature_importances_"
   ]
  },
  {
   "cell_type": "code",
   "execution_count": 64,
   "metadata": {},
   "outputs": [
    {
     "data": {
      "text/plain": [
       "<Axes: >"
      ]
     },
     "execution_count": 64,
     "metadata": {},
     "output_type": "execute_result"
    },
    {
     "data": {
      "image/png": "[encoded data removed]",
      "text/plain": [
       "<Figure size 640x480 with 1 Axes>"
      ]
     },
     "metadata": {},
     "output_type": "display_data"
    }
   ],
   "source": [
    "import seaborn as sns\n",
    "sns.barplot(x=tree.feature_importances_, y=variavel)"
   ]
  },
  {
   "cell_type": "code",
   "execution_count": null,
   "metadata": {},
   "outputs": [],
   "source": []
  }
 ],
 "metadata": {
  "kernelspec": {
   "display_name": "myenv",
   "language": "python",
   "name": "python3"
  },
  "language_info": {
   "codemirror_mode": {
    "name": "ipython",
    "version": 3
   },
   "file_extension": ".py",
   "mimetype": "text/x-python",
   "name": "python",
   "nbconvert_exporter": "python",
   "pygments_lexer": "ipython3",
   "version": "3.11.10"
  }
 },
 "nbformat": 4,
 "nbformat_minor": 2
}
