{
 "cells": [
  {
   "cell_type": "markdown",
   "metadata": {},
   "source": [
    "# Trabalho Aula 02\n",
    "\n",
    "Integrantes:\n",
    "\n",
    "    1) RM357067 - Edinaldo Rodrigues de Oliveira Junior\n",
    "    2) RM358158 - Henrique Cardoso\n",
    "    3) RM358067 - Jefferson de Souza Santos\n",
    "    4) RM357344 - Walace Vinicius Silva dos Santos"
   ]
  },
  {
   "cell_type": "markdown",
   "metadata": {
    "id": "GVs8d_9MEX2O"
   },
   "source": [
    "Base de dados : https://www.kaggle.com/datasets/willianoliveiragibinpixar-films \"Pixar Films\"\n",
    "\n",
    "Realizaremos a previsão da bilheteria mundial \"box_office_worldwide\", considerando a duração do filme \"run_time\"."
   ]
  },
  {
   "cell_type": "markdown",
   "metadata": {
    "id": "b6NgPli9IVrY"
   },
   "source": []
  },
  {
   "cell_type": "code",
   "execution_count": 1,
   "metadata": {
    "colab": {
     "base_uri": "https://localhost:8080/",
     "height": 250
    },
    "executionInfo": {
     "elapsed": 504,
     "status": "ok",
     "timestamp": 1741828934986,
     "user": {
      "displayName": "Henrique Cardoso",
      "userId": "00136180740144438657"
     },
     "user_tz": 180
    },
    "id": "QKUb2a4CBf5K",
    "outputId": "6225d85e-facc-4233-93ff-cf7836d826ff"
   },
   "outputs": [
    {
     "data": {
      "application/vnd.microsoft.datawrangler.viewer.v0+json": {
       "columns": [
        {
         "name": "index",
         "rawType": "int64",
         "type": "integer"
        },
        {
         "name": "ID",
         "rawType": "int64",
         "type": "integer"
        },
        {
         "name": "film",
         "rawType": "object",
         "type": "string"
        },
        {
         "name": "film_rating",
         "rawType": "object",
         "type": "string"
        },
        {
         "name": "cinema_score",
         "rawType": "object",
         "type": "string"
        },
        {
         "name": "release_date",
         "rawType": "object",
         "type": "string"
        },
        {
         "name": "run_time",
         "rawType": "int64",
         "type": "integer"
        },
        {
         "name": "budget",
         "rawType": "int64",
         "type": "integer"
        },
        {
         "name": "box_office_us_canada",
         "rawType": "int64",
         "type": "integer"
        },
        {
         "name": "box_office_other",
         "rawType": "int64",
         "type": "integer"
        },
        {
         "name": "box_office_worldwide",
         "rawType": "int64",
         "type": "integer"
        },
        {
         "name": "rotten_tomatoes_score",
         "rawType": "int64",
         "type": "integer"
        },
        {
         "name": "rotten_tomatoes_counts",
         "rawType": "int64",
         "type": "integer"
        },
        {
         "name": "metacritic_score",
         "rawType": "int64",
         "type": "integer"
        },
        {
         "name": "metacritic_counts",
         "rawType": "int64",
         "type": "integer"
        },
        {
         "name": "imdb_score",
         "rawType": "float64",
         "type": "float"
        },
        {
         "name": "imdb_counts",
         "rawType": "int64",
         "type": "integer"
        }
       ],
       "conversionMethod": "pd.DataFrame",
       "ref": "5b4bf943-1df3-4bf3-8b9e-8a2d27ae87cf",
       "rows": [
        [
         "0",
         "1",
         "Toy Story",
         "G",
         "A",
         "1995-11-22",
         "81",
         "30000000",
         "223225679",
         "171210907",
         "394436586",
         "100",
         "96",
         "95",
         "26",
         "8.3",
         "1089101"
        ],
        [
         "1",
         "2",
         "A Bug's Life",
         "G",
         "A",
         "1998-11-25",
         "95",
         "120000000",
         "162798565",
         "200460294",
         "363258859",
         "92",
         "91",
         "78",
         "23",
         "7.2",
         "319596"
        ],
        [
         "2",
         "3",
         "Toy Story 2",
         "G",
         "A+",
         "1999-11-24",
         "92",
         "90000000",
         "245852179",
         "265506097",
         "511358276",
         "100",
         "172",
         "88",
         "34",
         "7.9",
         "630573"
        ]
       ],
       "shape": {
        "columns": 16,
        "rows": 3
       }
      },
      "text/html": [
       "<div>\n",
       "<style scoped>\n",
       "    .dataframe tbody tr th:only-of-type {\n",
       "        vertical-align: middle;\n",
       "    }\n",
       "\n",
       "    .dataframe tbody tr th {\n",
       "        vertical-align: top;\n",
       "    }\n",
       "\n",
       "    .dataframe thead th {\n",
       "        text-align: right;\n",
       "    }\n",
       "</style>\n",
       "<table border=\"1\" class=\"dataframe\">\n",
       "  <thead>\n",
       "    <tr style=\"text-align: right;\">\n",
       "      <th></th>\n",
       "      <th>ID</th>\n",
       "      <th>film</th>\n",
       "      <th>film_rating</th>\n",
       "      <th>cinema_score</th>\n",
       "      <th>release_date</th>\n",
       "      <th>run_time</th>\n",
       "      <th>budget</th>\n",
       "      <th>box_office_us_canada</th>\n",
       "      <th>box_office_other</th>\n",
       "      <th>box_office_worldwide</th>\n",
       "      <th>rotten_tomatoes_score</th>\n",
       "      <th>rotten_tomatoes_counts</th>\n",
       "      <th>metacritic_score</th>\n",
       "      <th>metacritic_counts</th>\n",
       "      <th>imdb_score</th>\n",
       "      <th>imdb_counts</th>\n",
       "    </tr>\n",
       "  </thead>\n",
       "  <tbody>\n",
       "    <tr>\n",
       "      <th>0</th>\n",
       "      <td>1</td>\n",
       "      <td>Toy Story</td>\n",
       "      <td>G</td>\n",
       "      <td>A</td>\n",
       "      <td>1995-11-22</td>\n",
       "      <td>81</td>\n",
       "      <td>30000000</td>\n",
       "      <td>223225679</td>\n",
       "      <td>171210907</td>\n",
       "      <td>394436586</td>\n",
       "      <td>100</td>\n",
       "      <td>96</td>\n",
       "      <td>95</td>\n",
       "      <td>26</td>\n",
       "      <td>8.3</td>\n",
       "      <td>1089101</td>\n",
       "    </tr>\n",
       "    <tr>\n",
       "      <th>1</th>\n",
       "      <td>2</td>\n",
       "      <td>A Bug's Life</td>\n",
       "      <td>G</td>\n",
       "      <td>A</td>\n",
       "      <td>1998-11-25</td>\n",
       "      <td>95</td>\n",
       "      <td>120000000</td>\n",
       "      <td>162798565</td>\n",
       "      <td>200460294</td>\n",
       "      <td>363258859</td>\n",
       "      <td>92</td>\n",
       "      <td>91</td>\n",
       "      <td>78</td>\n",
       "      <td>23</td>\n",
       "      <td>7.2</td>\n",
       "      <td>319596</td>\n",
       "    </tr>\n",
       "    <tr>\n",
       "      <th>2</th>\n",
       "      <td>3</td>\n",
       "      <td>Toy Story 2</td>\n",
       "      <td>G</td>\n",
       "      <td>A+</td>\n",
       "      <td>1999-11-24</td>\n",
       "      <td>92</td>\n",
       "      <td>90000000</td>\n",
       "      <td>245852179</td>\n",
       "      <td>265506097</td>\n",
       "      <td>511358276</td>\n",
       "      <td>100</td>\n",
       "      <td>172</td>\n",
       "      <td>88</td>\n",
       "      <td>34</td>\n",
       "      <td>7.9</td>\n",
       "      <td>630573</td>\n",
       "    </tr>\n",
       "  </tbody>\n",
       "</table>\n",
       "</div>"
      ],
      "text/plain": [
       "   ID          film film_rating cinema_score release_date  run_time  \\\n",
       "0   1     Toy Story           G            A   1995-11-22        81   \n",
       "1   2  A Bug's Life           G            A   1998-11-25        95   \n",
       "2   3   Toy Story 2           G           A+   1999-11-24        92   \n",
       "\n",
       "      budget  box_office_us_canada  box_office_other  box_office_worldwide  \\\n",
       "0   30000000             223225679         171210907             394436586   \n",
       "1  120000000             162798565         200460294             363258859   \n",
       "2   90000000             245852179         265506097             511358276   \n",
       "\n",
       "   rotten_tomatoes_score  rotten_tomatoes_counts  metacritic_score  \\\n",
       "0                    100                      96                95   \n",
       "1                     92                      91                78   \n",
       "2                    100                     172                88   \n",
       "\n",
       "   metacritic_counts  imdb_score  imdb_counts  \n",
       "0                 26         8.3      1089101  \n",
       "1                 23         7.2       319596  \n",
       "2                 34         7.9       630573  "
      ]
     },
     "execution_count": 1,
     "metadata": {},
     "output_type": "execute_result"
    }
   ],
   "source": [
    "import pandas as pd\n",
    "import sklearn as skl\n",
    "import seaborn as sns\n",
    "from sklearn import metrics\n",
    "pixar = pd.read_csv('pixar_films new.csv')\n",
    "pixar.head(3)"
   ]
  },
  {
   "cell_type": "code",
   "execution_count": 2,
   "metadata": {
    "colab": {
     "base_uri": "https://localhost:8080/",
     "height": 143
    },
    "executionInfo": {
     "elapsed": 24,
     "status": "ok",
     "timestamp": 1741829564106,
     "user": {
      "displayName": "Henrique Cardoso",
      "userId": "00136180740144438657"
     },
     "user_tz": 180
    },
    "id": "t9LcP6q_E9IE",
    "outputId": "1d223560-d1f5-4513-c5bf-3949da48ec25"
   },
   "outputs": [
    {
     "data": {
      "application/vnd.microsoft.datawrangler.viewer.v0+json": {
       "columns": [
        {
         "name": "index",
         "rawType": "int64",
         "type": "integer"
        },
        {
         "name": "run_time",
         "rawType": "int64",
         "type": "integer"
        },
        {
         "name": "box_office_worldwide",
         "rawType": "int64",
         "type": "integer"
        }
       ],
       "conversionMethod": "pd.DataFrame",
       "ref": "9b4ab4f7-ebd8-4ef0-9ffd-efc2befd71d5",
       "rows": [
        [
         "0",
         "81",
         "394436586"
        ],
        [
         "1",
         "95",
         "363258859"
        ],
        [
         "2",
         "92",
         "511358276"
        ]
       ],
       "shape": {
        "columns": 2,
        "rows": 3
       }
      },
      "text/html": [
       "<div>\n",
       "<style scoped>\n",
       "    .dataframe tbody tr th:only-of-type {\n",
       "        vertical-align: middle;\n",
       "    }\n",
       "\n",
       "    .dataframe tbody tr th {\n",
       "        vertical-align: top;\n",
       "    }\n",
       "\n",
       "    .dataframe thead th {\n",
       "        text-align: right;\n",
       "    }\n",
       "</style>\n",
       "<table border=\"1\" class=\"dataframe\">\n",
       "  <thead>\n",
       "    <tr style=\"text-align: right;\">\n",
       "      <th></th>\n",
       "      <th>run_time</th>\n",
       "      <th>box_office_worldwide</th>\n",
       "    </tr>\n",
       "  </thead>\n",
       "  <tbody>\n",
       "    <tr>\n",
       "      <th>0</th>\n",
       "      <td>81</td>\n",
       "      <td>394436586</td>\n",
       "    </tr>\n",
       "    <tr>\n",
       "      <th>1</th>\n",
       "      <td>95</td>\n",
       "      <td>363258859</td>\n",
       "    </tr>\n",
       "    <tr>\n",
       "      <th>2</th>\n",
       "      <td>92</td>\n",
       "      <td>511358276</td>\n",
       "    </tr>\n",
       "  </tbody>\n",
       "</table>\n",
       "</div>"
      ],
      "text/plain": [
       "   run_time  box_office_worldwide\n",
       "0        81             394436586\n",
       "1        95             363258859\n",
       "2        92             511358276"
      ]
     },
     "execution_count": 2,
     "metadata": {},
     "output_type": "execute_result"
    }
   ],
   "source": [
    "pixar_filtrada = pixar[['run_time','box_office_worldwide']]\n",
    "pixar_filtrada.head(3)"
   ]
  },
  {
   "cell_type": "code",
   "execution_count": 3,
   "metadata": {
    "colab": {
     "base_uri": "https://localhost:8080/",
     "height": 112
    },
    "executionInfo": {
     "elapsed": 21,
     "status": "ok",
     "timestamp": 1741829567861,
     "user": {
      "displayName": "Henrique Cardoso",
      "userId": "00136180740144438657"
     },
     "user_tz": 180
    },
    "id": "SQnjMfc4FPwo",
    "outputId": "f0972fd5-9e05-43ce-c5bd-d2c45a48162f"
   },
   "outputs": [
    {
     "data": {
      "application/vnd.microsoft.datawrangler.viewer.v0+json": {
       "columns": [
        {
         "name": "index",
         "rawType": "object",
         "type": "string"
        },
        {
         "name": "run_time",
         "rawType": "float64",
         "type": "float"
        },
        {
         "name": "box_office_worldwide",
         "rawType": "float64",
         "type": "float"
        }
       ],
       "conversionMethod": "pd.DataFrame",
       "ref": "23dd1cf3-a2c3-4b05-ba4b-27c687c98f11",
       "rows": [
        [
         "run_time",
         "1.0",
         "0.16300196848064205"
        ],
        [
         "box_office_worldwide",
         "0.16300196848064205",
         "1.0"
        ]
       ],
       "shape": {
        "columns": 2,
        "rows": 2
       }
      },
      "text/html": [
       "<div>\n",
       "<style scoped>\n",
       "    .dataframe tbody tr th:only-of-type {\n",
       "        vertical-align: middle;\n",
       "    }\n",
       "\n",
       "    .dataframe tbody tr th {\n",
       "        vertical-align: top;\n",
       "    }\n",
       "\n",
       "    .dataframe thead th {\n",
       "        text-align: right;\n",
       "    }\n",
       "</style>\n",
       "<table border=\"1\" class=\"dataframe\">\n",
       "  <thead>\n",
       "    <tr style=\"text-align: right;\">\n",
       "      <th></th>\n",
       "      <th>run_time</th>\n",
       "      <th>box_office_worldwide</th>\n",
       "    </tr>\n",
       "  </thead>\n",
       "  <tbody>\n",
       "    <tr>\n",
       "      <th>run_time</th>\n",
       "      <td>1.000000</td>\n",
       "      <td>0.163002</td>\n",
       "    </tr>\n",
       "    <tr>\n",
       "      <th>box_office_worldwide</th>\n",
       "      <td>0.163002</td>\n",
       "      <td>1.000000</td>\n",
       "    </tr>\n",
       "  </tbody>\n",
       "</table>\n",
       "</div>"
      ],
      "text/plain": [
       "                      run_time  box_office_worldwide\n",
       "run_time              1.000000              0.163002\n",
       "box_office_worldwide  0.163002              1.000000"
      ]
     },
     "execution_count": 3,
     "metadata": {},
     "output_type": "execute_result"
    }
   ],
   "source": [
    "pixar_filtrada.corr()"
   ]
  },
  {
   "cell_type": "code",
   "execution_count": 4,
   "metadata": {
    "colab": {
     "base_uri": "https://localhost:8080/",
     "height": 530
    },
    "executionInfo": {
     "elapsed": 725,
     "status": "ok",
     "timestamp": 1741829575033,
     "user": {
      "displayName": "Henrique Cardoso",
      "userId": "00136180740144438657"
     },
     "user_tz": 180
    },
    "id": "BXHpF8nFF1FZ",
    "outputId": "7549f837-d7fe-42dc-8fac-d5ce69b907f7"
   },
   "outputs": [
    {
     "data": {
      "text/plain": [
       "<seaborn.axisgrid.PairGrid at 0x12257d950>"
      ]
     },
     "execution_count": 4,
     "metadata": {},
     "output_type": "execute_result"
    },
    {
     "data": {
      "image/png": "[encoded data removed]",
      "text/plain": [
       "<Figure size 500x500 with 6 Axes>"
      ]
     },
     "metadata": {},
     "output_type": "display_data"
    }
   ],
   "source": [
    "sns.pairplot(pixar_filtrada)"
   ]
  },
  {
   "cell_type": "code",
   "execution_count": 5,
   "metadata": {
    "colab": {
     "base_uri": "https://localhost:8080/",
     "height": 564
    },
    "executionInfo": {
     "elapsed": 612,
     "status": "ok",
     "timestamp": 1741829607907,
     "user": {
      "displayName": "Henrique Cardoso",
      "userId": "00136180740144438657"
     },
     "user_tz": 180
    },
    "id": "i6bWUiOnHMDM",
    "outputId": "695ac145-d89d-4771-8415-57c403b12d03"
   },
   "outputs": [
    {
     "data": {
      "image/png": "[encoded data removed]",
      "text/plain": [
       "<Figure size 800x600 with 1 Axes>"
      ]
     },
     "metadata": {},
     "output_type": "display_data"
    }
   ],
   "source": [
    "# prompt: plot a dispesion between \"box_office_worldwide\", considering \"run_time\" or \"budget\".\n",
    "\n",
    "import matplotlib.pyplot as plt\n",
    "\n",
    "# Create the dispersion plot\n",
    "plt.figure(figsize=(8, 6))\n",
    "sns.scatterplot(data=pixar_filtrada, x='run_time', y='box_office_worldwide')\n",
    "plt.title('Dispersion Plot: Run Time vs. Box Office Worldwide')\n",
    "plt.xlabel('Run Time')\n",
    "plt.ylabel('Box Office Worldwide')\n",
    "plt.show()"
   ]
  },
  {
   "cell_type": "code",
   "execution_count": 6,
   "metadata": {
    "colab": {
     "base_uri": "https://localhost:8080/"
    },
    "executionInfo": {
     "elapsed": 707,
     "status": "ok",
     "timestamp": 1741830140626,
     "user": {
      "displayName": "Henrique Cardoso",
      "userId": "00136180740144438657"
     },
     "user_tz": 180
    },
    "id": "fa78e1gNGl3O",
    "outputId": "32a0486b-e073-46fc-f1eb-dca3accb121f"
   },
   "outputs": [
    {
     "name": "stdout",
     "output_type": "stream",
     "text": [
      "Mean Absolute Error: R$ 224606134.53\n",
      "Mean Squared Error: R$ 8.646857628024626e+16\n",
      "Root Mean Squared Error: R$ 294055396.62\n",
      "Predicted Box Office for new movie: R$ 812723521.73\n"
     ]
    }
   ],
   "source": [
    "# prompt: predict the \"box_office_worldwide\", considering \"run_time\" or \"budget\".\n",
    "\n",
    "from sklearn.model_selection import train_test_split\n",
    "from sklearn.linear_model import LinearRegression\n",
    "import numpy as np\n",
    "\n",
    "# Prepare the data\n",
    "X = pixar_filtrada[['run_time']]\n",
    "y = pixar_filtrada['box_office_worldwide']\n",
    "X_train, X_test, y_train, y_test = train_test_split(X, y, test_size=0.2, random_state=42)\n",
    "\n",
    "# Train the model\n",
    "model = LinearRegression()\n",
    "model.fit(X_train, y_train)\n",
    "\n",
    "# Make predictions\n",
    "y_pred = model.predict(X_test)\n",
    "\n",
    "# Evaluate the model\n",
    "mse = round(metrics.mean_absolute_error(y_test, y_pred),2)\n",
    "print('Mean Absolute Error: R$',mse)\n",
    "msr = round(metrics.mean_squared_error(y_test, y_pred),2)\n",
    "print('Mean Squared Error: R$', msr)\n",
    "rmse = round(np.sqrt(metrics.mean_squared_error(y_test, y_pred)),2)\n",
    "print('Root Mean Squared Error: R$', rmse)\n",
    "\n",
    "# Example prediction (replace with your desired input)\n",
    "new_data = pd.DataFrame({'run_time': [120]})\n",
    "predicted_box_office = model.predict(new_data)\n",
    "previsao = round(predicted_box_office[0],2)\n",
    "print(f\"Predicted Box Office for new movie: R$ {previsao}\")\n"
   ]
  },
  {
   "cell_type": "code",
   "execution_count": 7,
   "metadata": {
    "colab": {
     "base_uri": "https://localhost:8080/",
     "height": 1000
    },
    "executionInfo": {
     "elapsed": 2986,
     "status": "ok",
     "timestamp": 1741830177878,
     "user": {
      "displayName": "Henrique Cardoso",
      "userId": "00136180740144438657"
     },
     "user_tz": 180
    },
    "id": "UYnaZkMxKr5I",
    "outputId": "c11ab641-2475-4229-e4a0-205179a34d3d"
   },
   "outputs": [
    {
     "data": {
      "image/png": "[encoded data removed]",
      "text/plain": [
       "<Figure size 800x600 with 1 Axes>"
      ]
     },
     "metadata": {},
     "output_type": "display_data"
    },
    {
     "data": {
      "image/png": "[encoded data removed]",
      "text/plain": [
       "<Figure size 800x600 with 1 Axes>"
      ]
     },
     "metadata": {},
     "output_type": "display_data"
    },
    {
     "data": {
      "image/png": "[encoded data removed]",
      "text/plain": [
       "<Figure size 640x480 with 1 Axes>"
      ]
     },
     "metadata": {},
     "output_type": "display_data"
    },
    {
     "name": "stdout",
     "output_type": "stream",
     "text": [
      "Mean of Residuals: -183243071.75\n",
      "Standard Deviation of Residuals: 251929878.19\n"
     ]
    }
   ],
   "source": [
    "# prompt: generate a residual analisys\n",
    "\n",
    "# Calculate residuals\n",
    "residuals = y_test - y_pred\n",
    "\n",
    "# Create a residual plot\n",
    "plt.figure(figsize=(8, 6))\n",
    "plt.scatter(y_pred, residuals)\n",
    "plt.axhline(y=0, color='r', linestyle='--')\n",
    "plt.xlabel(\"Predicted Values\")\n",
    "plt.ylabel(\"Residuals\")\n",
    "plt.title(\"Residual Plot\")\n",
    "plt.show()\n",
    "\n",
    "# Histogram of residuals\n",
    "plt.figure(figsize=(8, 6))\n",
    "plt.hist(residuals, bins=10)\n",
    "plt.xlabel(\"Residuals\")\n",
    "plt.ylabel(\"Frequency\")\n",
    "plt.title(\"Distribution of Residuals\")\n",
    "plt.show()\n",
    "\n",
    "# Check for normality of residuals (using Q-Q plot)\n",
    "import statsmodels.api as sm\n",
    "sm.qqplot(residuals, line='45')\n",
    "plt.title(\"Q-Q Plot of Residuals\")\n",
    "plt.show()\n",
    "\n",
    "# Calculate and print some residual statistics\n",
    "print(f\"Mean of Residuals: {round(residuals.mean(),2)}\")\n",
    "print(f\"Standard Deviation of Residuals: {round(residuals.std(),2)}\")\n"
   ]
  }
 ],
 "metadata": {
  "colab": {
   "authorship_tag": "ABX9TyN6o8f6L3R9Qeb7ZGwKbksb",
   "provenance": []
  },
  "kernelspec": {
   "display_name": "myenv",
   "language": "python",
   "name": "python3"
  },
  "language_info": {
   "codemirror_mode": {
    "name": "ipython",
    "version": 3
   },
   "file_extension": ".py",
   "mimetype": "text/x-python",
   "name": "python",
   "nbconvert_exporter": "python",
   "pygments_lexer": "ipython3",
   "version": "3.11.10"
  }
 },
 "nbformat": 4,
 "nbformat_minor": 0
}
