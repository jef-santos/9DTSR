{
 "cells": [
  {
   "cell_type": "markdown",
   "metadata": {},
   "source": [
    "# Aula 03: Reg Logística e Baive Bayes\n",
    "\n",
    "Integrantes:\n",
    "\n",
    "    1) RM357067 - Edinaldo Rodrigues de Oliveira Junior\n",
    "    2) RM358158 - Henrique Cardoso\n",
    "    3) RM358067 - Jefferson de Souza Santos\n",
    "    4) RM357344 - Walace Vinicius Silva dos Santos"
   ]
  },
  {
   "cell_type": "code",
   "execution_count": 1,
   "metadata": {},
   "outputs": [
    {
     "data": {
      "application/vnd.microsoft.datawrangler.viewer.v0+json": {
       "columns": [
        {
         "name": "index",
         "rawType": "int64",
         "type": "integer"
        },
        {
         "name": "Passengerid",
         "rawType": "int64",
         "type": "integer"
        },
        {
         "name": "Age",
         "rawType": "float64",
         "type": "float"
        },
        {
         "name": "Fare",
         "rawType": "float64",
         "type": "float"
        },
        {
         "name": "Sex",
         "rawType": "int64",
         "type": "integer"
        },
        {
         "name": "sibsp",
         "rawType": "int64",
         "type": "integer"
        },
        {
         "name": "zero",
         "rawType": "int64",
         "type": "integer"
        },
        {
         "name": "zero.1",
         "rawType": "int64",
         "type": "integer"
        },
        {
         "name": "zero.2",
         "rawType": "int64",
         "type": "integer"
        },
        {
         "name": "zero.3",
         "rawType": "int64",
         "type": "integer"
        },
        {
         "name": "zero.4",
         "rawType": "int64",
         "type": "integer"
        },
        {
         "name": "zero.5",
         "rawType": "int64",
         "type": "integer"
        },
        {
         "name": "zero.6",
         "rawType": "int64",
         "type": "integer"
        },
        {
         "name": "Parch",
         "rawType": "int64",
         "type": "integer"
        },
        {
         "name": "zero.7",
         "rawType": "int64",
         "type": "integer"
        },
        {
         "name": "zero.8",
         "rawType": "int64",
         "type": "integer"
        },
        {
         "name": "zero.9",
         "rawType": "int64",
         "type": "integer"
        },
        {
         "name": "zero.10",
         "rawType": "int64",
         "type": "integer"
        },
        {
         "name": "zero.11",
         "rawType": "int64",
         "type": "integer"
        },
        {
         "name": "zero.12",
         "rawType": "int64",
         "type": "integer"
        },
        {
         "name": "zero.13",
         "rawType": "int64",
         "type": "integer"
        },
        {
         "name": "zero.14",
         "rawType": "int64",
         "type": "integer"
        },
        {
         "name": "Pclass",
         "rawType": "int64",
         "type": "integer"
        },
        {
         "name": "zero.15",
         "rawType": "int64",
         "type": "integer"
        },
        {
         "name": "zero.16",
         "rawType": "int64",
         "type": "integer"
        },
        {
         "name": "Embarked",
         "rawType": "float64",
         "type": "float"
        },
        {
         "name": "zero.17",
         "rawType": "int64",
         "type": "integer"
        },
        {
         "name": "zero.18",
         "rawType": "int64",
         "type": "integer"
        },
        {
         "name": "2urvived",
         "rawType": "int64",
         "type": "integer"
        }
       ],
       "conversionMethod": "pd.DataFrame",
       "ref": "fcf1e88f-35ec-4fc6-9625-319a44eb0e5a",
       "rows": [
        [
         "0",
         "1",
         "22.0",
         "7.25",
         "0",
         "1",
         "0",
         "0",
         "0",
         "0",
         "0",
         "0",
         "0",
         "0",
         "0",
         "0",
         "0",
         "0",
         "0",
         "0",
         "0",
         "0",
         "3",
         "0",
         "0",
         "2.0",
         "0",
         "0",
         "0"
        ],
        [
         "1",
         "2",
         "38.0",
         "71.2833",
         "1",
         "1",
         "0",
         "0",
         "0",
         "0",
         "0",
         "0",
         "0",
         "0",
         "0",
         "0",
         "0",
         "0",
         "0",
         "0",
         "0",
         "0",
         "1",
         "0",
         "0",
         "0.0",
         "0",
         "0",
         "1"
        ],
        [
         "2",
         "3",
         "26.0",
         "7.925",
         "1",
         "0",
         "0",
         "0",
         "0",
         "0",
         "0",
         "0",
         "0",
         "0",
         "0",
         "0",
         "0",
         "0",
         "0",
         "0",
         "0",
         "0",
         "3",
         "0",
         "0",
         "2.0",
         "0",
         "0",
         "1"
        ],
        [
         "3",
         "4",
         "35.0",
         "53.1",
         "1",
         "1",
         "0",
         "0",
         "0",
         "0",
         "0",
         "0",
         "0",
         "0",
         "0",
         "0",
         "0",
         "0",
         "0",
         "0",
         "0",
         "0",
         "1",
         "0",
         "0",
         "2.0",
         "0",
         "0",
         "1"
        ],
        [
         "4",
         "5",
         "35.0",
         "8.05",
         "0",
         "0",
         "0",
         "0",
         "0",
         "0",
         "0",
         "0",
         "0",
         "0",
         "0",
         "0",
         "0",
         "0",
         "0",
         "0",
         "0",
         "0",
         "3",
         "0",
         "0",
         "2.0",
         "0",
         "0",
         "0"
        ]
       ],
       "shape": {
        "columns": 28,
        "rows": 5
       }
      },
      "text/html": [
       "<div>\n",
       "<style scoped>\n",
       "    .dataframe tbody tr th:only-of-type {\n",
       "        vertical-align: middle;\n",
       "    }\n",
       "\n",
       "    .dataframe tbody tr th {\n",
       "        vertical-align: top;\n",
       "    }\n",
       "\n",
       "    .dataframe thead th {\n",
       "        text-align: right;\n",
       "    }\n",
       "</style>\n",
       "<table border=\"1\" class=\"dataframe\">\n",
       "  <thead>\n",
       "    <tr style=\"text-align: right;\">\n",
       "      <th></th>\n",
       "      <th>Passengerid</th>\n",
       "      <th>Age</th>\n",
       "      <th>Fare</th>\n",
       "      <th>Sex</th>\n",
       "      <th>sibsp</th>\n",
       "      <th>zero</th>\n",
       "      <th>zero.1</th>\n",
       "      <th>zero.2</th>\n",
       "      <th>zero.3</th>\n",
       "      <th>zero.4</th>\n",
       "      <th>...</th>\n",
       "      <th>zero.12</th>\n",
       "      <th>zero.13</th>\n",
       "      <th>zero.14</th>\n",
       "      <th>Pclass</th>\n",
       "      <th>zero.15</th>\n",
       "      <th>zero.16</th>\n",
       "      <th>Embarked</th>\n",
       "      <th>zero.17</th>\n",
       "      <th>zero.18</th>\n",
       "      <th>2urvived</th>\n",
       "    </tr>\n",
       "  </thead>\n",
       "  <tbody>\n",
       "    <tr>\n",
       "      <th>0</th>\n",
       "      <td>1</td>\n",
       "      <td>22.0</td>\n",
       "      <td>7.2500</td>\n",
       "      <td>0</td>\n",
       "      <td>1</td>\n",
       "      <td>0</td>\n",
       "      <td>0</td>\n",
       "      <td>0</td>\n",
       "      <td>0</td>\n",
       "      <td>0</td>\n",
       "      <td>...</td>\n",
       "      <td>0</td>\n",
       "      <td>0</td>\n",
       "      <td>0</td>\n",
       "      <td>3</td>\n",
       "      <td>0</td>\n",
       "      <td>0</td>\n",
       "      <td>2.0</td>\n",
       "      <td>0</td>\n",
       "      <td>0</td>\n",
       "      <td>0</td>\n",
       "    </tr>\n",
       "    <tr>\n",
       "      <th>1</th>\n",
       "      <td>2</td>\n",
       "      <td>38.0</td>\n",
       "      <td>71.2833</td>\n",
       "      <td>1</td>\n",
       "      <td>1</td>\n",
       "      <td>0</td>\n",
       "      <td>0</td>\n",
       "      <td>0</td>\n",
       "      <td>0</td>\n",
       "      <td>0</td>\n",
       "      <td>...</td>\n",
       "      <td>0</td>\n",
       "      <td>0</td>\n",
       "      <td>0</td>\n",
       "      <td>1</td>\n",
       "      <td>0</td>\n",
       "      <td>0</td>\n",
       "      <td>0.0</td>\n",
       "      <td>0</td>\n",
       "      <td>0</td>\n",
       "      <td>1</td>\n",
       "    </tr>\n",
       "    <tr>\n",
       "      <th>2</th>\n",
       "      <td>3</td>\n",
       "      <td>26.0</td>\n",
       "      <td>7.9250</td>\n",
       "      <td>1</td>\n",
       "      <td>0</td>\n",
       "      <td>0</td>\n",
       "      <td>0</td>\n",
       "      <td>0</td>\n",
       "      <td>0</td>\n",
       "      <td>0</td>\n",
       "      <td>...</td>\n",
       "      <td>0</td>\n",
       "      <td>0</td>\n",
       "      <td>0</td>\n",
       "      <td>3</td>\n",
       "      <td>0</td>\n",
       "      <td>0</td>\n",
       "      <td>2.0</td>\n",
       "      <td>0</td>\n",
       "      <td>0</td>\n",
       "      <td>1</td>\n",
       "    </tr>\n",
       "    <tr>\n",
       "      <th>3</th>\n",
       "      <td>4</td>\n",
       "      <td>35.0</td>\n",
       "      <td>53.1000</td>\n",
       "      <td>1</td>\n",
       "      <td>1</td>\n",
       "      <td>0</td>\n",
       "      <td>0</td>\n",
       "      <td>0</td>\n",
       "      <td>0</td>\n",
       "      <td>0</td>\n",
       "      <td>...</td>\n",
       "      <td>0</td>\n",
       "      <td>0</td>\n",
       "      <td>0</td>\n",
       "      <td>1</td>\n",
       "      <td>0</td>\n",
       "      <td>0</td>\n",
       "      <td>2.0</td>\n",
       "      <td>0</td>\n",
       "      <td>0</td>\n",
       "      <td>1</td>\n",
       "    </tr>\n",
       "    <tr>\n",
       "      <th>4</th>\n",
       "      <td>5</td>\n",
       "      <td>35.0</td>\n",
       "      <td>8.0500</td>\n",
       "      <td>0</td>\n",
       "      <td>0</td>\n",
       "      <td>0</td>\n",
       "      <td>0</td>\n",
       "      <td>0</td>\n",
       "      <td>0</td>\n",
       "      <td>0</td>\n",
       "      <td>...</td>\n",
       "      <td>0</td>\n",
       "      <td>0</td>\n",
       "      <td>0</td>\n",
       "      <td>3</td>\n",
       "      <td>0</td>\n",
       "      <td>0</td>\n",
       "      <td>2.0</td>\n",
       "      <td>0</td>\n",
       "      <td>0</td>\n",
       "      <td>0</td>\n",
       "    </tr>\n",
       "  </tbody>\n",
       "</table>\n",
       "<p>5 rows × 28 columns</p>\n",
       "</div>"
      ],
      "text/plain": [
       "   Passengerid   Age     Fare  Sex  sibsp  zero  zero.1  zero.2  zero.3  \\\n",
       "0            1  22.0   7.2500    0      1     0       0       0       0   \n",
       "1            2  38.0  71.2833    1      1     0       0       0       0   \n",
       "2            3  26.0   7.9250    1      0     0       0       0       0   \n",
       "3            4  35.0  53.1000    1      1     0       0       0       0   \n",
       "4            5  35.0   8.0500    0      0     0       0       0       0   \n",
       "\n",
       "   zero.4  ...  zero.12  zero.13  zero.14  Pclass  zero.15  zero.16  Embarked  \\\n",
       "0       0  ...        0        0        0       3        0        0       2.0   \n",
       "1       0  ...        0        0        0       1        0        0       0.0   \n",
       "2       0  ...        0        0        0       3        0        0       2.0   \n",
       "3       0  ...        0        0        0       1        0        0       2.0   \n",
       "4       0  ...        0        0        0       3        0        0       2.0   \n",
       "\n",
       "   zero.17  zero.18  2urvived  \n",
       "0        0        0         0  \n",
       "1        0        0         1  \n",
       "2        0        0         1  \n",
       "3        0        0         1  \n",
       "4        0        0         0  \n",
       "\n",
       "[5 rows x 28 columns]"
      ]
     },
     "execution_count": 1,
     "metadata": {},
     "output_type": "execute_result"
    }
   ],
   "source": [
    "import pandas as pd\n",
    "df = pd.read_csv(\"/Users/jeffsantos/Desktop/9DTSR/git/9DTSR/Machine Learning/Trabalhinhos/Trabalho Aula 03/titanic.csv\")\n",
    "df.head()"
   ]
  },
  {
   "cell_type": "markdown",
   "metadata": {},
   "source": [
    "# Tratamento da base"
   ]
  },
  {
   "cell_type": "code",
   "execution_count": 2,
   "metadata": {},
   "outputs": [
    {
     "data": {
      "application/vnd.microsoft.datawrangler.viewer.v0+json": {
       "columns": [
        {
         "name": "index",
         "rawType": "int64",
         "type": "integer"
        },
        {
         "name": "Age",
         "rawType": "float64",
         "type": "float"
        },
        {
         "name": "Fare",
         "rawType": "float64",
         "type": "float"
        },
        {
         "name": "Sex",
         "rawType": "int64",
         "type": "integer"
        },
        {
         "name": "sibsp",
         "rawType": "int64",
         "type": "integer"
        },
        {
         "name": "Parch",
         "rawType": "int64",
         "type": "integer"
        },
        {
         "name": "Pclass",
         "rawType": "int64",
         "type": "integer"
        },
        {
         "name": "Embarked",
         "rawType": "float64",
         "type": "float"
        },
        {
         "name": "2urvived",
         "rawType": "int64",
         "type": "integer"
        }
       ],
       "conversionMethod": "pd.DataFrame",
       "ref": "7965abef-ad30-4461-85d0-ef1242736893",
       "rows": [
        [
         "0",
         "22.0",
         "7.25",
         "0",
         "1",
         "0",
         "3",
         "2.0",
         "0"
        ],
        [
         "1",
         "38.0",
         "71.2833",
         "1",
         "1",
         "0",
         "1",
         "0.0",
         "1"
        ],
        [
         "2",
         "26.0",
         "7.925",
         "1",
         "0",
         "0",
         "3",
         "2.0",
         "1"
        ],
        [
         "3",
         "35.0",
         "53.1",
         "1",
         "1",
         "0",
         "1",
         "2.0",
         "1"
        ],
        [
         "4",
         "35.0",
         "8.05",
         "0",
         "0",
         "0",
         "3",
         "2.0",
         "0"
        ],
        [
         "5",
         "28.0",
         "8.4583",
         "0",
         "0",
         "0",
         "3",
         "1.0",
         "0"
        ],
        [
         "6",
         "54.0",
         "51.8625",
         "0",
         "0",
         "0",
         "1",
         "2.0",
         "0"
        ],
        [
         "7",
         "2.0",
         "21.075",
         "0",
         "3",
         "1",
         "3",
         "2.0",
         "0"
        ],
        [
         "8",
         "27.0",
         "11.1333",
         "1",
         "0",
         "2",
         "3",
         "2.0",
         "1"
        ],
        [
         "9",
         "14.0",
         "30.0708",
         "1",
         "1",
         "0",
         "2",
         "0.0",
         "1"
        ],
        [
         "10",
         "4.0",
         "16.7",
         "1",
         "1",
         "1",
         "3",
         "2.0",
         "1"
        ],
        [
         "11",
         "58.0",
         "26.55",
         "1",
         "0",
         "0",
         "1",
         "2.0",
         "1"
        ],
        [
         "12",
         "20.0",
         "8.05",
         "0",
         "0",
         "0",
         "3",
         "2.0",
         "0"
        ],
        [
         "13",
         "39.0",
         "31.275",
         "0",
         "1",
         "5",
         "3",
         "2.0",
         "0"
        ],
        [
         "14",
         "14.0",
         "7.8542",
         "1",
         "0",
         "0",
         "3",
         "2.0",
         "0"
        ],
        [
         "15",
         "55.0",
         "16.0",
         "1",
         "0",
         "0",
         "2",
         "2.0",
         "1"
        ],
        [
         "16",
         "2.0",
         "29.125",
         "0",
         "4",
         "1",
         "3",
         "1.0",
         "0"
        ],
        [
         "17",
         "28.0",
         "13.0",
         "0",
         "0",
         "0",
         "2",
         "2.0",
         "1"
        ],
        [
         "18",
         "31.0",
         "18.0",
         "1",
         "1",
         "0",
         "3",
         "2.0",
         "0"
        ],
        [
         "19",
         "28.0",
         "7.225",
         "1",
         "0",
         "0",
         "3",
         "0.0",
         "1"
        ],
        [
         "20",
         "35.0",
         "26.0",
         "0",
         "0",
         "0",
         "2",
         "2.0",
         "0"
        ],
        [
         "21",
         "34.0",
         "13.0",
         "0",
         "0",
         "0",
         "2",
         "2.0",
         "1"
        ],
        [
         "22",
         "15.0",
         "8.0292",
         "1",
         "0",
         "0",
         "3",
         "1.0",
         "1"
        ],
        [
         "23",
         "28.0",
         "35.5",
         "0",
         "0",
         "0",
         "1",
         "2.0",
         "1"
        ],
        [
         "24",
         "8.0",
         "21.075",
         "1",
         "3",
         "1",
         "3",
         "2.0",
         "0"
        ],
        [
         "25",
         "38.0",
         "31.3875",
         "1",
         "1",
         "5",
         "3",
         "2.0",
         "1"
        ],
        [
         "26",
         "28.0",
         "7.225",
         "0",
         "0",
         "0",
         "3",
         "0.0",
         "0"
        ],
        [
         "27",
         "19.0",
         "263.0",
         "0",
         "3",
         "2",
         "1",
         "2.0",
         "0"
        ],
        [
         "28",
         "28.0",
         "7.8792",
         "1",
         "0",
         "0",
         "3",
         "1.0",
         "1"
        ],
        [
         "29",
         "28.0",
         "7.8958",
         "0",
         "0",
         "0",
         "3",
         "2.0",
         "0"
        ],
        [
         "30",
         "40.0",
         "27.7208",
         "0",
         "0",
         "0",
         "1",
         "0.0",
         "0"
        ],
        [
         "31",
         "28.0",
         "146.5208",
         "1",
         "1",
         "0",
         "1",
         "0.0",
         "1"
        ],
        [
         "32",
         "28.0",
         "7.75",
         "1",
         "0",
         "0",
         "3",
         "1.0",
         "1"
        ],
        [
         "33",
         "66.0",
         "10.5",
         "0",
         "0",
         "0",
         "2",
         "2.0",
         "0"
        ],
        [
         "34",
         "28.0",
         "82.1708",
         "0",
         "1",
         "0",
         "1",
         "0.0",
         "0"
        ],
        [
         "35",
         "42.0",
         "52.0",
         "0",
         "1",
         "0",
         "1",
         "2.0",
         "0"
        ],
        [
         "36",
         "28.0",
         "7.2292",
         "0",
         "0",
         "0",
         "3",
         "0.0",
         "1"
        ],
        [
         "37",
         "21.0",
         "8.05",
         "0",
         "0",
         "0",
         "3",
         "2.0",
         "0"
        ],
        [
         "38",
         "18.0",
         "18.0",
         "1",
         "2",
         "0",
         "3",
         "2.0",
         "0"
        ],
        [
         "39",
         "14.0",
         "11.2417",
         "1",
         "1",
         "0",
         "3",
         "0.0",
         "1"
        ],
        [
         "40",
         "40.0",
         "9.475",
         "1",
         "1",
         "0",
         "3",
         "2.0",
         "0"
        ],
        [
         "41",
         "27.0",
         "21.0",
         "1",
         "1",
         "0",
         "2",
         "2.0",
         "0"
        ],
        [
         "42",
         "28.0",
         "7.8958",
         "0",
         "0",
         "0",
         "3",
         "0.0",
         "0"
        ],
        [
         "43",
         "3.0",
         "41.5792",
         "1",
         "1",
         "2",
         "2",
         "0.0",
         "1"
        ],
        [
         "44",
         "19.0",
         "7.8792",
         "1",
         "0",
         "0",
         "3",
         "1.0",
         "1"
        ],
        [
         "45",
         "28.0",
         "8.05",
         "0",
         "0",
         "0",
         "3",
         "2.0",
         "0"
        ],
        [
         "46",
         "28.0",
         "15.5",
         "0",
         "1",
         "0",
         "3",
         "1.0",
         "0"
        ],
        [
         "47",
         "28.0",
         "7.75",
         "1",
         "0",
         "0",
         "3",
         "1.0",
         "1"
        ],
        [
         "48",
         "28.0",
         "21.6792",
         "0",
         "2",
         "0",
         "3",
         "0.0",
         "0"
        ],
        [
         "49",
         "18.0",
         "17.8",
         "1",
         "1",
         "0",
         "3",
         "2.0",
         "0"
        ]
       ],
       "shape": {
        "columns": 8,
        "rows": 1309
       }
      },
      "text/html": [
       "<div>\n",
       "<style scoped>\n",
       "    .dataframe tbody tr th:only-of-type {\n",
       "        vertical-align: middle;\n",
       "    }\n",
       "\n",
       "    .dataframe tbody tr th {\n",
       "        vertical-align: top;\n",
       "    }\n",
       "\n",
       "    .dataframe thead th {\n",
       "        text-align: right;\n",
       "    }\n",
       "</style>\n",
       "<table border=\"1\" class=\"dataframe\">\n",
       "  <thead>\n",
       "    <tr style=\"text-align: right;\">\n",
       "      <th></th>\n",
       "      <th>Age</th>\n",
       "      <th>Fare</th>\n",
       "      <th>Sex</th>\n",
       "      <th>sibsp</th>\n",
       "      <th>Parch</th>\n",
       "      <th>Pclass</th>\n",
       "      <th>Embarked</th>\n",
       "      <th>2urvived</th>\n",
       "    </tr>\n",
       "  </thead>\n",
       "  <tbody>\n",
       "    <tr>\n",
       "      <th>0</th>\n",
       "      <td>22.0</td>\n",
       "      <td>7.2500</td>\n",
       "      <td>0</td>\n",
       "      <td>1</td>\n",
       "      <td>0</td>\n",
       "      <td>3</td>\n",
       "      <td>2.0</td>\n",
       "      <td>0</td>\n",
       "    </tr>\n",
       "    <tr>\n",
       "      <th>1</th>\n",
       "      <td>38.0</td>\n",
       "      <td>71.2833</td>\n",
       "      <td>1</td>\n",
       "      <td>1</td>\n",
       "      <td>0</td>\n",
       "      <td>1</td>\n",
       "      <td>0.0</td>\n",
       "      <td>1</td>\n",
       "    </tr>\n",
       "    <tr>\n",
       "      <th>2</th>\n",
       "      <td>26.0</td>\n",
       "      <td>7.9250</td>\n",
       "      <td>1</td>\n",
       "      <td>0</td>\n",
       "      <td>0</td>\n",
       "      <td>3</td>\n",
       "      <td>2.0</td>\n",
       "      <td>1</td>\n",
       "    </tr>\n",
       "    <tr>\n",
       "      <th>3</th>\n",
       "      <td>35.0</td>\n",
       "      <td>53.1000</td>\n",
       "      <td>1</td>\n",
       "      <td>1</td>\n",
       "      <td>0</td>\n",
       "      <td>1</td>\n",
       "      <td>2.0</td>\n",
       "      <td>1</td>\n",
       "    </tr>\n",
       "    <tr>\n",
       "      <th>4</th>\n",
       "      <td>35.0</td>\n",
       "      <td>8.0500</td>\n",
       "      <td>0</td>\n",
       "      <td>0</td>\n",
       "      <td>0</td>\n",
       "      <td>3</td>\n",
       "      <td>2.0</td>\n",
       "      <td>0</td>\n",
       "    </tr>\n",
       "    <tr>\n",
       "      <th>...</th>\n",
       "      <td>...</td>\n",
       "      <td>...</td>\n",
       "      <td>...</td>\n",
       "      <td>...</td>\n",
       "      <td>...</td>\n",
       "      <td>...</td>\n",
       "      <td>...</td>\n",
       "      <td>...</td>\n",
       "    </tr>\n",
       "    <tr>\n",
       "      <th>1304</th>\n",
       "      <td>28.0</td>\n",
       "      <td>8.0500</td>\n",
       "      <td>0</td>\n",
       "      <td>0</td>\n",
       "      <td>0</td>\n",
       "      <td>3</td>\n",
       "      <td>2.0</td>\n",
       "      <td>0</td>\n",
       "    </tr>\n",
       "    <tr>\n",
       "      <th>1305</th>\n",
       "      <td>39.0</td>\n",
       "      <td>108.9000</td>\n",
       "      <td>1</td>\n",
       "      <td>0</td>\n",
       "      <td>0</td>\n",
       "      <td>1</td>\n",
       "      <td>0.0</td>\n",
       "      <td>0</td>\n",
       "    </tr>\n",
       "    <tr>\n",
       "      <th>1306</th>\n",
       "      <td>38.5</td>\n",
       "      <td>7.2500</td>\n",
       "      <td>0</td>\n",
       "      <td>0</td>\n",
       "      <td>0</td>\n",
       "      <td>3</td>\n",
       "      <td>2.0</td>\n",
       "      <td>0</td>\n",
       "    </tr>\n",
       "    <tr>\n",
       "      <th>1307</th>\n",
       "      <td>28.0</td>\n",
       "      <td>8.0500</td>\n",
       "      <td>0</td>\n",
       "      <td>0</td>\n",
       "      <td>0</td>\n",
       "      <td>3</td>\n",
       "      <td>2.0</td>\n",
       "      <td>0</td>\n",
       "    </tr>\n",
       "    <tr>\n",
       "      <th>1308</th>\n",
       "      <td>28.0</td>\n",
       "      <td>22.3583</td>\n",
       "      <td>0</td>\n",
       "      <td>1</td>\n",
       "      <td>1</td>\n",
       "      <td>3</td>\n",
       "      <td>0.0</td>\n",
       "      <td>0</td>\n",
       "    </tr>\n",
       "  </tbody>\n",
       "</table>\n",
       "<p>1309 rows × 8 columns</p>\n",
       "</div>"
      ],
      "text/plain": [
       "       Age      Fare  Sex  sibsp  Parch  Pclass  Embarked  2urvived\n",
       "0     22.0    7.2500    0      1      0       3       2.0         0\n",
       "1     38.0   71.2833    1      1      0       1       0.0         1\n",
       "2     26.0    7.9250    1      0      0       3       2.0         1\n",
       "3     35.0   53.1000    1      1      0       1       2.0         1\n",
       "4     35.0    8.0500    0      0      0       3       2.0         0\n",
       "...    ...       ...  ...    ...    ...     ...       ...       ...\n",
       "1304  28.0    8.0500    0      0      0       3       2.0         0\n",
       "1305  39.0  108.9000    1      0      0       1       0.0         0\n",
       "1306  38.5    7.2500    0      0      0       3       2.0         0\n",
       "1307  28.0    8.0500    0      0      0       3       2.0         0\n",
       "1308  28.0   22.3583    0      1      1       3       0.0         0\n",
       "\n",
       "[1309 rows x 8 columns]"
      ]
     },
     "execution_count": 2,
     "metadata": {},
     "output_type": "execute_result"
    }
   ],
   "source": [
    "df = df[['Age', 'Fare', 'Sex', 'sibsp', 'Parch', 'Pclass', 'Embarked', '2urvived']].copy()\n",
    "df"
   ]
  },
  {
   "cell_type": "code",
   "execution_count": 3,
   "metadata": {},
   "outputs": [
    {
     "data": {
      "application/vnd.microsoft.datawrangler.viewer.v0+json": {
       "columns": [
        {
         "name": "index",
         "rawType": "int64",
         "type": "integer"
        },
        {
         "name": "Age",
         "rawType": "float64",
         "type": "float"
        },
        {
         "name": "Fare",
         "rawType": "float64",
         "type": "float"
        },
        {
         "name": "Sex",
         "rawType": "float64",
         "type": "float"
        },
        {
         "name": "sibsp",
         "rawType": "float64",
         "type": "float"
        },
        {
         "name": "Parch",
         "rawType": "float64",
         "type": "float"
        },
        {
         "name": "Pclass",
         "rawType": "float64",
         "type": "float"
        },
        {
         "name": "Embarked",
         "rawType": "float64",
         "type": "float"
        },
        {
         "name": "2urvived",
         "rawType": "float64",
         "type": "float"
        }
       ],
       "conversionMethod": "pd.DataFrame",
       "ref": "2fa8c80a-df9b-40b2-a030-8d43f26288a8",
       "rows": [
        [
         "0",
         "0.2734560942001754",
         "0.014151057562208049",
         "0.0",
         "0.125",
         "0.0",
         "1.0",
         "1.0",
         "0.0"
        ],
        [
         "1",
         "0.4738819992484029",
         "0.13913573538264068",
         "1.0",
         "0.125",
         "0.0",
         "0.0",
         "0.0",
         "1.0"
        ],
        [
         "2",
         "0.32356257046223225",
         "0.015468569817999833",
         "1.0",
         "0.0",
         "0.0",
         "1.0",
         "1.0",
         "1.0"
        ],
        [
         "3",
         "0.43630214205186024",
         "0.10364429745562033",
         "1.0",
         "0.125",
         "0.0",
         "0.0",
         "1.0",
         "1.0"
        ],
        [
         "4",
         "0.43630214205186024",
         "0.015712553569072387",
         "0.0",
         "0.0",
         "0.0",
         "1.0",
         "1.0",
         "0.0"
        ]
       ],
       "shape": {
        "columns": 8,
        "rows": 5
       }
      },
      "text/html": [
       "<div>\n",
       "<style scoped>\n",
       "    .dataframe tbody tr th:only-of-type {\n",
       "        vertical-align: middle;\n",
       "    }\n",
       "\n",
       "    .dataframe tbody tr th {\n",
       "        vertical-align: top;\n",
       "    }\n",
       "\n",
       "    .dataframe thead th {\n",
       "        text-align: right;\n",
       "    }\n",
       "</style>\n",
       "<table border=\"1\" class=\"dataframe\">\n",
       "  <thead>\n",
       "    <tr style=\"text-align: right;\">\n",
       "      <th></th>\n",
       "      <th>Age</th>\n",
       "      <th>Fare</th>\n",
       "      <th>Sex</th>\n",
       "      <th>sibsp</th>\n",
       "      <th>Parch</th>\n",
       "      <th>Pclass</th>\n",
       "      <th>Embarked</th>\n",
       "      <th>2urvived</th>\n",
       "    </tr>\n",
       "  </thead>\n",
       "  <tbody>\n",
       "    <tr>\n",
       "      <th>0</th>\n",
       "      <td>0.273456</td>\n",
       "      <td>0.014151</td>\n",
       "      <td>0.0</td>\n",
       "      <td>0.125</td>\n",
       "      <td>0.0</td>\n",
       "      <td>1.0</td>\n",
       "      <td>1.0</td>\n",
       "      <td>0.0</td>\n",
       "    </tr>\n",
       "    <tr>\n",
       "      <th>1</th>\n",
       "      <td>0.473882</td>\n",
       "      <td>0.139136</td>\n",
       "      <td>1.0</td>\n",
       "      <td>0.125</td>\n",
       "      <td>0.0</td>\n",
       "      <td>0.0</td>\n",
       "      <td>0.0</td>\n",
       "      <td>1.0</td>\n",
       "    </tr>\n",
       "    <tr>\n",
       "      <th>2</th>\n",
       "      <td>0.323563</td>\n",
       "      <td>0.015469</td>\n",
       "      <td>1.0</td>\n",
       "      <td>0.000</td>\n",
       "      <td>0.0</td>\n",
       "      <td>1.0</td>\n",
       "      <td>1.0</td>\n",
       "      <td>1.0</td>\n",
       "    </tr>\n",
       "    <tr>\n",
       "      <th>3</th>\n",
       "      <td>0.436302</td>\n",
       "      <td>0.103644</td>\n",
       "      <td>1.0</td>\n",
       "      <td>0.125</td>\n",
       "      <td>0.0</td>\n",
       "      <td>0.0</td>\n",
       "      <td>1.0</td>\n",
       "      <td>1.0</td>\n",
       "    </tr>\n",
       "    <tr>\n",
       "      <th>4</th>\n",
       "      <td>0.436302</td>\n",
       "      <td>0.015713</td>\n",
       "      <td>0.0</td>\n",
       "      <td>0.000</td>\n",
       "      <td>0.0</td>\n",
       "      <td>1.0</td>\n",
       "      <td>1.0</td>\n",
       "      <td>0.0</td>\n",
       "    </tr>\n",
       "  </tbody>\n",
       "</table>\n",
       "</div>"
      ],
      "text/plain": [
       "        Age      Fare  Sex  sibsp  Parch  Pclass  Embarked  2urvived\n",
       "0  0.273456  0.014151  0.0  0.125    0.0     1.0       1.0       0.0\n",
       "1  0.473882  0.139136  1.0  0.125    0.0     0.0       0.0       1.0\n",
       "2  0.323563  0.015469  1.0  0.000    0.0     1.0       1.0       1.0\n",
       "3  0.436302  0.103644  1.0  0.125    0.0     0.0       1.0       1.0\n",
       "4  0.436302  0.015713  0.0  0.000    0.0     1.0       1.0       0.0"
      ]
     },
     "execution_count": 3,
     "metadata": {},
     "output_type": "execute_result"
    }
   ],
   "source": [
    "from sklearn.preprocessing import MinMaxScaler\n",
    "scaler = MinMaxScaler()\n",
    "df_escalado = scaler.fit_transform(df)\n",
    "df_escalado = pd.DataFrame(df_escalado, columns=df.columns)\n",
    "df_escalado.fillna(df_escalado.mean(), inplace=True)\n",
    "df_escalado.head()"
   ]
  },
  {
   "cell_type": "code",
   "execution_count": 4,
   "metadata": {},
   "outputs": [
    {
     "data": {
      "application/vnd.microsoft.datawrangler.viewer.v0+json": {
       "columns": [
        {
         "name": "index",
         "rawType": "int64",
         "type": "integer"
        },
        {
         "name": "Age",
         "rawType": "float64",
         "type": "float"
        },
        {
         "name": "Fare",
         "rawType": "float64",
         "type": "float"
        },
        {
         "name": "Sex",
         "rawType": "float64",
         "type": "float"
        },
        {
         "name": "sibsp",
         "rawType": "float64",
         "type": "float"
        },
        {
         "name": "Parch",
         "rawType": "float64",
         "type": "float"
        },
        {
         "name": "Pclass",
         "rawType": "float64",
         "type": "float"
        },
        {
         "name": "Embarked",
         "rawType": "float64",
         "type": "float"
        }
       ],
       "conversionMethod": "pd.DataFrame",
       "ref": "cbf2a37b-d78d-46df-91d3-383490aae39c",
       "rows": [
        [
         "1021",
         "0.3987222848553176",
         "0.015712553569072387",
         "0.0",
         "0.0",
         "0.0",
         "1.0",
         "1.0"
        ],
        [
         "1195",
         "0.3486158085932607",
         "0.015126992566498259",
         "1.0",
         "0.0",
         "0.0",
         "1.0",
         "0.5"
        ],
        [
         "867",
         "0.38619566578980336",
         "0.09856123757927521",
         "0.0",
         "0.0",
         "0.0",
         "0.0",
         "1.0"
        ]
       ],
       "shape": {
        "columns": 7,
        "rows": 3
       }
      },
      "text/html": [
       "<div>\n",
       "<style scoped>\n",
       "    .dataframe tbody tr th:only-of-type {\n",
       "        vertical-align: middle;\n",
       "    }\n",
       "\n",
       "    .dataframe tbody tr th {\n",
       "        vertical-align: top;\n",
       "    }\n",
       "\n",
       "    .dataframe thead th {\n",
       "        text-align: right;\n",
       "    }\n",
       "</style>\n",
       "<table border=\"1\" class=\"dataframe\">\n",
       "  <thead>\n",
       "    <tr style=\"text-align: right;\">\n",
       "      <th></th>\n",
       "      <th>Age</th>\n",
       "      <th>Fare</th>\n",
       "      <th>Sex</th>\n",
       "      <th>sibsp</th>\n",
       "      <th>Parch</th>\n",
       "      <th>Pclass</th>\n",
       "      <th>Embarked</th>\n",
       "    </tr>\n",
       "  </thead>\n",
       "  <tbody>\n",
       "    <tr>\n",
       "      <th>1021</th>\n",
       "      <td>0.398722</td>\n",
       "      <td>0.015713</td>\n",
       "      <td>0.0</td>\n",
       "      <td>0.0</td>\n",
       "      <td>0.0</td>\n",
       "      <td>1.0</td>\n",
       "      <td>1.0</td>\n",
       "    </tr>\n",
       "    <tr>\n",
       "      <th>1195</th>\n",
       "      <td>0.348616</td>\n",
       "      <td>0.015127</td>\n",
       "      <td>1.0</td>\n",
       "      <td>0.0</td>\n",
       "      <td>0.0</td>\n",
       "      <td>1.0</td>\n",
       "      <td>0.5</td>\n",
       "    </tr>\n",
       "    <tr>\n",
       "      <th>867</th>\n",
       "      <td>0.386196</td>\n",
       "      <td>0.098561</td>\n",
       "      <td>0.0</td>\n",
       "      <td>0.0</td>\n",
       "      <td>0.0</td>\n",
       "      <td>0.0</td>\n",
       "      <td>1.0</td>\n",
       "    </tr>\n",
       "  </tbody>\n",
       "</table>\n",
       "</div>"
      ],
      "text/plain": [
       "           Age      Fare  Sex  sibsp  Parch  Pclass  Embarked\n",
       "1021  0.398722  0.015713  0.0    0.0    0.0     1.0       1.0\n",
       "1195  0.348616  0.015127  1.0    0.0    0.0     1.0       0.5\n",
       "867   0.386196  0.098561  0.0    0.0    0.0     0.0       1.0"
      ]
     },
     "execution_count": 4,
     "metadata": {},
     "output_type": "execute_result"
    }
   ],
   "source": [
    "alvo = '2urvived'\n",
    "variaveis = ['Age', 'Fare', 'Sex', 'sibsp', 'Parch', 'Pclass', 'Embarked']\n",
    "\n",
    "from sklearn.model_selection import train_test_split\n",
    "X_train, X_test, y_train, y_test = train_test_split(df_escalado[variaveis], df_escalado[alvo] ,test_size=0.2)\n",
    "\n",
    "X_train.head(3)"
   ]
  },
  {
   "cell_type": "markdown",
   "metadata": {},
   "source": [
    "# Regressão Logística"
   ]
  },
  {
   "cell_type": "code",
   "execution_count": 5,
   "metadata": {},
   "outputs": [
    {
     "name": "stdout",
     "output_type": "stream",
     "text": [
      "acc_treino: 0.7984718242597899\n",
      "acc_teste: 0.7480916030534351\n"
     ]
    }
   ],
   "source": [
    "import sklearn.linear_model as skl_lm\n",
    "from sklearn.metrics import accuracy_score\n",
    "\n",
    "rlog = skl_lm.LogisticRegression()\n",
    "rlog.fit(X_train,y_train)\n",
    "\n",
    "acc_train = rlog.score(X_train, y_train)\n",
    "print(\"acc_treino:\", acc_train)\n",
    "\n",
    "preds = rlog.predict(X_test)\n",
    "\n",
    "acc_teste = accuracy_score(y_test, preds)\n",
    "print(\"acc_teste:\", acc_teste)"
   ]
  },
  {
   "cell_type": "code",
   "execution_count": 6,
   "metadata": {},
   "outputs": [
    {
     "name": "stdout",
     "output_type": "stream",
     "text": [
      "              precision    recall  f1-score   support\n",
      "\n",
      "         0.0       0.77      0.93      0.84       188\n",
      "         1.0       0.61      0.30      0.40        74\n",
      "\n",
      "    accuracy                           0.75       262\n",
      "   macro avg       0.69      0.61      0.62       262\n",
      "weighted avg       0.73      0.75      0.72       262\n",
      "\n",
      "[[174  14]\n",
      " [ 52  22]]\n"
     ]
    },
    {
     "data": {
      "text/plain": [
       "<Axes: >"
      ]
     },
     "execution_count": 6,
     "metadata": {},
     "output_type": "execute_result"
    },
    {
     "data": {
      "image/png": "[encoded data removed]",
      "text/plain": [
       "<Figure size 640x480 with 2 Axes>"
      ]
     },
     "metadata": {},
     "output_type": "display_data"
    }
   ],
   "source": [
    "from sklearn.metrics import confusion_matrix\n",
    "import seaborn as sns\n",
    "from sklearn.metrics import classification_report\n",
    "\n",
    "print(classification_report(y_test, preds))\n",
    "cm = confusion_matrix(y_test,preds)\n",
    "print(cm)\n",
    "sns.heatmap(cm, annot=True, fmt=\"d\")"
   ]
  },
  {
   "cell_type": "markdown",
   "metadata": {},
   "source": [
    "# Naive Bayes"
   ]
  },
  {
   "cell_type": "code",
   "execution_count": 7,
   "metadata": {},
   "outputs": [
    {
     "name": "stdout",
     "output_type": "stream",
     "text": [
      "acc_treino: 0.7984718242597899\n",
      "acc_teste: 0.7480916030534351\n"
     ]
    }
   ],
   "source": [
    "from sklearn.naive_bayes import MultinomialNB\n",
    "nb = MultinomialNB()\n",
    "\n",
    "nb.fit(X_train, y_train)\n",
    "acc_train = rlog.score(X_train, y_train)\n",
    "print(\"acc_treino:\", acc_train)\n",
    "\n",
    "preds = rlog.predict(X_test)\n",
    "\n",
    "acc_teste = accuracy_score(y_test, preds)\n",
    "print(\"acc_teste:\", acc_teste)\n"
   ]
  },
  {
   "cell_type": "code",
   "execution_count": 8,
   "metadata": {},
   "outputs": [
    {
     "name": "stdout",
     "output_type": "stream",
     "text": [
      "              precision    recall  f1-score   support\n",
      "\n",
      "         0.0       0.77      0.93      0.84       188\n",
      "         1.0       0.61      0.30      0.40        74\n",
      "\n",
      "    accuracy                           0.75       262\n",
      "   macro avg       0.69      0.61      0.62       262\n",
      "weighted avg       0.73      0.75      0.72       262\n",
      "\n",
      "[[174  14]\n",
      " [ 52  22]]\n"
     ]
    },
    {
     "data": {
      "text/plain": [
       "<Axes: >"
      ]
     },
     "execution_count": 8,
     "metadata": {},
     "output_type": "execute_result"
    },
    {
     "data": {
      "image/png": "[encoded data removed]",
      "text/plain": [
       "<Figure size 640x480 with 2 Axes>"
      ]
     },
     "metadata": {},
     "output_type": "display_data"
    }
   ],
   "source": [
    "from sklearn.metrics import confusion_matrix\n",
    "import seaborn as sns\n",
    "from sklearn.metrics import classification_report\n",
    "\n",
    "print(classification_report(y_test, preds))\n",
    "cm = confusion_matrix(y_test,preds)\n",
    "print(cm)\n",
    "sns.heatmap(cm, annot=True, fmt=\"d\")"
   ]
  },
  {
   "cell_type": "markdown",
   "metadata": {},
   "source": [
    "# Conclusão\n",
    "\n",
    "- Ambos os resultados foram iguais, buscando entender o motivo descobrimos que isso pode acontecer pois ambos os algoritmos trabalham com probabilidade e como os dados foram normalizados no início do exercício é totalmente aceitável os algoritimos terem o mesmo resultado.\n",
    "- Ambos os modelos tiveram 78% de acurácia, ou seja, acertaram 78% das previsões.\n",
    "- A classe 0 (passageiros que morreram) foi bem prevista, com precisão de 81% e recall de 93%.\n",
    "- A classe 1 (passageiros que sobreviveram) teve um desempenho ruim, com precisão de 63% e recall de apenas 33%. Isso significa que o modelo tem dificuldade em prever corretamente os sobreviventes.\n",
    "- O f1-score da classe 1 é 0.44, indicando que o modelo não consegue equilibrar bem precisão e recall para essa classe."
   ]
  },
  {
   "cell_type": "markdown",
   "metadata": {},
   "source": []
  }
 ],
 "metadata": {
  "kernelspec": {
   "display_name": "myenv",
   "language": "python",
   "name": "python3"
  },
  "language_info": {
   "codemirror_mode": {
    "name": "ipython",
    "version": 3
   },
   "file_extension": ".py",
   "mimetype": "text/x-python",
   "name": "python",
   "nbconvert_exporter": "python",
   "pygments_lexer": "ipython3",
   "version": "3.11.10"
  }
 },
 "nbformat": 4,
 "nbformat_minor": 2
}
