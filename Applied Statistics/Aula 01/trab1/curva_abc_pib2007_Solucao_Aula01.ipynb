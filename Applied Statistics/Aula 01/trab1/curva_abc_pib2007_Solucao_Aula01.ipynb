{
 "cells": [
  {
   "cell_type": "markdown",
   "id": "726cfd22",
   "metadata": {},
   "source": [
    "## APPLIED STATISTICS\n",
    "\n",
    "### Turma 9DTSR\n",
    "\n",
    "### Curva de Concentração\n",
    "\n",
    "### Segmentação ABC"
   ]
  },
  {
   "cell_type": "code",
   "execution_count": null,
   "id": "54403d9f",
   "metadata": {},
   "outputs": [],
   "source": [
    "import pandas as pd\n",
    "import matplotlib.pyplot as plt\n",
    "import seaborn as sns\n",
    "import numpy as np"
   ]
  },
  {
   "cell_type": "code",
   "execution_count": null,
   "id": "23c7acdc",
   "metadata": {},
   "outputs": [],
   "source": [
    "# formatar o número de casas decimais\n",
    "pd.set_option('display.float_format','{:.2f}'.format)"
   ]
  },
  {
   "cell_type": "code",
   "execution_count": null,
   "id": "ceb10cb1",
   "metadata": {},
   "outputs": [],
   "source": [
    "# Importar a base de dados\n",
    "df = pd.read_excel('PIB2007.xlsx')"
   ]
  },
  {
   "cell_type": "code",
   "execution_count": null,
   "id": "aaea288a",
   "metadata": {},
   "outputs": [],
   "source": [
    "# verificar os tipos de variáveis\n",
    "df.info()"
   ]
  },
  {
   "cell_type": "code",
   "execution_count": null,
   "id": "5a2b6905",
   "metadata": {},
   "outputs": [],
   "source": [
    "# visualizar os dados\n",
    "df.head()"
   ]
  },
  {
   "cell_type": "code",
   "execution_count": null,
   "id": "d88dd283",
   "metadata": {},
   "outputs": [],
   "source": [
    "# segmentação ABC\n",
    "def ABC_segmentation(perc):\n",
    "    '''\n",
    "    Creates the 3 classes A, B, and C based \n",
    "    on quantity percentages (A-60%, B-25%, C-15%)\n",
    "    '''\n",
    "    if perc > 0 and perc < 0.6:\n",
    "        return 'A'\n",
    "    elif perc >= 0.6 and perc < 0.85:\n",
    "        return 'B'\n",
    "    elif perc >= 0.85:\n",
    "        return 'C'"
   ]
  },
  {
   "cell_type": "code",
   "execution_count": null,
   "id": "f4adf1a3",
   "metadata": {},
   "outputs": [],
   "source": [
    "# ordenar o PIB do maior para o menor\n",
    "df = df.sort_values(by=['pib'], ascending=False)"
   ]
  },
  {
   "cell_type": "code",
   "execution_count": null,
   "id": "d61bdcc9",
   "metadata": {},
   "outputs": [],
   "source": [
    "# visualizar os dados\n",
    "df.head()"
   ]
  },
  {
   "cell_type": "code",
   "execution_count": null,
   "id": "4fc25954",
   "metadata": {},
   "outputs": [],
   "source": [
    "# criar a soma acumulada do PIB\n",
    "df['pib_ac'] = df['pib'].cumsum()"
   ]
  },
  {
   "cell_type": "code",
   "execution_count": null,
   "id": "40262625",
   "metadata": {},
   "outputs": [],
   "source": [
    "# visualizar os dados\n",
    "df.head()"
   ]
  },
  {
   "cell_type": "code",
   "execution_count": null,
   "id": "65169042",
   "metadata": {},
   "outputs": [],
   "source": [
    "# calcular a soma total do PIB\n",
    "df['pibtotal'] = df['pib'].sum()"
   ]
  },
  {
   "cell_type": "code",
   "execution_count": null,
   "id": "ce938f03",
   "metadata": {},
   "outputs": [],
   "source": [
    "# visualizar os dados\n",
    "df.head()"
   ]
  },
  {
   "cell_type": "code",
   "execution_count": null,
   "id": "8c13c48b",
   "metadata": {},
   "outputs": [],
   "source": [
    "# calcular o percentual do PIB acumulado\n",
    "df['perc_pib'] =  df['pib_ac']/df['pibtotal']"
   ]
  },
  {
   "cell_type": "code",
   "execution_count": null,
   "id": "122a2cf5",
   "metadata": {},
   "outputs": [],
   "source": [
    "# visualizar os dados\n",
    "df.head()"
   ]
  },
  {
   "cell_type": "code",
   "execution_count": null,
   "id": "58a6fde6",
   "metadata": {},
   "outputs": [],
   "source": [
    "# criar um contador \n",
    "df['id'] = range(0,len(df.index.values))"
   ]
  },
  {
   "cell_type": "code",
   "execution_count": null,
   "id": "afc605ba",
   "metadata": {},
   "outputs": [],
   "source": [
    "df['cidade'] = df['id'] +1"
   ]
  },
  {
   "cell_type": "code",
   "execution_count": null,
   "id": "a6a919bd",
   "metadata": {},
   "outputs": [],
   "source": [
    "# calcular o percentual acumulado das cidades\n",
    "df['cidade_perc'] = df['cidade']/df['nome_uf'].count()*100"
   ]
  },
  {
   "cell_type": "code",
   "execution_count": null,
   "id": "928347a9",
   "metadata": {},
   "outputs": [],
   "source": [
    "# visualizar os dados\n",
    "df.head(200)"
   ]
  },
  {
   "cell_type": "code",
   "execution_count": null,
   "id": "222e73b6",
   "metadata": {},
   "outputs": [],
   "source": [
    "# criar a segmentação ABC\n",
    "df['Classe'] = df['perc_pib'].apply(ABC_segmentation)"
   ]
  },
  {
   "cell_type": "code",
   "execution_count": null,
   "id": "0a277739",
   "metadata": {},
   "outputs": [],
   "source": [
    "# visualizar os dados\n",
    "df.head()"
   ]
  },
  {
   "cell_type": "code",
   "execution_count": null,
   "id": "8a6daa94",
   "metadata": {},
   "outputs": [],
   "source": [
    "# tabela de frequência da segmentação\n",
    "Classe =pd.pivot_table(df, index='Classe', values='nome_uf', aggfunc=np.count_nonzero)"
   ]
  },
  {
   "cell_type": "code",
   "execution_count": null,
   "id": "ed1f9b6b",
   "metadata": {},
   "outputs": [],
   "source": [
    "# tabela de frequência relativa da segmentação\n",
    "Classe['%'] = (pd.pivot_table(df, index='Classe', values='nome_uf', aggfunc=np.count_nonzero))/df['nome_uf'].count()*100"
   ]
  },
  {
   "cell_type": "code",
   "execution_count": null,
   "id": "abaea08a",
   "metadata": {},
   "outputs": [],
   "source": [
    "# tabela de frequência relativa da segmentação\n",
    "Classe"
   ]
  },
  {
   "cell_type": "code",
   "execution_count": null,
   "id": "bc5b611e",
   "metadata": {},
   "outputs": [],
   "source": [
    "# visualizar os dados\n",
    "df.head()"
   ]
  },
  {
   "cell_type": "code",
   "execution_count": null,
   "id": "865c6652",
   "metadata": {},
   "outputs": [],
   "source": [
    "# exportar os dados\n",
    "df.to_excel('pib2007_curva.xlsx', index = False)"
   ]
  },
  {
   "cell_type": "code",
   "execution_count": null,
   "id": "dce04b39",
   "metadata": {},
   "outputs": [],
   "source": [
    "# exporar o arquivo no formato Excel\n",
    "df.to_excel('pib2007_curva.xlsx', index = False)"
   ]
  },
  {
   "cell_type": "code",
   "execution_count": null,
   "id": "7374bcf9",
   "metadata": {},
   "outputs": [],
   "source": [
    "# Gráfico da curva de concentração\n",
    "performance = df['perc_pib'].tolist()\n",
    "y_pos = np.arange(len(performance))\n",
    "\n",
    "plt.plot(y_pos, performance)\n",
    "plt.ylabel('%')\n",
    "plt.title('ABC Analysis - PIB acumulado')\n",
    "plt.grid(True)\n",
    "plt.show()"
   ]
  },
  {
   "cell_type": "code",
   "execution_count": null,
   "id": "5a1a490e",
   "metadata": {},
   "outputs": [],
   "source": []
  },
  {
   "cell_type": "code",
   "execution_count": null,
   "id": "11aa5ace",
   "metadata": {},
   "outputs": [],
   "source": []
  },
  {
   "cell_type": "code",
   "execution_count": null,
   "id": "2012ff38",
   "metadata": {},
   "outputs": [],
   "source": []
  }
 ],
 "metadata": {
  "kernelspec": {
   "display_name": "Python 3 (ipykernel)",
   "language": "python",
   "name": "python3"
  },
  "language_info": {
   "codemirror_mode": {
    "name": "ipython",
    "version": 3
   },
   "file_extension": ".py",
   "mimetype": "text/x-python",
   "name": "python",
   "nbconvert_exporter": "python",
   "pygments_lexer": "ipython3",
   "version": "3.9.7"
  }
 },
 "nbformat": 4,
 "nbformat_minor": 5
}
