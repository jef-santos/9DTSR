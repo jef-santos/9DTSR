{
 "cells": [
  {
   "cell_type": "markdown",
   "id": "f45d6d77",
   "metadata": {},
   "source": [
    "## APPLIED STATISTICS\n",
    "\n",
    "### Turma 9DTSR\n",
    "\n",
    "\n",
    "## Trabalho prático usando o Python\n",
    "\n",
    "## Habilidades desenvolvidas: Detecção de outliers.\n",
    "\n"
   ]
  },
  {
   "cell_type": "code",
   "execution_count": null,
   "id": "2f09cbef",
   "metadata": {},
   "outputs": [],
   "source": []
  },
  {
   "cell_type": "markdown",
   "id": "12e3d6b3",
   "metadata": {},
   "source": [
    "### Instalar as bibliotecas pandas, numpy, matplotlib e seaborn"
   ]
  },
  {
   "cell_type": "code",
   "execution_count": 1,
   "id": "ff04f9d5",
   "metadata": {},
   "outputs": [],
   "source": [
    "# Importar as bibliotecas\n",
    "import numpy as np\n",
    "import pandas as pd\n",
    "import matplotlib.pyplot as plt\n",
    "import seaborn as sns"
   ]
  },
  {
   "cell_type": "code",
   "execution_count": 2,
   "id": "46fadccc",
   "metadata": {},
   "outputs": [],
   "source": [
    "# Importar a base de dados\n",
    "cadastro = pd.read_csv('cadastro.csv')"
   ]
  },
  {
   "cell_type": "code",
   "execution_count": 3,
   "id": "2886d714",
   "metadata": {},
   "outputs": [
    {
     "data": {
      "text/html": [
       "<div>\n",
       "<style scoped>\n",
       "    .dataframe tbody tr th:only-of-type {\n",
       "        vertical-align: middle;\n",
       "    }\n",
       "\n",
       "    .dataframe tbody tr th {\n",
       "        vertical-align: top;\n",
       "    }\n",
       "\n",
       "    .dataframe thead th {\n",
       "        text-align: right;\n",
       "    }\n",
       "</style>\n",
       "<table border=\"1\" class=\"dataframe\">\n",
       "  <thead>\n",
       "    <tr style=\"text-align: right;\">\n",
       "      <th></th>\n",
       "      <th>Unnamed: 0</th>\n",
       "      <th>NUM_CPF</th>\n",
       "      <th>CHAVE_CONTRATO</th>\n",
       "      <th>DATA_NASCIMENTO</th>\n",
       "      <th>RENDA_PRESUMIDA</th>\n",
       "      <th>CEP</th>\n",
       "      <th>LOGRADOURO</th>\n",
       "      <th>NUMERO</th>\n",
       "      <th>COMPLEMENTO</th>\n",
       "      <th>CEP_A</th>\n",
       "      <th>...</th>\n",
       "      <th>NUM_AGENCIA</th>\n",
       "      <th>NUM_CONTA</th>\n",
       "      <th>MARCA_VEICULO</th>\n",
       "      <th>MODELO_VEICULO</th>\n",
       "      <th>PLACA_VEICULO</th>\n",
       "      <th>CNPJ_CREDOR</th>\n",
       "      <th>VALOR_DIVIDA</th>\n",
       "      <th>STATUS_CONSENTIMENTO</th>\n",
       "      <th>DATA_INCLUSAO1</th>\n",
       "      <th>IDADE</th>\n",
       "    </tr>\n",
       "  </thead>\n",
       "  <tbody>\n",
       "    <tr>\n",
       "      <th>0</th>\n",
       "      <td>1</td>\n",
       "      <td>40977545806</td>\n",
       "      <td>1</td>\n",
       "      <td>25/09/1996</td>\n",
       "      <td>1890000.00</td>\n",
       "      <td>2471020</td>\n",
       "      <td>R AUGUSTO VIANA DE CASTELO</td>\n",
       "      <td>26.0</td>\n",
       "      <td>NaN</td>\n",
       "      <td>2471020</td>\n",
       "      <td>...</td>\n",
       "      <td>NaN</td>\n",
       "      <td>NaN</td>\n",
       "      <td>NaN</td>\n",
       "      <td>NaN</td>\n",
       "      <td>NaN</td>\n",
       "      <td>3.774819e+12</td>\n",
       "      <td>220</td>\n",
       "      <td>1</td>\n",
       "      <td>2/26/2019 11:28:49</td>\n",
       "      <td>23.0</td>\n",
       "    </tr>\n",
       "    <tr>\n",
       "      <th>1</th>\n",
       "      <td>2</td>\n",
       "      <td>72544350725</td>\n",
       "      <td>2</td>\n",
       "      <td>10/03/1961</td>\n",
       "      <td>1333890.24</td>\n",
       "      <td>1319001</td>\n",
       "      <td>R MARIA PAULA</td>\n",
       "      <td>201.0</td>\n",
       "      <td>AP 52</td>\n",
       "      <td>1319001</td>\n",
       "      <td>...</td>\n",
       "      <td>6571.0</td>\n",
       "      <td>15044.0</td>\n",
       "      <td>FERRARI</td>\n",
       "      <td>355 SPIDER</td>\n",
       "      <td>AFZ6118</td>\n",
       "      <td>4.043254e+13</td>\n",
       "      <td>850</td>\n",
       "      <td>1</td>\n",
       "      <td>2/7/2001 0:00:00</td>\n",
       "      <td>40.0</td>\n",
       "    </tr>\n",
       "    <tr>\n",
       "      <th>2</th>\n",
       "      <td>3</td>\n",
       "      <td>10536099812</td>\n",
       "      <td>3</td>\n",
       "      <td>28/11/1965</td>\n",
       "      <td>22000.00</td>\n",
       "      <td>4323120</td>\n",
       "      <td>R DAS JOIAS</td>\n",
       "      <td>202.0</td>\n",
       "      <td>VL DO</td>\n",
       "      <td>4323120</td>\n",
       "      <td>...</td>\n",
       "      <td>7006.0</td>\n",
       "      <td>52946.0</td>\n",
       "      <td>NaN</td>\n",
       "      <td>NaN</td>\n",
       "      <td>NaN</td>\n",
       "      <td>6.169523e+13</td>\n",
       "      <td>142</td>\n",
       "      <td>1</td>\n",
       "      <td>8/23/2018 6:42:12</td>\n",
       "      <td>53.0</td>\n",
       "    </tr>\n",
       "    <tr>\n",
       "      <th>3</th>\n",
       "      <td>4</td>\n",
       "      <td>1471742873</td>\n",
       "      <td>4</td>\n",
       "      <td>02/05/1959</td>\n",
       "      <td>16000.00</td>\n",
       "      <td>4136030</td>\n",
       "      <td>R GUARAREMA</td>\n",
       "      <td>430.0</td>\n",
       "      <td>NaN</td>\n",
       "      <td>4136030</td>\n",
       "      <td>...</td>\n",
       "      <td>1850.0</td>\n",
       "      <td>1103486.0</td>\n",
       "      <td>NaN</td>\n",
       "      <td>NaN</td>\n",
       "      <td>NaN</td>\n",
       "      <td>NaN</td>\n",
       "      <td>0</td>\n",
       "      <td>1</td>\n",
       "      <td>NaN</td>\n",
       "      <td>NaN</td>\n",
       "    </tr>\n",
       "    <tr>\n",
       "      <th>4</th>\n",
       "      <td>5</td>\n",
       "      <td>954396332</td>\n",
       "      <td>5</td>\n",
       "      <td>10/11/1984</td>\n",
       "      <td>15929.00</td>\n",
       "      <td>8452105</td>\n",
       "      <td>R JOAO DE SIQUEIRA AFONSO</td>\n",
       "      <td>709.0</td>\n",
       "      <td>CAS</td>\n",
       "      <td>8452105</td>\n",
       "      <td>...</td>\n",
       "      <td>123.0</td>\n",
       "      <td>580882.0</td>\n",
       "      <td>NaN</td>\n",
       "      <td>NaN</td>\n",
       "      <td>NaN</td>\n",
       "      <td>3.510965e+13</td>\n",
       "      <td>400</td>\n",
       "      <td>1</td>\n",
       "      <td>11/24/2010 10:30:45</td>\n",
       "      <td>26.0</td>\n",
       "    </tr>\n",
       "  </tbody>\n",
       "</table>\n",
       "<p>5 rows × 30 columns</p>\n",
       "</div>"
      ],
      "text/plain": [
       "   Unnamed: 0      NUM_CPF  CHAVE_CONTRATO DATA_NASCIMENTO  RENDA_PRESUMIDA  \\\n",
       "0           1  40977545806               1      25/09/1996       1890000.00   \n",
       "1           2  72544350725               2      10/03/1961       1333890.24   \n",
       "2           3  10536099812               3      28/11/1965         22000.00   \n",
       "3           4   1471742873               4      02/05/1959         16000.00   \n",
       "4           5    954396332               5      10/11/1984         15929.00   \n",
       "\n",
       "       CEP                  LOGRADOURO  NUMERO COMPLEMENTO    CEP_A  ...  \\\n",
       "0  2471020  R AUGUSTO VIANA DE CASTELO    26.0         NaN  2471020  ...   \n",
       "1  1319001               R MARIA PAULA   201.0       AP 52  1319001  ...   \n",
       "2  4323120                 R DAS JOIAS   202.0       VL DO  4323120  ...   \n",
       "3  4136030                 R GUARAREMA   430.0         NaN  4136030  ...   \n",
       "4  8452105   R JOAO DE SIQUEIRA AFONSO   709.0         CAS  8452105  ...   \n",
       "\n",
       "  NUM_AGENCIA  NUM_CONTA MARCA_VEICULO  MODELO_VEICULO  PLACA_VEICULO  \\\n",
       "0         NaN        NaN           NaN             NaN            NaN   \n",
       "1      6571.0    15044.0       FERRARI      355 SPIDER        AFZ6118   \n",
       "2      7006.0    52946.0           NaN             NaN            NaN   \n",
       "3      1850.0  1103486.0           NaN             NaN            NaN   \n",
       "4       123.0   580882.0           NaN             NaN            NaN   \n",
       "\n",
       "    CNPJ_CREDOR  VALOR_DIVIDA  STATUS_CONSENTIMENTO       DATA_INCLUSAO1  \\\n",
       "0  3.774819e+12           220                     1   2/26/2019 11:28:49   \n",
       "1  4.043254e+13           850                     1     2/7/2001 0:00:00   \n",
       "2  6.169523e+13           142                     1    8/23/2018 6:42:12   \n",
       "3           NaN             0                     1                  NaN   \n",
       "4  3.510965e+13           400                     1  11/24/2010 10:30:45   \n",
       "\n",
       "   IDADE  \n",
       "0   23.0  \n",
       "1   40.0  \n",
       "2   53.0  \n",
       "3    NaN  \n",
       "4   26.0  \n",
       "\n",
       "[5 rows x 30 columns]"
      ]
     },
     "execution_count": 3,
     "metadata": {},
     "output_type": "execute_result"
    }
   ],
   "source": [
    "# Visualizar os dados\n",
    "cadastro.head()"
   ]
  },
  {
   "cell_type": "code",
   "execution_count": 4,
   "id": "af8ddb1a",
   "metadata": {},
   "outputs": [
    {
     "name": "stdout",
     "output_type": "stream",
     "text": [
      "<class 'pandas.core.frame.DataFrame'>\n",
      "RangeIndex: 426 entries, 0 to 425\n",
      "Data columns (total 30 columns):\n",
      " #   Column                Non-Null Count  Dtype  \n",
      "---  ------                --------------  -----  \n",
      " 0   Unnamed: 0            426 non-null    int64  \n",
      " 1   NUM_CPF               426 non-null    int64  \n",
      " 2   CHAVE_CONTRATO        426 non-null    int64  \n",
      " 3   DATA_NASCIMENTO       426 non-null    object \n",
      " 4   RENDA_PRESUMIDA       426 non-null    float64\n",
      " 5   CEP                   426 non-null    int64  \n",
      " 6   LOGRADOURO            426 non-null    object \n",
      " 7   NUMERO                425 non-null    float64\n",
      " 8   COMPLEMENTO           206 non-null    object \n",
      " 9   CEP_A                 426 non-null    int64  \n",
      " 10  BAIRRO                390 non-null    object \n",
      " 11  CIDADE                426 non-null    object \n",
      " 12  UF                    426 non-null    object \n",
      " 13  LATITUDE              389 non-null    float64\n",
      " 14  LONGITUDE             389 non-null    float64\n",
      " 15  DDD_CELULAR           275 non-null    float64\n",
      " 16  CELULAR               275 non-null    float64\n",
      " 17  DDD_CELULAR_2         170 non-null    float64\n",
      " 18  CELULAR_2             170 non-null    float64\n",
      " 19  COD_BANCO             308 non-null    float64\n",
      " 20  NUM_AGENCIA           308 non-null    float64\n",
      " 21  NUM_CONTA             308 non-null    float64\n",
      " 22  MARCA_VEICULO         2 non-null      object \n",
      " 23  MODELO_VEICULO        2 non-null      object \n",
      " 24  PLACA_VEICULO         2 non-null      object \n",
      " 25  CNPJ_CREDOR           421 non-null    float64\n",
      " 26  VALOR_DIVIDA          426 non-null    int64  \n",
      " 27  STATUS_CONSENTIMENTO  426 non-null    int64  \n",
      " 28  DATA_INCLUSAO1        421 non-null    object \n",
      " 29  IDADE                 421 non-null    float64\n",
      "dtypes: float64(13), int64(7), object(10)\n",
      "memory usage: 100.0+ KB\n"
     ]
    }
   ],
   "source": [
    "# Tipos de variáveis\n",
    "cadastro.info()"
   ]
  },
  {
   "attachments": {
    "boxplot1-2.png": {
     "image/png": "[encoded data removed]"
    }
   },
   "cell_type": "markdown",
   "id": "a89f57c9",
   "metadata": {},
   "source": [
    "## Análise de detecção de outliers usando o Box Plot\n",
    "\n",
    "\n",
    "![boxplot1-2.png](attachment:boxplot1-2.png)"
   ]
  },
  {
   "cell_type": "code",
   "execution_count": null,
   "id": "f67d003b",
   "metadata": {},
   "outputs": [],
   "source": []
  },
  {
   "attachments": {
    "quartis.png": {
     "image/png": "[encoded data removed]"
    }
   },
   "cell_type": "markdown",
   "id": "d07bee64",
   "metadata": {},
   "source": [
    "## Medidas de posição\n",
    "\n",
    "![quartis.png](attachment:quartis.png)"
   ]
  },
  {
   "cell_type": "code",
   "execution_count": 5,
   "id": "a0f1d8bf",
   "metadata": {},
   "outputs": [
    {
     "data": {
      "text/plain": [
       "Text(0.5, 1.0, 'Histograma da renda presumida')"
      ]
     },
     "execution_count": 5,
     "metadata": {},
     "output_type": "execute_result"
    },
    {
     "data": {
      "image/png": "[encoded data removed]",
      "text/plain": [
       "<Figure size 640x480 with 1 Axes>"
      ]
     },
     "metadata": {},
     "output_type": "display_data"
    }
   ],
   "source": [
    "# Histograma da variável Renda presumida\n",
    "plt.hist(cadastro['RENDA_PRESUMIDA'], bins=5)\n",
    "plt.ylabel('Frequência')\n",
    "plt.xlabel('Renda presumida')\n",
    "plt.title('Histograma da renda presumida')"
   ]
  },
  {
   "cell_type": "code",
   "execution_count": 6,
   "id": "f3352347",
   "metadata": {},
   "outputs": [
    {
     "data": {
      "text/plain": [
       "<Axes: ylabel='RENDA_PRESUMIDA'>"
      ]
     },
     "execution_count": 6,
     "metadata": {},
     "output_type": "execute_result"
    },
    {
     "data": {
      "image/png": "[encoded data removed]",
      "text/plain": [
       "<Figure size 640x480 with 1 Axes>"
      ]
     },
     "metadata": {},
     "output_type": "display_data"
    }
   ],
   "source": [
    "# Box Plot\n",
    "sns.boxplot(y=\"RENDA_PRESUMIDA\", data=cadastro)"
   ]
  },
  {
   "cell_type": "markdown",
   "id": "0ab3fb2a",
   "metadata": {},
   "source": [
    "## Cálculo dos limites que definem outliers e pontos extremos do Box Plot"
   ]
  },
  {
   "cell_type": "markdown",
   "id": "8b10616b",
   "metadata": {},
   "source": [
    "### Variável de análise: RENDA_PRESUMIDA"
   ]
  },
  {
   "cell_type": "code",
   "execution_count": 7,
   "id": "afc09ff7",
   "metadata": {},
   "outputs": [
    {
     "name": "stdout",
     "output_type": "stream",
     "text": [
      "Minimo =  0.0\n"
     ]
    }
   ],
   "source": [
    "# Cálculo do mínimo\n",
    "print('Minimo = ', min(cadastro['RENDA_PRESUMIDA']))"
   ]
  },
  {
   "cell_type": "code",
   "execution_count": 8,
   "id": "3d63dafb",
   "metadata": {},
   "outputs": [
    {
     "name": "stdout",
     "output_type": "stream",
     "text": [
      "Maximo =  1890000.0\n"
     ]
    }
   ],
   "source": [
    "# Cálculo do máximo\n",
    "print('Maximo = ', max(cadastro['RENDA_PRESUMIDA']))"
   ]
  },
  {
   "cell_type": "code",
   "execution_count": 9,
   "id": "fd48450b",
   "metadata": {},
   "outputs": [
    {
     "name": "stdout",
     "output_type": "stream",
     "text": [
      "2068.5\n",
      "Quartil1 (Q1) =  2068.5\n"
     ]
    }
   ],
   "source": [
    "# Cálculo do quartil 1\n",
    "Q1 = np.percentile(cadastro['RENDA_PRESUMIDA'], 25)\n",
    "print(Q1)\n",
    "print('Quartil1 (Q1) = ', np.percentile(cadastro['RENDA_PRESUMIDA'], 25))"
   ]
  },
  {
   "cell_type": "code",
   "execution_count": 10,
   "id": "4c9e16a3",
   "metadata": {},
   "outputs": [
    {
     "name": "stdout",
     "output_type": "stream",
     "text": [
      "2431.58\n",
      "Quartil2 (Q2) =  2431.58\n"
     ]
    }
   ],
   "source": [
    "# Cálculo do quartil 2\n",
    "Q2=np.percentile(cadastro['RENDA_PRESUMIDA'], 50)\n",
    "print(Q2)\n",
    "print('Quartil2 (Q2) = ', np.percentile(cadastro['RENDA_PRESUMIDA'], 50))"
   ]
  },
  {
   "cell_type": "code",
   "execution_count": 11,
   "id": "594e593c",
   "metadata": {},
   "outputs": [
    {
     "name": "stdout",
     "output_type": "stream",
     "text": [
      "2923.545\n",
      "Quartil3 (Q3) =  2923.545\n"
     ]
    }
   ],
   "source": [
    "# Cálculo do quartil 3\n",
    "Q3=np.percentile(cadastro['RENDA_PRESUMIDA'], 75)\n",
    "print(Q3)\n",
    "print('Quartil3 (Q3) = ', np.percentile(cadastro['RENDA_PRESUMIDA'], 75))"
   ]
  },
  {
   "cell_type": "code",
   "execution_count": 12,
   "id": "0757240a",
   "metadata": {},
   "outputs": [
    {
     "name": "stdout",
     "output_type": "stream",
     "text": [
      "855.0450000000001\n",
      "Inter-quartil (IQ) = 855.0450000000001\n"
     ]
    }
   ],
   "source": [
    "# Cálculo do interquartil (IQ)\n",
    "IQ = np.percentile(cadastro['RENDA_PRESUMIDA'], 75) - np.percentile(cadastro['RENDA_PRESUMIDA'], 25)\n",
    "print(IQ)\n",
    "print('Inter-quartil (IQ) =', np.percentile(cadastro['RENDA_PRESUMIDA'], 75) - np.percentile(cadastro['RENDA_PRESUMIDA'], 25))"
   ]
  },
  {
   "cell_type": "code",
   "execution_count": 13,
   "id": "a80bb8e2",
   "metadata": {},
   "outputs": [
    {
     "name": "stdout",
     "output_type": "stream",
     "text": [
      "5488.68\n"
     ]
    }
   ],
   "source": [
    "# Limite 1\n",
    "limite1 = Q3+3*IQ\n",
    "print(limite1)"
   ]
  },
  {
   "cell_type": "code",
   "execution_count": 14,
   "id": "601379e9",
   "metadata": {},
   "outputs": [
    {
     "name": "stdout",
     "output_type": "stream",
     "text": [
      "4206.1125\n"
     ]
    }
   ],
   "source": [
    "#Limite 2\n",
    "limite2 = Q3+1.5*IQ\n",
    "print(limite2)"
   ]
  },
  {
   "cell_type": "code",
   "execution_count": 15,
   "id": "30182c1c",
   "metadata": {},
   "outputs": [
    {
     "name": "stdout",
     "output_type": "stream",
     "text": [
      "785.9324999999999\n"
     ]
    }
   ],
   "source": [
    "#Limite 3\n",
    "limite3=Q1-1.5*IQ\n",
    "print(limite3)"
   ]
  },
  {
   "cell_type": "code",
   "execution_count": 16,
   "id": "5016412d",
   "metadata": {},
   "outputs": [
    {
     "name": "stdout",
     "output_type": "stream",
     "text": [
      "-496.6350000000002\n"
     ]
    }
   ],
   "source": [
    "#Limite 4\n",
    "limite4 = Q1-3*IQ\n",
    "print(limite4)"
   ]
  },
  {
   "cell_type": "code",
   "execution_count": 22,
   "id": "7062198a",
   "metadata": {},
   "outputs": [],
   "source": [
    "# Criar uma variável outlier_renda no Data Frame, sendo 0 = não outlier, 1= outlier e 2 = ponto extremo \n",
    "cadastro.loc[(cadastro.RENDA_PRESUMIDA >= limite2) & (cadastro.RENDA_PRESUMIDA <= limite1), 'outlier_renda']=1\n",
    "cadastro.loc[(cadastro.RENDA_PRESUMIDA > limite1) | (cadastro.RENDA_PRESUMIDA < limite4) , 'outlier_renda']=2\n",
    "cadastro.loc[(cadastro.RENDA_PRESUMIDA >= limite4) & (cadastro.RENDA_PRESUMIDA <= limite3) , 'outlier_renda']=1\n",
    "cadastro.loc[(cadastro.RENDA_PRESUMIDA > limite3) & (cadastro.RENDA_PRESUMIDA < limite2), 'outlier_renda']=0"
   ]
  },
  {
   "cell_type": "code",
   "execution_count": 23,
   "id": "93856442",
   "metadata": {},
   "outputs": [
    {
     "name": "stdout",
     "output_type": "stream",
     "text": [
      "<class 'pandas.core.frame.DataFrame'>\n",
      "RangeIndex: 426 entries, 0 to 425\n",
      "Data columns (total 31 columns):\n",
      " #   Column                Non-Null Count  Dtype  \n",
      "---  ------                --------------  -----  \n",
      " 0   Unnamed: 0            426 non-null    int64  \n",
      " 1   NUM_CPF               426 non-null    int64  \n",
      " 2   CHAVE_CONTRATO        426 non-null    int64  \n",
      " 3   DATA_NASCIMENTO       426 non-null    object \n",
      " 4   RENDA_PRESUMIDA       426 non-null    float64\n",
      " 5   CEP                   426 non-null    int64  \n",
      " 6   LOGRADOURO            426 non-null    object \n",
      " 7   NUMERO                425 non-null    float64\n",
      " 8   COMPLEMENTO           206 non-null    object \n",
      " 9   CEP_A                 426 non-null    int64  \n",
      " 10  BAIRRO                390 non-null    object \n",
      " 11  CIDADE                426 non-null    object \n",
      " 12  UF                    426 non-null    object \n",
      " 13  LATITUDE              389 non-null    float64\n",
      " 14  LONGITUDE             389 non-null    float64\n",
      " 15  DDD_CELULAR           275 non-null    float64\n",
      " 16  CELULAR               275 non-null    float64\n",
      " 17  DDD_CELULAR_2         170 non-null    float64\n",
      " 18  CELULAR_2             170 non-null    float64\n",
      " 19  COD_BANCO             308 non-null    float64\n",
      " 20  NUM_AGENCIA           308 non-null    float64\n",
      " 21  NUM_CONTA             308 non-null    float64\n",
      " 22  MARCA_VEICULO         2 non-null      object \n",
      " 23  MODELO_VEICULO        2 non-null      object \n",
      " 24  PLACA_VEICULO         2 non-null      object \n",
      " 25  CNPJ_CREDOR           421 non-null    float64\n",
      " 26  VALOR_DIVIDA          426 non-null    int64  \n",
      " 27  STATUS_CONSENTIMENTO  426 non-null    int64  \n",
      " 28  DATA_INCLUSAO1        421 non-null    object \n",
      " 29  IDADE                 421 non-null    float64\n",
      " 30  outlier_renda         426 non-null    float64\n",
      "dtypes: float64(14), int64(7), object(10)\n",
      "memory usage: 103.3+ KB\n"
     ]
    }
   ],
   "source": [
    "# Informações das variáveis da base de dados\n",
    "cadastro.info()"
   ]
  },
  {
   "cell_type": "code",
   "execution_count": 24,
   "id": "e0310475",
   "metadata": {},
   "outputs": [],
   "source": [
    "# Tabela de frequência da variável outlier_renda\n",
    "\n",
    "freq_outlier_renda = pd.pivot_table(cadastro,index='outlier_renda', values='NUM_CPF', aggfunc=np.count_nonzero)\n",
    "freq_outlier_renda['%'] = ((pd.pivot_table(cadastro,index='outlier_renda', values='NUM_CPF', aggfunc=np.count_nonzero)/cadastro['NUM_CPF'].count())*100).round(2)"
   ]
  },
  {
   "cell_type": "code",
   "execution_count": 25,
   "id": "270b2a86",
   "metadata": {},
   "outputs": [
    {
     "name": "stdout",
     "output_type": "stream",
     "text": [
      "               NUM_CPF      %\n",
      "outlier_renda                \n",
      "0.0                368  86.38\n",
      "1.0                 38   8.92\n",
      "2.0                 20   4.69\n"
     ]
    }
   ],
   "source": [
    "# Tabela de frequência da variável outlier_renda\n",
    "print(freq_outlier_renda)"
   ]
  },
  {
   "cell_type": "code",
   "execution_count": 26,
   "id": "7f0d08db",
   "metadata": {},
   "outputs": [
    {
     "name": "stdout",
     "output_type": "stream",
     "text": [
      "Mínimo =  1825.32\n",
      "Máximo =  4200.0\n",
      "Média =  2489.861630434783\n",
      "STD =  517.4251707755459\n",
      "Coeficiente de Variação =  0.20781282158446387\n",
      "Mediana =  2400.0\n"
     ]
    }
   ],
   "source": [
    "################################################\n",
    "########### REMOVER OS OUTLIERS ############\n",
    "################################################\n",
    "\n",
    "# Removendo os Outliers\n",
    "cadastroSemOutlier = cadastro.loc[cadastro.outlier_renda == 0.0]\n",
    "\n",
    "print('Mínimo = ', min(cadastroSemOutlier['RENDA_PRESUMIDA']))\n",
    "\n",
    "print('Máximo = ', max(cadastroSemOutlier['RENDA_PRESUMIDA']))\n",
    "\n",
    "print('Média = ', (cadastroSemOutlier['RENDA_PRESUMIDA']).mean())\n",
    "\n",
    "print('STD = ', cadastroSemOutlier['RENDA_PRESUMIDA'].std())\n",
    "\n",
    "print('Coeficiente de Variação = ', (cadastroSemOutlier['RENDA_PRESUMIDA'].std() / cadastroSemOutlier['RENDA_PRESUMIDA'].mean()))\n",
    "\n",
    "print('Mediana = ', (cadastroSemOutlier['RENDA_PRESUMIDA']).median())\n"
   ]
  },
  {
   "cell_type": "code",
   "execution_count": 30,
   "id": "7e03d9c6",
   "metadata": {},
   "outputs": [],
   "source": [
    "# formatar o número de casas decimais\n",
    "pd.set_option('display.float_format','{:.2f}'.format)"
   ]
  },
  {
   "cell_type": "code",
   "execution_count": 31,
   "id": "928586bd",
   "metadata": {},
   "outputs": [
    {
     "data": {
      "text/plain": [
       "count       426.00\n",
       "mean      10387.81\n",
       "std      111783.91\n",
       "min           0.00\n",
       "25%        2068.50\n",
       "50%        2431.58\n",
       "75%        2923.55\n",
       "max     1890000.00\n",
       "Name: RENDA_PRESUMIDA, dtype: float64"
      ]
     },
     "execution_count": 31,
     "metadata": {},
     "output_type": "execute_result"
    }
   ],
   "source": [
    "cadastro['RENDA_PRESUMIDA'].describe()"
   ]
  },
  {
   "cell_type": "code",
   "execution_count": 32,
   "id": "f6ee383d",
   "metadata": {},
   "outputs": [
    {
     "data": {
      "text/plain": [
       "count    368.00\n",
       "mean    2489.86\n",
       "std      517.43\n",
       "min     1825.32\n",
       "25%     2072.00\n",
       "50%     2400.00\n",
       "75%     2748.51\n",
       "max     4200.00\n",
       "Name: RENDA_PRESUMIDA, dtype: float64"
      ]
     },
     "execution_count": 32,
     "metadata": {},
     "output_type": "execute_result"
    }
   ],
   "source": [
    "cadastroSemOutlier['RENDA_PRESUMIDA'].describe()"
   ]
  },
  {
   "cell_type": "code",
   "execution_count": null,
   "id": "db68c44b",
   "metadata": {},
   "outputs": [],
   "source": []
  }
 ],
 "metadata": {
  "kernelspec": {
   "display_name": "myenv",
   "language": "python",
   "name": "python3"
  },
  "language_info": {
   "codemirror_mode": {
    "name": "ipython",
    "version": 3
   },
   "file_extension": ".py",
   "mimetype": "text/x-python",
   "name": "python",
   "nbconvert_exporter": "python",
   "pygments_lexer": "ipython3",
   "version": "3.11.10"
  }
 },
 "nbformat": 4,
 "nbformat_minor": 5
}
