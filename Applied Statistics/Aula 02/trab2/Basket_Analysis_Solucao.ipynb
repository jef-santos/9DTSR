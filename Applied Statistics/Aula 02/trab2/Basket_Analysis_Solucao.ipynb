{
 "cells": [
  {
   "cell_type": "markdown",
   "metadata": {},
   "source": [
    "## Applied Statistics\n",
    "\n",
    "### Turma 9DTSR\n",
    "\n",
    "### Basket Analysis - Algoritmo Apyori"
   ]
  },
  {
   "cell_type": "code",
   "execution_count": 1,
   "metadata": {},
   "outputs": [
    {
     "name": "stdout",
     "output_type": "stream",
     "text": [
      "Collecting apyori\n",
      "  Downloading apyori-1.1.2.tar.gz (8.6 kB)\n",
      "  Preparing metadata (setup.py) ... \u001b[?25ldone\n",
      "\u001b[?25hBuilding wheels for collected packages: apyori\n",
      "  Building wheel for apyori (setup.py) ... \u001b[?25ldone\n",
      "\u001b[?25h  Created wheel for apyori: filename=apyori-1.1.2-py3-none-any.whl size=5954 sha256=d6732b021a053ff9cef5443c6f92824b68f68d6bffa3d1ea448d460eac62fce2\n",
      "  Stored in directory: /Users/jeffsantos/Library/Caches/pip/wheels/77/3d/a6/d317a6fb32be58a602b1e8c6b5d6f31f79322da554cad2a5ea\n",
      "Successfully built apyori\n",
      "Installing collected packages: apyori\n",
      "Successfully installed apyori-1.1.2\n"
     ]
    }
   ],
   "source": [
    "# instalar a biblioteca\n",
    "!pip install apyori"
   ]
  },
  {
   "cell_type": "code",
   "execution_count": 2,
   "metadata": {},
   "outputs": [],
   "source": [
    "import pandas as pd"
   ]
  },
  {
   "cell_type": "code",
   "execution_count": 3,
   "metadata": {},
   "outputs": [],
   "source": [
    "from apyori import apriori"
   ]
  },
  {
   "cell_type": "code",
   "execution_count": 4,
   "metadata": {},
   "outputs": [],
   "source": [
    "# importar a base de dados\n",
    "df = pd.read_csv('groceries_data.csv', header = None)"
   ]
  },
  {
   "cell_type": "code",
   "execution_count": 5,
   "metadata": {},
   "outputs": [
    {
     "data": {
      "text/html": [
       "<div>\n",
       "<style scoped>\n",
       "    .dataframe tbody tr th:only-of-type {\n",
       "        vertical-align: middle;\n",
       "    }\n",
       "\n",
       "    .dataframe tbody tr th {\n",
       "        vertical-align: top;\n",
       "    }\n",
       "\n",
       "    .dataframe thead th {\n",
       "        text-align: right;\n",
       "    }\n",
       "</style>\n",
       "<table border=\"1\" class=\"dataframe\">\n",
       "  <thead>\n",
       "    <tr style=\"text-align: right;\">\n",
       "      <th></th>\n",
       "      <th>0</th>\n",
       "      <th>1</th>\n",
       "      <th>2</th>\n",
       "      <th>3</th>\n",
       "    </tr>\n",
       "  </thead>\n",
       "  <tbody>\n",
       "    <tr>\n",
       "      <th>0</th>\n",
       "      <td>leite</td>\n",
       "      <td>cerveja</td>\n",
       "      <td>pao</td>\n",
       "      <td>manteiga</td>\n",
       "    </tr>\n",
       "    <tr>\n",
       "      <th>1</th>\n",
       "      <td>cafe</td>\n",
       "      <td>pao</td>\n",
       "      <td>manteiga</td>\n",
       "      <td>NaN</td>\n",
       "    </tr>\n",
       "    <tr>\n",
       "      <th>2</th>\n",
       "      <td>cafe</td>\n",
       "      <td>pao</td>\n",
       "      <td>manteiga</td>\n",
       "      <td>NaN</td>\n",
       "    </tr>\n",
       "    <tr>\n",
       "      <th>3</th>\n",
       "      <td>leite</td>\n",
       "      <td>cafe</td>\n",
       "      <td>pao</td>\n",
       "      <td>manteiga</td>\n",
       "    </tr>\n",
       "    <tr>\n",
       "      <th>4</th>\n",
       "      <td>cerveja</td>\n",
       "      <td>NaN</td>\n",
       "      <td>NaN</td>\n",
       "      <td>NaN</td>\n",
       "    </tr>\n",
       "  </tbody>\n",
       "</table>\n",
       "</div>"
      ],
      "text/plain": [
       "         0        1         2         3\n",
       "0    leite  cerveja       pao  manteiga\n",
       "1     cafe      pao  manteiga       NaN\n",
       "2     cafe      pao  manteiga       NaN\n",
       "3    leite     cafe       pao  manteiga\n",
       "4  cerveja      NaN       NaN       NaN"
      ]
     },
     "execution_count": 5,
     "metadata": {},
     "output_type": "execute_result"
    }
   ],
   "source": [
    "# visualização dos dados\n",
    "df.head()"
   ]
  },
  {
   "cell_type": "code",
   "execution_count": 6,
   "metadata": {},
   "outputs": [
    {
     "name": "stdout",
     "output_type": "stream",
     "text": [
      "<class 'pandas.core.frame.DataFrame'>\n",
      "RangeIndex: 10 entries, 0 to 9\n",
      "Data columns (total 4 columns):\n",
      " #   Column  Non-Null Count  Dtype \n",
      "---  ------  --------------  ----- \n",
      " 0   0       10 non-null     object\n",
      " 1   1       5 non-null      object\n",
      " 2   2       4 non-null      object\n",
      " 3   3       2 non-null      object\n",
      "dtypes: object(4)\n",
      "memory usage: 452.0+ bytes\n"
     ]
    }
   ],
   "source": [
    "# verificar os tipos de variáveis\n",
    "df.info()"
   ]
  },
  {
   "cell_type": "code",
   "execution_count": 7,
   "metadata": {},
   "outputs": [],
   "source": [
    "# transformar a base de dados no formato transacional\n",
    "transacoes = []\n",
    "for i in range(0, 10):\n",
    "    transacoes.append([str(df.values[i, j]) for j in range(0, 4)])"
   ]
  },
  {
   "cell_type": "code",
   "execution_count": 12,
   "metadata": {},
   "outputs": [
    {
     "data": {
      "text/plain": [
       "[['leite', 'cerveja', 'pao', 'manteiga'],\n",
       " ['cafe', 'pao', 'manteiga', 'nan'],\n",
       " ['cafe', 'pao', 'manteiga', 'nan'],\n",
       " ['leite', 'cafe', 'pao', 'manteiga'],\n",
       " ['cerveja', 'nan', 'nan', 'nan'],\n",
       " ['manteiga', 'nan', 'nan', 'nan'],\n",
       " ['pao', 'nan', 'nan', 'nan'],\n",
       " ['feijao', 'nan', 'nan', 'nan'],\n",
       " ['arroz', 'feijao', 'nan', 'nan'],\n",
       " ['arroz', 'nan', 'nan', 'nan']]"
      ]
     },
     "execution_count": 12,
     "metadata": {},
     "output_type": "execute_result"
    }
   ],
   "source": [
    "transacoes"
   ]
  },
  {
   "cell_type": "code",
   "execution_count": 31,
   "metadata": {},
   "outputs": [],
   "source": [
    "# regras de assicuação\n",
    "regras = apriori(transacoes, \n",
    "                 min_support = 0.2, \n",
    "                 min_confidence = 0.8, \n",
    "                 min_lift = 2, \n",
    "                 min_lenght = 3)"
   ]
  },
  {
   "cell_type": "code",
   "execution_count": 32,
   "metadata": {},
   "outputs": [
    {
     "data": {
      "text/plain": [
       "[RelationRecord(items=frozenset({'manteiga', 'cafe'}), support=0.3, ordered_statistics=[OrderedStatistic(items_base=frozenset({'cafe'}), items_add=frozenset({'manteiga'}), confidence=1.0, lift=2.0)]),\n",
       " RelationRecord(items=frozenset({'pao', 'cafe'}), support=0.3, ordered_statistics=[OrderedStatistic(items_base=frozenset({'cafe'}), items_add=frozenset({'pao'}), confidence=1.0, lift=2.0)]),\n",
       " RelationRecord(items=frozenset({'manteiga', 'leite'}), support=0.2, ordered_statistics=[OrderedStatistic(items_base=frozenset({'leite'}), items_add=frozenset({'manteiga'}), confidence=1.0, lift=2.0)]),\n",
       " RelationRecord(items=frozenset({'pao', 'leite'}), support=0.2, ordered_statistics=[OrderedStatistic(items_base=frozenset({'leite'}), items_add=frozenset({'pao'}), confidence=1.0, lift=2.0)]),\n",
       " RelationRecord(items=frozenset({'manteiga', 'nan', 'cafe'}), support=0.2, ordered_statistics=[OrderedStatistic(items_base=frozenset({'nan', 'cafe'}), items_add=frozenset({'manteiga'}), confidence=1.0, lift=2.0)]),\n",
       " RelationRecord(items=frozenset({'pao', 'manteiga', 'cafe'}), support=0.3, ordered_statistics=[OrderedStatistic(items_base=frozenset({'cafe'}), items_add=frozenset({'pao', 'manteiga'}), confidence=1.0, lift=2.5), OrderedStatistic(items_base=frozenset({'manteiga', 'cafe'}), items_add=frozenset({'pao'}), confidence=1.0, lift=2.0), OrderedStatistic(items_base=frozenset({'pao', 'cafe'}), items_add=frozenset({'manteiga'}), confidence=1.0, lift=2.0)]),\n",
       " RelationRecord(items=frozenset({'pao', 'nan', 'cafe'}), support=0.2, ordered_statistics=[OrderedStatistic(items_base=frozenset({'nan', 'cafe'}), items_add=frozenset({'pao'}), confidence=1.0, lift=2.0)]),\n",
       " RelationRecord(items=frozenset({'pao', 'manteiga', 'leite'}), support=0.2, ordered_statistics=[OrderedStatistic(items_base=frozenset({'leite'}), items_add=frozenset({'pao', 'manteiga'}), confidence=1.0, lift=2.5), OrderedStatistic(items_base=frozenset({'manteiga', 'leite'}), items_add=frozenset({'pao'}), confidence=1.0, lift=2.0), OrderedStatistic(items_base=frozenset({'pao', 'leite'}), items_add=frozenset({'manteiga'}), confidence=1.0, lift=2.0)]),\n",
       " RelationRecord(items=frozenset({'pao', 'manteiga', 'nan', 'cafe'}), support=0.2, ordered_statistics=[OrderedStatistic(items_base=frozenset({'nan', 'cafe'}), items_add=frozenset({'pao', 'manteiga'}), confidence=1.0, lift=2.5), OrderedStatistic(items_base=frozenset({'manteiga', 'nan', 'cafe'}), items_add=frozenset({'pao'}), confidence=1.0, lift=2.0), OrderedStatistic(items_base=frozenset({'pao', 'nan', 'cafe'}), items_add=frozenset({'manteiga'}), confidence=1.0, lift=2.0), OrderedStatistic(items_base=frozenset({'pao', 'manteiga', 'nan'}), items_add=frozenset({'cafe'}), confidence=1.0, lift=3.3333333333333335)])]"
      ]
     },
     "execution_count": 32,
     "metadata": {},
     "output_type": "execute_result"
    }
   ],
   "source": [
    "# lista de regras\n",
    "resultados = list(regras)\n",
    "resultados"
   ]
  },
  {
   "cell_type": "code",
   "execution_count": 33,
   "metadata": {},
   "outputs": [
    {
     "data": {
      "text/plain": [
       "[[frozenset({'cafe', 'manteiga'}),\n",
       "  0.3,\n",
       "  [OrderedStatistic(items_base=frozenset({'cafe'}), items_add=frozenset({'manteiga'}), confidence=1.0, lift=2.0)]],\n",
       " [frozenset({'cafe', 'pao'}),\n",
       "  0.3,\n",
       "  [OrderedStatistic(items_base=frozenset({'cafe'}), items_add=frozenset({'pao'}), confidence=1.0, lift=2.0)]],\n",
       " [frozenset({'leite', 'manteiga'}),\n",
       "  0.2,\n",
       "  [OrderedStatistic(items_base=frozenset({'leite'}), items_add=frozenset({'manteiga'}), confidence=1.0, lift=2.0)]],\n",
       " [frozenset({'leite', 'pao'}),\n",
       "  0.2,\n",
       "  [OrderedStatistic(items_base=frozenset({'leite'}), items_add=frozenset({'pao'}), confidence=1.0, lift=2.0)]],\n",
       " [frozenset({'cafe', 'manteiga', 'nan'}),\n",
       "  0.2,\n",
       "  [OrderedStatistic(items_base=frozenset({'nan', 'cafe'}), items_add=frozenset({'manteiga'}), confidence=1.0, lift=2.0)]],\n",
       " [frozenset({'cafe', 'manteiga', 'pao'}),\n",
       "  0.3,\n",
       "  [OrderedStatistic(items_base=frozenset({'cafe'}), items_add=frozenset({'pao', 'manteiga'}), confidence=1.0, lift=2.5),\n",
       "   OrderedStatistic(items_base=frozenset({'manteiga', 'cafe'}), items_add=frozenset({'pao'}), confidence=1.0, lift=2.0),\n",
       "   OrderedStatistic(items_base=frozenset({'pao', 'cafe'}), items_add=frozenset({'manteiga'}), confidence=1.0, lift=2.0)]],\n",
       " [frozenset({'cafe', 'nan', 'pao'}),\n",
       "  0.2,\n",
       "  [OrderedStatistic(items_base=frozenset({'nan', 'cafe'}), items_add=frozenset({'pao'}), confidence=1.0, lift=2.0)]],\n",
       " [frozenset({'leite', 'manteiga', 'pao'}),\n",
       "  0.2,\n",
       "  [OrderedStatistic(items_base=frozenset({'leite'}), items_add=frozenset({'pao', 'manteiga'}), confidence=1.0, lift=2.5),\n",
       "   OrderedStatistic(items_base=frozenset({'manteiga', 'leite'}), items_add=frozenset({'pao'}), confidence=1.0, lift=2.0),\n",
       "   OrderedStatistic(items_base=frozenset({'pao', 'leite'}), items_add=frozenset({'manteiga'}), confidence=1.0, lift=2.0)]],\n",
       " [frozenset({'cafe', 'manteiga', 'nan', 'pao'}),\n",
       "  0.2,\n",
       "  [OrderedStatistic(items_base=frozenset({'nan', 'cafe'}), items_add=frozenset({'pao', 'manteiga'}), confidence=1.0, lift=2.5),\n",
       "   OrderedStatistic(items_base=frozenset({'manteiga', 'nan', 'cafe'}), items_add=frozenset({'pao'}), confidence=1.0, lift=2.0),\n",
       "   OrderedStatistic(items_base=frozenset({'pao', 'nan', 'cafe'}), items_add=frozenset({'manteiga'}), confidence=1.0, lift=2.0),\n",
       "   OrderedStatistic(items_base=frozenset({'pao', 'manteiga', 'nan'}), items_add=frozenset({'cafe'}), confidence=1.0, lift=3.3333333333333335)]]]"
      ]
     },
     "execution_count": 33,
     "metadata": {},
     "output_type": "execute_result"
    }
   ],
   "source": [
    "# lista de regras\n",
    "resultados2 = [list(x) for x in resultados]\n",
    "resultados2"
   ]
  },
  {
   "cell_type": "code",
   "execution_count": 35,
   "metadata": {},
   "outputs": [
    {
     "data": {
      "text/plain": [
       "[[[frozenset({'cafe'}), frozenset({'manteiga'}), 1.0, 2.0]],\n",
       " [[frozenset({'cafe'}), frozenset({'pao'}), 1.0, 2.0]],\n",
       " [[frozenset({'leite'}), frozenset({'manteiga'}), 1.0, 2.0]],\n",
       " [[frozenset({'leite'}), frozenset({'pao'}), 1.0, 2.0]],\n",
       " [[frozenset({'cafe', 'nan'}), frozenset({'manteiga'}), 1.0, 2.0]],\n",
       " [[frozenset({'cafe'}), frozenset({'manteiga', 'pao'}), 1.0, 2.5],\n",
       "  [frozenset({'cafe', 'manteiga'}), frozenset({'pao'}), 1.0, 2.0],\n",
       "  [frozenset({'cafe', 'pao'}), frozenset({'manteiga'}), 1.0, 2.0]]]"
      ]
     },
     "execution_count": 35,
     "metadata": {},
     "output_type": "execute_result"
    }
   ],
   "source": [
    "# lista de regras\n",
    "resultadoFormatado = []\n",
    "for j in range(0, 6):\n",
    "    resultadoFormatado.append([list(x) for x in resultados2[j][2]])\n",
    "resultadoFormatado"
   ]
  },
  {
   "cell_type": "code",
   "execution_count": null,
   "metadata": {},
   "outputs": [],
   "source": []
  },
  {
   "cell_type": "code",
   "execution_count": null,
   "metadata": {},
   "outputs": [],
   "source": []
  }
 ],
 "metadata": {
  "kernelspec": {
   "display_name": "myenv",
   "language": "python",
   "name": "python3"
  },
  "language_info": {
   "codemirror_mode": {
    "name": "ipython",
    "version": 3
   },
   "file_extension": ".py",
   "mimetype": "text/x-python",
   "name": "python",
   "nbconvert_exporter": "python",
   "pygments_lexer": "ipython3",
   "version": "3.11.10"
  }
 },
 "nbformat": 4,
 "nbformat_minor": 2
}
