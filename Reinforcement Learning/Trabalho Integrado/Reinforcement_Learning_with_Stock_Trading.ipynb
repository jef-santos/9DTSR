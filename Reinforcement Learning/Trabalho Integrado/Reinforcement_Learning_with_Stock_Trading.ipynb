{
 "cells": [
  {
   "cell_type": "markdown",
   "metadata": {},
   "source": [
    "# 1. Install required packages"
   ]
  },
  {
   "cell_type": "code",
   "execution_count": 138,
   "metadata": {},
   "outputs": [],
   "source": [
    "import yfinance as yf\n",
    "from sklearn.model_selection import train_test_split\n",
    "from sklearn.preprocessing import MinMaxScaler"
   ]
  },
  {
   "cell_type": "markdown",
   "metadata": {},
   "source": [
    "# 2. Collect data"
   ]
  },
  {
   "cell_type": "code",
   "execution_count": 139,
   "metadata": {},
   "outputs": [
    {
     "name": "stderr",
     "output_type": "stream",
     "text": [
      "[*********************100%***********************]  1 of 1 completed\n",
      "\n",
      "1 Failed download:\n",
      "['VALE3.SA']: YFRateLimitError('Too Many Requests. Rate limited. Try after a while.')\n"
     ]
    },
    {
     "data": {
      "application/vnd.microsoft.datawrangler.viewer.v0+json": {
       "columns": [
        {
         "name": "Date",
         "rawType": "datetime64[ns]",
         "type": "datetime"
        },
        {
         "name": "('Adj Close', 'VALE3.SA')",
         "rawType": "float64",
         "type": "float"
        },
        {
         "name": "('Close', 'VALE3.SA')",
         "rawType": "float64",
         "type": "float"
        },
        {
         "name": "('High', 'VALE3.SA')",
         "rawType": "float64",
         "type": "float"
        },
        {
         "name": "('Low', 'VALE3.SA')",
         "rawType": "float64",
         "type": "float"
        },
        {
         "name": "('Open', 'VALE3.SA')",
         "rawType": "float64",
         "type": "float"
        },
        {
         "name": "('Volume', 'VALE3.SA')",
         "rawType": "float64",
         "type": "float"
        }
       ],
       "conversionMethod": "pd.DataFrame",
       "ref": "a0224ac7-97be-4870-95c7-a88a6eb296f1",
       "rows": [],
       "shape": {
        "columns": 6,
        "rows": 0
       }
      },
      "text/html": [
       "<div>\n",
       "<style scoped>\n",
       "    .dataframe tbody tr th:only-of-type {\n",
       "        vertical-align: middle;\n",
       "    }\n",
       "\n",
       "    .dataframe tbody tr th {\n",
       "        vertical-align: top;\n",
       "    }\n",
       "\n",
       "    .dataframe thead tr th {\n",
       "        text-align: left;\n",
       "    }\n",
       "\n",
       "    .dataframe thead tr:last-of-type th {\n",
       "        text-align: right;\n",
       "    }\n",
       "</style>\n",
       "<table border=\"1\" class=\"dataframe\">\n",
       "  <thead>\n",
       "    <tr>\n",
       "      <th>Price</th>\n",
       "      <th>Adj Close</th>\n",
       "      <th>Close</th>\n",
       "      <th>High</th>\n",
       "      <th>Low</th>\n",
       "      <th>Open</th>\n",
       "      <th>Volume</th>\n",
       "    </tr>\n",
       "    <tr>\n",
       "      <th>Ticker</th>\n",
       "      <th>VALE3.SA</th>\n",
       "      <th>VALE3.SA</th>\n",
       "      <th>VALE3.SA</th>\n",
       "      <th>VALE3.SA</th>\n",
       "      <th>VALE3.SA</th>\n",
       "      <th>VALE3.SA</th>\n",
       "    </tr>\n",
       "    <tr>\n",
       "      <th>Date</th>\n",
       "      <th></th>\n",
       "      <th></th>\n",
       "      <th></th>\n",
       "      <th></th>\n",
       "      <th></th>\n",
       "      <th></th>\n",
       "    </tr>\n",
       "  </thead>\n",
       "  <tbody>\n",
       "  </tbody>\n",
       "</table>\n",
       "</div>"
      ],
      "text/plain": [
       "Empty DataFrame\n",
       "Columns: [(Adj Close, VALE3.SA), (Close, VALE3.SA), (High, VALE3.SA), (Low, VALE3.SA), (Open, VALE3.SA), (Volume, VALE3.SA)]\n",
       "Index: []"
      ]
     },
     "execution_count": 139,
     "metadata": {},
     "output_type": "execute_result"
    }
   ],
   "source": [
    "\n",
    "vale = yf.download('VALE3.SA', start=\"2022-01-01\", end=\"2025-04-27\")\n",
    "vale.head()"
   ]
  },
  {
   "cell_type": "code",
   "execution_count": 140,
   "metadata": {},
   "outputs": [
    {
     "data": {
      "application/vnd.microsoft.datawrangler.viewer.v0+json": {
       "columns": [
        {
         "name": "index",
         "rawType": "int64",
         "type": "integer"
        },
        {
         "name": "Date",
         "rawType": "object",
         "type": "string"
        },
        {
         "name": "Close",
         "rawType": "float64",
         "type": "float"
        },
        {
         "name": "High",
         "rawType": "float64",
         "type": "float"
        },
        {
         "name": "Low",
         "rawType": "float64",
         "type": "float"
        },
        {
         "name": "Open",
         "rawType": "float64",
         "type": "float"
        },
        {
         "name": "Volume",
         "rawType": "int64",
         "type": "integer"
        }
       ],
       "conversionMethod": "pd.DataFrame",
       "ref": "83a72ade-246a-4e17-b43f-067dab72a1f8",
       "rows": [
        [
         "0",
         "2020-01-02",
         "33.84402847290039",
         "33.91254926359773",
         "33.48272536553828",
         "33.62599999822476",
         "17509700"
        ],
        [
         "1",
         "2020-01-03",
         "33.59485626220703",
         "33.949928721112315",
         "33.37683014754815",
         "33.43912264422028",
         "17284800"
        ],
        [
         "2",
         "2020-01-06",
         "33.39551544189453",
         "33.513872129079",
         "33.10896617209658",
         "33.513872129079",
         "32787800"
        ],
        [
         "3",
         "2020-01-07",
         "33.63845443725586",
         "33.75681110665755",
         "33.26469478291983",
         "33.32698726654053",
         "16326400"
        ],
        [
         "4",
         "2020-01-08",
         "33.644683837890625",
         "33.868940588365234",
         "33.40173981697847",
         "33.76304288747778",
         "15298500"
        ]
       ],
       "shape": {
        "columns": 6,
        "rows": 5
       }
      },
      "text/html": [
       "<div>\n",
       "<style scoped>\n",
       "    .dataframe tbody tr th:only-of-type {\n",
       "        vertical-align: middle;\n",
       "    }\n",
       "\n",
       "    .dataframe tbody tr th {\n",
       "        vertical-align: top;\n",
       "    }\n",
       "\n",
       "    .dataframe thead th {\n",
       "        text-align: right;\n",
       "    }\n",
       "</style>\n",
       "<table border=\"1\" class=\"dataframe\">\n",
       "  <thead>\n",
       "    <tr style=\"text-align: right;\">\n",
       "      <th></th>\n",
       "      <th>Date</th>\n",
       "      <th>Close</th>\n",
       "      <th>High</th>\n",
       "      <th>Low</th>\n",
       "      <th>Open</th>\n",
       "      <th>Volume</th>\n",
       "    </tr>\n",
       "  </thead>\n",
       "  <tbody>\n",
       "    <tr>\n",
       "      <th>0</th>\n",
       "      <td>2020-01-02</td>\n",
       "      <td>33.844028</td>\n",
       "      <td>33.912549</td>\n",
       "      <td>33.482725</td>\n",
       "      <td>33.626000</td>\n",
       "      <td>17509700</td>\n",
       "    </tr>\n",
       "    <tr>\n",
       "      <th>1</th>\n",
       "      <td>2020-01-03</td>\n",
       "      <td>33.594856</td>\n",
       "      <td>33.949929</td>\n",
       "      <td>33.376830</td>\n",
       "      <td>33.439123</td>\n",
       "      <td>17284800</td>\n",
       "    </tr>\n",
       "    <tr>\n",
       "      <th>2</th>\n",
       "      <td>2020-01-06</td>\n",
       "      <td>33.395515</td>\n",
       "      <td>33.513872</td>\n",
       "      <td>33.108966</td>\n",
       "      <td>33.513872</td>\n",
       "      <td>32787800</td>\n",
       "    </tr>\n",
       "    <tr>\n",
       "      <th>3</th>\n",
       "      <td>2020-01-07</td>\n",
       "      <td>33.638454</td>\n",
       "      <td>33.756811</td>\n",
       "      <td>33.264695</td>\n",
       "      <td>33.326987</td>\n",
       "      <td>16326400</td>\n",
       "    </tr>\n",
       "    <tr>\n",
       "      <th>4</th>\n",
       "      <td>2020-01-08</td>\n",
       "      <td>33.644684</td>\n",
       "      <td>33.868941</td>\n",
       "      <td>33.401740</td>\n",
       "      <td>33.763043</td>\n",
       "      <td>15298500</td>\n",
       "    </tr>\n",
       "  </tbody>\n",
       "</table>\n",
       "</div>"
      ],
      "text/plain": [
       "         Date      Close       High        Low       Open    Volume\n",
       "0  2020-01-02  33.844028  33.912549  33.482725  33.626000  17509700\n",
       "1  2020-01-03  33.594856  33.949929  33.376830  33.439123  17284800\n",
       "2  2020-01-06  33.395515  33.513872  33.108966  33.513872  32787800\n",
       "3  2020-01-07  33.638454  33.756811  33.264695  33.326987  16326400\n",
       "4  2020-01-08  33.644684  33.868941  33.401740  33.763043  15298500"
      ]
     },
     "execution_count": 140,
     "metadata": {},
     "output_type": "execute_result"
    }
   ],
   "source": [
    "vale = pd.read_csv('/Users/jeffsantos/Desktop/9DTSR/git/9DTSR/Reinforcement Learning/Trabalho Integrado/vale.csv')\n",
    "vale.head()"
   ]
  },
  {
   "cell_type": "code",
   "execution_count": 141,
   "metadata": {},
   "outputs": [
    {
     "name": "stderr",
     "output_type": "stream",
     "text": [
      "[*********************100%***********************]  1 of 1 completed\n",
      "\n",
      "1 Failed download:\n",
      "['PETR4.SA']: YFRateLimitError('Too Many Requests. Rate limited. Try after a while.')\n"
     ]
    },
    {
     "data": {
      "application/vnd.microsoft.datawrangler.viewer.v0+json": {
       "columns": [
        {
         "name": "Date",
         "rawType": "datetime64[ns]",
         "type": "datetime"
        },
        {
         "name": "('Adj Close', 'PETR4.SA')",
         "rawType": "float64",
         "type": "float"
        },
        {
         "name": "('Close', 'PETR4.SA')",
         "rawType": "float64",
         "type": "float"
        },
        {
         "name": "('High', 'PETR4.SA')",
         "rawType": "float64",
         "type": "float"
        },
        {
         "name": "('Low', 'PETR4.SA')",
         "rawType": "float64",
         "type": "float"
        },
        {
         "name": "('Open', 'PETR4.SA')",
         "rawType": "float64",
         "type": "float"
        },
        {
         "name": "('Volume', 'PETR4.SA')",
         "rawType": "float64",
         "type": "float"
        }
       ],
       "conversionMethod": "pd.DataFrame",
       "ref": "f893fd8f-36f2-4277-98f9-65d798d7e52a",
       "rows": [],
       "shape": {
        "columns": 6,
        "rows": 0
       }
      },
      "text/html": [
       "<div>\n",
       "<style scoped>\n",
       "    .dataframe tbody tr th:only-of-type {\n",
       "        vertical-align: middle;\n",
       "    }\n",
       "\n",
       "    .dataframe tbody tr th {\n",
       "        vertical-align: top;\n",
       "    }\n",
       "\n",
       "    .dataframe thead tr th {\n",
       "        text-align: left;\n",
       "    }\n",
       "\n",
       "    .dataframe thead tr:last-of-type th {\n",
       "        text-align: right;\n",
       "    }\n",
       "</style>\n",
       "<table border=\"1\" class=\"dataframe\">\n",
       "  <thead>\n",
       "    <tr>\n",
       "      <th>Price</th>\n",
       "      <th>Adj Close</th>\n",
       "      <th>Close</th>\n",
       "      <th>High</th>\n",
       "      <th>Low</th>\n",
       "      <th>Open</th>\n",
       "      <th>Volume</th>\n",
       "    </tr>\n",
       "    <tr>\n",
       "      <th>Ticker</th>\n",
       "      <th>PETR4.SA</th>\n",
       "      <th>PETR4.SA</th>\n",
       "      <th>PETR4.SA</th>\n",
       "      <th>PETR4.SA</th>\n",
       "      <th>PETR4.SA</th>\n",
       "      <th>PETR4.SA</th>\n",
       "    </tr>\n",
       "    <tr>\n",
       "      <th>Date</th>\n",
       "      <th></th>\n",
       "      <th></th>\n",
       "      <th></th>\n",
       "      <th></th>\n",
       "      <th></th>\n",
       "      <th></th>\n",
       "    </tr>\n",
       "  </thead>\n",
       "  <tbody>\n",
       "  </tbody>\n",
       "</table>\n",
       "</div>"
      ],
      "text/plain": [
       "Empty DataFrame\n",
       "Columns: [(Adj Close, PETR4.SA), (Close, PETR4.SA), (High, PETR4.SA), (Low, PETR4.SA), (Open, PETR4.SA), (Volume, PETR4.SA)]\n",
       "Index: []"
      ]
     },
     "execution_count": 141,
     "metadata": {},
     "output_type": "execute_result"
    }
   ],
   "source": [
    "petro = yf.download('PETR4.SA', start=\"2020-01-01\", end=\"2025-04-27\")\n",
    "petro.head()"
   ]
  },
  {
   "cell_type": "code",
   "execution_count": 142,
   "metadata": {},
   "outputs": [
    {
     "name": "stderr",
     "output_type": "stream",
     "text": [
      "[*********************100%***********************]  1 of 1 completed\n",
      "\n",
      "1 Failed download:\n",
      "['BRFS3.SA']: YFRateLimitError('Too Many Requests. Rate limited. Try after a while.')\n"
     ]
    },
    {
     "data": {
      "application/vnd.microsoft.datawrangler.viewer.v0+json": {
       "columns": [
        {
         "name": "Date",
         "rawType": "datetime64[ns]",
         "type": "datetime"
        },
        {
         "name": "('Adj Close', 'BRFS3.SA')",
         "rawType": "float64",
         "type": "float"
        },
        {
         "name": "('Close', 'BRFS3.SA')",
         "rawType": "float64",
         "type": "float"
        },
        {
         "name": "('High', 'BRFS3.SA')",
         "rawType": "float64",
         "type": "float"
        },
        {
         "name": "('Low', 'BRFS3.SA')",
         "rawType": "float64",
         "type": "float"
        },
        {
         "name": "('Open', 'BRFS3.SA')",
         "rawType": "float64",
         "type": "float"
        },
        {
         "name": "('Volume', 'BRFS3.SA')",
         "rawType": "float64",
         "type": "float"
        }
       ],
       "conversionMethod": "pd.DataFrame",
       "ref": "d4c58bfd-1442-4e9c-a23c-f9e97547aad0",
       "rows": [],
       "shape": {
        "columns": 6,
        "rows": 0
       }
      },
      "text/html": [
       "<div>\n",
       "<style scoped>\n",
       "    .dataframe tbody tr th:only-of-type {\n",
       "        vertical-align: middle;\n",
       "    }\n",
       "\n",
       "    .dataframe tbody tr th {\n",
       "        vertical-align: top;\n",
       "    }\n",
       "\n",
       "    .dataframe thead tr th {\n",
       "        text-align: left;\n",
       "    }\n",
       "\n",
       "    .dataframe thead tr:last-of-type th {\n",
       "        text-align: right;\n",
       "    }\n",
       "</style>\n",
       "<table border=\"1\" class=\"dataframe\">\n",
       "  <thead>\n",
       "    <tr>\n",
       "      <th>Price</th>\n",
       "      <th>Adj Close</th>\n",
       "      <th>Close</th>\n",
       "      <th>High</th>\n",
       "      <th>Low</th>\n",
       "      <th>Open</th>\n",
       "      <th>Volume</th>\n",
       "    </tr>\n",
       "    <tr>\n",
       "      <th>Ticker</th>\n",
       "      <th>BRFS3.SA</th>\n",
       "      <th>BRFS3.SA</th>\n",
       "      <th>BRFS3.SA</th>\n",
       "      <th>BRFS3.SA</th>\n",
       "      <th>BRFS3.SA</th>\n",
       "      <th>BRFS3.SA</th>\n",
       "    </tr>\n",
       "    <tr>\n",
       "      <th>Date</th>\n",
       "      <th></th>\n",
       "      <th></th>\n",
       "      <th></th>\n",
       "      <th></th>\n",
       "      <th></th>\n",
       "      <th></th>\n",
       "    </tr>\n",
       "  </thead>\n",
       "  <tbody>\n",
       "  </tbody>\n",
       "</table>\n",
       "</div>"
      ],
      "text/plain": [
       "Empty DataFrame\n",
       "Columns: [(Adj Close, BRFS3.SA), (Close, BRFS3.SA), (High, BRFS3.SA), (Low, BRFS3.SA), (Open, BRFS3.SA), (Volume, BRFS3.SA)]\n",
       "Index: []"
      ]
     },
     "execution_count": 142,
     "metadata": {},
     "output_type": "execute_result"
    }
   ],
   "source": [
    "brfood = yf.download('BRFS3.SA', start=\"2020-01-01\", end=\"2025-04-27\")\n",
    "brfood.head()"
   ]
  },
  {
   "cell_type": "markdown",
   "metadata": {},
   "source": [
    "# 3. Data Preparation"
   ]
  },
  {
   "cell_type": "markdown",
   "metadata": {},
   "source": [
    "## 3.1 Vale"
   ]
  },
  {
   "cell_type": "code",
   "execution_count": 143,
   "metadata": {},
   "outputs": [
    {
     "name": "stdout",
     "output_type": "stream",
     "text": [
      "Null Values = False\n"
     ]
    },
    {
     "data": {
      "application/vnd.microsoft.datawrangler.viewer.v0+json": {
       "columns": [
        {
         "name": "index",
         "rawType": "int64",
         "type": "integer"
        },
        {
         "name": "Date",
         "rawType": "object",
         "type": "string"
        },
        {
         "name": "Close",
         "rawType": "float64",
         "type": "float"
        }
       ],
       "conversionMethod": "pd.DataFrame",
       "ref": "05e2ac83-6f7c-41a4-b867-cd16870a7715",
       "rows": [
        [
         "0",
         "2020-01-02",
         "33.84402847290039"
        ],
        [
         "1",
         "2020-01-03",
         "33.59485626220703"
        ]
       ],
       "shape": {
        "columns": 2,
        "rows": 2
       }
      },
      "text/html": [
       "<div>\n",
       "<style scoped>\n",
       "    .dataframe tbody tr th:only-of-type {\n",
       "        vertical-align: middle;\n",
       "    }\n",
       "\n",
       "    .dataframe tbody tr th {\n",
       "        vertical-align: top;\n",
       "    }\n",
       "\n",
       "    .dataframe thead th {\n",
       "        text-align: right;\n",
       "    }\n",
       "</style>\n",
       "<table border=\"1\" class=\"dataframe\">\n",
       "  <thead>\n",
       "    <tr style=\"text-align: right;\">\n",
       "      <th></th>\n",
       "      <th>Date</th>\n",
       "      <th>Close</th>\n",
       "    </tr>\n",
       "  </thead>\n",
       "  <tbody>\n",
       "    <tr>\n",
       "      <th>0</th>\n",
       "      <td>2020-01-02</td>\n",
       "      <td>33.844028</td>\n",
       "    </tr>\n",
       "    <tr>\n",
       "      <th>1</th>\n",
       "      <td>2020-01-03</td>\n",
       "      <td>33.594856</td>\n",
       "    </tr>\n",
       "  </tbody>\n",
       "</table>\n",
       "</div>"
      ],
      "text/plain": [
       "         Date      Close\n",
       "0  2020-01-02  33.844028\n",
       "1  2020-01-03  33.594856"
      ]
     },
     "execution_count": 143,
     "metadata": {},
     "output_type": "execute_result"
    }
   ],
   "source": [
    "#Checking for any null values and removing the null values'''\n",
    "print('Null Values =',vale.isnull().values.any())\n",
    "\n",
    "# Fill the missing values with the last value available in the dataset. \n",
    "vale=vale.bfill()\n",
    "\n",
    "# Selecting the columns we need\n",
    "#df_vale = vale[[('Close', 'VALE3.SA')]].reset_index()\n",
    "df_vale = vale[['Date', 'Close']].copy()\n",
    "\n",
    "df_vale.head(2)\n"
   ]
  },
  {
   "cell_type": "code",
   "execution_count": 144,
   "metadata": {},
   "outputs": [
    {
     "name": "stdout",
     "output_type": "stream",
     "text": [
      "Null Values = False\n"
     ]
    },
    {
     "data": {
      "application/vnd.microsoft.datawrangler.viewer.v0+json": {
       "columns": [
        {
         "name": "Date",
         "rawType": "datetime64[ns]",
         "type": "datetime"
        },
        {
         "name": "('Adj Close', 'PETR4.SA')",
         "rawType": "float64",
         "type": "float"
        },
        {
         "name": "('Close', 'PETR4.SA')",
         "rawType": "float64",
         "type": "float"
        },
        {
         "name": "('High', 'PETR4.SA')",
         "rawType": "float64",
         "type": "float"
        },
        {
         "name": "('Low', 'PETR4.SA')",
         "rawType": "float64",
         "type": "float"
        },
        {
         "name": "('Open', 'PETR4.SA')",
         "rawType": "float64",
         "type": "float"
        },
        {
         "name": "('Volume', 'PETR4.SA')",
         "rawType": "float64",
         "type": "float"
        }
       ],
       "conversionMethod": "pd.DataFrame",
       "ref": "94fa2f3c-a6e7-40e7-a7ce-32d2c32c29c0",
       "rows": [],
       "shape": {
        "columns": 6,
        "rows": 0
       }
      },
      "text/html": [
       "<div>\n",
       "<style scoped>\n",
       "    .dataframe tbody tr th:only-of-type {\n",
       "        vertical-align: middle;\n",
       "    }\n",
       "\n",
       "    .dataframe tbody tr th {\n",
       "        vertical-align: top;\n",
       "    }\n",
       "\n",
       "    .dataframe thead tr th {\n",
       "        text-align: left;\n",
       "    }\n",
       "\n",
       "    .dataframe thead tr:last-of-type th {\n",
       "        text-align: right;\n",
       "    }\n",
       "</style>\n",
       "<table border=\"1\" class=\"dataframe\">\n",
       "  <thead>\n",
       "    <tr>\n",
       "      <th>Price</th>\n",
       "      <th>Adj Close</th>\n",
       "      <th>Close</th>\n",
       "      <th>High</th>\n",
       "      <th>Low</th>\n",
       "      <th>Open</th>\n",
       "      <th>Volume</th>\n",
       "    </tr>\n",
       "    <tr>\n",
       "      <th>Ticker</th>\n",
       "      <th>PETR4.SA</th>\n",
       "      <th>PETR4.SA</th>\n",
       "      <th>PETR4.SA</th>\n",
       "      <th>PETR4.SA</th>\n",
       "      <th>PETR4.SA</th>\n",
       "      <th>PETR4.SA</th>\n",
       "    </tr>\n",
       "    <tr>\n",
       "      <th>Date</th>\n",
       "      <th></th>\n",
       "      <th></th>\n",
       "      <th></th>\n",
       "      <th></th>\n",
       "      <th></th>\n",
       "      <th></th>\n",
       "    </tr>\n",
       "  </thead>\n",
       "  <tbody>\n",
       "  </tbody>\n",
       "</table>\n",
       "</div>"
      ],
      "text/plain": [
       "Empty DataFrame\n",
       "Columns: [(Adj Close, PETR4.SA), (Close, PETR4.SA), (High, PETR4.SA), (Low, PETR4.SA), (Open, PETR4.SA), (Volume, PETR4.SA)]\n",
       "Index: []"
      ]
     },
     "execution_count": 144,
     "metadata": {},
     "output_type": "execute_result"
    }
   ],
   "source": [
    "#Checking for any null values and removing the null values'''\n",
    "print('Null Values =',petro.isnull().values.any())\n",
    "\n",
    "# Fill the missing values with the last value available in the dataset. \n",
    "petro=petro.bfill()\n",
    "petro.head(2)"
   ]
  },
  {
   "cell_type": "code",
   "execution_count": 145,
   "metadata": {},
   "outputs": [
    {
     "name": "stdout",
     "output_type": "stream",
     "text": [
      "Null Values = False\n"
     ]
    },
    {
     "data": {
      "application/vnd.microsoft.datawrangler.viewer.v0+json": {
       "columns": [
        {
         "name": "Date",
         "rawType": "datetime64[ns]",
         "type": "datetime"
        },
        {
         "name": "('Adj Close', 'PETR4.SA')",
         "rawType": "float64",
         "type": "float"
        },
        {
         "name": "('Close', 'PETR4.SA')",
         "rawType": "float64",
         "type": "float"
        },
        {
         "name": "('High', 'PETR4.SA')",
         "rawType": "float64",
         "type": "float"
        },
        {
         "name": "('Low', 'PETR4.SA')",
         "rawType": "float64",
         "type": "float"
        },
        {
         "name": "('Open', 'PETR4.SA')",
         "rawType": "float64",
         "type": "float"
        },
        {
         "name": "('Volume', 'PETR4.SA')",
         "rawType": "float64",
         "type": "float"
        }
       ],
       "conversionMethod": "pd.DataFrame",
       "ref": "fdefdef7-2dfb-4494-b8e9-78753dae655b",
       "rows": [],
       "shape": {
        "columns": 6,
        "rows": 0
       }
      },
      "text/html": [
       "<div>\n",
       "<style scoped>\n",
       "    .dataframe tbody tr th:only-of-type {\n",
       "        vertical-align: middle;\n",
       "    }\n",
       "\n",
       "    .dataframe tbody tr th {\n",
       "        vertical-align: top;\n",
       "    }\n",
       "\n",
       "    .dataframe thead tr th {\n",
       "        text-align: left;\n",
       "    }\n",
       "\n",
       "    .dataframe thead tr:last-of-type th {\n",
       "        text-align: right;\n",
       "    }\n",
       "</style>\n",
       "<table border=\"1\" class=\"dataframe\">\n",
       "  <thead>\n",
       "    <tr>\n",
       "      <th>Price</th>\n",
       "      <th>Adj Close</th>\n",
       "      <th>Close</th>\n",
       "      <th>High</th>\n",
       "      <th>Low</th>\n",
       "      <th>Open</th>\n",
       "      <th>Volume</th>\n",
       "    </tr>\n",
       "    <tr>\n",
       "      <th>Ticker</th>\n",
       "      <th>PETR4.SA</th>\n",
       "      <th>PETR4.SA</th>\n",
       "      <th>PETR4.SA</th>\n",
       "      <th>PETR4.SA</th>\n",
       "      <th>PETR4.SA</th>\n",
       "      <th>PETR4.SA</th>\n",
       "    </tr>\n",
       "    <tr>\n",
       "      <th>Date</th>\n",
       "      <th></th>\n",
       "      <th></th>\n",
       "      <th></th>\n",
       "      <th></th>\n",
       "      <th></th>\n",
       "      <th></th>\n",
       "    </tr>\n",
       "  </thead>\n",
       "  <tbody>\n",
       "  </tbody>\n",
       "</table>\n",
       "</div>"
      ],
      "text/plain": [
       "Empty DataFrame\n",
       "Columns: [(Adj Close, PETR4.SA), (Close, PETR4.SA), (High, PETR4.SA), (Low, PETR4.SA), (Open, PETR4.SA), (Volume, PETR4.SA)]\n",
       "Index: []"
      ]
     },
     "execution_count": 145,
     "metadata": {},
     "output_type": "execute_result"
    }
   ],
   "source": [
    "#Checking for any null values and removing the null values'''\n",
    "print('Null Values =',brfood.isnull().values.any())\n",
    "\n",
    "# Fill the missing values with the last value available in the dataset. \n",
    "brfood=petro.bfill()\n",
    "brfood.head(2)"
   ]
  },
  {
   "cell_type": "markdown",
   "metadata": {},
   "source": [
    "# 4. Creating a Model"
   ]
  },
  {
   "cell_type": "markdown",
   "metadata": {},
   "source": [
    "## 4.1 Criando o ambiente"
   ]
  },
  {
   "cell_type": "code",
   "execution_count": 146,
   "metadata": {},
   "outputs": [],
   "source": [
    "import numpy as np\n",
    "\n",
    "class TradingEnvironment:\n",
    "    def __init__(self, data, initial_balance=10000):\n",
    "        self.data = data.reset_index(drop=True)  # Garantir indexação simples\n",
    "        self.initial_balance = initial_balance\n",
    "        self.transaction_fee_percent = 0.001  # 0.1%\n",
    "        self.reset()\n",
    "    \n",
    "    def reset(self):\n",
    "        self.balance = self.initial_balance\n",
    "        self.shares_held = 0\n",
    "        self.current_step = 5  # Começa em 5 por causa da variação de D-5\n",
    "        self.done = False\n",
    "        self.total_profit = 0\n",
    "        self.invalid_action = False\n",
    "        self.portfolio_value = self.initial_balance\n",
    "        return self._get_state()\n",
    "    \n",
    "    def _get_state(self):\n",
    "        price = self.data.iloc[self.current_step]\n",
    "        return np.array([price, self.balance, self.shares_held], dtype=np.float32)\n",
    "    \n",
    "    def step(self, action):\n",
    "        price = self.data.iloc[self.current_step]\n",
    "        \n",
    "        # Ações com custo de transação\n",
    "        if action == 0:  # Comprar\n",
    "            cost = price * (1 + self.transaction_fee_percent)\n",
    "            if self.balance >= cost:\n",
    "                self.shares_held += 1\n",
    "                self.balance -= cost\n",
    "            else:\n",
    "                self.invalid_action = True\n",
    "        \n",
    "        elif action == 1:  # Vender\n",
    "            if self.shares_held > 0:\n",
    "                revenue = price * (1 - self.transaction_fee_percent)\n",
    "                self.shares_held -= 1\n",
    "                self.balance += revenue\n",
    "            else:\n",
    "                self.invalid_action = True\n",
    "        \n",
    "        # Atualização da etapa\n",
    "        self.current_step += 1\n",
    "        if self.current_step >= len(self.data) - 1:\n",
    "            self.done = True\n",
    "        \n",
    "        # Valor atual do portfólio\n",
    "        current_price = self.data.iloc[self.current_step]\n",
    "        self.portfolio_value = self.balance + (self.shares_held * current_price)\n",
    "        \n",
    "        # Cálculo das variações de preço\n",
    "        price_d1 = self.data.iloc[self.current_step]\n",
    "        price_d2 = self.data.iloc[self.current_step - 1]\n",
    "        price_d5 = self.data.iloc[self.current_step - 4]\n",
    "        price_d15 = self.data.iloc[self.current_step - 14]\n",
    "\n",
    "        var_d1_d2 = (price_d1 - price_d2) / price_d2\n",
    "        var_d1_d5 = (price_d1 - price_d5) / price_d5\n",
    "        var_d1_d15 = (price_d1 - price_d15) / price_d15\n",
    "    \n",
    "\n",
    "        reward = (\n",
    "            0.30 * ((price_d1 - price_d2) / price_d2) + \n",
    "            0.30 * var_d1_d2 +\n",
    "            0.20 * var_d1_d5 +\n",
    "            0.20 * var_d1_d15\n",
    "            )\n",
    "        \n",
    "        if self.invalid_action:\n",
    "            reward = reward - (reward * 0.10)\n",
    "        \n",
    "        if action == 2:\n",
    "            reward = reward - (reward * 0.50)\n",
    "\n",
    "        state = self._get_state()\n",
    "        return state, reward, self.done, {}\n"
   ]
  },
  {
   "cell_type": "markdown",
   "metadata": {},
   "source": [
    "## 4.2 Criando a rede neural"
   ]
  },
  {
   "cell_type": "code",
   "execution_count": 147,
   "metadata": {},
   "outputs": [],
   "source": [
    "import torch\n",
    "import torch.nn as nn\n",
    "import torch.optim as optim\n",
    "import numpy as np \n",
    "import random"
   ]
  },
  {
   "cell_type": "code",
   "execution_count": 148,
   "metadata": {},
   "outputs": [],
   "source": [
    "class QNetwork(nn.Module):\n",
    "    def __init__(self, state_size, action_size):\n",
    "        super(QNetwork, self).__init__()\n",
    "        self.fc1 = nn.Linear(state_size, 128)\n",
    "        self.fc2 = nn.Linear(128, 128)\n",
    "        self.fc3 = nn.Linear(128, 64)\n",
    "        self.fc4 = nn.Linear(64, action_size)\n",
    "    \n",
    "    def forward(self, state):\n",
    "        x = torch.relu(self.fc1(state))\n",
    "        x = torch.relu(self.fc2(x))\n",
    "        x = torch.relu(self.fc3(x))\n",
    "        return self.fc4(x)"
   ]
  },
  {
   "cell_type": "markdown",
   "metadata": {},
   "source": [
    "## 4.3 Criando a política de ação"
   ]
  },
  {
   "cell_type": "code",
   "execution_count": 149,
   "metadata": {},
   "outputs": [],
   "source": [
    "class DQNAgent:\n",
    "    def __init__(self, state_size, action_size, batch_size=32, memory_size=1000):\n",
    "        self.state_size = state_size\n",
    "        self.action_size = action_size\n",
    "        self.memory = []  # Replay buffer\n",
    "        self.memory_size = memory_size\n",
    "        self.batch_size = batch_size\n",
    "        self.model = QNetwork(state_size, action_size)\n",
    "        self.target_model = QNetwork(state_size, action_size)\n",
    "        self.update_target_network()\n",
    "        self.optimizer = optim.Adam(self.model.parameters(), lr=0.001)\n",
    "        self.criterion = nn.MSELoss()\n",
    "        self.epsilon = 1.0\n",
    "        self.epsilon_min = 0.01\n",
    "        self.epsilon_decay = 0.999\n",
    "        self.gamma = 0.99\n",
    "    \n",
    "    def update_target_network(self):\n",
    "        self.target_model.load_state_dict(self.model.state_dict())\n",
    "\n",
    "    def store_experience(self, state, action, reward, next_state, done):\n",
    "        # Verifica se os estados têm a mesma forma\n",
    "        if len(state) != len(next_state):\n",
    "            raise ValueError(\"Os estados (state e next_state) têm formas diferentes.\")\n",
    "        self.memory.append((state, action, reward, next_state, done))\n",
    "    \n",
    "    def train(self):\n",
    "        if len(self.memory) < self.batch_size:\n",
    "            return\n",
    "    \n",
    "        # Amostra um batch aleatório de experiências\n",
    "        batch = random.sample(self.memory, self.batch_size)\n",
    "        \n",
    "        for state, action, reward, next_state, done in batch:\n",
    "            # Converte cada elemento para tensores PyTorch\n",
    "            state = torch.tensor(state, dtype=torch.float32).unsqueeze(0)\n",
    "            next_state = torch.tensor(next_state, dtype=torch.float32).unsqueeze(0)\n",
    "            action = torch.tensor(action, dtype=torch.long).unsqueeze(0)\n",
    "            reward = torch.tensor(reward, dtype=torch.float32).unsqueeze(0)\n",
    "            done = torch.tensor(done, dtype=torch.float32).unsqueeze(0)\n",
    "            \n",
    "            # Q-value atual\n",
    "            q_values = self.model(state)\n",
    "            q_value = q_values[0][action]\n",
    "            \n",
    "            # Q-value futuro (do target network)\n",
    "            next_q_values = self.target_model(next_state)\n",
    "            next_q_value = torch.max(next_q_values)\n",
    "            \n",
    "            # Calcula o valor alvo\n",
    "            target = reward + (self.gamma * next_q_value * (1 - done))\n",
    "            \n",
    "            # Perda (loss)\n",
    "            loss = self.criterion(q_value, target)\n",
    "            \n",
    "            # Retropropagação\n",
    "            self.optimizer.zero_grad()\n",
    "            loss.backward()\n",
    "            self.optimizer.step()\n",
    "        \n",
    "        # Atualiza a rede target periodicamente\n",
    "        self.update_target_network()\n",
    "\n",
    "    def act(self, state):\n",
    "        if np.random.rand() <= self.epsilon:\n",
    "            return np.random.choice(self.action_size)  # Ação aleatória (exploração)\n",
    "        else:\n",
    "            state = torch.tensor(state, dtype=torch.float32).unsqueeze(0)\n",
    "            q_values = self.model(state)\n",
    "            return torch.argmax(q_values).item()  # Ação com maior Q-value (exploração)\n",
    "    \n",
    "    def update_epsilon(self):\n",
    "        if self.epsilon > self.epsilon_min:\n",
    "            self.epsilon *= self.epsilon_decay\n"
   ]
  },
  {
   "cell_type": "markdown",
   "metadata": {},
   "source": [
    "# 4.4 Simular e treinar o Agente"
   ]
  },
  {
   "cell_type": "code",
   "execution_count": 150,
   "metadata": {},
   "outputs": [
    {
     "data": {
      "application/vnd.microsoft.datawrangler.viewer.v0+json": {
       "columns": [
        {
         "name": "index",
         "rawType": "int64",
         "type": "integer"
        },
        {
         "name": "Date",
         "rawType": "object",
         "type": "string"
        },
        {
         "name": "Close",
         "rawType": "float64",
         "type": "float"
        }
       ],
       "conversionMethod": "pd.DataFrame",
       "ref": "39fcf707-46d0-4221-b78d-11fc00bf5057",
       "rows": [
        [
         "0",
         "2020-01-02",
         "33.84402847290039"
        ],
        [
         "1",
         "2020-01-03",
         "33.59485626220703"
        ],
        [
         "2",
         "2020-01-06",
         "33.39551544189453"
        ],
        [
         "3",
         "2020-01-07",
         "33.63845443725586"
        ],
        [
         "4",
         "2020-01-08",
         "33.644683837890625"
        ],
        [
         "5",
         "2020-01-09",
         "33.20240783691406"
        ],
        [
         "6",
         "2020-01-10",
         "33.23978042602539"
        ],
        [
         "7",
         "2020-01-13",
         "34.448272705078125"
        ],
        [
         "8",
         "2020-01-14",
         "34.66007232666016"
        ],
        [
         "9",
         "2020-01-15",
         "34.54794692993164"
        ],
        [
         "10",
         "2020-01-16",
         "34.3672981262207"
        ],
        [
         "11",
         "2020-01-17",
         "35.507259368896484"
        ],
        [
         "12",
         "2020-01-20",
         "35.73151779174805"
        ],
        [
         "13",
         "2020-01-21",
         "34.90300750732422"
        ],
        [
         "14",
         "2020-01-22",
         "35.07120895385742"
        ],
        [
         "15",
         "2020-01-23",
         "34.5728645324707"
        ],
        [
         "16",
         "2020-01-24",
         "33.51387023925781"
        ],
        [
         "17",
         "2020-01-27",
         "31.46442222595215"
        ],
        [
         "18",
         "2020-01-28",
         "31.89424514770508"
        ],
        [
         "19",
         "2020-01-29",
         "31.613924026489254"
        ],
        [
         "20",
         "2020-01-30",
         "32.08112335205078"
        ],
        [
         "21",
         "2020-01-31",
         "31.314918518066406"
        ],
        [
         "22",
         "2020-02-03",
         "31.71359634399414"
        ],
        [
         "23",
         "2020-02-04",
         "32.5607795715332"
        ],
        [
         "24",
         "2020-02-05",
         "33.009300231933594"
        ],
        [
         "25",
         "2020-02-06",
         "33.18994140625"
        ],
        [
         "26",
         "2020-02-07",
         "32.45488357543945"
        ],
        [
         "27",
         "2020-02-10",
         "31.265077590942383"
        ],
        [
         "28",
         "2020-02-11",
         "32.42374420166016"
        ],
        [
         "29",
         "2020-02-12",
         "33.05913162231445"
        ],
        [
         "30",
         "2020-02-13",
         "32.47980117797852"
        ],
        [
         "31",
         "2020-02-14",
         "31.769651412963867"
        ],
        [
         "32",
         "2020-02-17",
         "33.27092742919922"
        ],
        [
         "33",
         "2020-02-18",
         "32.89093780517578"
        ],
        [
         "34",
         "2020-02-19",
         "32.89716720581055"
        ],
        [
         "35",
         "2020-02-20",
         "32.517173767089844"
        ],
        [
         "36",
         "2020-02-21",
         "31.227706909179688"
        ],
        [
         "37",
         "2020-02-26",
         "28.250078201293945"
        ],
        [
         "38",
         "2020-02-27",
         "27.70189476013184"
        ],
        [
         "39",
         "2020-02-28",
         "27.602224349975582"
        ],
        [
         "40",
         "2020-03-02",
         "28.87924194335937"
        ],
        [
         "41",
         "2020-03-03",
         "28.87300682067871"
        ],
        [
         "42",
         "2020-03-04",
         "30.255922317504883"
        ],
        [
         "43",
         "2020-03-05",
         "29.18448257446289"
        ],
        [
         "44",
         "2020-03-06",
         "27.789108276367188"
        ],
        [
         "45",
         "2020-03-09",
         "23.565608978271484"
        ],
        [
         "46",
         "2020-03-10",
         "27.9136905670166"
        ],
        [
         "47",
         "2020-03-11",
         "25.378347396850582"
        ],
        [
         "48",
         "2020-03-12",
         "22.020732879638672"
        ],
        [
         "49",
         "2020-03-13",
         "26.723886489868164"
        ]
       ],
       "shape": {
        "columns": 2,
        "rows": 1330
       }
      },
      "text/html": [
       "<div>\n",
       "<style scoped>\n",
       "    .dataframe tbody tr th:only-of-type {\n",
       "        vertical-align: middle;\n",
       "    }\n",
       "\n",
       "    .dataframe tbody tr th {\n",
       "        vertical-align: top;\n",
       "    }\n",
       "\n",
       "    .dataframe thead th {\n",
       "        text-align: right;\n",
       "    }\n",
       "</style>\n",
       "<table border=\"1\" class=\"dataframe\">\n",
       "  <thead>\n",
       "    <tr style=\"text-align: right;\">\n",
       "      <th></th>\n",
       "      <th>Date</th>\n",
       "      <th>Close</th>\n",
       "    </tr>\n",
       "  </thead>\n",
       "  <tbody>\n",
       "    <tr>\n",
       "      <th>0</th>\n",
       "      <td>2020-01-02</td>\n",
       "      <td>33.844028</td>\n",
       "    </tr>\n",
       "    <tr>\n",
       "      <th>1</th>\n",
       "      <td>2020-01-03</td>\n",
       "      <td>33.594856</td>\n",
       "    </tr>\n",
       "    <tr>\n",
       "      <th>2</th>\n",
       "      <td>2020-01-06</td>\n",
       "      <td>33.395515</td>\n",
       "    </tr>\n",
       "    <tr>\n",
       "      <th>3</th>\n",
       "      <td>2020-01-07</td>\n",
       "      <td>33.638454</td>\n",
       "    </tr>\n",
       "    <tr>\n",
       "      <th>4</th>\n",
       "      <td>2020-01-08</td>\n",
       "      <td>33.644684</td>\n",
       "    </tr>\n",
       "    <tr>\n",
       "      <th>...</th>\n",
       "      <td>...</td>\n",
       "      <td>...</td>\n",
       "    </tr>\n",
       "    <tr>\n",
       "      <th>1325</th>\n",
       "      <td>2025-05-02</td>\n",
       "      <td>52.799999</td>\n",
       "    </tr>\n",
       "    <tr>\n",
       "      <th>1326</th>\n",
       "      <td>2025-05-05</td>\n",
       "      <td>52.959999</td>\n",
       "    </tr>\n",
       "    <tr>\n",
       "      <th>1327</th>\n",
       "      <td>2025-05-06</td>\n",
       "      <td>53.000000</td>\n",
       "    </tr>\n",
       "    <tr>\n",
       "      <th>1328</th>\n",
       "      <td>2025-05-07</td>\n",
       "      <td>52.900002</td>\n",
       "    </tr>\n",
       "    <tr>\n",
       "      <th>1329</th>\n",
       "      <td>2025-05-08</td>\n",
       "      <td>52.740002</td>\n",
       "    </tr>\n",
       "  </tbody>\n",
       "</table>\n",
       "<p>1330 rows × 2 columns</p>\n",
       "</div>"
      ],
      "text/plain": [
       "            Date      Close\n",
       "0     2020-01-02  33.844028\n",
       "1     2020-01-03  33.594856\n",
       "2     2020-01-06  33.395515\n",
       "3     2020-01-07  33.638454\n",
       "4     2020-01-08  33.644684\n",
       "...          ...        ...\n",
       "1325  2025-05-02  52.799999\n",
       "1326  2025-05-05  52.959999\n",
       "1327  2025-05-06  53.000000\n",
       "1328  2025-05-07  52.900002\n",
       "1329  2025-05-08  52.740002\n",
       "\n",
       "[1330 rows x 2 columns]"
      ]
     },
     "execution_count": 150,
     "metadata": {},
     "output_type": "execute_result"
    }
   ],
   "source": [
    "df_vale"
   ]
  },
  {
   "cell_type": "code",
   "execution_count": null,
   "metadata": {},
   "outputs": [
    {
     "name": "stdout",
     "output_type": "stream",
     "text": [
      "Episode 1/50 completed with portfolio of 9773. Com sugestão de ação 0 e recompensa -0.0054.\n",
      "Episode 2/50 completed with portfolio of 9771. Com sugestão de ação 0 e recompensa -0.0054.\n",
      "Episode 3/50 completed with portfolio of 10123. Com sugestão de ação 0 e recompensa -0.0054.\n",
      "Episode 4/50 completed with portfolio of 9273. Com sugestão de ação 2 e recompensa -0.0027.\n",
      "Episode 5/50 completed with portfolio of 9704. Com sugestão de ação 1 e recompensa -0.0054.\n",
      "Episode 6/50 completed with portfolio of 9988. Com sugestão de ação 0 e recompensa -0.0054.\n",
      "Episode 7/50 completed with portfolio of 9638. Com sugestão de ação 0 e recompensa -0.0054.\n",
      "Episode 8/50 completed with portfolio of 9604. Com sugestão de ação 2 e recompensa -0.0027.\n",
      "Episode 9/50 completed with portfolio of 9879. Com sugestão de ação 0 e recompensa -0.0054.\n",
      "Episode 10/50 completed with portfolio of 9585. Com sugestão de ação 1 e recompensa -0.0054.\n",
      "Episode 11/50 completed with portfolio of 10425. Com sugestão de ação 0 e recompensa -0.0054.\n",
      "Episode 12/50 completed with portfolio of 10465. Com sugestão de ação 2 e recompensa -0.003.\n",
      "Episode 13/50 completed with portfolio of 10290. Com sugestão de ação 0 e recompensa -0.0054.\n",
      "Episode 14/50 completed with portfolio of 9888. Com sugestão de ação 1 e recompensa -0.0054.\n",
      "Episode 15/50 completed with portfolio of 9833. Com sugestão de ação 0 e recompensa -0.0054.\n",
      "Episode 16/50 completed with portfolio of 10183. Com sugestão de ação 2 e recompensa -0.0027.\n",
      "Episode 17/50 completed with portfolio of 10435. Com sugestão de ação 2 e recompensa -0.0027.\n"
     ]
    }
   ],
   "source": [
    "import matplotlib.pyplot as plt\n",
    "\n",
    "# Definir o tamanho do estado e da ação\n",
    "state_size = 3  # Preço, saldo, ações\n",
    "action_size = 3  # Comprar, vender, manter\n",
    "\n",
    "# Criar o ambiente de negociação\n",
    "env = TradingEnvironment(df_vale['Close'], initial_balance=10000)\n",
    "\n",
    "# Criar o agente\n",
    "agent = DQNAgent(state_size, action_size)\n",
    "\n",
    "# Listas para armazenar métricas\n",
    "total_rewards = []  # Para armazenar recompensa total por episódio\n",
    "portfolio_values = []  # Para armazenar o valor do portfólio no final de cada episódio\n",
    "\n",
    "# Treinamento\n",
    "episodes = 50\n",
    "for episode in range(episodes):\n",
    "    state = env.reset()\n",
    "    done = False\n",
    "    episode_reward = 0  # Recompensa acumulada por episódio\n",
    "    daily_values = []\n",
    "    while not done:\n",
    "        action = agent.act(state)\n",
    "        next_state, reward, done, _ = env.step(action)\n",
    "        agent.store_experience(state, action, reward, next_state, done)\n",
    "        agent.train()\n",
    "        state = next_state\n",
    "        #episode_reward += reward  # Acumulando a recompensa no episódio\n",
    "        episode_reward = reward \n",
    "        daily_values.append(env.portfolio_value)\n",
    "        if episode == episodes - 1:\n",
    "            last_episode_portfolio = daily_values\n",
    "    \n",
    "    # Atualizar a exploração\n",
    "    agent.update_epsilon()\n",
    "    \n",
    "    # Armazenar métricas\n",
    "    total_rewards.append(episode_reward)\n",
    "    portfolio_values.append(env.portfolio_value)\n",
    "    \n",
    "    print(f\"Episode {episode + 1}/{episodes} completed with portfolio of {round(env.portfolio_value)}. Com sugestão de ação {action} e recompensa {round(episode_reward,4)}.\")\n",
    "\n",
    "# Plotar as métricas\n",
    "plt.figure(figsize=(12, 6))\n",
    "\n",
    "# Gráfico de recompensa total por episódio\n",
    "plt.subplot(1, 2, 1)\n",
    "plt.plot(total_rewards)\n",
    "plt.title(\"Recompensa Total por Episódio\")\n",
    "plt.xlabel(\"Episódio\")\n",
    "plt.ylabel(\"Recompensa Total\")\n",
    "\n",
    "# Gráfico do valor do portfólio ao longo dos episódios\n",
    "plt.subplot(1, 2, 2)\n",
    "plt.plot(portfolio_values)\n",
    "plt.title(\"Valor do Portfólio por Episódio\")\n",
    "plt.xlabel(\"Episódio\")\n",
    "plt.ylabel(\"Valor do Portfólio\")\n",
    "\n",
    "plt.tight_layout()\n",
    "plt.show()\n"
   ]
  },
  {
   "cell_type": "code",
   "execution_count": null,
   "metadata": {},
   "outputs": [
    {
     "data": {
      "image/png": "[encoded data removed]",
      "text/plain": [
       "<Figure size 1200x600 with 1 Axes>"
      ]
     },
     "metadata": {},
     "output_type": "display_data"
    }
   ],
   "source": [
    "import pandas as pd \n",
    "\n",
    "initial_balance = 10000\n",
    "num_acoes = initial_balance / df_vale['Close'][0]\n",
    "portfolio_values_real = df_vale['Close'] * num_acoes\n",
    "\n",
    "# Garantir que a coluna 'Date' está no formato datetime\n",
    "df_vale['Date'] = pd.to_datetime(df_vale['Date'])\n",
    "\n",
    "# Garantir que ambas as listas tenham o mesmo tamanho\n",
    "min_length = min(len(last_episode_portfolio), len(portfolio_values_real), len(df_vale['Date']))\n",
    "last_episode_portfolio = last_episode_portfolio[:min_length]\n",
    "portfolio_values_real = portfolio_values_real[:min_length]\n",
    "dates = df_vale['Date'][:min_length]\n",
    "\n",
    "# Estilo do gráfico\n",
    "plt.style.use('seaborn-v0_8-darkgrid')  \n",
    "\n",
    "# Plotando o gráfico\n",
    "plt.figure(figsize=(12, 6))\n",
    "plt.plot(dates, last_episode_portfolio, label='Com Modelo (DQN)', color='orange', linewidth=2, linestyle='-')\n",
    "plt.plot(dates, portfolio_values_real, label='Sem Modelo (Buy & Hold)', color='gray', linewidth=1, linestyle='--')\n",
    "\n",
    "# Adicionando título e labels\n",
    "plt.title(\"Valor do Portfólio por Dia - Último Episódio\", fontsize=16)\n",
    "plt.xlabel(\"Dia\", fontsize=12)\n",
    "plt.ylabel(\"Valor do Portfólio (R$)\", fontsize=12)\n",
    "\n",
    "# Adicionando legendas e textos nos pontos finais\n",
    "plt.legend(loc='best', fontsize=11)\n",
    "plt.text(dates.iloc[-1], last_episode_portfolio[-1], f'R$ {last_episode_portfolio[-1]:,.2f}', color='orange', fontsize=10)\n",
    "plt.text(dates.iloc[-1], portfolio_values_real.iloc[-1], f'R$ {portfolio_values_real.iloc[-1]:,.2f}', color='gray', fontsize=10)\n",
    "\n",
    "# Adicionando a grade\n",
    "plt.grid(True, linestyle='--', alpha=0.7)\n",
    "\n",
    "# Ajustando layout e exibindo o gráfico\n",
    "plt.tight_layout()\n",
    "plt.xticks(rotation=45)  # Opcional, para girar as datas e evitar sobreposição\n",
    "plt.show()\n"
   ]
  },
  {
   "cell_type": "markdown",
   "metadata": {},
   "source": [
    "# 4.1. Vale"
   ]
  },
  {
   "cell_type": "code",
   "execution_count": null,
   "metadata": {},
   "outputs": [
    {
     "name": "stdout",
     "output_type": "stream",
     "text": [
      "train_data: 661\n",
      "test_data: 166\n"
     ]
    }
   ],
   "source": [
    "# Split the data into training and testing sets\n",
    "train_size = int(len(df_vale) * 0.8)\n",
    "train_data = df_vale[:train_size]\n",
    "test_data = df_vale[train_size:]\n",
    "\n",
    "print(f'train_data: {len(train_data)}')\n",
    "print(f'test_data: {len(test_data)}')"
   ]
  }
 ],
 "metadata": {
  "kernelspec": {
   "display_name": "myenv",
   "language": "python",
   "name": "python3"
  },
  "language_info": {
   "codemirror_mode": {
    "name": "ipython",
    "version": 3
   },
   "file_extension": ".py",
   "mimetype": "text/x-python",
   "name": "python",
   "nbconvert_exporter": "python",
   "pygments_lexer": "ipython3",
   "version": "3.11.10"
  }
 },
 "nbformat": 4,
 "nbformat_minor": 2
}
