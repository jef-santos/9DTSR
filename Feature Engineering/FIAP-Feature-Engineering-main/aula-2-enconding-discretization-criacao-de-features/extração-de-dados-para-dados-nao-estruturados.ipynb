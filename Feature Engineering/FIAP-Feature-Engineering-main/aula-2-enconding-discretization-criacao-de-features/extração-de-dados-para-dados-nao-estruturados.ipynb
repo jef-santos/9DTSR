{
 "cells": [
  {
   "cell_type": "markdown",
   "metadata": {},
   "source": [
    "# 1 Introdução\n",
    "\n",
    "Neste notebook, vamos explorar técnicas de criação de features derivadas, especificamente feature crossing e feature transformation. Estas técnicas são fundamentais para melhorar o desempenho dos modelos de Machine Learning."
   ]
  },
  {
   "cell_type": "markdown",
   "metadata": {},
   "source": [
    "# 2 Importação de Bibliotecas"
   ]
  },
  {
   "cell_type": "code",
   "execution_count": 1,
   "metadata": {},
   "outputs": [],
   "source": [
    "import pandas as pd\n",
    "import numpy as np\n",
    "from sklearn.feature_extraction.text import TfidfVectorizer, CountVectorizer\n",
    "from sklearn.model_selection import train_test_split\n",
    "from sklearn.linear_model import LogisticRegression\n",
    "from sklearn.metrics import accuracy_score, confusion_matrix\n",
    "import matplotlib.pyplot as plt\n",
    "import seaborn as sns"
   ]
  },
  {
   "cell_type": "markdown",
   "metadata": {},
   "source": [
    "# 3 Carregamento do Dataset"
   ]
  },
  {
   "cell_type": "markdown",
   "metadata": {},
   "source": [
    "## 3.1 Descrição do Dataset\n",
    "\n",
    "Para este exemplo, utilizaremos o famoso dataset \"SMS Spam Collection Dataset\". Este dataset contém mensagens SMS rotuladas como spam ou ham (não-spam) e é amplamente utilizado em estudos de machine learning para tarefas de classificação de texto.\n",
    "\n",
    "- Principais Características do Dataset:\n",
    "    - label: Rótulo da mensagem (spam ou ham).\n",
    "    - message: Conteúdo da mensagem SMS.\n",
    "\n",
    "- Importância das Variáveis:\n",
    "    - Rótulo (label): Indica se a mensagem é spam ou não, sendo crucial para a tarefa de classificação.\n",
    "    - Mensagem (message): O texto da mensagem que será processado e analisado para determinar se é spam ou ham.\n",
    "\n",
    "- Fonte do Dataset\n",
    "\n",
    "    - O dataset está disponível no repositório do GitHub:\n",
    "    - Para carregar o dataset em um DataFrame do pandas:\n",
    "\n",
    "        import pandas as pd\n",
    "\n",
    "        url = \"https://raw.githubusercontent.com/justmarkham/DAT8/master/data/sms.tsv\"\n",
    "\n",
    "\n",
    "        df = pd.read_csv(url, sep='\\t', header=None, names=['label', 'message'])\n"
   ]
  },
  {
   "cell_type": "markdown",
   "metadata": {},
   "source": [
    "## 3.2 Carregamento do Dataset"
   ]
  },
  {
   "cell_type": "code",
   "execution_count": 2,
   "metadata": {},
   "outputs": [
    {
     "data": {
      "text/html": [
       "<div>\n",
       "<style scoped>\n",
       "    .dataframe tbody tr th:only-of-type {\n",
       "        vertical-align: middle;\n",
       "    }\n",
       "\n",
       "    .dataframe tbody tr th {\n",
       "        vertical-align: top;\n",
       "    }\n",
       "\n",
       "    .dataframe thead th {\n",
       "        text-align: right;\n",
       "    }\n",
       "</style>\n",
       "<table border=\"1\" class=\"dataframe\">\n",
       "  <thead>\n",
       "    <tr style=\"text-align: right;\">\n",
       "      <th></th>\n",
       "      <th>label</th>\n",
       "      <th>message</th>\n",
       "    </tr>\n",
       "  </thead>\n",
       "  <tbody>\n",
       "    <tr>\n",
       "      <th>0</th>\n",
       "      <td>label</td>\n",
       "      <td>message</td>\n",
       "    </tr>\n",
       "    <tr>\n",
       "      <th>1</th>\n",
       "      <td>ham</td>\n",
       "      <td>Go until jurong point, crazy.. Available only ...</td>\n",
       "    </tr>\n",
       "    <tr>\n",
       "      <th>2</th>\n",
       "      <td>ham</td>\n",
       "      <td>Ok lar... Joking wif u oni...</td>\n",
       "    </tr>\n",
       "    <tr>\n",
       "      <th>3</th>\n",
       "      <td>spam</td>\n",
       "      <td>Free entry in 2 a wkly comp to win FA Cup fina...</td>\n",
       "    </tr>\n",
       "    <tr>\n",
       "      <th>4</th>\n",
       "      <td>ham</td>\n",
       "      <td>U dun say so early hor... U c already then say...</td>\n",
       "    </tr>\n",
       "  </tbody>\n",
       "</table>\n",
       "</div>"
      ],
      "text/plain": [
       "   label                                            message\n",
       "0  label                                            message\n",
       "1    ham  Go until jurong point, crazy.. Available only ...\n",
       "2    ham                      Ok lar... Joking wif u oni...\n",
       "3   spam  Free entry in 2 a wkly comp to win FA Cup fina...\n",
       "4    ham  U dun say so early hor... U c already then say..."
      ]
     },
     "execution_count": 2,
     "metadata": {},
     "output_type": "execute_result"
    }
   ],
   "source": [
    "# Carregar o dataset usando pandas\n",
    "df = pd.read_csv(\"datasets/sms_spam_collection.csv\", sep=',', header=None, names=['label', 'message'])\n",
    "\n",
    "# Mostrando as primeiras linhas do dataset\n",
    "df.head()"
   ]
  },
  {
   "cell_type": "markdown",
   "metadata": {},
   "source": [
    "# 4 Análise Exploratória"
   ]
  },
  {
   "cell_type": "code",
   "execution_count": 3,
   "metadata": {},
   "outputs": [
    {
     "name": "stdout",
     "output_type": "stream",
     "text": [
      "<class 'pandas.core.frame.DataFrame'>\n",
      "RangeIndex: 5573 entries, 0 to 5572\n",
      "Data columns (total 2 columns):\n",
      " #   Column   Non-Null Count  Dtype \n",
      "---  ------   --------------  ----- \n",
      " 0   label    5573 non-null   object\n",
      " 1   message  5573 non-null   object\n",
      "dtypes: object(2)\n",
      "memory usage: 87.2+ KB\n"
     ]
    }
   ],
   "source": [
    "# Visualizando informações gerais sobre o dataset\n",
    "df.info()"
   ]
  },
  {
   "cell_type": "code",
   "execution_count": 4,
   "metadata": {},
   "outputs": [
    {
     "data": {
      "text/html": [
       "<div>\n",
       "<style scoped>\n",
       "    .dataframe tbody tr th:only-of-type {\n",
       "        vertical-align: middle;\n",
       "    }\n",
       "\n",
       "    .dataframe tbody tr th {\n",
       "        vertical-align: top;\n",
       "    }\n",
       "\n",
       "    .dataframe thead th {\n",
       "        text-align: right;\n",
       "    }\n",
       "</style>\n",
       "<table border=\"1\" class=\"dataframe\">\n",
       "  <thead>\n",
       "    <tr style=\"text-align: right;\">\n",
       "      <th></th>\n",
       "      <th>label</th>\n",
       "      <th>message</th>\n",
       "    </tr>\n",
       "  </thead>\n",
       "  <tbody>\n",
       "    <tr>\n",
       "      <th>count</th>\n",
       "      <td>5573</td>\n",
       "      <td>5573</td>\n",
       "    </tr>\n",
       "    <tr>\n",
       "      <th>unique</th>\n",
       "      <td>3</td>\n",
       "      <td>5170</td>\n",
       "    </tr>\n",
       "    <tr>\n",
       "      <th>top</th>\n",
       "      <td>ham</td>\n",
       "      <td>Sorry, I'll call later</td>\n",
       "    </tr>\n",
       "    <tr>\n",
       "      <th>freq</th>\n",
       "      <td>4825</td>\n",
       "      <td>30</td>\n",
       "    </tr>\n",
       "  </tbody>\n",
       "</table>\n",
       "</div>"
      ],
      "text/plain": [
       "       label                 message\n",
       "count   5573                    5573\n",
       "unique     3                    5170\n",
       "top      ham  Sorry, I'll call later\n",
       "freq    4825                      30"
      ]
     },
     "execution_count": 4,
     "metadata": {},
     "output_type": "execute_result"
    }
   ],
   "source": [
    "# Visualizando estatísticas descritivas\n",
    "df.describe(include='all')"
   ]
  },
  {
   "cell_type": "markdown",
   "metadata": {},
   "source": [
    "# 5 Pré-processamento do Texto\n",
    "\n",
    "Nesta etapa, realizaremos o pré-processamento do texto, como remoção de pontuações, conversão para minúsculas, etc."
   ]
  },
  {
   "cell_type": "code",
   "execution_count": 5,
   "metadata": {},
   "outputs": [
    {
     "data": {
      "text/html": [
       "<div>\n",
       "<style scoped>\n",
       "    .dataframe tbody tr th:only-of-type {\n",
       "        vertical-align: middle;\n",
       "    }\n",
       "\n",
       "    .dataframe tbody tr th {\n",
       "        vertical-align: top;\n",
       "    }\n",
       "\n",
       "    .dataframe thead th {\n",
       "        text-align: right;\n",
       "    }\n",
       "</style>\n",
       "<table border=\"1\" class=\"dataframe\">\n",
       "  <thead>\n",
       "    <tr style=\"text-align: right;\">\n",
       "      <th></th>\n",
       "      <th>label</th>\n",
       "      <th>message</th>\n",
       "      <th>message_clean</th>\n",
       "    </tr>\n",
       "  </thead>\n",
       "  <tbody>\n",
       "    <tr>\n",
       "      <th>0</th>\n",
       "      <td>label</td>\n",
       "      <td>message</td>\n",
       "      <td>message</td>\n",
       "    </tr>\n",
       "    <tr>\n",
       "      <th>1</th>\n",
       "      <td>ham</td>\n",
       "      <td>Go until jurong point, crazy.. Available only ...</td>\n",
       "      <td>go until jurong point crazy available only in ...</td>\n",
       "    </tr>\n",
       "    <tr>\n",
       "      <th>2</th>\n",
       "      <td>ham</td>\n",
       "      <td>Ok lar... Joking wif u oni...</td>\n",
       "      <td>ok lar joking wif u oni</td>\n",
       "    </tr>\n",
       "    <tr>\n",
       "      <th>3</th>\n",
       "      <td>spam</td>\n",
       "      <td>Free entry in 2 a wkly comp to win FA Cup fina...</td>\n",
       "      <td>free entry in 2 a wkly comp to win fa cup fina...</td>\n",
       "    </tr>\n",
       "    <tr>\n",
       "      <th>4</th>\n",
       "      <td>ham</td>\n",
       "      <td>U dun say so early hor... U c already then say...</td>\n",
       "      <td>u dun say so early hor u c already then say</td>\n",
       "    </tr>\n",
       "    <tr>\n",
       "      <th>...</th>\n",
       "      <td>...</td>\n",
       "      <td>...</td>\n",
       "      <td>...</td>\n",
       "    </tr>\n",
       "    <tr>\n",
       "      <th>5568</th>\n",
       "      <td>spam</td>\n",
       "      <td>This is the 2nd time we have tried 2 contact u...</td>\n",
       "      <td>this is the 2nd time we have tried 2 contact u...</td>\n",
       "    </tr>\n",
       "    <tr>\n",
       "      <th>5569</th>\n",
       "      <td>ham</td>\n",
       "      <td>Will ü b going to esplanade fr home?</td>\n",
       "      <td>will ü b going to esplanade fr home</td>\n",
       "    </tr>\n",
       "    <tr>\n",
       "      <th>5570</th>\n",
       "      <td>ham</td>\n",
       "      <td>Pity, * was in mood for that. So...any other s...</td>\n",
       "      <td>pity  was in mood for that soany other suggest...</td>\n",
       "    </tr>\n",
       "    <tr>\n",
       "      <th>5571</th>\n",
       "      <td>ham</td>\n",
       "      <td>The guy did some bitching but I acted like i'd...</td>\n",
       "      <td>the guy did some bitching but i acted like id ...</td>\n",
       "    </tr>\n",
       "    <tr>\n",
       "      <th>5572</th>\n",
       "      <td>ham</td>\n",
       "      <td>Rofl. Its true to its name</td>\n",
       "      <td>rofl its true to its name</td>\n",
       "    </tr>\n",
       "  </tbody>\n",
       "</table>\n",
       "<p>5573 rows × 3 columns</p>\n",
       "</div>"
      ],
      "text/plain": [
       "      label                                            message  \\\n",
       "0     label                                            message   \n",
       "1       ham  Go until jurong point, crazy.. Available only ...   \n",
       "2       ham                      Ok lar... Joking wif u oni...   \n",
       "3      spam  Free entry in 2 a wkly comp to win FA Cup fina...   \n",
       "4       ham  U dun say so early hor... U c already then say...   \n",
       "...     ...                                                ...   \n",
       "5568   spam  This is the 2nd time we have tried 2 contact u...   \n",
       "5569    ham               Will ü b going to esplanade fr home?   \n",
       "5570    ham  Pity, * was in mood for that. So...any other s...   \n",
       "5571    ham  The guy did some bitching but I acted like i'd...   \n",
       "5572    ham                         Rofl. Its true to its name   \n",
       "\n",
       "                                          message_clean  \n",
       "0                                               message  \n",
       "1     go until jurong point crazy available only in ...  \n",
       "2                               ok lar joking wif u oni  \n",
       "3     free entry in 2 a wkly comp to win fa cup fina...  \n",
       "4           u dun say so early hor u c already then say  \n",
       "...                                                 ...  \n",
       "5568  this is the 2nd time we have tried 2 contact u...  \n",
       "5569                will ü b going to esplanade fr home  \n",
       "5570  pity  was in mood for that soany other suggest...  \n",
       "5571  the guy did some bitching but i acted like id ...  \n",
       "5572                          rofl its true to its name  \n",
       "\n",
       "[5573 rows x 3 columns]"
      ]
     },
     "execution_count": 5,
     "metadata": {},
     "output_type": "execute_result"
    }
   ],
   "source": [
    "df_clean = df\n",
    "df_clean['message_clean'] = df_clean['message'].str.replace(r'[^\\w\\s]', '', regex=True).str.lower()\n",
    "df_clean"
   ]
  },
  {
   "cell_type": "markdown",
   "metadata": {},
   "source": [
    "# 6 Vetorização do Texto\n",
    "\n",
    "A vetorização do texto é essencial em NLP porque os modelos de machine learning não podem processar texto diretamente; eles exigem dados numéricos. Vetorização converte o texto em uma representação numérica, permitindo que os algoritmos de machine learning possam trabalhar com os dados textuais."
   ]
  },
  {
   "cell_type": "markdown",
   "metadata": {},
   "source": [
    "## 6.1 Bag-of-Words (BoW)\n",
    "\n",
    "O Bag of Words é uma técnica de vetorização que converte texto em uma matriz de frequências de palavras. Cada documento é representado por um vetor onde cada posição corresponde a uma palavra do vocabulário e o valor é o número de vezes que essa palavra aparece no documento. Ele captura a presença e a frequência de palavras, mas ignora a ordem e o contexto das palavras."
   ]
  },
  {
   "cell_type": "code",
   "execution_count": 6,
   "metadata": {},
   "outputs": [],
   "source": [
    "vectorizer_bow = CountVectorizer()\n",
    "X_bow = vectorizer_bow.fit_transform(df_clean['message_clean'])"
   ]
  },
  {
   "cell_type": "markdown",
   "metadata": {},
   "source": [
    "## 6.2 TF-IDF (Term Frequency-Inverse Document Frequency)\n",
    "\n",
    "TF-IDF é uma técnica de vetorização que pondera a frequência das palavras em um documento em relação a quantas vezes essas palavras aparecem em todos os documentos. A fórmula combina a frequência da palavra em um documento (TF) com a frequência inversa em todos os documentos (IDF), destacando palavras importantes (relevantes) e diminuindo a importância de palavras muito comuns (menos discriminativas)."
   ]
  },
  {
   "cell_type": "code",
   "execution_count": 7,
   "metadata": {},
   "outputs": [],
   "source": [
    "vectorizer_tfidf = TfidfVectorizer()\n",
    "X_tfidf = vectorizer_tfidf.fit_transform(df_clean['message_clean'])"
   ]
  },
  {
   "cell_type": "markdown",
   "metadata": {},
   "source": [
    "# 7 Divisão dos Dados\n",
    "\n",
    "Vamos dividir os dados em conjuntos de treino e teste."
   ]
  },
  {
   "cell_type": "code",
   "execution_count": 8,
   "metadata": {},
   "outputs": [],
   "source": [
    "y = df_clean['label']\n",
    "X_train_bow, X_test_bow, y_train, y_test = train_test_split(X_bow, y, test_size=0.2, random_state=42)\n",
    "X_train_tfidf, X_test_tfidf, y_train, y_test = train_test_split(X_tfidf, y, test_size=0.2, random_state=42)"
   ]
  },
  {
   "cell_type": "markdown",
   "metadata": {},
   "source": [
    "# 8 Treinamento e Avaliação dos Modelos"
   ]
  },
  {
   "cell_type": "markdown",
   "metadata": {},
   "source": [
    "## 8.1 Modelo com Bag-of-Words"
   ]
  },
  {
   "cell_type": "code",
   "execution_count": 9,
   "metadata": {},
   "outputs": [
    {
     "name": "stdout",
     "output_type": "stream",
     "text": [
      "Acurácia do modelo Bag-of-Words: 0.9766816143497757\n"
     ]
    },
    {
     "data": {
      "image/png": "[encoded data removed]",
      "text/plain": [
       "<Figure size 640x480 with 2 Axes>"
      ]
     },
     "metadata": {},
     "output_type": "display_data"
    }
   ],
   "source": [
    "# Treinamento\n",
    "model_bow = LogisticRegression()\n",
    "model_bow.fit(X_train_bow, y_train)\n",
    "\n",
    "# Predição\n",
    "y_pred_bow = model_bow.predict(X_test_bow)\n",
    "\n",
    "# Resultado\n",
    "acc_bow = accuracy_score(y_test, y_pred_bow)\n",
    "print(f'Acurácia do modelo Bag-of-Words: {acc_bow}')\n",
    "\n",
    "# Apresentação do resultado em formato gráfico\n",
    "cm_bow = confusion_matrix(y_test, y_pred_bow)\n",
    "sns.heatmap(cm_bow, annot=True)\n",
    "plt.title('Matriz de Confusão - Bag-of-Words')\n",
    "plt.show()"
   ]
  },
  {
   "cell_type": "markdown",
   "metadata": {},
   "source": [
    "## 8.2 Modelo com TF-IDF"
   ]
  },
  {
   "cell_type": "code",
   "execution_count": 10,
   "metadata": {},
   "outputs": [
    {
     "name": "stdout",
     "output_type": "stream",
     "text": [
      "Acurácia do modelo TF-IDF: 0.9668161434977578\n"
     ]
    },
    {
     "data": {
      "image/png": "[encoded data removed]",
      "text/plain": [
       "<Figure size 640x480 with 2 Axes>"
      ]
     },
     "metadata": {},
     "output_type": "display_data"
    }
   ],
   "source": [
    "# Treinamento\n",
    "model_tfidf = LogisticRegression()\n",
    "model_tfidf.fit(X_train_tfidf, y_train)\n",
    "\n",
    "# Predição\n",
    "y_pred_tfidf = model_tfidf.predict(X_test_tfidf)\n",
    "\n",
    "# Resultado\n",
    "acc_tfidf = accuracy_score(y_test, y_pred_tfidf)\n",
    "print(f'Acurácia do modelo TF-IDF: {acc_tfidf}')\n",
    "\n",
    "# Apresentação do resultado em formato gráfico\n",
    "cm_tfidf = confusion_matrix(y_test, y_pred_tfidf)\n",
    "sns.heatmap(cm_tfidf, annot=True)\n",
    "plt.title('Matriz de Confusão - TF-IDF')\n",
    "plt.show()"
   ]
  }
 ],
 "metadata": {
  "kernelspec": {
   "display_name": "venv",
   "language": "python",
   "name": "python3"
  },
  "language_info": {
   "codemirror_mode": {
    "name": "ipython",
    "version": 3
   },
   "file_extension": ".py",
   "mimetype": "text/x-python",
   "name": "python",
   "nbconvert_exporter": "python",
   "pygments_lexer": "ipython3",
   "version": "3.12.4"
  }
 },
 "nbformat": 4,
 "nbformat_minor": 2
}
