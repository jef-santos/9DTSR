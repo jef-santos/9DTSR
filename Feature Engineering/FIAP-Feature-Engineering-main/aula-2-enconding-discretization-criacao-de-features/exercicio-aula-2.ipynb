{
 "cells": [
  {
   "cell_type": "markdown",
   "metadata": {},
   "source": [
    "# Exercício da Aula 2\n",
    "\n",
    "O objetivo deste exercício é aplicar técnicas de Feature Engineering para transformar e melhorar a qualidade dos dados, com foco em variáveis categóricas e numéricas. Os alunos trabalharão com um dataset de Pedidos de Compras e serão desafiados a realizar as seguintes atividades:\n",
    "\n",
    "- Análise Exploratória de Dados (EDA) - Básica:\n",
    "    - Visualização e Sumarização: Visualize as primeiras linhas do dataset e utilize o método df.info() para entender a estrutura dos dados. Calcule estatísticas descritivas básicas, como média, desvio padrão, valores máximos e mínimos para as variáveis numéricas (Income, PurchaseAmount, Age, etc.). Analise a distribuição das variáveis categóricas (Gender, ProductCategory, MaritalStatus).\n",
    " \n",
    "- Técnicas de Encoding para Variáveis Categóricas:\n",
    "    - One-Hot Encoding: Aplique One-Hot Encoding nas variáveis Gender, ProductCategory, EducationLevel, e EmploymentStatus. Analise como a transformação altera a estrutura do dataset.\n",
    "    - Ordinal Encoding: Aplique Ordinal Encoding na variável MaritalStatus para transformá-la em valores numéricos (Single, Married, Divorced). Explique a razão para escolher essa técnica para esta variável.\n",
    "    - Binary Encoding: Aplique Binary Encoding na variável Country. Discuta as vantagens de usar Binary Encoding em variáveis com cardinalidade relativamente alta.\n",
    "\n",
    "- Técnicas de Discretização para Variáveis Numéricas:\n",
    "    - Equal Width Binning: Aplique Equal Width Binning na variável Income para criar faixas de renda. Visualize a nova distribuição das faixas usando gráficos de histogramas.\n",
    "    - Equal Frequency Binning: Aplique Equal Frequency Binning na variável PurchaseAmount para criar bins com frequências iguais. Compare a distribuição resultante com a anterior.\n",
    "    - K-Means Clustering: Aplique K-Means Clustering na variável PurchaseAmount e verifique como os clusters formados podem ser interpretados em termos de comportamento de compra.\n",
    "\n",
    "- Criação de Features Derivadas:\n",
    "    - Feature Crossing: Crie uma nova feature combinando Age e Income (Age_Income_Cross). Explique como a interação entre essas variáveis pode fornecer insights adicionais sobre o perfil de clientes.\n",
    "    - Feature Transformation: Aplique uma transformação logarítmica na variável PurchaseAmount para reduzir a assimetria da distribuição. Compare a distribuição antes e depois da transformação.\n",
    "\n",
    "- Documentação e Relatório:\n",
    "    - Relatório: Documente todos os passos seguidos, as decisões tomadas, e as descobertas realizadas. Inclua gráficos e tabelas relevantes para suportar suas conclusões. Discuta as implicações das transformações de features na análise final."
   ]
  },
  {
   "cell_type": "markdown",
   "metadata": {},
   "source": [
    "# Dataset \"Pedidos de Compras\"\n",
    "\n",
    "Este dataset contém informações sobre clientes de uma loja online, incluindo dados demográficos e detalhes de compras que podem ser usados para prever o comportamento de compra dos consumidores.\n",
    "\n",
    "- Principais Características do Dataset:\n",
    "    - Age: Idade do cliente (em anos).\n",
    "    - Gender: Gênero do cliente (Masculino, Feminino).\n",
    "    - Income: Renda anual do cliente (em dólares).\n",
    "    - MaritalStatus: Estado civil do cliente (Single, Married, Divorced).\n",
    "    - ProductCategory: Categoria do produto adquirido (Electronics, Clothing, Groceries, etc.).\n",
    "    - PurchaseAmount: Valor da compra realizada (em dólares).\n",
    "    - EducationLevel: Nível de escolaridade do cliente (High School, Bachelor’s Degree, Master’s Degree, etc.).\n",
    "    - EmploymentStatus: Situação de emprego do cliente (Employed, Unemployed, Student, Retired).\n",
    "    - Country: País de origem do cliente.\n",
    "    - PurchaseFrequency: Número de compras realizadas no último ano.\n",
    "    - CustomerLoyalty: Indicador de fidelidade do cliente (1 = Cliente fiel, 0 = Novo cliente).\n",
    "\n",
    "- Importância das Variáveis:\n",
    "    - Age: A idade do cliente pode ser um fator importante na segmentação do público e nos padrões de compra.\n",
    "    - Gender: O gênero pode ajudar a identificar preferências de produtos e categorias entre homens e mulheres.\n",
    "    - Income: A renda anual é um indicador crucial para prever o comportamento de compra, especialmente em produtos de maior valor.\n",
    "    - MaritalStatus: O estado civil pode influenciar os hábitos de consumo, especialmente em relação a categorias de produtos para famílias.\n",
    "    - ProductCategory: A categoria do produto ajuda a entender as preferências de compra e pode ser usada para direcionar campanhas de marketing.\n",
    "    - PurchaseAmount: O valor da compra é a variável chave para prever o comportamento de compra e gerar insights sobre os gastos dos clientes.\n",
    "    - EducationLevel: O nível de escolaridade pode estar relacionado a decisões de compra mais informadas e a preferências de produtos específicos.\n",
    "    - EmploymentStatus: A situação de emprego pode influenciar a frequência de compras e o valor gasto por cliente.\n",
    "    - Country: O país de origem dos clientes permite analisar padrões de compras regionais e adequar estratégias de marketing.\n",
    "    - PurchaseFrequency: A frequência de compras mostra a lealdade do cliente e ajuda a identificar padrões de compra recorrentes.\n",
    "    - CustomerLoyalty: O nível de fidelidade do cliente é uma métrica importante para avaliar a retenção e a satisfação dos consumidores."
   ]
  }
 ],
 "metadata": {
  "language_info": {
   "name": "python"
  }
 },
 "nbformat": 4,
 "nbformat_minor": 2
}
