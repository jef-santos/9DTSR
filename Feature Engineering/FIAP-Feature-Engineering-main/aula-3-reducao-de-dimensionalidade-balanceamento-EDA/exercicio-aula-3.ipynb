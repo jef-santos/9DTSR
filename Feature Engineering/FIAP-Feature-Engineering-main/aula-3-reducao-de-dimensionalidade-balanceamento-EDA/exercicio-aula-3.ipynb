{
 "cells": [
  {
   "cell_type": "markdown",
   "metadata": {},
   "source": [
    "# Exercício da Aula 3\n",
    "\n",
    "O objetivo deste exercício é aplicar técnicas de Feature Engineering para transformar e melhorar a qualidade dos dados em um cenário de análise de crédito, com foco em variáveis categóricas e numéricas. Os alunos trabalharão com um dataset fictício de Análise de Crédito e serão desafiados a realizar as seguintes atividades:\n",
    "\n",
    "- Análise Exploratória de Dados:\n",
    "  - Distribuição das Variáveis Categóricas: Visualização da distribuição das variáveis categóricas usando gráficos de contagem.\n",
    "  - Distribuição das Variáveis Numéricas: Análise das variáveis numéricas com histogramas e gráficos de densidade.\n",
    "  - Boxplots: Criação de boxplots para variáveis numéricas para identificar outliers e entender a distribuição dos dados.\n",
    "  - Matriz de Correlação: Visualização da correlação entre variáveis numéricas.\n",
    "  - Análise da Variável de Destino: Análise da distribuição da variável de destino, que indica a qualidade do crédito.\n",
    "\n",
    "- Redução de Dimensionalidade:\n",
    "  - Encoding das Variáveis Categóricas: Aplicação de one-hot encoding para variáveis categóricas e concatenação com variáveis numéricas.\n",
    "  - Normalização: Aplicação de normalização nos dados codificados.\n",
    "  - PCA (Principal Component Analysis): Redução da dimensionalidade para 2 componentes principais e visualização dos dados.\n",
    "  - t-SNE (t-Distributed Stochastic Neighbor Embedding): Redução da dimensionalidade para visualização em 2D.\n",
    "  - LDA (Linear Discriminant Analysis): Redução da dimensionalidade maximizando a separação entre classes.\n",
    "\n",
    "- Balanceamento de Classes:\n",
    "  - SMOTE (Synthetic Minority Over-sampling Technique): Aplicação de SMOTE para balancear as classes no dataset.\n",
    "\n",
    "- Documentação e Relatório:\n",
    "    - Relatório: Documente todos os passos seguidos, as decisões tomadas, e as descobertas realizadas. Inclua gráficos e tabelas relevantes para suportar suas conclusões. Discuta as implicações das transformações de features na análise final."
   ]
  },
  {
   "cell_type": "markdown",
   "metadata": {
    "vscode": {
     "languageId": "plaintext"
    }
   },
   "source": [
    "# Dataset \"Clientes de Banco\"\n",
    "\n",
    "Este dataset contém informações sobre clientes de um banco, incluindo dados demográficos e financeiros que podem ser utilizados para análise de crédito e perfil dos clientes. As variáveis incluídas permitem aplicar técnicas de feature engineering e análise exploratória.\n",
    "\n",
    "- Principais Características do Dataset:\n",
    "    - id: Identificador único do cliente.\n",
    "    - age: Idade do cliente (em anos).\n",
    "    - income: Renda anual do cliente (em dólares).\n",
    "    - loan_amount: Valor do empréstimo solicitado (em dólares).\n",
    "    - credit_score: Pontuação de crédito do cliente (em uma escala de 300 a 850).\n",
    "    - loan_status: Status do empréstimo (aprovado ou rejeitado).\n",
    "    - job_type: Tipo de trabalho do cliente (empregado, autônomo, desempregado).\n",
    "    - education: Nível de escolaridade do cliente (ensino médio, graduação, pós-graduação).\n",
    "    - marital_status: Estado civil do cliente (solteiro, casado, divorciado).\n",
    "    - num_dependents: Número de dependentes do cliente.\n",
    "\n",
    "- Importância das Variáveis:\n",
    "    - id: Serve para identificar unicamente cada cliente no dataset.\n",
    "    - age: A idade pode influenciar a capacidade de pagamento e o perfil de risco do cliente.\n",
    "    - income: A renda anual do cliente é um fator crítico na análise de crédito e na capacidade de pagamento de empréstimos.\n",
    "    - loan_amount: O valor do empréstimo solicitado é importante para avaliar o risco associado a cada cliente.\n",
    "    - credit_score: A pontuação de crédito é um indicador crucial da capacidade de pagamento e do risco de inadimplência.\n",
    "    - loan_status: O status do empréstimo indica se o cliente foi aprovado ou não, sendo uma variável de destino importante para modelos de classificação.\n",
    "    - job_type: O tipo de trabalho pode influenciar a estabilidade financeira do cliente e a probabilidade de aprovação de empréstimos.\n",
    "    - education: O nível de escolaridade pode estar relacionado ao perfil financeiro e ao potencial de ganho do cliente.\n",
    "    - marital_status: O estado civil pode impactar a estabilidade financeira e a necessidade de empréstimos.\n",
    "    - num_dependents: O número de dependentes pode afetar a capacidade financeira do cliente e sua capacidade de pagar empréstimos."
   ]
  }
 ],
 "metadata": {
  "language_info": {
   "name": "python"
  }
 },
 "nbformat": 4,
 "nbformat_minor": 2
}
