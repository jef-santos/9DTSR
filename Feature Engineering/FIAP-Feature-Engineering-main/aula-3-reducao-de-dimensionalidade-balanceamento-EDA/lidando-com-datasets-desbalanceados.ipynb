{
 "cells": [
  {
   "cell_type": "markdown",
   "metadata": {},
   "source": [
    "# 1 Introdução\n",
    "\n",
    "O desbalanceamento de classes é um problema comum em tarefas de aprendizado de máquina, onde uma ou mais classes estão sub-representadas em comparação com outras. Isso pode levar a modelos enviesados que não generalizam bem para dados desconhecidos.\n",
    "\n",
    "- Importância de Tratar o Desbalanceamento de Classes\n",
    "    - Classificação: Em problemas de classificação, modelos podem aprender a predizer majoritariamente a classe dominante, ignorando as classes minoritárias.\n",
    "    - Regressão: Para problemas de regressão, o desbalanceamento pode afetar a distribuição dos valores alvo, levando a previsões enviesadas."
   ]
  },
  {
   "cell_type": "markdown",
   "metadata": {},
   "source": [
    "# 2 Importação de Bibliotecas"
   ]
  },
  {
   "cell_type": "code",
   "execution_count": 2,
   "metadata": {},
   "outputs": [
    {
     "name": "stdout",
     "output_type": "stream",
     "text": [
      "Collecting imblearn\n",
      "  Using cached imblearn-0.0-py2.py3-none-any.whl.metadata (355 bytes)\n",
      "Collecting imbalanced-learn (from imblearn)\n",
      "  Downloading imbalanced_learn-0.12.4-py3-none-any.whl.metadata (8.3 kB)\n",
      "Requirement already satisfied: numpy>=1.17.3 in /opt/anaconda3/envs/myenv/lib/python3.11/site-packages (from imbalanced-learn->imblearn) (2.1.3)\n",
      "Requirement already satisfied: scipy>=1.5.0 in /opt/anaconda3/envs/myenv/lib/python3.11/site-packages (from imbalanced-learn->imblearn) (1.14.1)\n",
      "Requirement already satisfied: scikit-learn>=1.0.2 in /opt/anaconda3/envs/myenv/lib/python3.11/site-packages (from imbalanced-learn->imblearn) (1.5.2)\n",
      "Requirement already satisfied: joblib>=1.1.1 in /opt/anaconda3/envs/myenv/lib/python3.11/site-packages (from imbalanced-learn->imblearn) (1.4.2)\n",
      "Requirement already satisfied: threadpoolctl>=2.0.0 in /opt/anaconda3/envs/myenv/lib/python3.11/site-packages (from imbalanced-learn->imblearn) (3.5.0)\n",
      "Downloading imblearn-0.0-py2.py3-none-any.whl (1.9 kB)\n",
      "Downloading imbalanced_learn-0.12.4-py3-none-any.whl (258 kB)\n",
      "Installing collected packages: imbalanced-learn, imblearn\n",
      "Successfully installed imbalanced-learn-0.12.4 imblearn-0.0\n",
      "Note: you may need to restart the kernel to use updated packages.\n"
     ]
    }
   ],
   "source": [
    "pip install imblearn"
   ]
  },
  {
   "cell_type": "code",
   "execution_count": 3,
   "metadata": {},
   "outputs": [],
   "source": [
    "import pandas as pd\n",
    "import numpy as np\n",
    "from sklearn.model_selection import train_test_split\n",
    "from sklearn.ensemble import RandomForestClassifier\n",
    "from sklearn.metrics import classification_report, confusion_matrix, roc_curve, roc_auc_score, auc\n",
    "from imblearn.over_sampling import SMOTE\n",
    "from imblearn.under_sampling import RandomUnderSampler\n",
    "import matplotlib.pyplot as plt\n",
    "import seaborn as sns\n",
    "import zipfile"
   ]
  },
  {
   "cell_type": "markdown",
   "metadata": {},
   "source": [
    "# 3 Carregamento do dataset"
   ]
  },
  {
   "cell_type": "markdown",
   "metadata": {},
   "source": [
    "## 3.1 Descrição do Dataset\n",
    "\n",
    "Para este exemplo, utilizaremos o conhecido dataset \"Credit Card Fraud Detection\". Este dataset contém transações realizadas com cartões de crédito e é utilizado para prever se uma transação é fraudulenta ou não. O dataset é amplamente utilizado em estudos de detecção de fraudes, especialmente devido ao desafio do desbalanceamento de classes, onde as transações fraudulentas representam uma pequena fração do total.\n",
    "\n",
    "- Principais Características do Dataset:\n",
    "\n",
    "    - Time: Número de segundos que transcorreram entre a primeira transação no dataset e a transação atual. Pode ajudar a identificar padrões temporais de fraude.\n",
    "    - V1 a V28: 28 features numéricas que são o resultado de uma transformação de Principal Component Analysis (PCA), aplicada para anonimizar os dados originais. Essas variáveis encapsulam a informação transacional de uma forma que preserva a privacidade dos clientes.\n",
    "    - Amount: Valor da transação. Essa variável pode ser um indicativo de fraudes, uma vez que transações fraudulentas podem ter padrões específicos de valores.\n",
    "    - Class: Variável alvo binária que indica se a transação foi fraudulenta (1) ou legítima (0).\n",
    "\n",
    "- Importância das Variáveis:\n",
    "    - Time: Pode ser utilizado para analisar padrões temporais, como o horário do dia em que fraudes ocorrem com mais frequência.\n",
    "    - V1 a V28: As transformações PCA dificultam a interpretação direta dessas variáveis, mas elas são críticas para a modelagem, pois capturam padrões complexos de comportamento de compra.\n",
    "    - Amount: Frequentemente correlacionado com a probabilidade de fraude, pois fraudes podem estar associadas a transações atípicas em termos de valor.\n",
    "    - Class: A variável alvo que define o problema de classificação binária, onde o desafio reside em identificar as poucas fraudes (classe 1) dentro de uma massa de transações legítimas (classe 0).\n",
    "\n",
    "- Fonte do Dataset:\n",
    "\n",
    "    - O dataset está originalmente disponível no Kaggle: Credit Card Fraud Detection Dataset."
   ]
  },
  {
   "cell_type": "code",
   "execution_count": 4,
   "metadata": {},
   "outputs": [],
   "source": [
    "# Caminho para o arquivo ZIP\n",
    "zip_path = 'datasets/credit_card.zip'\n",
    "\n",
    "# Nome do arquivo CSV dentro do ZIP\n",
    "csv_filename = 'credit_card.csv'\n",
    "\n",
    "# Ler o arquivo CSV diretamente do ZIP\n",
    "with zipfile.ZipFile(zip_path, 'r') as z:\n",
    "    with z.open(csv_filename) as f:\n",
    "        df = pd.read_csv(f)"
   ]
  },
  {
   "cell_type": "markdown",
   "metadata": {},
   "source": [
    "## 3.2 Exploração inicial dos dados"
   ]
  },
  {
   "cell_type": "code",
   "execution_count": 5,
   "metadata": {},
   "outputs": [
    {
     "data": {
      "text/html": [
       "<div>\n",
       "<style scoped>\n",
       "    .dataframe tbody tr th:only-of-type {\n",
       "        vertical-align: middle;\n",
       "    }\n",
       "\n",
       "    .dataframe tbody tr th {\n",
       "        vertical-align: top;\n",
       "    }\n",
       "\n",
       "    .dataframe thead th {\n",
       "        text-align: right;\n",
       "    }\n",
       "</style>\n",
       "<table border=\"1\" class=\"dataframe\">\n",
       "  <thead>\n",
       "    <tr style=\"text-align: right;\">\n",
       "      <th></th>\n",
       "      <th>Time</th>\n",
       "      <th>V1</th>\n",
       "      <th>V2</th>\n",
       "      <th>V3</th>\n",
       "      <th>V4</th>\n",
       "      <th>V5</th>\n",
       "      <th>V6</th>\n",
       "      <th>V7</th>\n",
       "      <th>V8</th>\n",
       "      <th>V9</th>\n",
       "      <th>...</th>\n",
       "      <th>V21</th>\n",
       "      <th>V22</th>\n",
       "      <th>V23</th>\n",
       "      <th>V24</th>\n",
       "      <th>V25</th>\n",
       "      <th>V26</th>\n",
       "      <th>V27</th>\n",
       "      <th>V28</th>\n",
       "      <th>Amount</th>\n",
       "      <th>Class</th>\n",
       "    </tr>\n",
       "  </thead>\n",
       "  <tbody>\n",
       "    <tr>\n",
       "      <th>0</th>\n",
       "      <td>0.0</td>\n",
       "      <td>-1.359807</td>\n",
       "      <td>-0.072781</td>\n",
       "      <td>2.536347</td>\n",
       "      <td>1.378155</td>\n",
       "      <td>-0.338321</td>\n",
       "      <td>0.462388</td>\n",
       "      <td>0.239599</td>\n",
       "      <td>0.098698</td>\n",
       "      <td>0.363787</td>\n",
       "      <td>...</td>\n",
       "      <td>-0.018307</td>\n",
       "      <td>0.277838</td>\n",
       "      <td>-0.110474</td>\n",
       "      <td>0.066928</td>\n",
       "      <td>0.128539</td>\n",
       "      <td>-0.189115</td>\n",
       "      <td>0.133558</td>\n",
       "      <td>-0.021053</td>\n",
       "      <td>149.62</td>\n",
       "      <td>0</td>\n",
       "    </tr>\n",
       "    <tr>\n",
       "      <th>1</th>\n",
       "      <td>0.0</td>\n",
       "      <td>1.191857</td>\n",
       "      <td>0.266151</td>\n",
       "      <td>0.166480</td>\n",
       "      <td>0.448154</td>\n",
       "      <td>0.060018</td>\n",
       "      <td>-0.082361</td>\n",
       "      <td>-0.078803</td>\n",
       "      <td>0.085102</td>\n",
       "      <td>-0.255425</td>\n",
       "      <td>...</td>\n",
       "      <td>-0.225775</td>\n",
       "      <td>-0.638672</td>\n",
       "      <td>0.101288</td>\n",
       "      <td>-0.339846</td>\n",
       "      <td>0.167170</td>\n",
       "      <td>0.125895</td>\n",
       "      <td>-0.008983</td>\n",
       "      <td>0.014724</td>\n",
       "      <td>2.69</td>\n",
       "      <td>0</td>\n",
       "    </tr>\n",
       "    <tr>\n",
       "      <th>2</th>\n",
       "      <td>1.0</td>\n",
       "      <td>-1.358354</td>\n",
       "      <td>-1.340163</td>\n",
       "      <td>1.773209</td>\n",
       "      <td>0.379780</td>\n",
       "      <td>-0.503198</td>\n",
       "      <td>1.800499</td>\n",
       "      <td>0.791461</td>\n",
       "      <td>0.247676</td>\n",
       "      <td>-1.514654</td>\n",
       "      <td>...</td>\n",
       "      <td>0.247998</td>\n",
       "      <td>0.771679</td>\n",
       "      <td>0.909412</td>\n",
       "      <td>-0.689281</td>\n",
       "      <td>-0.327642</td>\n",
       "      <td>-0.139097</td>\n",
       "      <td>-0.055353</td>\n",
       "      <td>-0.059752</td>\n",
       "      <td>378.66</td>\n",
       "      <td>0</td>\n",
       "    </tr>\n",
       "    <tr>\n",
       "      <th>3</th>\n",
       "      <td>1.0</td>\n",
       "      <td>-0.966272</td>\n",
       "      <td>-0.185226</td>\n",
       "      <td>1.792993</td>\n",
       "      <td>-0.863291</td>\n",
       "      <td>-0.010309</td>\n",
       "      <td>1.247203</td>\n",
       "      <td>0.237609</td>\n",
       "      <td>0.377436</td>\n",
       "      <td>-1.387024</td>\n",
       "      <td>...</td>\n",
       "      <td>-0.108300</td>\n",
       "      <td>0.005274</td>\n",
       "      <td>-0.190321</td>\n",
       "      <td>-1.175575</td>\n",
       "      <td>0.647376</td>\n",
       "      <td>-0.221929</td>\n",
       "      <td>0.062723</td>\n",
       "      <td>0.061458</td>\n",
       "      <td>123.50</td>\n",
       "      <td>0</td>\n",
       "    </tr>\n",
       "    <tr>\n",
       "      <th>4</th>\n",
       "      <td>2.0</td>\n",
       "      <td>-1.158233</td>\n",
       "      <td>0.877737</td>\n",
       "      <td>1.548718</td>\n",
       "      <td>0.403034</td>\n",
       "      <td>-0.407193</td>\n",
       "      <td>0.095921</td>\n",
       "      <td>0.592941</td>\n",
       "      <td>-0.270533</td>\n",
       "      <td>0.817739</td>\n",
       "      <td>...</td>\n",
       "      <td>-0.009431</td>\n",
       "      <td>0.798278</td>\n",
       "      <td>-0.137458</td>\n",
       "      <td>0.141267</td>\n",
       "      <td>-0.206010</td>\n",
       "      <td>0.502292</td>\n",
       "      <td>0.219422</td>\n",
       "      <td>0.215153</td>\n",
       "      <td>69.99</td>\n",
       "      <td>0</td>\n",
       "    </tr>\n",
       "  </tbody>\n",
       "</table>\n",
       "<p>5 rows × 31 columns</p>\n",
       "</div>"
      ],
      "text/plain": [
       "   Time        V1        V2        V3        V4        V5        V6        V7  \\\n",
       "0   0.0 -1.359807 -0.072781  2.536347  1.378155 -0.338321  0.462388  0.239599   \n",
       "1   0.0  1.191857  0.266151  0.166480  0.448154  0.060018 -0.082361 -0.078803   \n",
       "2   1.0 -1.358354 -1.340163  1.773209  0.379780 -0.503198  1.800499  0.791461   \n",
       "3   1.0 -0.966272 -0.185226  1.792993 -0.863291 -0.010309  1.247203  0.237609   \n",
       "4   2.0 -1.158233  0.877737  1.548718  0.403034 -0.407193  0.095921  0.592941   \n",
       "\n",
       "         V8        V9  ...       V21       V22       V23       V24       V25  \\\n",
       "0  0.098698  0.363787  ... -0.018307  0.277838 -0.110474  0.066928  0.128539   \n",
       "1  0.085102 -0.255425  ... -0.225775 -0.638672  0.101288 -0.339846  0.167170   \n",
       "2  0.247676 -1.514654  ...  0.247998  0.771679  0.909412 -0.689281 -0.327642   \n",
       "3  0.377436 -1.387024  ... -0.108300  0.005274 -0.190321 -1.175575  0.647376   \n",
       "4 -0.270533  0.817739  ... -0.009431  0.798278 -0.137458  0.141267 -0.206010   \n",
       "\n",
       "        V26       V27       V28  Amount  Class  \n",
       "0 -0.189115  0.133558 -0.021053  149.62      0  \n",
       "1  0.125895 -0.008983  0.014724    2.69      0  \n",
       "2 -0.139097 -0.055353 -0.059752  378.66      0  \n",
       "3 -0.221929  0.062723  0.061458  123.50      0  \n",
       "4  0.502292  0.219422  0.215153   69.99      0  \n",
       "\n",
       "[5 rows x 31 columns]"
      ]
     },
     "execution_count": 5,
     "metadata": {},
     "output_type": "execute_result"
    }
   ],
   "source": [
    "# Exibir as primeiras linhas do DataFrame\n",
    "df.head()"
   ]
  },
  {
   "cell_type": "code",
   "execution_count": 7,
   "metadata": {},
   "outputs": [
    {
     "name": "stdout",
     "output_type": "stream",
     "text": [
      "Tamanho do dataset: (284807, 31)\n",
      "Class\n",
      "0    0.998273\n",
      "1    0.001727\n",
      "Name: proportion, dtype: float64\n"
     ]
    }
   ],
   "source": [
    "# Checar possível desbalanceamento do dataset\n",
    "print(f'Tamanho do dataset: {df.shape}')\n",
    "\n",
    "print(df['Class'].value_counts(normalize=True))"
   ]
  },
  {
   "cell_type": "markdown",
   "metadata": {},
   "source": [
    "## 3.3 Criando separação inicial dos dados"
   ]
  },
  {
   "cell_type": "code",
   "execution_count": 8,
   "metadata": {},
   "outputs": [],
   "source": [
    "# Separação dos dados\n",
    "X_unbalaced, X_val, y_unbalanced, y_val = train_test_split(df.drop('Class', axis=1), df['Class'], test_size=0.2, random_state=42)\n",
    "\n",
    "# Concatenação dos dataframes\n",
    "df_unbalaced = pd.concat([X_unbalaced, y_unbalanced], axis=1)\n",
    "df_val = pd.concat([X_val, y_val], axis=1)"
   ]
  },
  {
   "cell_type": "code",
   "execution_count": 6,
   "metadata": {},
   "outputs": [
    {
     "name": "stdout",
     "output_type": "stream",
     "text": [
      "Tamanho do dataset: (227845, 31)\n",
      "Class\n",
      "0    0.998271\n",
      "1    0.001729\n",
      "Name: proportion, dtype: float64\n"
     ]
    }
   ],
   "source": [
    "# Checar possível desbalanceamento do dataset df_unbalanced\n",
    "print(f'Tamanho do dataset: {df_unbalaced.shape}')\n",
    "\n",
    "print(df_unbalaced['Class'].value_counts(normalize=True))"
   ]
  },
  {
   "cell_type": "code",
   "execution_count": 9,
   "metadata": {},
   "outputs": [
    {
     "name": "stdout",
     "output_type": "stream",
     "text": [
      "Tamanho do dataset: (56962, 31)\n",
      "Class\n",
      "0    0.99828\n",
      "1    0.00172\n",
      "Name: proportion, dtype: float64\n"
     ]
    }
   ],
   "source": [
    "# Checar possível desbalanceamento do dataset df_val\n",
    "print(f'Tamanho do dataset: {df_val.shape}')\n",
    "\n",
    "print(df_val['Class'].value_counts(normalize=True))"
   ]
  },
  {
   "cell_type": "markdown",
   "metadata": {},
   "source": [
    "# 4 Técnicas para Lidando com Desbalanceamento de Classes"
   ]
  },
  {
   "cell_type": "markdown",
   "metadata": {},
   "source": [
    "## 4.1 Under-sampling\n",
    "\n",
    "Under-sampling: Reduz o número de exemplos da classe majoritária para equilibrar as classes."
   ]
  },
  {
   "cell_type": "code",
   "execution_count": 10,
   "metadata": {},
   "outputs": [],
   "source": [
    "# Aplicação de Under-sampling\n",
    "undersample = RandomUnderSampler(sampling_strategy=.5)\n",
    "X_under, y_under = undersample.fit_resample(df_unbalaced.drop('Class', axis=1), df_unbalaced['Class'])"
   ]
  },
  {
   "cell_type": "code",
   "execution_count": 9,
   "metadata": {},
   "outputs": [
    {
     "name": "stdout",
     "output_type": "stream",
     "text": [
      "Tamanho do dataset: (1182,)\n",
      "Class\n",
      "0    0.666667\n",
      "1    0.333333\n",
      "Name: proportion, dtype: float64\n"
     ]
    }
   ],
   "source": [
    "# Checar possível desbalanceamento do dataset\n",
    "print(f'Tamanho do dataset: {y_under.shape}')\n",
    "\n",
    "print(y_under.value_counts(normalize=True))"
   ]
  },
  {
   "cell_type": "markdown",
   "metadata": {},
   "source": [
    "## 4.2 Over-sampling\n",
    "\n",
    "Over-sampling: Aumenta o número de exemplos da classe minoritária através de replicação ou geração de novos exemplos (e.g., SMOTE)."
   ]
  },
  {
   "cell_type": "code",
   "execution_count": 15,
   "metadata": {},
   "outputs": [],
   "source": [
    "# Aplicação de Over-sampling (SMOTE)\n",
    "smote = SMOTE(sampling_strategy=1.0)\n",
    "X_smote, y_smote = smote.fit_resample(df_unbalaced.drop('Class', axis=1), df_unbalaced['Class'])"
   ]
  },
  {
   "cell_type": "code",
   "execution_count": 16,
   "metadata": {},
   "outputs": [
    {
     "name": "stdout",
     "output_type": "stream",
     "text": [
      "Tamanho do dataset: (454902,)\n",
      "Class\n",
      "0    0.5\n",
      "1    0.5\n",
      "Name: proportion, dtype: float64\n"
     ]
    }
   ],
   "source": [
    "# Checar possível desbalanceamento do dataset\n",
    "print(f'Tamanho do dataset: {y_smote.shape}')\n",
    "\n",
    "print(y_smote.value_counts(normalize=True))"
   ]
  },
  {
   "cell_type": "markdown",
   "metadata": {},
   "source": [
    "# 5 Exemplo de ML: Comparando Resultados"
   ]
  },
  {
   "cell_type": "markdown",
   "metadata": {},
   "source": [
    "## 5.1 Comparando o desempenho nos dados desbalanceados"
   ]
  },
  {
   "cell_type": "code",
   "execution_count": 17,
   "metadata": {},
   "outputs": [
    {
     "name": "stdout",
     "output_type": "stream",
     "text": [
      "              precision    recall  f1-score   support\n",
      "\n",
      "           0       1.00      1.00      1.00     56864\n",
      "           1       0.95      0.78      0.85        98\n",
      "\n",
      "    accuracy                           1.00     56962\n",
      "   macro avg       0.97      0.89      0.93     56962\n",
      "weighted avg       1.00      1.00      1.00     56962\n",
      "\n"
     ]
    }
   ],
   "source": [
    "# Treinando o modelo sem pesos ajustados\n",
    "model = RandomForestClassifier()\n",
    "model.fit(df_unbalaced.drop(['Class'], axis=1), df_unbalaced['Class'])\n",
    "\n",
    "# Avaliação do modelo nos dados de Validação\n",
    "y_pred_unbalanced = model.predict(df_val.drop(['Class'], axis=1))\n",
    "print(classification_report(df_val['Class'], y_pred_unbalanced))"
   ]
  },
  {
   "cell_type": "code",
   "execution_count": 18,
   "metadata": {},
   "outputs": [
    {
     "name": "stdout",
     "output_type": "stream",
     "text": [
      "              precision    recall  f1-score   support\n",
      "\n",
      "           0       1.00      1.00      1.00     56864\n",
      "           1       0.99      0.73      0.84        98\n",
      "\n",
      "    accuracy                           1.00     56962\n",
      "   macro avg       0.99      0.87      0.92     56962\n",
      "weighted avg       1.00      1.00      1.00     56962\n",
      "\n"
     ]
    }
   ],
   "source": [
    "# Treinando o modelo com pesos ajustados\n",
    "model_weighted = RandomForestClassifier(class_weight='balanced')\n",
    "model_weighted.fit(df_unbalaced.drop(['Class'], axis=1), df_unbalaced['Class'])\n",
    "\n",
    "# Avaliação do modelo nos dados de Validação\n",
    "y_pred_class_weight = model_weighted.predict(df_val.drop(['Class'], axis=1))\n",
    "print(classification_report(df_val['Class'], y_pred_class_weight))"
   ]
  },
  {
   "cell_type": "markdown",
   "metadata": {},
   "source": [
    "## 5.2 Comparando o desempenho nos dados balanceados - Under-sampling"
   ]
  },
  {
   "cell_type": "code",
   "execution_count": 19,
   "metadata": {},
   "outputs": [
    {
     "name": "stdout",
     "output_type": "stream",
     "text": [
      "              precision    recall  f1-score   support\n",
      "\n",
      "           0       1.00      0.99      1.00     56864\n",
      "           1       0.17      0.89      0.28        98\n",
      "\n",
      "    accuracy                           0.99     56962\n",
      "   macro avg       0.58      0.94      0.64     56962\n",
      "weighted avg       1.00      0.99      0.99     56962\n",
      "\n"
     ]
    }
   ],
   "source": [
    "# Treinamento do modelo nos dados balancedados - Under-sampling\n",
    "model_under = RandomForestClassifier()\n",
    "model_under.fit(X_under, y_under)\n",
    "\n",
    "# Avaliação do modelo nos dados de Validação\n",
    "y_pred_under = model_under.predict(df_val.drop(['Class'], axis=1))\n",
    "print(classification_report(df_val['Class'], y_pred_under))"
   ]
  },
  {
   "cell_type": "markdown",
   "metadata": {},
   "source": [
    "## 5.3 Comparando o desempenho nos dados balanceados - SMOTE"
   ]
  },
  {
   "cell_type": "code",
   "execution_count": 20,
   "metadata": {},
   "outputs": [
    {
     "name": "stdout",
     "output_type": "stream",
     "text": [
      "              precision    recall  f1-score   support\n",
      "\n",
      "           0       1.00      1.00      1.00     56864\n",
      "           1       0.86      0.85      0.86        98\n",
      "\n",
      "    accuracy                           1.00     56962\n",
      "   macro avg       0.93      0.92      0.93     56962\n",
      "weighted avg       1.00      1.00      1.00     56962\n",
      "\n"
     ]
    }
   ],
   "source": [
    "# Treinamento do modelo nos dados balancedados - SMOTE\n",
    "model_smote = RandomForestClassifier()\n",
    "model_smote.fit(X_smote, y_smote)\n",
    "\n",
    "# Avaliação do modelo nos dados de Validação\n",
    "y_pred_smote = model_smote.predict(df_val.drop(['Class'], axis=1))\n",
    "print(classification_report(df_val['Class'], y_pred_smote))"
   ]
  },
  {
   "cell_type": "markdown",
   "metadata": {},
   "source": [
    "# 6 Comparação Gráfica dos Resultados"
   ]
  },
  {
   "cell_type": "markdown",
   "metadata": {},
   "source": [
    "## 6.1 Pequena Explicação\n",
    "\n",
    "A curva ROC (Receiver Operating Characteristic) é uma ferramenta gráfica utilizada para avaliar o desempenho de um modelo de classificação binária. Ela é construída ao plotar a taxa de verdadeiros positivos (True Positive Rate - TPR) contra a taxa de falsos positivos (False Positive Rate - FPR) para diferentes limiares de classificação.\n",
    "\n",
    "- Componentes Principais da Curva ROC:\n",
    "    - True Positive Rate (TPR): Também conhecido como sensibilidade ou recall, representa a proporção de positivos corretamente identificados pelo modelo.\n",
    "    - False Positive Rate (FPR): Representa a proporção de negativos que foram incorretamente classificados como positivos pelo modelo.\n",
    "​\n",
    "- Interpretação da Curva ROC:\n",
    "    - Diagonal (linha pontilhada): Representa um modelo que faz classificações aleatórias, ou seja, não é melhor do que um chute.\n",
    "    - Curva próxima ao canto superior esquerdo: Indica um bom desempenho do modelo, com alta taxa de verdadeiros positivos e baixa taxa de falsos positivos.\n",
    "    - AUC (Área Sob a Curva): Um valor que resume a curva ROC em um único número, variando de 0 a 1. Quanto mais próximo de 1, melhor o modelo.\n",
    "\n",
    "No contexto de modelos desbalanceados, a curva ROC e a AUC são especialmente úteis, pois oferecem uma visão mais completa da capacidade do modelo em distinguir entre as classes, independentemente do limiar de decisão escolhido."
   ]
  },
  {
   "cell_type": "code",
   "execution_count": 21,
   "metadata": {},
   "outputs": [],
   "source": [
    "# Curva ROC para comparação entre modelos\n",
    "fpr_unbalanced, tpr_unbalanced, _ = roc_curve(df_val['Class'], y_pred_unbalanced)\n",
    "fpr_class_weight, tpr_class_weight, _ = roc_curve(df_val['Class'], y_pred_class_weight)\n",
    "fpr_under, tpr_under, _ = roc_curve(df_val['Class'], y_pred_under)\n",
    "fpr_smote, tpr_smote, _ = roc_curve(df_val['Class'], y_pred_smote) \n",
    "\n",
    "# Calculando a AUC para cada modelo\n",
    "auc_unbalanced = roc_auc_score(df_val['Class'], y_pred_unbalanced)\n",
    "auc_class_weight = roc_auc_score(df_val['Class'], y_pred_class_weight)\n",
    "auc_under = roc_auc_score(df_val['Class'], y_pred_under)\n",
    "auc_smote = roc_auc_score(df_val['Class'], y_pred_smote)"
   ]
  },
  {
   "cell_type": "code",
   "execution_count": 22,
   "metadata": {},
   "outputs": [
    {
     "data": {
      "image/png": "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",
      "text/plain": [
       "<Figure size 1000x600 with 1 Axes>"
      ]
     },
     "metadata": {},
     "output_type": "display_data"
    }
   ],
   "source": [
    "# Plotando as curvas ROC com AUC nas legendas\n",
    "plt.figure(figsize=(10, 6))\n",
    "plt.plot(fpr_unbalanced, tpr_unbalanced, label=f\"Modelo com dados desbalanceados (AUC = {auc_unbalanced:.2f})\")\n",
    "plt.plot(fpr_class_weight, tpr_class_weight, label=f\"Modelo com Class Weight (AUC = {auc_class_weight:.2f})\")\n",
    "plt.plot(fpr_under, tpr_under, label=f\"Modelo com dados balance