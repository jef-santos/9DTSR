{
 "cells": [
  {
   "cell_type": "markdown",
   "metadata": {},
   "source": [
    "# 1 Introdução \n",
    "\n",
    "Neste notebook, exploraremos diferentes técnicas de seleção de features para melhorar a performance dos modelos de Machine Learning. A seleção de features é um passo crucial no processo de engenharia de dados e pode ajudar a reduzir a complexidade do modelo, melhorar a interpretabilidade e aumentar a precisão.\n",
    "\n",
    "- Objetivos\n",
    "Compreender a Importância da Seleção de Features: Identificar as principais técnicas de seleção de features e como elas podem influenciar a performance do modelo.\n",
    "\n",
    "- Aplicar Técnicas de Seleção de Features:\n",
    "    - Filter Methods: Métodos que avaliam as features de forma independente do modelo, selecionando aquelas que têm a melhor performance estatística.\n",
    "    - Wrapper Methods: Métodos que utilizam um modelo para avaliar a importância das features, selecionando subconjuntos de features baseados na performance do modelo.\n",
    "    - Embedded Methods: Métodos que realizam a seleção de features durante o processo de treinamento do modelo, combinando a construção do modelo e a seleção de features.\n",
    "\n",
    "- Comparar o Desempenho do Modelo: Avaliar como a seleção de features afeta a performance do modelo de Machine Learning utilizando um dataset de qualidade de vinho."
   ]
  },
  {
   "cell_type": "markdown",
   "metadata": {},
   "source": [
    "# 2 Importando Bibliotecas e Configurando Ambiente"
   ]
  },
  {
   "cell_type": "code",
   "execution_count": 1,
   "metadata": {},
   "outputs": [],
   "source": [
    "import pandas as pd\n",
    "import numpy as np\n",
    "import matplotlib.pyplot as plt\n",
    "import seaborn as sns\n",
    "from sklearn.model_selection import train_test_split\n",
    "from sklearn.feature_selection import SelectKBest, f_classif, RFE\n",
    "from sklearn.metrics import classification_report, confusion_matrix, roc_curve, roc_auc_score, auc\n",
    "from sklearn.ensemble import RandomForestClassifier\n",
    "from sklearn.linear_model import LogisticRegression\n",
    "from sklearn.metrics import classification_report, confusion_matrix"
   ]
  },
  {
   "cell_type": "markdown",
   "metadata": {},
   "source": [
    "# 3 Carregamento do Dataset"
   ]
  },
  {
   "cell_type": "markdown",
   "metadata": {},
   "source": [
    "## 3.1 Descrição do dataset\n",
    "\n",
    "Para este exemplo, utilizaremos o dataset \"Wine Quality\" disponível no UCI Machine Learning Repository. Este dataset contém informações sobre a qualidade de vinhos tintos da região do Douro, em Portugal, com base em diversas características químicas. É amplamente utilizado em estudos de machine learning para predição e classificação da qualidade do vinho.\n",
    "\n",
    "- Principais Características do Dataset:\n",
    "    - fixed acidity: Acidez fixa do vinho.\n",
    "    - volatile acidity: Acidez volátil do vinho.\n",
    "    - citric acid: Conteúdo de ácido cítrico no vinho.\n",
    "    - residual sugar: Açúcar residual no vinho.\n",
    "    - chlorides: Concentração de cloretos no vinho.\n",
    "    - free sulfur dioxide: Quantidade de dióxido de enxofre livre no vinho.\n",
    "    - total sulfur dioxide: Quantidade total de dióxido de enxofre no vinho.\n",
    "    - density: Densidade do vinho.\n",
    "    - pH: pH do vinho.\n",
    "    - sulphates: Concentração de sulfatos no vinho.\n",
    "    - alcohol: Percentual de álcool no vinho.\n",
    "    - quality: Qualidade do vinho (variável alvo), avaliada em uma escala de 0 a 10.\n",
    "\n",
    "- Importância das Variáveis:\n",
    "    - Acidez Fixa e Volátil: Afetam o sabor do vinho. Altos níveis de acidez volátil podem ser indesejáveis.\n",
    "    - Ácido Cítrico: Contribui para a frescura e sabor do vinho.\n",
    "    - Açúcar Residual: Impacta o sabor doce do vinho; níveis mais altos podem indicar um vinho doce.\n",
    "    - Cloretos: Níveis de sal no vinho; altos níveis podem indicar defeitos.\n",
    "    - Dióxido de Enxofre Livre e Total: Usado como conservante; protege contra oxidação e bactérias.\n",
    "    - Densidade: Relacionada ao conteúdo de açúcar e álcool.\n",
    "    - pH: Mede a acidez; influenciado pela acidez fixa e volátil.\n",
    "    - Sulfatos: Contribuem para a estabilidade microbiológica e frescura.\n",
    "    - Álcool: Contribui para o corpo e sabor do vinho.\n",
    "    - Qualidade: Avaliação sensorial do vinho pelos provadores, sendo a variável alvo.\n",
    "\n",
    "- Fonte do Dataset\n",
    "    - O dataset está originalmente disponível em: Wine Quality Data Set no UCI Machine Learning Repository\n",
    "    - Para carregar o dataset em um DataFrame do pandas:\n",
    "\n",
    "        import pandas as pd\n",
    "\n",
    "        url = \"https://archive.ics.uci.edu/ml/machine-learning-databases/wine-quality/winequality-red.csv\"\n",
    "\n",
    "        df = pd.read_csv(url, delimiter=';')"
   ]
  },
  {
   "cell_type": "code",
   "execution_count": 2,
   "metadata": {},
   "outputs": [
    {
     "data": {
      "text/html": [
       "<div>\n",
       "<style scoped>\n",
       "    .dataframe tbody tr th:only-of-type {\n",
       "        vertical-align: middle;\n",
       "    }\n",
       "\n",
       "    .dataframe tbody tr th {\n",
       "        vertical-align: top;\n",
       "    }\n",
       "\n",
       "    .dataframe thead th {\n",
       "        text-align: right;\n",
       "    }\n",
       "</style>\n",
       "<table border=\"1\" class=\"dataframe\">\n",
       "  <thead>\n",
       "    <tr style=\"text-align: right;\">\n",
       "      <th></th>\n",
       "      <th>fixed acidity</th>\n",
       "      <th>volatile acidity</th>\n",
       "      <th>citric acid</th>\n",
       "      <th>residual sugar</th>\n",
       "      <th>chlorides</th>\n",
       "      <th>free sulfur dioxide</th>\n",
       "      <th>total sulfur dioxide</th>\n",
       "      <th>density</th>\n",
       "      <th>pH</th>\n",
       "      <th>sulphates</th>\n",
       "      <th>alcohol</th>\n",
       "      <th>quality</th>\n",
       "    </tr>\n",
       "  </thead>\n",
       "  <tbody>\n",
       "    <tr>\n",
       "      <th>0</th>\n",
       "      <td>7.4</td>\n",
       "      <td>0.70</td>\n",
       "      <td>0.00</td>\n",
       "      <td>1.9</td>\n",
       "      <td>0.076</td>\n",
       "      <td>11.0</td>\n",
       "      <td>34.0</td>\n",
       "      <td>0.9978</td>\n",
       "      <td>3.51</td>\n",
       "      <td>0.56</td>\n",
       "      <td>9.4</td>\n",
       "      <td>0</td>\n",
       "    </tr>\n",
       "    <tr>\n",
       "      <th>1</th>\n",
       "      <td>7.8</td>\n",
       "      <td>0.88</td>\n",
       "      <td>0.00</td>\n",
       "      <td>2.6</td>\n",
       "      <td>0.098</td>\n",
       "      <td>25.0</td>\n",
       "      <td>67.0</td>\n",
       "      <td>0.9968</td>\n",
       "      <td>3.20</td>\n",
       "      <td>0.68</td>\n",
       "      <td>9.8</td>\n",
       "      <td>0</td>\n",
       "    </tr>\n",
       "    <tr>\n",
       "      <th>2</th>\n",
       "      <td>7.8</td>\n",
       "      <td>0.76</td>\n",
       "      <td>0.04</td>\n",
       "      <td>2.3</td>\n",
       "      <td>0.092</td>\n",
       "      <td>15.0</td>\n",
       "      <td>54.0</td>\n",
       "      <td>0.9970</td>\n",
       "      <td>3.26</td>\n",
       "      <td>0.65</td>\n",
       "      <td>9.8</td>\n",
       "      <td>0</td>\n",
       "    </tr>\n",
       "    <tr>\n",
       "      <th>3</th>\n",
       "      <td>11.2</td>\n",
       "      <td>0.28</td>\n",
       "      <td>0.56</td>\n",
       "      <td>1.9</td>\n",
       "      <td>0.075</td>\n",
       "      <td>17.0</td>\n",
       "      <td>60.0</td>\n",
       "      <td>0.9980</td>\n",
       "      <td>3.16</td>\n",
       "      <td>0.58</td>\n",
       "      <td>9.8</td>\n",
       "      <td>1</td>\n",
       "    </tr>\n",
       "    <tr>\n",
       "      <th>4</th>\n",
       "      <td>7.4</td>\n",
       "      <td>0.70</td>\n",
       "      <td>0.00</td>\n",
       "      <td>1.9</td>\n",
       "      <td>0.076</td>\n",
       "      <td>11.0</td>\n",
       "      <td>34.0</td>\n",
       "      <td>0.9978</td>\n",
       "      <td>3.51</td>\n",
       "      <td>0.56</td>\n",
       "      <td>9.4</td>\n",
       "      <td>0</td>\n",
       "    </tr>\n",
       "  </tbody>\n",
       "</table>\n",
       "</div>"
      ],
      "text/plain": [
       "   fixed acidity  volatile acidity  citric acid  residual sugar  chlorides  \\\n",
       "0            7.4              0.70         0.00             1.9      0.076   \n",
       "1            7.8              0.88         0.00             2.6      0.098   \n",
       "2            7.8              0.76         0.04             2.3      0.092   \n",
       "3           11.2              0.28         0.56             1.9      0.075   \n",
       "4            7.4              0.70         0.00             1.9      0.076   \n",
       "\n",
       "   free sulfur dioxide  total sulfur dioxide  density    pH  sulphates  \\\n",
       "0                 11.0                  34.0   0.9978  3.51       0.56   \n",
       "1                 25.0                  67.0   0.9968  3.20       0.68   \n",
       "2                 15.0                  54.0   0.9970  3.26       0.65   \n",
       "3                 17.0                  60.0   0.9980  3.16       0.58   \n",
       "4                 11.0                  34.0   0.9978  3.51       0.56   \n",
       "\n",
       "   alcohol  quality  \n",
       "0      9.4        0  \n",
       "1      9.8        0  \n",
       "2      9.8        0  \n",
       "3      9.8        1  \n",
       "4      9.4        0  "
      ]
     },
     "execution_count": 2,
     "metadata": {},
     "output_type": "execute_result"
    }
   ],
   "source": [
    "# Carregando dataset\n",
    "df = pd.read_csv(\"datasets/wine-quality-red.csv\")\n",
    "\n",
    "# Transformando a categoria\n",
    "df['quality'] = df['quality'].apply(lambda x: 0 if x < 6 else 1)\n",
    "\n",
    "# Visualizamos as primeiras linhas do dataset\n",
    "df.head()"
   ]
  },
  {
   "cell_type": "markdown",
   "metadata": {},
   "source": [
    "# 4 Análise Exploratória Inicial"
   ]
  },
  {
   "cell_type": "code",
   "execution_count": 3,
   "metadata": {},
   "outputs": [
    {
     "name": "stdout",
     "output_type": "stream",
     "text": [
      "<class 'pandas.core.frame.DataFrame'>\n",
      "RangeIndex: 1599 entries, 0 to 1598\n",
      "Data columns (total 12 columns):\n",
      " #   Column                Non-Null Count  Dtype  \n",
      "---  ------                --------------  -----  \n",
      " 0   fixed acidity         1599 non-null   float64\n",
      " 1   volatile acidity      1599 non-null   float64\n",
      " 2   citric acid           1599 non-null   float64\n",
      " 3   residual sugar        1599 non-null   float64\n",
      " 4   chlorides             1599 non-null   float64\n",
      " 5   free sulfur dioxide   1599 non-null   float64\n",
      " 6   total sulfur dioxide  1599 non-null   float64\n",
      " 7   density               1599 non-null   float64\n",
      " 8   pH                    1599 non-null   float64\n",
      " 9   sulphates             1599 non-null   float64\n",
      " 10  alcohol               1599 non-null   float64\n",
      " 11  quality               1599 non-null   int64  \n",
      "dtypes: float64(11), int64(1)\n",
      "memory usage: 150.0 KB\n"
     ]
    }
   ],
   "source": [
    "# Visualizando informações gerais sobre o dataset\n",
    "df.info()"
   ]
  },
  {
   "cell_type": "markdown",
   "metadata": {},
   "source": [
    "# 5 Técnicas de Seleção de Features"
   ]
  },
  {
   "cell_type": "markdown",
   "metadata": {},
   "source": [
    "## 5.1 Filter Methods\n",
    "\n",
    "Usaremos o método SelectKBest com ANOVA F-statistic para selecionar as melhores features."
   ]
  },
  {
   "cell_type": "code",
   "execution_count": 4,
   "metadata": {},
   "outputs": [
    {
     "data": {
      "text/html": [
       "<div>\n",
       "<style scoped>\n",
       "    .dataframe tbody tr th:only-of-type {\n",
       "        vertical-align: middle;\n",
       "    }\n",
       "\n",
       "    .dataframe tbody tr th {\n",
       "        vertical-align: top;\n",
       "    }\n",
       "\n",
       "    .dataframe thead th {\n",
       "        text-align: right;\n",
       "    }\n",
       "</style>\n",
       "<table border=\"1\" class=\"dataframe\">\n",
       "  <thead>\n",
       "    <tr style=\"text-align: right;\">\n",
       "      <th></th>\n",
       "      <th>Score</th>\n",
       "    </tr>\n",
       "  </thead>\n",
       "  <tbody>\n",
       "    <tr>\n",
       "      <th>alcohol</th>\n",
       "      <td>372.194765</td>\n",
       "    </tr>\n",
       "    <tr>\n",
       "      <th>volatile acidity</th>\n",
       "      <td>184.022796</td>\n",
       "    </tr>\n",
       "    <tr>\n",
       "      <th>total sulfur dioxide</th>\n",
       "      <td>90.816016</td>\n",
       "    </tr>\n",
       "    <tr>\n",
       "      <th>sulphates</th>\n",
       "      <td>79.737680</td>\n",
       "    </tr>\n",
       "    <tr>\n",
       "      <th>citric acid</th>\n",
       "      <td>41.490123</td>\n",
       "    </tr>\n",
       "    <tr>\n",
       "      <th>density</th>\n",
       "      <td>41.479723</td>\n",
       "    </tr>\n",
       "    <tr>\n",
       "      <th>chlorides</th>\n",
       "      <td>19.378659</td>\n",
       "    </tr>\n",
       "    <tr>\n",
       "      <th>fixed acidity</th>\n",
       "      <td>14.573088</td>\n",
       "    </tr>\n",
       "    <tr>\n",
       "      <th>free sulfur dioxide</th>\n",
       "      <td>6.114110</td>\n",
       "    </tr>\n",
       "    <tr>\n",
       "      <th>pH</th>\n",
       "      <td>0.017014</td>\n",
       "    </tr>\n",
       "    <tr>\n",
       "      <th>residual sugar</th>\n",
       "      <td>0.007454</td>\n",
       "    </tr>\n",
       "  </tbody>\n",
       "</table>\n",
       "</div>"
      ],
      "text/plain": [
       "                           Score\n",
       "alcohol               372.194765\n",
       "volatile acidity      184.022796\n",
       "total sulfur dioxide   90.816016\n",
       "sulphates              79.737680\n",
       "citric acid            41.490123\n",
       "density                41.479723\n",
       "chlorides              19.378659\n",
       "fixed acidity          14.573088\n",
       "free sulfur dioxide     6.114110\n",
       "pH                      0.017014\n",
       "residual sugar          0.007454"
      ]
     },
     "execution_count": 4,
     "metadata": {},
     "output_type": "execute_result"
    }
   ],
   "source": [
    "# Separando as features e o target\n",
    "X = df.drop('quality', axis=1)\n",
    "y = df['quality']\n",
    "\n",
    "# Aplicando o SelectKBest\n",
    "selector = SelectKBest(score_func=f_classif, k=5)\n",
    "X_KBest_np = selector.fit_transform(X, y)\n",
    "X_KBest = X[X.columns[selector.get_support()]]\n",
    "\n",
    "# Resultados das pontuações das features\n",
    "scores = pd.DataFrame(selector.scores_, index=X.columns, columns=['Score'])\n",
    "scores.sort_values(by='Score', ascending=False)"
   ]
  },
  {
   "cell_type": "markdown",
   "metadata": {},
   "source": [
    "## 5.2 Wrapper Methods\n",
    "\n",
    "Utilizaremos o método RFE (Recursive Feature Elimination) com um classificador."
   ]
  },
  {
   "cell_type": "code",
   "execution_count": 5,
   "metadata": {},
   "outputs": [
    {
     "name": "stderr",
     "output_type": "stream",
     "text": [
      "c:\\Users\\filip\\GitHub\\FIAP-Feature-Engineering\\venv\\Lib\\site-packages\\sklearn\\linear_model\\_logistic.py:469: ConvergenceWarning: lbfgs failed to converge (status=1):\n",
      "STOP: TOTAL NO. of ITERATIONS REACHED LIMIT.\n",
      "\n",
      "Increase the number of iterations (max_iter) or scale the data as shown in:\n",
      "    https://scikit-learn.org/stable/modules/preprocessing.html\n",
      "Please also refer to the documentation for alternative solver options:\n",
      "    https://scikit-learn.org/stable/modules/linear_model.html#logistic-regression\n",
      "  n_iter_i = _check_optimize_result(\n",
      "c:\\Users\\filip\\GitHub\\FIAP-Feature-Engineering\\venv\\Lib\\site-packages\\sklearn\\linear_model\\_logistic.py:469: ConvergenceWarning: lbfgs failed to converge (status=1):\n",
      "STOP: TOTAL NO. of ITERATIONS REACHED LIMIT.\n",
      "\n",
      "Increase the number of iterations (max_iter) or scale the data as shown in:\n",
      "    https://scikit-learn.org/stable/modules/preprocessing.html\n",
      "Please also refer to the documentation for alternative solver options:\n",
      "    https://scikit-learn.org/stable/modules/linear_model.html#logistic-regression\n",
      "  n_iter_i = _check_optimize_result(\n",
      "c:\\Users\\filip\\GitHub\\FIAP-Feature-Engineering\\venv\\Lib\\site-packages\\sklearn\\linear_model\\_logistic.py:469: ConvergenceWarning: lbfgs failed to converge (status=1):\n",
      "STOP: TOTAL NO. of ITERATIONS REACHED LIMIT.\n",
      "\n",
      "Increase the number of iterations (max_iter) or scale the data as shown in:\n",
      "    https://scikit-learn.org/stable/modules/preprocessing.html\n",
      "Please also refer to the documentation for alternative solver options:\n",
      "    https://scikit-learn.org/stable/modules/linear_model.html#logistic-regression\n",
      "  n_iter_i = _check_optimize_result(\n"
     ]
    }
   ],
   "source": [
    "# Inicializando o classificador e o RFE\n",
    "model = LogisticRegression()\n",
    "rfe = RFE(estimator=model, n_features_to_select=5 )  # Selecionar 5 melhores features\n",
    "fit = rfe.fit(X, y)"
   ]
  },
  {
   "cell_type": "code",
   "execution_count": 6,
   "metadata": {},
   "outputs": [
    {
     "name": "stdout",
     "output_type": "stream",
     "text": [
      "                 Feature  Rank\n",
      "1       volatile acidity     1\n",
      "2            citric acid     1\n",
      "4              chlorides     1\n",
      "9              sulphates     1\n",
      "10               alcohol     1\n",
      "8                     pH     2\n",
      "3         residual sugar     3\n",
      "7                density     4\n",
      "5    free sulfur dioxide     5\n",
      "6   total sulfur dioxide     6\n",
      "0          fixed acidity     7\n"
     ]
    }
   ],
   "source": [
    "# Resultados do RFE\n",
    "rfe_features = pd.DataFrame({'Feature': X.columns, 'Rank': fit.ranking_})\n",
    "rfe_features.sort_values(by='Rank', inplace=True)\n",
    "print(rfe_features)\n",
    "\n",
    "# Selecionar as 5 melhores features\n",
    "best_features = rfe_features[rfe_features['Rank'] == 1]['Feature']\n",
    "X_rfe = X[best_features]"
   ]
  },
  {
   "cell_type": "markdown",
   "metadata": {},
   "source": [
    "## 5.3 Embedded Methods\n",
    "\n",
    "Vamos usar o classificador RandomForestClassifier para selecionar as features importantes."
   ]
  },
  {
   "cell_type": "code",
   "execution_count": 7,
   "metadata": {},
   "outputs": [],
   "source": [
    "# Inicializando o classificador\n",
    "model = RandomForestClassifier()\n",
    "model.fit(X, y)\n",
    "\n",
    "# Importância das features\n",
    "importance = pd.DataFrame({'Feature': X.columns, 'Importance': model.feature_importances_})\n",
    "importance.sort_values(by='Importance', ascending=False)\n",
    "\n",
    "# Selecionando as 5 features mais importantes\n",
    "top_features = importance.head(5)['Feature']\n",
    "X_embedded_features = X[top_features]"
   ]
  },
  {
   "cell_type": "markdown",
   "metadata": {},
   "source": [
    "# 6 Comparativo entre Features Não e Selecionadas"
   ]
  },
  {
   "cell_type": "markdown",
   "metadata": {},
   "source": [
    "## 6.1 Features não selecionadas"
   ]
  },
  {
   "cell_type": "code",
   "execution_count": 8,
   "metadata": {},
   "outputs": [
    {
     "name": "stdout",
     "output_type": "stream",
     "text": [
      "Dataset Bruto - Classification Report:\n",
      "               precision    recall  f1-score   support\n",
      "\n",
      "           0       0.68      0.71      0.70       213\n",
      "           1       0.76      0.74      0.75       267\n",
      "\n",
      "    accuracy                           0.73       480\n",
      "   macro avg       0.72      0.73      0.72       480\n",
      "weighted avg       0.73      0.73      0.73       480\n",
      "\n",
      "Dataset Bruto - Confusion Matrix:\n",
      " [[152  61]\n",
      " [ 70 197]]\n"
     ]
    },
    {
     "name": "stderr",
     "output_type": "stream",
     "text": [
      "c:\\Users\\filip\\GitHub\\FIAP-Feature-Engineering\\venv\\Lib\\site-packages\\sklearn\\linear_model\\_logistic.py:469: ConvergenceWarning: lbfgs failed to converge (status=1):\n",
      "STOP: TOTAL NO. of ITERATIONS REACHED LIMIT.\n",
      "\n",
      "Increase the number of iterations (max_iter) or scale the data as shown in:\n",
      "    https://scikit-learn.org/stable/modules/preprocessing.html\n",
      "Please also refer to the documentation for alternative solver options:\n",
      "    https://scikit-learn.org/stable/modules/linear_model.html#logistic-regression\n",
      "  n_iter_i = _check_optimize_result(\n"
     ]
    }
   ],
   "source": [
    "# Dividindo os dados em treino e teste\n",
    "X_train, X_test, y_train, y_test = train_test_split(X, y, test_size=0.3, random_state=42)\n",
    "\n",
    "# Treinando o modelo\n",
    "model_raw = LogisticRegression()\n",
    "model_raw.fit(X_train, y_train)\n",
    "\n",
    "# Avaliando o modelo\n",
    "y_pred_raw = model_raw.predict(X_test)\n",
    "print(\"Dataset Bruto - Classification Report:\\n\", classification_report(y_test, y_pred_raw))\n",
    "print(\"Dataset Bruto - Confusion Matrix:\\n\", confusion_matrix(y_test, y_pred_raw))"
   ]
  },
  {
   "cell_type": "markdown",
   "metadata": {},
   "source": [
    "## 6.2 Features Selecionados - Select KBest (Filter)"
   ]
  },
  {
   "cell_type": "code",
   "execution_count": 9,
   "metadata": {},
   "outputs": [
    {
     "name": "stdout",
     "output_type": "stream",
     "text": [
      "Dataset Tratado - Classification Report:\n",
      "               precision    recall  f1-score   support\n",
      "\n",
      "           0       0.66      0.72      0.69       213\n",
      "           1       0.76      0.70      0.73       267\n",
      "\n",
      "    accuracy                           0.71       480\n",
      "   macro avg       0.71      0.71      0.71       480\n",
      "weighted avg       0.72      0.71      0.71       480\n",
      "\n",
      "Dataset Tratado - Confusion Matrix:\n",
      " [[154  59]\n",
      " [ 79 188]]\n"
     ]
    }
   ],
   "source": [
    "# Dividindo os dados em treino e teste\n",
    "X_train_KBest, X_test_KBest, y_train, y_test = train_test_split(X_KBest, y, test_size=0.3, random_state=42)\n",
    "\n",
    "# Treinando o modelo com dados tratados\n",
    "model_KBest = LogisticRegression()\n",
    "model_KBest.fit(X_train_KBest, y_train)\n",
    "\n",
    "# Avaliando o modelo\n",
    "y_pred_KBest = model_KBest.predict(X_test_KBest)\n",
    "print(\"Dataset Tratado - Classification Report:\\n\", classification_report(y_test, y_pred_KBest))\n",
    "print(\"Dataset Tratado - Confusion Matrix:\\n\", confusion_matrix(y_test, y_pred_KBest))"
   ]
  },
  {
   "cell_type": "markdown",
   "metadata": {},
   "source": [
    "## 6.3 Features Selecionados - RFE"
   ]
  },
  {
   "cell_type": "code",
   "execution_count": 10,
   "metadata": {},
   "outputs": [
    {
     "name": "stdout",
     "output_type": "stream",
     "text": [
      "Dataset Tratado - Classification Report:\n",
      "               precision    recall  f1-score   support\n",
      "\n",
      "           0       0.67      0.74      0.70       213\n",
      "           1       0.77      0.70      0.74       267\n",
      "\n",
      "    accuracy                           0.72       480\n",
      "   macro avg       0.72      0.72      0.72       480\n",
      "weighted avg       0.72      0.72      0.72       480\n",
      "\n",
      "Dataset Tratado - Confusion Matrix:\n",
      " [[157  56]\n",
      " [ 79 188]]\n"
     ]
    }
   ],
   "source": [
    "# Dividindo os dados em treino e teste\n",
    "X_train_rfe, X_test_rfe, y_train, y_test = train_test_split(X_rfe, y, test_size=0.3, random_state=42)\n",
    "\n",
    "# Treinando o modelo com features selecionadas\n",
    "model_rfe = LogisticRegression()\n",
    "model_rfe.fit(X_train_rfe, y_train)\n",
    "\n",
    "# Avaliando o modelo\n",
    "y_pred_rfe = model_rfe.predict(X_test_rfe)\n",
    "print(\"Dataset Tratado - Classification Report:\\n\", classification_report(y_test, y_pred_rfe))\n",
    "print(\"Dataset Tratado - Confusion Matrix:\\n\", confusion_matrix(y_test, y_pred_rfe))"
   ]
  },
  {
   "cell_type": "markdown",
   "metadata": {},
   "source": [
    "## 6.4 Features Embedded - RF"
   ]
  },
  {
   "cell_type": "code",
   "execution_count": 11,
   "metadata": {},
   "outputs": [
    {
     "name": "stdout",
     "output_type": "stream",
     "text": [
      "Dataset Tratado - Classification Report:\n",
      "               precision    recall  f1-score   support\n",
      "\n",
      "           0       0.63      0.57      0.60       213\n",
      "           1       0.68      0.73      0.71       267\n",
      "\n",
      "    accuracy                           0.66       480\n",
      "   macro avg       0.66      0.65      0.65       480\n",
      "weighted avg       0.66      0.66      0.66       480\n",
      "\n",
      "Dataset Tratado - Confusion Matrix:\n",
      " [[121  92]\n",
      " [ 71 196]]\n"
     ]
    }
   ],
   "source": [
    "# Dividindo os dados em treino e teste\n",
    "X_train_embedded_features, X_test_embedded_features, y_train, y_test = train_test_split(X_embedded_features, y, test_size=0.3, random_state=42)\n",
    "\n",
    "# Treinando o modelo com dados tratados\n",
    "model_embedded_features = LogisticRegression()\n",
    "model_embedded_features.fit(X_train_embedded_features, y_train)\n",
    "\n",
    "# Avaliando o modelo\n",
    "y_pred_embedded_features = model_embedded_features.predict(X_test_embedded_features)\n",
    "print(\"Dataset Tratado - Classification Report:\\n\", classification_report(y_test, y_pred_embedded_features))\n",
    "print(\"Dataset Tratado - Confusion Matrix:\\n\", confusion_matrix(y_test, y_pred_embedded_features))"
   ]
  },
  {
   "cell_type": "markdown",
   "metadata": {},
   "source": [
    "# 7 Comparação Gráfica dos Resultados"
   ]
  },
  {
   "cell_type": "code",
   "execution_count": 12,
   "metadata": {},
   "outputs": [],
   "source": [
    "# Curva ROC para comparação entre modelos\n",
    "fpr_raw, tpr_raw, _ = roc_curve(y_test, y_pred_raw)\n",
    "fpr_KBest, tpr_KBest, _ = roc_curve(y_test, y_pred_KBest)\n",
    "fpr_rfe, tpr_rfe, _ = roc_curve(y_test, y_pred_rfe)\n",
    "fpr_embedded_features, tpr_embedded_features, _ = roc_curve(y_test, y_pred_embedded_features)\n",
    "\n",
    "# Calculando a AUC para cada modelo\n",
    "auc_raw = roc_auc_score(y_test, y_pred_raw)\n",
    "auc_KBest = roc_auc_score(y_test, y_pred_KBest)\n",
    "auc_rfe = roc_auc_score(y_test, y_pred_rfe)\n",
    "auc_embedded_features = roc_auc_score(y_test, y_pred_embedded_features)"
   ]
  },
  {
   "cell_type": "code",
   "execution_count": 13,
   "metadata": {},
   "outputs": [
    {
     "data": {
      "image/png": "[encoded data removed]",
      "text/plain": [
       "<Figure size 1000x600 with 1 Axes>"
      ]
     },
     "metadata": {},
     "output_type": "display_data"
    }
   ],
   "source": [
    "# Plotando as curvas ROC com AUC nas legendas\n",
    "plt.figure(figsize=(10, 6))\n",
    "plt.plot(fpr_raw, tpr_raw, label=f\"Modelo com features não selecionadas (AUC = {auc_raw:.2f})\")\n",
    "plt.plot(fpr_KBest, tpr_KBest, label=f\"Modelo KBest (AUC = {auc_KBest:.2f})\")\n",
    "plt.plot(fpr_rfe, tpr_rfe, label=f\"Modelo RFE (AUC = {auc_KBest:.2f})\")\n",
    "plt.plot(fpr_embedded_features, tpr_embedded_features, label=f\"Modelo Embedded (AUC = {auc_embedded_features:.2f})\")\n",
    "plt.plot([0, 1], [0, 1], 'k--')  # Linha diagonal representando um modelo aleatório\n",
    "plt.xlabel('Taxa de Falsos Positivos')\n",
    "plt.ylabel('Taxa de Verdadeiros Positivos')\n",
    "plt.title('Comparação das Curvas ROC')\n",
    "plt.legend()\n",
    "\n",
    "# Configurando o estilo do seaborn para 'darkgrid'\n",
    "sns.set(style=\"darkgrid\")\n",
    "\n",
    "plt.show()"
   ]
  }
 ],
 "metadata": {
  "kernelspec": {
   "display_name": "venv",
   "language": "python",
   "name": "python3"
  },
  "language_info": {
   "codemirror_mode": {
    "name": "ipython",
    "version": 3
   },
   "file_extension": ".py",
   "mimetype": "text/x-python",
   "name": "python",
   "nbconvert_exporter": "python",
   "pygments_lexer": "ipython3",
   "version": "3.12.4"
  }
 },
 "nbformat": 4,
 "nbformat_minor": 2
}
