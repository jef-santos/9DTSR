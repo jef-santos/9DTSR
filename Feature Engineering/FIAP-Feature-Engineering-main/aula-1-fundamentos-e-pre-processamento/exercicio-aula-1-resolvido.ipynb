{
 "cells": [
  {
   "cell_type": "markdown",
   "metadata": {},
   "source": [
    "# Exercício da Aula 1\n",
    "\n",
    "O objetivo deste exercício é analisar e manipular o dataset de funcionários para entender como diferentes características podem influenciar aspectos relacionados ao desempenho e à remuneração. Os alunos serão desafiados a realizar as seguintes atividades:\n",
    "\n",
    "- Análise Exploratória de Dados (EDA) - Básica:\n",
    "    - Sumarização Estatística: Calcule estatísticas descritivas básicas como média, mediana, desvio padrão e valores máximos e mínimos para as variáveis numéricas (Salário, Horas_Semanais, Bonus, Experiência, Projetos, Avaliação).\n",
    "\n",
    "- Tratamento de Dados Faltantes:\n",
    "    - Identificação de Dados Faltantes: Identifique as colunas que contêm valores faltantes e quantifique a porcentagem de dados ausentes.\n",
    "    - Estratégias de Imputação: Proponha e aplique estratégias para lidar com dados faltantes, como imputação com a média, mediana ou moda, e discuta como a escolha da estratégia pode impactar a análise.\n",
    "\n",
    "- Detecção e Tratamento de Outliers:\n",
    "    - Identificação de Outliers: Utilize métodos como boxplots ou desvio padrão para identificar valores extremos nas variáveis numéricas.\n",
    "    - Tratamento de Outliers: Aplique técnicas para tratar outliers, como transformação dos dados, remoção ou substituição dos valores extremos. Justifique suas escolhas.\n",
    "\n",
    "- Remoção de Dados Duplicados:\n",
    "    - Identificação de Duplicatas: Verifique a presença de registros duplicados no dataset e determine se esses registros devem ser removidos.\n",
    "    - Remoção de Duplicatas: Execute a remoção de duplicatas e explique como isso pode afetar a integridade dos dados.\n",
    "\n",
    "- Pré-processamento dos Dados:\n",
    "    - Limpeza de Dados: Realize a limpeza dos dados removendo ou corrigindo valores incorretos e inconsistências, especialmente nas variáveis categóricas como Departamento e Formação.\n",
    "    - Normalização: Aplique técnicas de normalização ou padronização nas variáveis numéricas para garantir que todas estejam na mesma escala.\n",
    "\n",
    "- Documentação e Relatório:\n",
    "    - Relatório: Documente os passos seguidos, as decisões tomadas e as descobertas realizadas. Inclua gráficos e tabelas relevantes para suportar suas conclusões."
   ]
  },
  {
   "cell_type": "markdown",
   "metadata": {},
   "source": [
    "# Dataset \"Dados de Funcionários\"\n",
    "Este dataset, gerado para a finalidade deste notebook, contém informações fictícias sobre funcionários de uma empresa. \n",
    "\n",
    "- Principais Características do Dataset:\n",
    "    - ID: Identificador único do funcionário.\n",
    "    - Nome: Nome do funcionário.\n",
    "    - Idade: Idade do funcionário (em anos).\n",
    "    - Salário: Salário do funcionário (em dólares).\n",
    "    - Departamento: Departamento em que o funcionário trabalha (TI, RH, Financeiro, Vendas).\n",
    "    - Horas_Semanais: Número de horas trabalhadas por semana.\n",
    "    - Desempenho: Avaliação do desempenho do funcionário (Bom, Regular, Excelente) ou valores faltantes.\n",
    "    - Bonus: Valor do bônus recebido (em dólares).\n",
    "    - Sexo: Gênero do funcionário (Masculino, Feminino).\n",
    "    - Experiência: Número de anos de experiência do funcionário.\n",
    "    - Formação: Nível de formação acadêmica (Superior, Técnico, Médio).\n",
    "    - Projetos: Número de projetos realizados pelo funcionário.\n",
    "    - Avaliação: Avaliação geral do funcionário (em uma escala de 1 a 10).\n",
    "\n",
    "- Importância das Variáveis:\n",
    "    - ID: Identificador único que permite distinguir entre diferentes funcionários.\n",
    "    - Nome: Nome do funcionário, útil para referência e identificação, mas não utilizado diretamente nas análises.\n",
    "    - Idade: A idade pode influenciar a experiência e o perfil do funcionário, possivelmente afetando o salário e a avaliação de desempenho.\n",
    "    - Salário: O salário é um indicador direto da remuneração do funcionário e pode ser influenciado por outros fatores como experiência e desempenho.\n",
    "    - Departamento: O departamento pode afetar o salário e a avaliação de desempenho, com diferentes áreas possuindo diferentes estruturas salariais e critérios de avaliação.\n",
    "    - Horas_Semanais: O número de horas trabalhadas pode impactar o salário e o bônus recebido, além de refletir o esforço e a carga de trabalho.\n",
    "    - Desempenho: A avaliação de desempenho é um fator importante para determinar bônus e promoções, influenciando diretamente o progresso na carreira do funcionário.\n",
    "    - Bonus: O valor do bônus recebido é uma medida do reconhecimento e recompensa do funcionário, geralmente ligado ao desempenho e contribuições.\n",
    "    - Sexo: O gênero pode ser analisado para entender a equidade salarial e de oportunidades dentro da empresa.\n",
    "    - Experiência: Anos de experiência podem influenciar o salário e a avaliação de desempenho, com mais experiência geralmente resultando em salários mais altos e melhores avaliações.\n",
    "    - Formação: O nível de formação acadêmica pode impactar o salário e as oportunidades de carreira, com qualificações mais altas frequentemente levando a cargos mais bem remunerados.\n",
    "    - Projetos: O número de projetos realizados pode refletir a produtividade e o impacto do funcionário na empresa, influenciando a avaliação e o salário.\n",
    "    - Avaliação: A avaliação geral é uma medida do desempenho do funcionário e pode afetar o salário, bônus e oportunidades de promoção."
   ]
  },
  {
   "cell_type": "markdown",
   "metadata": {},
   "source": [
    "# 1 Importação das Bibliotecas Necessárias"
   ]
  },
  {
   "cell_type": "code",
   "execution_count": 1,
   "metadata": {},
   "outputs": [],
   "source": [
    "import pandas as pd\n",
    "import numpy as np\n",
    "import matplotlib.pyplot as plt\n",
    "import seaborn as sns\n",
    "from   sklearn.preprocessing import StandardScaler"
   ]
  },
  {
   "cell_type": "markdown",
   "metadata": {},
   "source": [
    "# 2 Carregar o dataset"
   ]
  },
  {
   "cell_type": "code",
   "execution_count": 2,
   "metadata": {},
   "outputs": [],
   "source": [
    "df = pd.read_csv('datasets/funcionarios.csv')"
   ]
  },
  {
   "cell_type": "markdown",
   "metadata": {},
   "source": [
    "# 3 Análise Exploratória de Dados (EDA) - Básica"
   ]
  },
  {
   "cell_type": "markdown",
   "metadata": {},
   "source": [
    "## 3.1 Sumarização Estatística"
   ]
  },
  {
   "cell_type": "code",
   "execution_count": 3,
   "metadata": {},
   "outputs": [
    {
     "name": "stdout",
     "output_type": "stream",
     "text": [
      "<class 'pandas.core.frame.DataFrame'>\n",
      "RangeIndex: 1050 entries, 0 to 1049\n",
      "Data columns (total 13 columns):\n",
      " #   Column          Non-Null Count  Dtype  \n",
      "---  ------          --------------  -----  \n",
      " 0   ID              1050 non-null   int64  \n",
      " 1   Nome            1050 non-null   object \n",
      " 2   Idade           1050 non-null   int64  \n",
      " 3   Salário         947 non-null    float64\n",
      " 4   Departamento    1050 non-null   object \n",
      " 5   Horas_Semanais  996 non-null    float64\n",
      " 6   Desempenho      753 non-null    object \n",
      " 7   Bonus           1050 non-null   float64\n",
      " 8   Sexo            1050 non-null   object \n",
      " 9   Experiência     1050 non-null   int64  \n",
      " 10  Formação        1050 non-null   object \n",
      " 11  Projetos        1050 non-null   int64  \n",
      " 12  Avaliação       1050 non-null   float64\n",
      "dtypes: float64(4), int64(4), object(5)\n",
      "memory usage: 106.8+ KB\n"
     ]
    }
   ],
   "source": [
    "df.info()"
   ]
  },
  {
   "cell_type": "code",
   "execution_count": 5,
   "metadata": {},
   "outputs": [
    {
     "data": {
      "text/html": [
       "<div>\n",
       "<style scoped>\n",
       "    .dataframe tbody tr th:only-of-type {\n",
       "        vertical-align: middle;\n",
       "    }\n",
       "\n",
       "    .dataframe tbody tr th {\n",
       "        vertical-align: top;\n",
       "    }\n",
       "\n",
       "    .dataframe thead th {\n",
       "        text-align: right;\n",
       "    }\n",
       "</style>\n",
       "<table border=\"1\" class=\"dataframe\">\n",
       "  <thead>\n",
       "    <tr style=\"text-align: right;\">\n",
       "      <th></th>\n",
       "      <th>ID</th>\n",
       "      <th>Nome</th>\n",
       "      <th>Idade</th>\n",
       "      <th>Salário</th>\n",
       "      <th>Departamento</th>\n",
       "      <th>Horas_Semanais</th>\n",
       "      <th>Desempenho</th>\n",
       "      <th>Bonus</th>\n",
       "      <th>Sexo</th>\n",
       "      <th>Experiência</th>\n",
       "      <th>Formação</th>\n",
       "      <th>Projetos</th>\n",
       "      <th>Avaliação</th>\n",
       "    </tr>\n",
       "  </thead>\n",
       "  <tbody>\n",
       "    <tr>\n",
       "      <th>0</th>\n",
       "      <td>1</td>\n",
       "      <td>Nome_1</td>\n",
       "      <td>62</td>\n",
       "      <td>7554.21</td>\n",
       "      <td>TI</td>\n",
       "      <td>46.0</td>\n",
       "      <td>Regular</td>\n",
       "      <td>293.64</td>\n",
       "      <td>Masculino</td>\n",
       "      <td>18</td>\n",
       "      <td>Médio</td>\n",
       "      <td>10</td>\n",
       "      <td>9.3</td>\n",
       "    </tr>\n",
       "    <tr>\n",
       "      <th>1</th>\n",
       "      <td>2</td>\n",
       "      <td>Nome_2</td>\n",
       "      <td>65</td>\n",
       "      <td>3855.51</td>\n",
       "      <td>TI</td>\n",
       "      <td>41.0</td>\n",
       "      <td>Excelente</td>\n",
       "      <td>1693.43</td>\n",
       "      <td>Feminino</td>\n",
       "      <td>25</td>\n",
       "      <td>Técnico</td>\n",
       "      <td>3</td>\n",
       "      <td>5.2</td>\n",
       "    </tr>\n",
       "    <tr>\n",
       "      <th>2</th>\n",
       "      <td>3</td>\n",
       "      <td>Nome_3</td>\n",
       "      <td>18</td>\n",
       "      <td>4419.31</td>\n",
       "      <td>Vendas</td>\n",
       "      <td>31.0</td>\n",
       "      <td>Bom</td>\n",
       "      <td>729.71</td>\n",
       "      <td>Feminino</td>\n",
       "      <td>21</td>\n",
       "      <td>Superior</td>\n",
       "      <td>4</td>\n",
       "      <td>3.2</td>\n",
       "    </tr>\n",
       "    <tr>\n",
       "      <th>3</th>\n",
       "      <td>4</td>\n",
       "      <td>Nome_4</td>\n",
       "      <td>21</td>\n",
       "      <td>5798.37</td>\n",
       "      <td>TI</td>\n",
       "      <td>40.0</td>\n",
       "      <td>Bom</td>\n",
       "      <td>878.55</td>\n",
       "      <td>Feminino</td>\n",
       "      <td>13</td>\n",
       "      <td>Técnico</td>\n",
       "      <td>13</td>\n",
       "      <td>5.0</td>\n",
       "    </tr>\n",
       "    <tr>\n",
       "      <th>4</th>\n",
       "      <td>5</td>\n",
       "      <td>Nome_5</td>\n",
       "      <td>21</td>\n",
       "      <td>7343.92</td>\n",
       "      <td>TI</td>\n",
       "      <td>35.0</td>\n",
       "      <td>NaN</td>\n",
       "      <td>1919.65</td>\n",
       "      <td>Feminino</td>\n",
       "      <td>16</td>\n",
       "      <td>Médio</td>\n",
       "      <td>1</td>\n",
       "      <td>8.5</td>\n",
       "    </tr>\n",
       "  </tbody>\n",
       "</table>\n",
       "</div>"
      ],
      "text/plain": [
       "   ID    Nome  Idade  Salário Departamento  Horas_Semanais Desempenho  \\\n",
       "0   1  Nome_1     62  7554.21           TI            46.0    Regular   \n",
       "1   2  Nome_2     65  3855.51           TI            41.0  Excelente   \n",
       "2   3  Nome_3     18  4419.31       Vendas            31.0        Bom   \n",
       "3   4  Nome_4     21  5798.37           TI            40.0        Bom   \n",
       "4   5  Nome_5     21  7343.92           TI            35.0        NaN   \n",
       "\n",
       "     Bonus       Sexo  Experiência  Formação  Projetos  Avaliação  \n",
       "0   293.64  Masculino           18     Médio        10        9.3  \n",
       "1  1693.43   Feminino           25   Técnico         3        5.2  \n",
       "2   729.71   Feminino           21  Superior         4        3.2  \n",
       "3   878.55   Feminino           13   Técnico        13        5.0  \n",
       "4  1919.65   Feminino           16     Médio         1        8.5  "
      ]
     },
     "execution_count": 5,
     "metadata": {},
     "output_type": "execute_result"
    }
   ],
   "source": [
    "df.head()"
   ]
  },
  {
   "cell_type": "code",
   "execution_count": 4,
   "metadata": {},
   "outputs": [
    {
     "name": "stdout",
     "output_type": "stream",
     "text": [
      "\n",
      "### Estatísticas Descritivas ###\n"
     ]
    },
    {
     "data": {
      "text/html": [
       "<div>\n",
       "<style scoped>\n",
       "    .dataframe tbody tr th:only-of-type {\n",
       "        vertical-align: middle;\n",
       "    }\n",
       "\n",
       "    .dataframe tbody tr th {\n",
       "        vertical-align: top;\n",
       "    }\n",
       "\n",
       "    .dataframe thead th {\n",
       "        text-align: right;\n",
       "    }\n",
       "</style>\n",
       "<table border=\"1\" class=\"dataframe\">\n",
       "  <thead>\n",
       "    <tr style=\"text-align: right;\">\n",
       "      <th></th>\n",
       "      <th>ID</th>\n",
       "      <th>Idade</th>\n",
       "      <th>Salário</th>\n",
       "      <th>Horas_Semanais</th>\n",
       "      <th>Bonus</th>\n",
       "      <th>Experiência</th>\n",
       "      <th>Projetos</th>\n",
       "      <th>Avaliação</th>\n",
       "    </tr>\n",
       "  </thead>\n",
       "  <tbody>\n",
       "    <tr>\n",
       "      <th>count</th>\n",
       "      <td>1050.000000</td>\n",
       "      <td>1050.000000</td>\n",
       "      <td>947.000000</td>\n",
       "      <td>996.000000</td>\n",
       "      <td>1050.000000</td>\n",
       "      <td>1050.000000</td>\n",
       "      <td>1050.000000</td>\n",
       "      <td>1050.000000</td>\n",
       "    </tr>\n",
       "    <tr>\n",
       "      <th>mean</th>\n",
       "      <td>496.127619</td>\n",
       "      <td>43.100952</td>\n",
       "      <td>5297.911841</td>\n",
       "      <td>39.228916</td>\n",
       "      <td>1017.096343</td>\n",
       "      <td>14.790476</td>\n",
       "      <td>7.531429</td>\n",
       "      <td>5.502476</td>\n",
       "    </tr>\n",
       "    <tr>\n",
       "      <th>std</th>\n",
       "      <td>288.996893</td>\n",
       "      <td>15.269467</td>\n",
       "      <td>2182.139124</td>\n",
       "      <td>5.659501</td>\n",
       "      <td>571.812297</td>\n",
       "      <td>8.297490</td>\n",
       "      <td>3.970994</td>\n",
       "      <td>2.647029</td>\n",
       "    </tr>\n",
       "    <tr>\n",
       "      <th>min</th>\n",
       "      <td>1.000000</td>\n",
       "      <td>18.000000</td>\n",
       "      <td>2000.360000</td>\n",
       "      <td>30.000000</td>\n",
       "      <td>1.630000</td>\n",
       "      <td>1.000000</td>\n",
       "      <td>1.000000</td>\n",
       "      <td>1.000000</td>\n",
       "    </tr>\n",
       "    <tr>\n",
       "      <th>25%</th>\n",
       "      <td>247.250000</td>\n",
       "      <td>30.000000</td>\n",
       "      <td>3563.650000</td>\n",
       "      <td>35.000000</td>\n",
       "      <td>526.015000</td>\n",
       "      <td>7.000000</td>\n",
       "      <td>4.000000</td>\n",
       "      <td>3.100000</td>\n",
       "    </tr>\n",
       "    <tr>\n",
       "      <th>50%</th>\n",
       "      <td>498.500000</td>\n",
       "      <td>43.000000</td>\n",
       "      <td>5143.970000</td>\n",
       "      <td>39.000000</td>\n",
       "      <td>1051.930000</td>\n",
       "      <td>15.000000</td>\n",
       "      <td>8.000000</td>\n",
       "      <td>5.500000</td>\n",
       "    </tr>\n",
       "    <tr>\n",
       "      <th>75%</th>\n",
       "      <td>744.750000</td>\n",
       "      <td>56.000000</td>\n",
       "      <td>6696.095000</td>\n",
       "      <td>44.000000</td>\n",
       "      <td>1522.330000</td>\n",
       "      <td>22.000000</td>\n",
       "      <td>11.000000</td>\n",
       "      <td>7.800000</td>\n",
       "    </tr>\n",
       "    <tr>\n",
       "      <th>max</th>\n",
       "      <td>1000.000000</td>\n",
       "      <td>69.000000</td>\n",
       "      <td>12976.809566</td>\n",
       "      <td>49.000000</td>\n",
       "      <td>1998.630000</td>\n",
       "      <td>29.000000</td>\n",
       "      <td>14.000000</td>\n",
       "      <td>10.000000</td>\n",
       "    </tr>\n",
       "  </tbody>\n",
       "</table>\n",
       "</div>"
      ],
      "text/plain": [
       "                ID        Idade       Salário  Horas_Semanais        Bonus  \\\n",
       "count  1050.000000  1050.000000    947.000000      996.000000  1050.000000   \n",
       "mean    496.127619    43.100952   5297.911841       39.228916  1017.096343   \n",
       "std     288.996893    15.269467   2182.139124        5.659501   571.812297   \n",
       "min       1.000000    18.000000   2000.360000       30.000000     1.630000   \n",
       "25%     247.250000    30.000000   3563.650000       35.000000   526.015000   \n",
       "50%     498.500000    43.000000   5143.970000       39.000000  1051.930000   \n",
       "75%     744.750000    56.000000   6696.095000       44.000000  1522.330000   \n",
       "max    1000.000000    69.000000  12976.809566       49.000000  1998.630000   \n",
       "\n",
       "       Experiência     Projetos    Avaliação  \n",
       "count  1050.000000  1050.000000  1050.000000  \n",
       "mean     14.790476     7.531429     5.502476  \n",
       "std       8.297490     3.970994     2.647029  \n",
       "min       1.000000     1.000000     1.000000  \n",
       "25%       7.000000     4.000000     3.100000  \n",
       "50%      15.000000     8.000000     5.500000  \n",
       "75%      22.000000    11.000000     7.800000  \n",
       "max      29.000000    14.000000    10.000000  "
      ]
     },
     "execution_count": 4,
     "metadata": {},
     "output_type": "execute_result"
    }
   ],
   "source": [
    "print(\"\\n### Estatísticas Descritivas ###\")\n",
    "df.describe()"
   ]
  },
  {
   "cell_type": "markdown",
   "metadata": {},
   "source": [
    "# 4 Tratamento de Dados Faltantes"
   ]
  },
  {
   "cell_type": "markdown",
   "metadata": {},
   "source": [
    "## 4.1 Identificação de Dados Faltantes"
   ]
  },
  {
   "cell_type": "code",
   "execution_count": 5,
   "metadata": {},
   "outputs": [
    {
     "name": "stdout",
     "output_type": "stream",
     "text": [
      "\n",
      "### Dados Faltantes ###\n",
      "                Missing Values  Percentage\n",
      "ID                           0    0.000000\n",
      "Nome                         0    0.000000\n",
      "Idade                        0    0.000000\n",
      "Salário                    103    9.809524\n",
      "Departamento                 0    0.000000\n",
      "Horas_Semanais              54    5.142857\n",
      "Desempenho                 297   28.285714\n",
      "Bonus                        0    0.000000\n",
      "Sexo                         0    0.000000\n",
      "Experiência                  0    0.000000\n",
      "Formação                     0    0.000000\n",
      "Projetos                     0    0.000000\n",
      "Avaliação                    0    0.000000\n"
     ]
    }
   ],
   "source": [
    "print(\"\\n### Dados Faltantes ###\")\n",
    "missing_data = df.isnull().sum()\n",
    "missing_percent = (df.isnull().sum() / len(df)) * 100\n",
    "print(pd.DataFrame({'Missing Values': missing_data, 'Percentage': missing_percent}))"
   ]
  },
  {
   "cell_type": "markdown",
   "metadata": {},
   "source": [
    "## 4.2 Estratégias de Imputação"
   ]
  },
  {
   "cell_type": "code",
   "execution_count": 6,
   "metadata": {},
   "outputs": [],
   "source": [
    "df_imputed = df\n",
    "df_imputed['Salário']=  df_imputed['Salário'].fillna(df_imputed['Salário'].median())\n",
    "df_imputed['Horas_Semanais'] =  df_imputed['Horas_Semanais'].fillna(df_imputed['Horas_Semanais'].median())\n",
    "df_imputed['Desempenho'] =  df_imputed['Desempenho'].fillna(df_imputed['Desempenho'].mode()[0])"
   ]
  },
  {
   "cell_type": "code",
   "execution_count": 7,
   "metadata": {},
   "outputs": [
    {
     "name": "stdout",
     "output_type": "stream",
     "text": [
      "<class 'pandas.core.frame.DataFrame'>\n",
      "RangeIndex: 1050 entries, 0 to 1049\n",
      "Data columns (total 13 columns):\n",
      " #   Column          Non-Null Count  Dtype  \n",
      "---  ------          --------------  -----  \n",
      " 0   ID              1050 non-null   int64  \n",
      " 1   Nome            1050 non-null   object \n",
      " 2   Idade           1050 non-null   int64  \n",
      " 3   Salário         1050 non-null   float64\n",
      " 4   Departamento    1050 non-null   object \n",
      " 5   Horas_Semanais  1050 non-null   float64\n",
      " 6   Desempenho      1050 non-null   object \n",
      " 7   Bonus           1050 non-null   float64\n",
      " 8   Sexo            1050 non-null   object \n",
      " 9   Experiência     1050 non-null   int64  \n",
      " 10  Formação        1050 non-null   object \n",
      " 11  Projetos        1050 non-null   int64  \n",
      " 12  Avaliação       1050 non-null   float64\n",
      "dtypes: float64(4), int64(4), object(5)\n",
      "memory usage: 106.8+ KB\n"
     ]
    }
   ],
   "source": [
    "df_imputed.info()"
   ]
  },
  {
   "cell_type": "markdown",
   "metadata": {},
   "source": [
    "# 5 Detecção e Tratamento de Outliers"
   ]
  },
  {
   "cell_type": "markdown",
   "metadata": {},
   "source": [
    "## 5.1 Identificação de Outliers"
   ]
  },
  {
   "cell_type": "code",
   "execution_count": 8,
   "metadata": {},
   "outputs": [
    {
     "name": "stdout",
     "output_type": "stream",
     "text": [
      "\n",
      "### Outliers ###\n"
     ]
    },
    {
     "data": {
      "image/png": "[encoded data removed]",
      "text/plain": [
       "<Figure size 1200x600 with 4 Axes>"
      ]
     },
     "metadata": {},
     "output_type": "display_data"
    }
   ],
   "source": [
    "print(\"\\n### Outliers ###\")\n",
    "plt.figure(figsize=(12, 6))\n",
    "\n",
    "plt.subplot(2, 2, 1)\n",
    "sns.boxplot(x=df['Salário'])\n",
    "plt.title('Boxplot do Salário')\n",
    "\n",
    "plt.subplot(2, 2, 2)\n",
    "sns.boxplot(x=df['Bonus'])\n",
    "plt.title('Boxplot do Bonus')\n",
    "\n",
    "plt.subplot(2, 2, 3)\n",
    "sns.boxplot(x=df['Experiência'])\n",
    "plt.title('Boxplot da Experiência')\n",
    "\n",
    "plt.subplot(2, 2, 4)\n",
    "sns.boxplot(x=df['Avaliação'])\n",
    "plt.title('Boxplot da Avaliação')\n",
    "\n",
    "plt.tight_layout()\n",
    "plt.show()"
   ]
  },
  {
   "cell_type": "markdown",
   "metadata": {},
   "source": [
    "## 5.2 Tratamento de Outliers"
   ]
  },
  {
   "cell_type": "code",
   "execution_count": 9,
   "metadata": {},
   "outputs": [],
   "source": [
    "df_imputed_wo_outlier = df_imputed\n",
    "salario_limit = df_imputed_wo_outlier['Salário'].quantile(0.95)\n",
    "df_imputed_wo_outlier.loc[df_imputed_wo_outlier['Salário'] > salario_limit, 'Salário'] = salario_limit"
   ]
  },
  {
   "cell_type": "markdown",
   "metadata": {},
   "source": [
    "## 5.3 Verificação da remoção de Outliers"
   ]
  },
  {
   "cell_type": "code",
   "execution_count": 10,
   "metadata": {},
   "outputs": [
    {
     "name": "stdout",
     "output_type": "stream",
     "text": [
      "\n",
      "### Outliers Removidos###\n"
     ]
    },
    {
     "data": {
      "image/png": "[encoded data removed]",
      "text/plain": [
       "<Figure size 1200x600 with 4 Axes>"
      ]
     },
     "metadata": {},
     "output_type": "display_data"
    }
   ],
   "source": [
    "print(\"\\n### Outliers Removidos###\")\n",
    "plt.figure(figsize=(12, 6))\n",
    "\n",
    "plt.subplot(2, 2, 1)\n",
    "sns.boxplot(x=df_imputed_wo_outlier['Salário'])\n",
    "plt.title('Boxplot do Salário')\n",
    "\n",
    "plt.subplot(2, 2, 2)\n",
    "sns.boxplot(x=df_imputed_wo_outlier['Bonus'])\n",
    "plt.title('Boxplot do Bonus')\n",
    "\n",
    "plt.subplot(2, 2, 3)\n",
    "sns.boxplot(x=df_imputed_wo_outlier['Experiência'])\n",
    "plt.title('Boxplot da Experiência')\n",
    "\n",
    "plt.subplot(2, 2, 4)\n",
    "sns.boxplot(x=df_imputed_wo_outlier['Avaliação'])\n",
    "plt.title('Boxplot da Avaliação')\n",
    "\n",
    "plt.tight_layout()\n",
    "plt.show()"
   ]
  },
  {
   "cell_type": "markdown",
   "metadata": {},
   "source": [
    "# 6 Remoção de Dados Duplicados"
   ]
  },
  {
   "cell_type": "markdown",
   "metadata": {},
   "source": [
    "## 6.1 Identificação de Duplicatas"
   ]
  },
  {
   "cell_type": "code",
   "execution_count": 11,
   "metadata": {},
   "outputs": [],
   "source": [
    "df_wo_duplicates = df_imputed_wo_outlier"
   ]
  },
  {
   "cell_type": "code",
   "execution_count": 12,
   "metadata": {},
   "outputs": [
    {
     "name": "stdout",
     "output_type": "stream",
     "text": [
      "\n",
      "### Dados Duplicados ###\n",
      "Total de registros duplicados: 48\n"
     ]
    }
   ],
   "source": [
    "print(\"\\n### Dados Duplicados ###\")\n",
    "duplicates = df_wo_duplicates.duplicated().sum()\n",
    "print(f\"Total de registros duplicados: {duplicates}\")"
   ]
  },
  {
   "cell_type": "markdown",
   "metadata": {},
   "source": [
    "## 6.2 Remoção de Duplicatas"
   ]
  },
  {
   "cell_type": "code",
   "execution_count": 13,
   "metadata": {},
   "outputs": [
    {
     "name": "stdout",
     "output_type": "stream",
     "text": [
      "Total de registros após remoção de duplicados: 1002\n"
     ]
    }
   ],
   "source": [
    "df_wo_duplicates = df_wo_duplicates.drop_duplicates()\n",
    "print(f\"Total de registros após remoção de duplicados: {len(df_wo_duplicates)}\")"
   ]
  },
  {
   "cell_type": "markdown",
   "metadata": {},
   "source": [
    "# 7 Pré-processamento dos Dados"
   ]
  },
  {
   "cell_type": "markdown",
   "metadata": {},
   "source": [
    "## 7.1 Normalização"
   ]
  },
  {
   "cell_type": "code",
   "execution_count": 14,
   "metadata": {},
   "outputs": [
    {
     "name": "stderr",
     "output_type": "stream",
     "text": [
      "C:\\Users\\filip\\AppData\\Local\\Temp\\ipykernel_24020\\1268662764.py:4: SettingWithCopyWarning: \n",
      "A value is trying to be set on a copy of a slice from a DataFrame.\n",
      "Try using .loc[row_indexer,col_indexer] = value instead\n",
      "\n",
      "See the caveats in the documentation: https://pandas.pydata.org/pandas-docs/stable/user_guide/indexing.html#returning-a-view-versus-a-copy\n",
      "  df_treated[['Salário', 'Horas_Semanais', 'Bonus', 'Experiência', 'Projetos', 'Avaliação']] = scaler.fit_transform(df_treated[['Salário', 'Horas_Semanais', 'Bonus', 'Experiência', 'Projetos', 'Avaliação']])\n"
     ]
    }
   ],
   "source": [
    "df_treated = df_wo_duplicates \n",
    "\n",
    "scaler = StandardScaler()\n",
    "df_treated[['Salário', 'Horas_Semanais', 'Bonus', 'Experiência', 'Projetos', 'Avaliação']] = scaler.fit_transform(df_treated[['Salário', 'Horas_Semanais', 'Bonus', 'Experiência', 'Projetos', 'Avaliação']])"
   ]
  },
  {
   "cell_type": "markdown",
   "metadata": {},
   "source": [
    "# 8 Conclusão"
   ]
  },
  {
   "cell_type": "code",
   "execution_count": 15,
   "metadata": {},
   "outputs": [
    {
     "name": "stdout",
     "output_type": "stream",
     "text": [
      "\n",
      "### Documentação e Relatório ###\n",
      "Passos seguidos:\n",
      "- Análise Exploratória de Dados (EDA) realizada com visualizações e estatísticas descritivas.\n",
      "- Dados faltantes foram identificados e imputados com a mediana.\n",
      "- Outliers foram identificados e tratados substituindo valores extremos.\n",
      "- Dados duplicados foram removidos.\n",
      "- Dados foram normalizados.\n"
     ]
    }
   ],
   "source": [
    "print(\"\\n### Documentação e Relatório ###\")\n",
    "print(\"Passos seguidos:\")\n",
    "print(\"- Análise Exploratória de Dados (EDA) realizada com visualizações e estatísticas descritivas.\")\n",
    "print(\"- Dados faltantes foram identificados e imputados com a mediana.\")\n",
    "print(\"- Outliers foram identificados e tratados substituindo valores extremos.\")\n",
    "print(\"- Dados duplicados foram removidos.\")\n",
    "print(\"- Dados foram normalizados.\")"
   ]
  }
 ],
 "metadata": {
  "kernelspec": {
   "display_name": "myenv",
   "language": "python",
   "name": "python3"
  },
  "language_info": {
   "codemirror_mode": {
    "name": "ipython",
    "version": 3
   },
   "file_extension": ".py",
   "mimetype": "text/x-python",
   "name": "python",
   "nbconvert_exporter": "python",
   "pygments_lexer": "ipython3",
   "version": "3.11.10"
  }
 },
 "nbformat": 4,
 "nbformat_minor": 2
}
