{
 "cells": [
  {
   "cell_type": "markdown",
   "metadata": {},
   "source": [
    "# Exercício da Aula 1\n",
    "\n",
    "O objetivo deste exercício é analisar e manipular o dataset de funcionários para entender como diferentes características podem influenciar aspectos relacionados ao desempenho e à remuneração. Os alunos serão desafiados a realizar as seguintes atividades:\n",
    "\n",
    "- Análise Exploratória de Dados (EDA) - Básica:\n",
    "    - Sumarização Estatística: Calcule estatísticas descritivas básicas como média, mediana, desvio padrão e valores máximos e mínimos para as variáveis numéricas (Salário, Horas_Semanais, Bonus, Experiência, Projetos, Avaliação).\n",
    "\n",
    "- Tratamento de Dados Faltantes:\n",
    "    - Identificação de Dados Faltantes: Identifique as colunas que contêm valores faltantes e quantifique a porcentagem de dados ausentes.\n",
    "    - Estratégias de Imputação: Proponha e aplique estratégias para lidar com dados faltantes, como imputação com a média, mediana ou moda, e discuta como a escolha da estratégia pode impactar a análise.\n",
    "\n",
    "- Detecção e Tratamento de Outliers:\n",
    "    - Identificação de Outliers: Utilize métodos como boxplots ou desvio padrão para identificar valores extremos nas variáveis numéricas.\n",
    "    - Tratamento de Outliers: Aplique técnicas para tratar outliers, como transformação dos dados, remoção ou substituição dos valores extremos. Justifique suas escolhas.\n",
    "\n",
    "- Remoção de Dados Duplicados:\n",
    "    - Identificação de Duplicatas: Verifique a presença de registros duplicados no dataset e determine se esses registros devem ser removidos.\n",
    "    - Remoção de Duplicatas: Execute a remoção de duplicatas e explique como isso pode afetar a integridade dos dados.\n",
    "\n",
    "- Pré-processamento dos Dados:\n",
    "    - Limpeza de Dados: Realize a limpeza dos dados removendo ou corrigindo valores incorretos e inconsistências, especialmente nas variáveis categóricas como Departamento e Formação.\n",
    "    - Normalização: Aplique técnicas de normalização ou padronização nas variáveis numéricas para garantir que todas estejam na mesma escala.\n",
    "\n",
    "- Documentação e Relatório:\n",
    "    - Relatório: Documente os passos seguidos, as decisões tomadas e as descobertas realizadas. Inclua gráficos e tabelas relevantes para suportar suas conclusões."
   ]
  },
  {
   "cell_type": "markdown",
   "metadata": {},
   "source": [
    "# Dataset \"Dados de Funcionários\"\n",
    "Este dataset, gerado para a finalidade deste notebook, contém informações fictícias sobre funcionários de uma empresa. \n",
    "\n",
    "- Principais Características do Dataset:\n",
    "    - ID: Identificador único do funcionário.\n",
    "    - Nome: Nome do funcionário.\n",
    "    - Idade: Idade do funcionário (em anos).\n",
    "    - Salário: Salário do funcionário (em dólares).\n",
    "    - Departamento: Departamento em que o funcionário trabalha (TI, RH, Financeiro, Vendas).\n",
    "    - Horas_Semanais: Número de horas trabalhadas por semana.\n",
    "    - Desempenho: Avaliação do desempenho do funcionário (Bom, Regular, Excelente) ou valores faltantes.\n",
    "    - Bonus: Valor do bônus recebido (em dólares).\n",
    "    - Sexo: Gênero do funcionário (Masculino, Feminino).\n",
    "    - Experiência: Número de anos de experiência do funcionário.\n",
    "    - Formação: Nível de formação acadêmica (Superior, Técnico, Médio).\n",
    "    - Projetos: Número de projetos realizados pelo funcionário.\n",
    "    - Avaliação: Avaliação geral do funcionário (em uma escala de 1 a 10).\n",
    "\n",
    "- Importância das Variáveis:\n",
    "    - ID: Identificador único que permite distinguir entre diferentes funcionários.\n",
    "    - Nome: Nome do funcionário, útil para referência e identificação, mas não utilizado diretamente nas análises.\n",
    "    - Idade: A idade pode influenciar a experiência e o perfil do funcionário, possivelmente afetando o salário e a avaliação de desempenho.\n",
    "    - Salário: O salário é um indicador direto da remuneração do funcionário e pode ser influenciado por outros fatores como experiência e desempenho.\n",
    "    - Departamento: O departamento pode afetar o salário e a avaliação de desempenho, com diferentes áreas possuindo diferentes estruturas salariais e critérios de avaliação.\n",
    "    - Horas_Semanais: O número de horas trabalhadas pode impactar o salário e o bônus recebido, além de refletir o esforço e a carga de trabalho.\n",
    "    - Desempenho: A avaliação de desempenho é um fator importante para determinar bônus e promoções, influenciando diretamente o progresso na carreira do funcionário.\n",
    "    - Bonus: O valor do bônus recebido é uma medida do reconhecimento e recompensa do funcionário, geralmente ligado ao desempenho e contribuições.\n",
    "    - Sexo: O gênero pode ser analisado para entender a equidade salarial e de oportunidades dentro da empresa.\n",
    "    - Experiência: Anos de experiência podem influenciar o salário e a avaliação de desempenho, com mais experiência geralmente resultando em salários mais altos e melhores avaliações.\n",
    "    - Formação: O nível de formação acadêmica pode impactar o salário e as oportunidades de carreira, com qualificações mais altas frequentemente levando a cargos mais bem remunerados.\n",
    "    - Projetos: O número de projetos realizados pode refletir a produtividade e o impacto do funcionário na empresa, influenciando a avaliação e o salário.\n",
    "    - Avaliação: A avaliação geral é uma medida do desempenho do funcionário e pode afetar o salário, bônus e oportunidades de promoção."
   ]
  }
 ],
 "metadata": {
  "kernelspec": {
   "display_name": "myenv",
   "language": "python",
   "name": "python3"
  },
  "language_info": {
   "codemirror_mode": {
    "name": "ipython",
    "version": 3
   },
   "file_extension": ".py",
   "mimetype": "text/x-python",
   "name": "python",
   "nbconvert_exporter": "python",
   "pygments_lexer": "ipython3",
   "version": "3.11.10"
  }
 },
 "nbformat": 4,
 "nbformat_minor": 2
}
